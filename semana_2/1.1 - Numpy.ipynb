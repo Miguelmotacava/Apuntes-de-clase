{
 "cells": [
  {
   "cell_type": "markdown",
   "metadata": {},
   "source": [
    "# 1.1 - Numpy  (Numerical Python)\n",
    "\n",
    "**[Documentación](https://numpy.org/doc/stable/)**\n",
    "\n",
    "**[Código fuente](https://github.com/numpy/numpy)**\n",
    "\n",
    "\n",
    "![numpy](images/numpy.png)"
   ]
  },
  {
   "cell_type": "markdown",
   "metadata": {},
   "source": [
    "NumPy es el paquete fundamental para computación cientifíca en python. Es una librería de python nos permite manejar vectores, matrices, [tensores](https://es.wikipedia.org/wiki/C%C3%A1lculo_tensorial) (arrays multidimensionales) y además realizar todas las operaciones matemáticas y lógicas de los mismos, como la manipulación de la dimensión, ordenado, selección, I/O, operaciones estadísticas, transformadas de Fourier, simulación aleatoria y un largo etcétera. Constituye la herramienta de álgebra lineal."
   ]
  },
  {
   "cell_type": "markdown",
   "metadata": {},
   "source": [
    "## Recordatorio de álgebra\n",
    "\n",
    "+ Contenidos:\n",
    "\n",
    "    + Concepto de tensor\n",
    "    + Operaciones con vectores\n",
    "        + Concepto de espacio vectorial y base\n",
    "        + Suma de vectores\n",
    "        + Producto escalar\n",
    "        + Producto vectorial\n",
    "    + Operaciones con matrices\n",
    "        + Suma de matrices\n",
    "        + Producto matricial\n",
    "        + Matriz Identidad\n",
    "        + Matriz Traspuesta (Hermítica)\n",
    "        + Matriz Inversa \n",
    "        + Determinate"
   ]
  },
  {
   "cell_type": "markdown",
   "metadata": {},
   "source": [
    "### Tensor\n",
    "\n",
    "La palabra ['tensor'](https://es.wikipedia.org/wiki/C%C3%A1lculo_tensorial) se utiliza a menudo como abreviatura de campo tensorial, que es un valor tensorial definido en cada punto en una variedad. El primero en utilizar esta palabra fue William Rowan Hamilton en 1846, empleándola para lo que actualmente se conoce como módulo y fue Woldemar Voigt en 1899 quien la empleó en su acepción actual. La palabra tensor proviene del latín tensus, participio pasado de tendere 'estirar, extender'. El nombre se extendió porque la teoría de la elasticidad fue una de las primeras aplicaciones físicas donde se usaron tensores. Gregorio Ricci-Curbastro en 1890 desarrolló la notación actual con el nombre de geometría diferencial absoluta, y se popularizó con la publicación de Cálculo Diferencial Absoluto de Tullio Levi-Civita en 1900. Con la introducción de la teoría de la relatividad general por parte de Albert Einstein alrededor de 1915 se encontró su aplicación más pragmática. La Relatividad General es netamente tensorial. Einstein había aprendido del mismo Levi-Civita el uso de tensores con gran dificultad.\n",
    "\n",
    "Podemos pensar en un tensor como la generalización del ente algebraico. Con un ejemplo se verá más claro.\n",
    "\n",
    "Un **número**, cualquier número, $2$, $3.6$, $\\pi$, $\\phi$, $\\sqrt{2}$, es un **tensor de rango $0$**.\n",
    "\n",
    "Un **vector**, cualquier vector, sea como sea su longitud, $(1, 2, 3)$, $(0, 5, 2, 1, 5)$, $(9,2)$, es un **tensor de rango $1$**.\n",
    "\n",
    "Una **matriz**, cualquier matriz, sean cuales sean sus dimensiones, es un **tensor de rango $2$**.\n",
    "\n",
    "Un **cubo de Rubik** por ejemplo es un **tensor de rango $3$**.\n",
    "\n",
    "Pensar en dimensiones superiores es complicado por no decir imposible, pero se pueden interpretar a través del contenido. Una **bolsa llena de cubos de Rubik** es un **tensor de rango $4$**.\n",
    "\n",
    "Una **caja llena de bolsas que están llenas de cubos de Rubik es un tensor de rango $5$**.\n",
    "\n",
    "Y así sucesivamente."
   ]
  },
  {
   "cell_type": "markdown",
   "metadata": {},
   "source": [
    "### Operaciones con vectores\n",
    "\n",
    "**Espacio vectorial**\n",
    "\n",
    "La definición matemática de [espacio vectorial](https://es.wikipedia.org/wiki/Espacio_vectorial) implica los conceptos de conjunto, ley de composición(operación) interna y ley de composición externa, definida sobre un segundo conjunto. Resumiendo, un espacio vectorial es una estructura creada sobre un conjunto no vacío con ambas leyes de composición. A los elementos de un espacio vectorial se les llama vectores.\n",
    "\n",
    "Veamos un ejemplo:\n",
    "\n",
    "Un espacio vectorial es el espacio tridimensional ${\\Bbb R}^{3}$. Los elementos de ${\\Bbb R}^{3}$ son vectores, por lo que la ley de composición interna es la suma de vectores. Para la ley de composición externa se necesita otro conjunto, que en esta caso son los números reales ${\\Bbb R}$, y queda definida como el producto por escalares, multiplicar un vector por un número.\n",
    "\n",
    "\n",
    "\n",
    "**Base vectorial**\n",
    "\n",
    "Una [base](https://es.wikipedia.org/wiki/Base_(%C3%A1lgebra)) es un conjunto de vectores {$v_{1}, v_{2}, v_{3}, ... ,v_{n}$} que cumplen las siguientes propiedades:\n",
    "\n",
    "+ Todos los elementos de la base pertenecen al mismo espacio vectorial.\n",
    "+ Los elementos de la base forman un sistema linealmente independiente (ninguno es combinación lineal de los demás).\n",
    "+ Cualquier elemento del espacio vectorial se puede escribir como combinación lineal de los elementos de la base (es lo que se llama sistema generador del espacio vectorial).\n",
    "\n",
    "Ejemplo:\n",
    "\n",
    "En ${\\Bbb R}^{3}$, la base principal (llamada canónica) es {$(1,0,0), (0,1,0), (0,0,1)$}. Todos esos vectores pertenecen a ${\\Bbb R}^{3}$, son linealmente independientes(ninguno puede ser una suma de los otros) y cualquier otro vector en ${\\Bbb R}^{3}$ se puede representar como una suma de esos tres, una combinación lineal. No es única, otra base de ${\\Bbb R}^{3}$ podría ser {$(1,1,1), (1,1,0), (1,0,0)$}\n",
    "\n",
    "\n",
    "\n",
    "**Suma de vectores**\n",
    "\n",
    "Los vectores se suman por componentes, lo que implica que ambos tienen la misma longitud. Por ejemplo en ${\\Bbb R}^{3}$:\n",
    "\n",
    "$$\\vec{A}=A_{x}\\vec{i}+A_{y}\\vec{j}+A_{z}\\vec{k}$$\n",
    "\n",
    "$$\\vec{B}=B_{x}\\vec{i}+B_{y}\\vec{j}+B_{z}\\vec{k}$$\n",
    "\n",
    "$$\\vec{A}+\\vec{B}=(B_{x}+A_{x})\\vec{i}+(B_{y}+A_{y})\\vec{j}+(B_{z}+A_{z})\\vec{k}$$\n",
    "\n",
    "$$$$\n",
    "\n",
    "$$\\vec{A}=(1,8,9)$$\n",
    "\n",
    "$$\\vec{B}=(4,3,0)$$\n",
    "\n",
    "$$\\vec{A}+\\vec{B}=(5,11,9)$$\n",
    "\n",
    "\n",
    "\n",
    "**Producto escalar**\n",
    "\n",
    "Hay que diferenciar entre producto por escalares, un número por un vector resultando un vector, y el productor escalar donde se multiplican dos vectores resultando un número, un escalar.\n",
    "\n",
    "+ Producto por escalares:\n",
    "\n",
    "Se realiza elemento a elemento la multiplicación por el número:\n",
    "\n",
    "$$\\vec{A}=(1,8,9)$$\n",
    "\n",
    "$$2*\\vec{A}=(2,16,18)$$\n",
    "\n",
    "+ Productos escalar:\n",
    "\n",
    "Se realiza multiplicando elemento un vector fila por un vector columna y sumando los resultados. Hay que tener en cuenta, igual que en la suma, que ambos vectores tienen el mismo número de elementos. También se le llama producto punto (dot product) o producto interno (inner product).\n",
    "\n",
    "$$\\vec{A}\\cdot\\vec{B}=(1, 8, 9)\\cdot\\begin{pmatrix}4\\\\3\\\\0\\end{pmatrix} = 1·4+8·3+9·0 = 4+24+0 = 28$$\n",
    "\n",
    "\n",
    "\n",
    "**Producto vectorial**\n",
    "\n",
    "En este caso, se multiplican dos vectores resultando otro vector. La manera más fácil de hacerlo es a través de un determinante:\n",
    "\n",
    "\n",
    "$$\\vec{A}\\times \\vec{B} = \\begin{vmatrix}\n",
    "\\hat{\\imath}&\\hat{\\jmath}&\\hat{k}\\\\\n",
    "1 & 8 & 9 \\\\\n",
    "4 & 3 & 0\n",
    "\\end{vmatrix} = \\begin{vmatrix}\n",
    "8 & 9 \\\\\n",
    "3 & 0\n",
    "\\end{vmatrix}·\\hat{\\imath} - \n",
    "\\begin{vmatrix}\n",
    "1 & 9 \\\\\n",
    "4 & 0\n",
    "\\end{vmatrix}·\\hat{\\jmath} +\n",
    "\\begin{vmatrix}\n",
    "1 & 8 \\\\\n",
    "4 & 3\n",
    "\\end{vmatrix}·\\hat{k} = (8·0-9·3)·\\hat{\\imath}-(1·0-9·4)·\\hat{\\jmath}+(1·3-8·4)·\\hat{k}$$\n",
    "\n",
    "$$\\vec{A}\\times \\vec{B} = (-27, 36, -29)$$"
   ]
  },
  {
   "cell_type": "markdown",
   "metadata": {},
   "source": [
    "### Operaciones con matrices\n",
    "\n",
    "\n",
    "**Suma de matrices**\n",
    "\n",
    "Las matrices tienen definidas sus dimensiones sugún el número de filas($m$) y de columnas($n$), y se representan como $A_{mxn}$. Para sumar matrices las dimensiones tienen que ser las mismas, igual que ocurría con los vectores, y se realiza elemento a elemento (element wise):\n",
    "\n",
    "\n",
    "$$\\begin{pmatrix}\n",
    "5 & 7 & 1 \\\\\n",
    "4 & 0 & 2 \n",
    "\\end{pmatrix}+\\begin{pmatrix}\n",
    "0 & 0 & 3 \\\\\n",
    "2 & 2 & 7 \n",
    "\\end{pmatrix}=\\begin{pmatrix}\n",
    "5 & 7 & 4 \\\\\n",
    "6 & 2 & 9 \n",
    "\\end{pmatrix}$$\n",
    "\n",
    "\n",
    "\n",
    "**Producto matricial**\n",
    "\n",
    "Para multiplicar matrices tenemos que tener en cuenta las dimensiones, porque el producto matricial no es conmutativo e incluso a veces no se puede realizar. El número de columnas de la primera matriz tiene que ser igual que el número de filas de la segunda y el resultado tendrá el número de filas de la primera y el número de columnas de la segunda. Es decir:\n",
    "\n",
    "$$A_{rxn}\\cdot B_{nxq} = C_{rxq}$$\n",
    "\n",
    "\n",
    "$$\\begin{pmatrix}\n",
    "5 & 7 & 1 \\\\\n",
    "4 & 0 & 2 \n",
    "\\end{pmatrix}\\cdot\\begin{pmatrix}\n",
    "0 & 0 \\\\\n",
    "2 & 3 \\\\\n",
    "2 & 7 \n",
    "\\end{pmatrix}=\\begin{pmatrix}\n",
    "5·0+7·2+1·2 & 5·0+7·3+1·7 \\\\\n",
    "4·0+0·2+2·2 & 4·0+0·3+2·7\n",
    "\\end{pmatrix}=\\begin{pmatrix}\n",
    "18 & 28 \\\\\n",
    "4 & 14\n",
    "\\end{pmatrix}$$\n",
    "\n",
    "\n",
    "\n",
    "**Matriz Identidad**\n",
    "\n",
    "Elemento neutro de la multiplicación, solo $1_s$ en la diagonal:\n",
    "\n",
    "$$I = \\begin{pmatrix}\n",
    "1&0&\\cdots&0&0\\\\\n",
    "0&1&\\cdots&0&0\\\\\n",
    "\\vdots&\\vdots&\\ddots&\\vdots&\\vdots\\\\\n",
    "0&\\cdots&\\cdots&\\cdots&0\\\\\n",
    "0&0&\\cdots&1&0\\\\\n",
    "0&0&\\cdots&0&1\\\\\n",
    "\\end{pmatrix}$$\n",
    "\n",
    "\n",
    "\n",
    "**Matriz traspuesta  (hermítica)**\n",
    "\n",
    "La traspuesta $A^{T}$ de una matriz $A$ puede ser obtenida reflejando los elementos a lo largo de su diagonal.\n",
    "\n",
    "$$A=\\begin{pmatrix}\n",
    "5 & 7 & 9 \\\\\n",
    "4 & 0 & 7 \\\\\n",
    "1 & 2 & 2\n",
    "\\end{pmatrix}$$\n",
    "\n",
    "$$A^{T}=\\begin{pmatrix}\n",
    "5 & 4 & 1 \\\\\n",
    "7 & 0 & 2 \\\\\n",
    "9 & 7 & 2\n",
    "\\end{pmatrix}$$\n",
    "\n",
    "\n",
    "Se le dice hermítica si los elementos son números complejos, es la traspuesta conjugada (el conjugado de $x+iy$ es $x-iy$).\n",
    "\n",
    "\n",
    "**Matriz Inversa**\n",
    "\n",
    "¿Como se dividen las matrices? Se multiplica por la inversa. El cálculo de la matriz inversa es:\n",
    "\n",
    "$$A= \\begin{pmatrix}\n",
    "       a_{11} & a_{12} \\\\ \n",
    "       a_{21} & a_{22}\n",
    "    \\end{pmatrix}$$\n",
    "    \n",
    "    \n",
    "$$A^{-1}=\\begin{pmatrix}\n",
    "a_{11} & a_{12} \\\\ \n",
    "a_{21} & a_{22}\n",
    "\\end{pmatrix}^{-1}\n",
    "=\\frac{1}{\\lvert A\\rvert}\n",
    "\\begin{pmatrix}\n",
    "a_{22} & -a_{12} \\\\ \n",
    "-a_{21} &  a_{11}\n",
    "\\end{pmatrix}$$\n",
    "\n",
    "\n",
    "**Determinante**\n",
    "\n",
    "$$A=\\begin{pmatrix}\n",
    "    1 & 3 & 2 & -6 \\\\ \n",
    "    0 & -1 & -4 & 1 \\\\ \n",
    "    0 & -2 & -6 & 3 \\\\ \n",
    "    0 & -2 & -10 & 3\n",
    "  \\end{pmatrix}$$\n",
    "  \n",
    "\n",
    "$$$$\n",
    "\n",
    "\n",
    "$$det(A)=\\begin{vmatrix}\n",
    "    1 & 3 & 2 & -6 \\\\ \n",
    "    0 & -1 & -4 & 1 \\\\ \n",
    "    0 & -2 & -6 & 3 \\\\ \n",
    "    0 & -2 & -10 & 3\n",
    "  \\end{vmatrix}=\\begin{vmatrix}\n",
    "    1 & 0 & 0 \\\\ \n",
    "    -2 & 1 & 0 \\\\ \n",
    "    -2 & 0 & 1\n",
    "  \\end{vmatrix}\\cdot\n",
    "  \\begin{vmatrix}\n",
    "    1 & 4 & 1 \\\\ \n",
    "    2 & 6 & 3 \\\\ \n",
    "    2 & 10 & 3\n",
    "  \\end{vmatrix}=\\begin{vmatrix}\n",
    "    1 & 4 & 1 \\\\ \n",
    "    0 & -2 & 1 \\\\ \n",
    "    0 & 2 & 1\n",
    "  \\end{vmatrix}\n",
    "  =\n",
    "  \\begin{vmatrix}\n",
    "    -2 & 1 \\\\ \n",
    "    2 & 1\n",
    "  \\end{vmatrix}\n",
    "  =-4$$\n",
    "  \n",
    "  "
   ]
  },
  {
   "cell_type": "markdown",
   "metadata": {},
   "source": [
    "El principal uso del determinante es para realizar el cáculo de la matriz inversa, ya que si el determinante de una matriz es 0 es matriz no tiene matriz inversa"
   ]
  },
  {
   "cell_type": "markdown",
   "metadata": {},
   "source": [
    "**Veamos algo de todo esto en python:**\n",
    "\n",
    "\n",
    "**Arrays**"
   ]
  },
  {
   "cell_type": "code",
   "execution_count": 1,
   "metadata": {},
   "outputs": [
    {
     "name": "stdout",
     "output_type": "stream",
     "text": [
      "Requirement already satisfied: numpy in c:\\users\\botic\\anaconda3\\envs\\ironhack\\lib\\site-packages (1.21.6)Note: you may need to restart the kernel to use updated packages.\n",
      "\n"
     ]
    }
   ],
   "source": [
    "%pip install numpy"
   ]
  },
  {
   "cell_type": "code",
   "execution_count": 2,
   "metadata": {},
   "outputs": [],
   "source": [
    "import numpy as np"
   ]
  },
  {
   "cell_type": "code",
   "execution_count": 3,
   "metadata": {},
   "outputs": [
    {
     "data": {
      "text/plain": [
       "numpy.ndarray"
      ]
     },
     "execution_count": 3,
     "metadata": {},
     "output_type": "execute_result"
    }
   ],
   "source": [
    "# numero, o tensor de rango 0\n",
    "type(np.random.random(1))"
   ]
  },
  {
   "cell_type": "code",
   "execution_count": 5,
   "metadata": {},
   "outputs": [
    {
     "data": {
      "text/plain": [
       "array([0.69408748])"
      ]
     },
     "execution_count": 5,
     "metadata": {},
     "output_type": "execute_result"
    }
   ],
   "source": [
    "np.random.random(1)"
   ]
  },
  {
   "cell_type": "code",
   "execution_count": 9,
   "metadata": {},
   "outputs": [
    {
     "data": {
      "text/plain": [
       "array([0.12853713, 0.62661716, 0.50102846, 0.4953363 , 0.35817228])"
      ]
     },
     "execution_count": 9,
     "metadata": {},
     "output_type": "execute_result"
    }
   ],
   "source": [
    "# vector, tensor de rango 1\n",
    "vector = np.random.random(5)\n",
    "\n",
    "vector"
   ]
  },
  {
   "cell_type": "code",
   "execution_count": 10,
   "metadata": {},
   "outputs": [
    {
     "data": {
      "text/plain": [
       "numpy.ndarray"
      ]
     },
     "execution_count": 10,
     "metadata": {},
     "output_type": "execute_result"
    }
   ],
   "source": [
    "type(vector)"
   ]
  },
  {
   "cell_type": "code",
   "execution_count": 11,
   "metadata": {},
   "outputs": [],
   "source": [
    "# producto escalar\n",
    "vector_2 = np.random.random(5)"
   ]
  },
  {
   "cell_type": "code",
   "execution_count": 15,
   "metadata": {},
   "outputs": [
    {
     "data": {
      "text/plain": [
       "array([0.65029382, 0.54177741, 0.38661326, 0.65593446, 0.95703113])"
      ]
     },
     "execution_count": 15,
     "metadata": {},
     "output_type": "execute_result"
    }
   ],
   "source": [
    "vector_2"
   ]
  },
  {
   "cell_type": "code",
   "execution_count": 12,
   "metadata": {},
   "outputs": [],
   "source": [
    "p_escalar = np.dot(vector, vector_2)"
   ]
  },
  {
   "cell_type": "code",
   "execution_count": 13,
   "metadata": {},
   "outputs": [
    {
     "data": {
      "text/plain": [
       "1.2844683393936165"
      ]
     },
     "execution_count": 13,
     "metadata": {},
     "output_type": "execute_result"
    }
   ],
   "source": [
    "p_escalar"
   ]
  },
  {
   "cell_type": "code",
   "execution_count": 14,
   "metadata": {},
   "outputs": [
    {
     "data": {
      "text/plain": [
       "array([1.30058764, 1.08355482, 0.77322652, 1.31186892, 1.91406225])"
      ]
     },
     "execution_count": 14,
     "metadata": {},
     "output_type": "execute_result"
    }
   ],
   "source": [
    "2 * vector_2"
   ]
  },
  {
   "cell_type": "code",
   "execution_count": 16,
   "metadata": {},
   "outputs": [
    {
     "data": {
      "text/plain": [
       "array([[0.90486208, 0.87713097, 0.87576206, 0.45924109, 0.57861838],\n",
       "       [0.35176071, 0.8288533 , 0.44128122, 0.79732528, 0.34296071],\n",
       "       [0.31051913, 0.44899256, 0.91587882, 0.20653487, 0.06429239],\n",
       "       [0.92712852, 0.73555388, 0.84575237, 0.07835244, 0.22481925],\n",
       "       [0.86823526, 0.48125145, 0.42416677, 0.70081709, 0.38932363],\n",
       "       [0.72356205, 0.95216341, 0.39680908, 0.87109203, 0.7769021 ],\n",
       "       [0.36501708, 0.20384152, 0.4531161 , 0.38071829, 0.18384882],\n",
       "       [0.60585984, 0.12877656, 0.93462732, 0.44645968, 0.761247  ],\n",
       "       [0.03046927, 0.23549773, 0.95594511, 0.33063498, 0.87160176],\n",
       "       [0.39073941, 0.78146196, 0.46042978, 0.1701343 , 0.24417127]])"
      ]
     },
     "execution_count": 16,
     "metadata": {},
     "output_type": "execute_result"
    }
   ],
   "source": [
    "# matriz, tensor de rango 2\n",
    "\n",
    "matriz = np.random.random((10,5))\n",
    "\n",
    "matriz\n"
   ]
  },
  {
   "cell_type": "code",
   "execution_count": 17,
   "metadata": {},
   "outputs": [
    {
     "data": {
      "text/plain": [
       "numpy.ndarray"
      ]
     },
     "execution_count": 17,
     "metadata": {},
     "output_type": "execute_result"
    }
   ],
   "source": [
    "type(matriz)"
   ]
  },
  {
   "cell_type": "code",
   "execution_count": 18,
   "metadata": {},
   "outputs": [
    {
     "data": {
      "text/plain": [
       "array([[1., 1., 1., 1., 1.],\n",
       "       [1., 1., 1., 1., 1.],\n",
       "       [1., 1., 1., 1., 1.],\n",
       "       [1., 1., 1., 1., 1.],\n",
       "       [1., 1., 1., 1., 1.],\n",
       "       [1., 1., 1., 1., 1.],\n",
       "       [1., 1., 1., 1., 1.],\n",
       "       [1., 1., 1., 1., 1.],\n",
       "       [1., 1., 1., 1., 1.],\n",
       "       [1., 1., 1., 1., 1.]])"
      ]
     },
     "execution_count": 18,
     "metadata": {},
     "output_type": "execute_result"
    }
   ],
   "source": [
    "matriz_ones = np.ones((10,5))\n",
    "\n",
    "matriz_ones"
   ]
  },
  {
   "cell_type": "code",
   "execution_count": 19,
   "metadata": {},
   "outputs": [],
   "source": [
    "matriz_a_manita = [[1, 34, 54],\n",
    "                  [2, 3, 5],\n",
    "                  [3, 56, 98]]"
   ]
  },
  {
   "cell_type": "code",
   "execution_count": 20,
   "metadata": {},
   "outputs": [
    {
     "data": {
      "text/plain": [
       "list"
      ]
     },
     "execution_count": 20,
     "metadata": {},
     "output_type": "execute_result"
    }
   ],
   "source": [
    "type(matriz_a_manita)"
   ]
  },
  {
   "cell_type": "code",
   "execution_count": 22,
   "metadata": {},
   "outputs": [
    {
     "data": {
      "text/plain": [
       "[[1, 34, 54], [2, 3, 5], [3, 56, 98]]"
      ]
     },
     "execution_count": 22,
     "metadata": {},
     "output_type": "execute_result"
    }
   ],
   "source": [
    "np.array(matriz_a_manita).tolist()"
   ]
  },
  {
   "cell_type": "code",
   "execution_count": 28,
   "metadata": {},
   "outputs": [
    {
     "data": {
      "text/plain": [
       "(10, 5)"
      ]
     },
     "execution_count": 28,
     "metadata": {},
     "output_type": "execute_result"
    }
   ],
   "source": [
    "# dimension\n",
    "\n",
    "matriz.shape"
   ]
  },
  {
   "cell_type": "code",
   "execution_count": 30,
   "metadata": {},
   "outputs": [
    {
     "data": {
      "text/plain": [
       "50"
      ]
     },
     "execution_count": 30,
     "metadata": {},
     "output_type": "execute_result"
    }
   ],
   "source": [
    "# nº de elementos\n",
    "\n",
    "matriz.size"
   ]
  },
  {
   "cell_type": "code",
   "execution_count": 31,
   "metadata": {},
   "outputs": [
    {
     "data": {
      "text/plain": [
       "array([0.90486208, 0.87713097, 0.87576206, 0.45924109, 0.57861838])"
      ]
     },
     "execution_count": 31,
     "metadata": {},
     "output_type": "execute_result"
    }
   ],
   "source": [
    "# primera fila de la matriz\n",
    "\n",
    "matriz[0]"
   ]
  },
  {
   "cell_type": "code",
   "execution_count": 40,
   "metadata": {},
   "outputs": [
    {
     "data": {
      "text/plain": [
       "array([0.90486208, 0.87713097, 0.87576206])"
      ]
     },
     "execution_count": 40,
     "metadata": {},
     "output_type": "execute_result"
    }
   ],
   "source": [
    "matriz[0, :3]"
   ]
  },
  {
   "cell_type": "code",
   "execution_count": 32,
   "metadata": {},
   "outputs": [
    {
     "data": {
      "text/plain": [
       "0.8457523700584322"
      ]
     },
     "execution_count": 32,
     "metadata": {},
     "output_type": "execute_result"
    }
   ],
   "source": [
    "matriz[3][2]"
   ]
  },
  {
   "cell_type": "code",
   "execution_count": 39,
   "metadata": {},
   "outputs": [
    {
     "data": {
      "text/plain": [
       "array([0.90486208, 0.35176071, 0.31051913, 0.92712852, 0.86823526,\n",
       "       0.72356205, 0.36501708, 0.60585984, 0.03046927, 0.39073941])"
      ]
     },
     "execution_count": 39,
     "metadata": {},
     "output_type": "execute_result"
    }
   ],
   "source": [
    "# primera columna\n",
    "\n",
    "matriz[:, 0]"
   ]
  },
  {
   "cell_type": "code",
   "execution_count": 34,
   "metadata": {},
   "outputs": [
    {
     "data": {
      "text/plain": [
       "array([[0.90486208, 0.87713097, 0.87576206, 0.45924109, 0.57861838],\n",
       "       [0.35176071, 0.8288533 , 0.44128122, 0.79732528, 0.34296071],\n",
       "       [0.31051913, 0.44899256, 0.91587882, 0.20653487, 0.06429239],\n",
       "       [0.92712852, 0.73555388, 0.84575237, 0.07835244, 0.22481925],\n",
       "       [0.86823526, 0.48125145, 0.42416677, 0.70081709, 0.38932363],\n",
       "       [0.72356205, 0.95216341, 0.39680908, 0.87109203, 0.7769021 ],\n",
       "       [0.36501708, 0.20384152, 0.4531161 , 0.38071829, 0.18384882],\n",
       "       [0.60585984, 0.12877656, 0.93462732, 0.44645968, 0.761247  ],\n",
       "       [0.03046927, 0.23549773, 0.95594511, 0.33063498, 0.87160176],\n",
       "       [0.39073941, 0.78146196, 0.46042978, 0.1701343 , 0.24417127]])"
      ]
     },
     "execution_count": 34,
     "metadata": {},
     "output_type": "execute_result"
    }
   ],
   "source": [
    "matriz"
   ]
  },
  {
   "cell_type": "code",
   "execution_count": 41,
   "metadata": {},
   "outputs": [
    {
     "data": {
      "text/plain": [
       "array([[[0.17955228, 0.88438704],\n",
       "        [0.34779724, 0.05975896],\n",
       "        [0.76177256, 0.54262149]],\n",
       "\n",
       "       [[0.78619752, 0.50757626],\n",
       "        [0.09685475, 0.94609689],\n",
       "        [0.24117818, 0.12269995]],\n",
       "\n",
       "       [[0.73674726, 0.88143013],\n",
       "        [0.92114852, 0.98024823],\n",
       "        [0.49510534, 0.49983011]]])"
      ]
     },
     "execution_count": 41,
     "metadata": {},
     "output_type": "execute_result"
    }
   ],
   "source": [
    "# cubo, tensor de rango 3\n",
    "\n",
    "cubo = np.random.random((3,3,2))\n",
    "\n",
    "cubo"
   ]
  },
  {
   "cell_type": "code",
   "execution_count": 43,
   "metadata": {
    "scrolled": false
   },
   "outputs": [],
   "source": [
    "#help(cubo)"
   ]
  },
  {
   "cell_type": "code",
   "execution_count": 46,
   "metadata": {},
   "outputs": [
    {
     "data": {
      "text/plain": [
       "0.5426214889699418"
      ]
     },
     "execution_count": 46,
     "metadata": {},
     "output_type": "execute_result"
    }
   ],
   "source": [
    "cubo[0][2][1]"
   ]
  },
  {
   "cell_type": "code",
   "execution_count": 48,
   "metadata": {},
   "outputs": [
    {
     "data": {
      "text/plain": [
       "array([[[0.2916434 , 0.77971117],\n",
       "        [0.23588552, 0.71029288],\n",
       "        [0.61202536, 0.21168583]],\n",
       "\n",
       "       [[0.37756141, 0.72722167],\n",
       "        [0.48706535, 0.03094226],\n",
       "        [0.50543632, 0.63045527]],\n",
       "\n",
       "       [[0.50587556, 0.06833017],\n",
       "        [0.26246406, 0.58009945],\n",
       "        [0.4152612 , 0.2461388 ]]])"
      ]
     },
     "execution_count": 48,
     "metadata": {},
     "output_type": "execute_result"
    }
   ],
   "source": [
    "# tensor de rango 4\n",
    "\n",
    "tensor = np.random.random((5,3,3,2))\n",
    "\n",
    "tensor[0]"
   ]
  },
  {
   "cell_type": "code",
   "execution_count": 49,
   "metadata": {},
   "outputs": [
    {
     "data": {
      "text/plain": [
       "numpy.ndarray"
      ]
     },
     "execution_count": 49,
     "metadata": {},
     "output_type": "execute_result"
    }
   ],
   "source": [
    "type(tensor)"
   ]
  },
  {
   "cell_type": "code",
   "execution_count": 55,
   "metadata": {},
   "outputs": [
    {
     "data": {
      "text/plain": [
       "numpy.ndarray"
      ]
     },
     "execution_count": 55,
     "metadata": {},
     "output_type": "execute_result"
    }
   ],
   "source": [
    "# de listas a arrays\n",
    "\n",
    "lst = [1,2,3,4]\n",
    "\n",
    "array = np.array(lst)\n",
    "\n",
    "type(array)"
   ]
  },
  {
   "cell_type": "code",
   "execution_count": 56,
   "metadata": {},
   "outputs": [
    {
     "data": {
      "text/plain": [
       "(4,)"
      ]
     },
     "execution_count": 56,
     "metadata": {},
     "output_type": "execute_result"
    }
   ],
   "source": [
    "array.shape"
   ]
  },
  {
   "cell_type": "code",
   "execution_count": 52,
   "metadata": {},
   "outputs": [
    {
     "data": {
      "text/plain": [
       "(3, 3)"
      ]
     },
     "execution_count": 52,
     "metadata": {},
     "output_type": "execute_result"
    }
   ],
   "source": [
    "lst_lts = [[1,2,3],\n",
    "          [4,5,6],\n",
    "          [7,8,9]]\n",
    "\n",
    "array_2 = np.array(lst_lts)\n",
    "\n",
    "array_2.shape"
   ]
  },
  {
   "cell_type": "markdown",
   "metadata": {},
   "source": [
    "**Operaciones matemáticas**"
   ]
  },
  {
   "cell_type": "code",
   "execution_count": 57,
   "metadata": {},
   "outputs": [
    {
     "data": {
      "text/plain": [
       "array([[0.90486208, 0.87713097, 0.87576206, 0.45924109, 0.57861838],\n",
       "       [0.35176071, 0.8288533 , 0.44128122, 0.79732528, 0.34296071],\n",
       "       [0.31051913, 0.44899256, 0.91587882, 0.20653487, 0.06429239],\n",
       "       [0.92712852, 0.73555388, 0.84575237, 0.07835244, 0.22481925],\n",
       "       [0.86823526, 0.48125145, 0.42416677, 0.70081709, 0.38932363],\n",
       "       [0.72356205, 0.95216341, 0.39680908, 0.87109203, 0.7769021 ],\n",
       "       [0.36501708, 0.20384152, 0.4531161 , 0.38071829, 0.18384882],\n",
       "       [0.60585984, 0.12877656, 0.93462732, 0.44645968, 0.761247  ],\n",
       "       [0.03046927, 0.23549773, 0.95594511, 0.33063498, 0.87160176],\n",
       "       [0.39073941, 0.78146196, 0.46042978, 0.1701343 , 0.24417127]])"
      ]
     },
     "execution_count": 57,
     "metadata": {},
     "output_type": "execute_result"
    }
   ],
   "source": [
    "matriz"
   ]
  },
  {
   "cell_type": "code",
   "execution_count": 1,
   "metadata": {},
   "outputs": [],
   "source": [
    "# sumar todo"
   ]
  },
  {
   "cell_type": "code",
   "execution_count": 58,
   "metadata": {},
   "outputs": [
    {
     "data": {
      "text/plain": [
       "26.734540663818123"
      ]
     },
     "execution_count": 58,
     "metadata": {},
     "output_type": "execute_result"
    }
   ],
   "source": [
    "matriz.sum()"
   ]
  },
  {
   "cell_type": "code",
   "execution_count": 59,
   "metadata": {},
   "outputs": [
    {
     "data": {
      "text/plain": [
       "array([5.47815333, 5.67352335, 6.70376862, 4.44131006, 4.4377853 ])"
      ]
     },
     "execution_count": 59,
     "metadata": {},
     "output_type": "execute_result"
    }
   ],
   "source": [
    "# suma por columnas \n",
    "\n",
    "matriz.sum(axis=0)"
   ]
  },
  {
   "cell_type": "code",
   "execution_count": 60,
   "metadata": {},
   "outputs": [
    {
     "data": {
      "text/plain": [
       "array([3.69561457, 2.76218121, 1.94621778, 2.81160647, 2.8637942 ,\n",
       "       3.72052866, 1.5865418 , 2.87697039, 2.42414885, 2.04693672])"
      ]
     },
     "execution_count": 60,
     "metadata": {},
     "output_type": "execute_result"
    }
   ],
   "source": [
    "# suma por filas \n",
    "\n",
    "matriz.sum(axis=1)"
   ]
  },
  {
   "cell_type": "code",
   "execution_count": 61,
   "metadata": {},
   "outputs": [
    {
     "ename": "AxisError",
     "evalue": "axis 2 is out of bounds for array of dimension 2",
     "output_type": "error",
     "traceback": [
      "\u001b[1;31m---------------------------------------------------------------------------\u001b[0m",
      "\u001b[1;31mAxisError\u001b[0m                                 Traceback (most recent call last)",
      "Input \u001b[1;32mIn [61]\u001b[0m, in \u001b[0;36m<cell line: 1>\u001b[1;34m()\u001b[0m\n\u001b[1;32m----> 1\u001b[0m \u001b[43mmatriz\u001b[49m\u001b[38;5;241;43m.\u001b[39;49m\u001b[43msum\u001b[49m\u001b[43m(\u001b[49m\u001b[43maxis\u001b[49m\u001b[38;5;241;43m=\u001b[39;49m\u001b[38;5;241;43m2\u001b[39;49m\u001b[43m)\u001b[49m\n",
      "File \u001b[1;32m~\\anaconda3\\envs\\ironhack\\lib\\site-packages\\numpy\\core\\_methods.py:48\u001b[0m, in \u001b[0;36m_sum\u001b[1;34m(a, axis, dtype, out, keepdims, initial, where)\u001b[0m\n\u001b[0;32m     46\u001b[0m \u001b[38;5;28;01mdef\u001b[39;00m \u001b[38;5;21m_sum\u001b[39m(a, axis\u001b[38;5;241m=\u001b[39m\u001b[38;5;28;01mNone\u001b[39;00m, dtype\u001b[38;5;241m=\u001b[39m\u001b[38;5;28;01mNone\u001b[39;00m, out\u001b[38;5;241m=\u001b[39m\u001b[38;5;28;01mNone\u001b[39;00m, keepdims\u001b[38;5;241m=\u001b[39m\u001b[38;5;28;01mFalse\u001b[39;00m,\n\u001b[0;32m     47\u001b[0m          initial\u001b[38;5;241m=\u001b[39m_NoValue, where\u001b[38;5;241m=\u001b[39m\u001b[38;5;28;01mTrue\u001b[39;00m):\n\u001b[1;32m---> 48\u001b[0m     \u001b[38;5;28;01mreturn\u001b[39;00m \u001b[43mumr_sum\u001b[49m\u001b[43m(\u001b[49m\u001b[43ma\u001b[49m\u001b[43m,\u001b[49m\u001b[43m \u001b[49m\u001b[43maxis\u001b[49m\u001b[43m,\u001b[49m\u001b[43m \u001b[49m\u001b[43mdtype\u001b[49m\u001b[43m,\u001b[49m\u001b[43m \u001b[49m\u001b[43mout\u001b[49m\u001b[43m,\u001b[49m\u001b[43m \u001b[49m\u001b[43mkeepdims\u001b[49m\u001b[43m,\u001b[49m\u001b[43m \u001b[49m\u001b[43minitial\u001b[49m\u001b[43m,\u001b[49m\u001b[43m \u001b[49m\u001b[43mwhere\u001b[49m\u001b[43m)\u001b[49m\n",
      "\u001b[1;31mAxisError\u001b[0m: axis 2 is out of bounds for array of dimension 2"
     ]
    }
   ],
   "source": [
    "matriz.sum(axis=2)"
   ]
  },
  {
   "cell_type": "code",
   "execution_count": 62,
   "metadata": {},
   "outputs": [
    {
     "data": {
      "text/plain": [
       "array([[1.06393931, 0.40755619, 1.30439405],\n",
       "       [1.29377377, 1.04295163, 0.36387813],\n",
       "       [1.6181774 , 1.90139675, 0.99493545]])"
      ]
     },
     "execution_count": 62,
     "metadata": {},
     "output_type": "execute_result"
    }
   ],
   "source": [
    "cubo.sum(axis=2)"
   ]
  },
  {
   "cell_type": "code",
   "execution_count": 64,
   "metadata": {},
   "outputs": [
    {
     "data": {
      "text/plain": [
       "array([[[2.21824765, 3.75359991],\n",
       "        [1.95364795, 2.14532912],\n",
       "        [2.36696221, 1.74388543]],\n",
       "\n",
       "       [[3.52363737, 1.77669281],\n",
       "        [1.65588567, 2.57530896],\n",
       "        [1.8744709 , 3.20018281]],\n",
       "\n",
       "       [[3.47385102, 2.21618842],\n",
       "        [1.97339689, 1.95475264],\n",
       "        [1.86434477, 2.50803925]]])"
      ]
     },
     "execution_count": 64,
     "metadata": {},
     "output_type": "execute_result"
    }
   ],
   "source": [
    "# suma por cubos\n",
    "\n",
    "tensor.sum(axis=0)"
   ]
  },
  {
   "cell_type": "code",
   "execution_count": 66,
   "metadata": {},
   "outputs": [
    {
     "data": {
      "text/plain": [
       "array([[[1.17508037, 1.575263  ],\n",
       "        [0.98541492, 1.32133459],\n",
       "        [1.53272288, 1.08827991]],\n",
       "\n",
       "       [[1.89707006, 0.87828876],\n",
       "        [1.3912274 , 1.00334942],\n",
       "        [1.51567539, 1.32976821]],\n",
       "\n",
       "       [[1.90062971, 2.17217046],\n",
       "        [1.34453905, 1.79435697],\n",
       "        [0.62807485, 2.21859289]],\n",
       "\n",
       "       [[2.17303548, 1.38165453],\n",
       "        [1.31890872, 1.04236539],\n",
       "        [1.9015247 , 1.3972473 ]],\n",
       "\n",
       "       [[2.06992042, 1.73910438],\n",
       "        [0.54284042, 1.51398435],\n",
       "        [0.52778005, 1.41821917]]])"
      ]
     },
     "execution_count": 66,
     "metadata": {},
     "output_type": "execute_result"
    }
   ],
   "source": [
    "# suma por capas del cubo\n",
    "tensor.sum(axis=1)"
   ]
  },
  {
   "cell_type": "code",
   "execution_count": 67,
   "metadata": {},
   "outputs": [
    {
     "data": {
      "text/plain": [
       "array([[[1.13955428, 1.70168989],\n",
       "        [1.37006307, 1.3886192 ],\n",
       "        [1.18360082, 0.89456842]],\n",
       "\n",
       "       [[1.95345698, 0.62590487],\n",
       "        [1.91786622, 1.66851439],\n",
       "        [0.93264966, 0.91698714]],\n",
       "\n",
       "       [[1.32868071, 1.9518407 ],\n",
       "        [0.98356754, 2.45026465],\n",
       "        [1.56099536, 1.78301497]],\n",
       "\n",
       "       [[1.52759066, 1.7119342 ],\n",
       "        [1.70482091, 0.65447428],\n",
       "        [2.16105733, 1.45485873]],\n",
       "\n",
       "       [[0.58957518, 1.6514448 ],\n",
       "        [1.0776762 , 1.39031206],\n",
       "        [1.47328951, 1.62955104]]])"
      ]
     },
     "execution_count": 67,
     "metadata": {},
     "output_type": "execute_result"
    }
   ],
   "source": [
    "# suma por filas\n",
    "tensor.sum(axis=2)"
   ]
  },
  {
   "cell_type": "code",
   "execution_count": 69,
   "metadata": {},
   "outputs": [
    {
     "data": {
      "text/plain": [
       "array([[[[0.2916434 , 0.77971117],\n",
       "         [0.23588552, 0.71029288],\n",
       "         [0.61202536, 0.21168583]],\n",
       "\n",
       "        [[0.37756141, 0.72722167],\n",
       "         [0.48706535, 0.03094226],\n",
       "         [0.50543632, 0.63045527]],\n",
       "\n",
       "        [[0.50587556, 0.06833017],\n",
       "         [0.26246406, 0.58009945],\n",
       "         [0.4152612 , 0.2461388 ]]],\n",
       "\n",
       "\n",
       "       [[[0.44685798, 0.5388611 ],\n",
       "         [0.60186956, 0.06790273],\n",
       "         [0.90472944, 0.01914103]],\n",
       "\n",
       "        [[0.916659  , 0.05589437],\n",
       "         [0.46820521, 0.67390604],\n",
       "         [0.533002  , 0.93871398]],\n",
       "\n",
       "        [[0.53355308, 0.28353329],\n",
       "         [0.32115263, 0.26154064],\n",
       "         [0.07794395, 0.3719132 ]]],\n",
       "\n",
       "\n",
       "       [[[0.28864127, 0.64463891],\n",
       "         [0.65843392, 0.56920655],\n",
       "         [0.38160552, 0.73799523]],\n",
       "\n",
       "        [[0.77061061, 0.55999228],\n",
       "         [0.03231817, 0.95906885],\n",
       "         [0.18063877, 0.93120352]],\n",
       "\n",
       "        [[0.84137783, 0.96753928],\n",
       "         [0.65378696, 0.26608156],\n",
       "         [0.06583057, 0.54939413]]],\n",
       "\n",
       "\n",
       "       [[[0.64544676, 0.88756898],\n",
       "         [0.42236252, 0.43074161],\n",
       "         [0.45978139, 0.39362362]],\n",
       "\n",
       "        [[0.84717231, 0.15141188],\n",
       "         [0.41057167, 0.08087565],\n",
       "         [0.44707693, 0.42218675]],\n",
       "\n",
       "        [[0.68041642, 0.34267367],\n",
       "         [0.48597454, 0.53074813],\n",
       "         [0.99466638, 0.58143693]]],\n",
       "\n",
       "\n",
       "       [[[0.54565824, 0.90281975],\n",
       "         [0.03509644, 0.36718534],\n",
       "         [0.00882049, 0.38143971]],\n",
       "\n",
       "        [[0.61163404, 0.28217261],\n",
       "         [0.25772528, 0.83051615],\n",
       "         [0.20831688, 0.27762329]],\n",
       "\n",
       "        [[0.91262814, 0.55411201],\n",
       "         [0.25001869, 0.31628286],\n",
       "         [0.31064267, 0.75915617]]]])"
      ]
     },
     "execution_count": 69,
     "metadata": {},
     "output_type": "execute_result"
    }
   ],
   "source": [
    "tensor"
   ]
  },
  {
   "cell_type": "code",
   "execution_count": 68,
   "metadata": {},
   "outputs": [
    {
     "data": {
      "text/plain": [
       "array([[[1.07135457, 0.9461784 , 0.8237112 ],\n",
       "        [1.10478308, 0.51800761, 1.13589159],\n",
       "        [0.57420572, 0.84256351, 0.66140001]],\n",
       "\n",
       "       [[0.98571908, 0.66977229, 0.92387047],\n",
       "        [0.97255337, 1.14211125, 1.47171598],\n",
       "        [0.81708637, 0.58269328, 0.44985715]],\n",
       "\n",
       "       [[0.93328018, 1.22764047, 1.11960076],\n",
       "        [1.33060289, 0.99138702, 1.11184229],\n",
       "        [1.80891711, 0.91986853, 0.6152247 ]],\n",
       "\n",
       "       [[1.53301573, 0.85310412, 0.85340501],\n",
       "        [0.99858419, 0.49144732, 0.86926368],\n",
       "        [1.02309009, 1.01672267, 1.57610331]],\n",
       "\n",
       "       [[1.44847799, 0.40228178, 0.3902602 ],\n",
       "        [0.89380665, 1.08824144, 0.48594018],\n",
       "        [1.46674015, 0.56630155, 1.06979885]]])"
      ]
     },
     "execution_count": 68,
     "metadata": {},
     "output_type": "execute_result"
    }
   ],
   "source": [
    "# suma por columnas\n",
    "tensor.sum(axis=3)"
   ]
  },
  {
   "cell_type": "code",
   "execution_count": 71,
   "metadata": {},
   "outputs": [
    {
     "data": {
      "text/plain": [
       "array([[0.90486208, 0.87713097, 0.87576206, 0.45924109, 0.57861838],\n",
       "       [0.35176071, 0.8288533 , 0.44128122, 0.79732528, 0.34296071],\n",
       "       [0.31051913, 0.44899256, 0.91587882, 0.20653487, 0.06429239],\n",
       "       [0.92712852, 0.73555388, 0.84575237, 0.07835244, 0.22481925],\n",
       "       [0.86823526, 0.48125145, 0.42416677, 0.70081709, 0.38932363],\n",
       "       [0.72356205, 0.95216341, 0.39680908, 0.87109203, 0.7769021 ],\n",
       "       [0.36501708, 0.20384152, 0.4531161 , 0.38071829, 0.18384882],\n",
       "       [0.60585984, 0.12877656, 0.93462732, 0.44645968, 0.761247  ],\n",
       "       [0.03046927, 0.23549773, 0.95594511, 0.33063498, 0.87160176],\n",
       "       [0.39073941, 0.78146196, 0.46042978, 0.1701343 , 0.24417127]])"
      ]
     },
     "execution_count": 71,
     "metadata": {},
     "output_type": "execute_result"
    }
   ],
   "source": [
    "matriz"
   ]
  },
  {
   "cell_type": "code",
   "execution_count": 70,
   "metadata": {},
   "outputs": [
    {
     "data": {
      "text/plain": [
       "0.030469266351234037"
      ]
     },
     "execution_count": 70,
     "metadata": {},
     "output_type": "execute_result"
    }
   ],
   "source": [
    "# minimo de una matriz\n",
    "matriz.min()"
   ]
  },
  {
   "cell_type": "code",
   "execution_count": 72,
   "metadata": {},
   "outputs": [
    {
     "data": {
      "text/plain": [
       "0.955945105537743"
      ]
     },
     "execution_count": 72,
     "metadata": {},
     "output_type": "execute_result"
    }
   ],
   "source": [
    "# máximo de una matriz\n",
    "matriz.max()"
   ]
  },
  {
   "cell_type": "code",
   "execution_count": 73,
   "metadata": {},
   "outputs": [
    {
     "data": {
      "text/plain": [
       "0.5346908132763625"
      ]
     },
     "execution_count": 73,
     "metadata": {},
     "output_type": "execute_result"
    }
   ],
   "source": [
    "# media de todo\n",
    "\n",
    "matriz.mean()"
   ]
  },
  {
   "cell_type": "code",
   "execution_count": 75,
   "metadata": {},
   "outputs": [
    {
     "data": {
      "text/plain": [
       "array([0.73912291, 0.55243624, 0.38924356, 0.56232129, 0.57275884,\n",
       "       0.74410573, 0.31730836, 0.57539408, 0.48482977, 0.40938734])"
      ]
     },
     "execution_count": 75,
     "metadata": {},
     "output_type": "execute_result"
    }
   ],
   "source": [
    "matriz.mean(axis=1)"
   ]
  },
  {
   "cell_type": "code",
   "execution_count": 76,
   "metadata": {},
   "outputs": [
    {
     "data": {
      "text/plain": [
       "0.28203488407030725"
      ]
     },
     "execution_count": 76,
     "metadata": {},
     "output_type": "execute_result"
    }
   ],
   "source": [
    "# desviacion standard\n",
    "\n",
    "matriz.std()"
   ]
  },
  {
   "cell_type": "code",
   "execution_count": 77,
   "metadata": {},
   "outputs": [
    {
     "data": {
      "text/plain": [
       "0.07954367583255163"
      ]
     },
     "execution_count": 77,
     "metadata": {},
     "output_type": "execute_result"
    }
   ],
   "source": [
    "# varianza\n",
    "matriz.var()"
   ]
  },
  {
   "cell_type": "code",
   "execution_count": null,
   "metadata": {},
   "outputs": [],
   "source": []
  },
  {
   "cell_type": "code",
   "execution_count": 79,
   "metadata": {},
   "outputs": [
    {
     "data": {
      "text/plain": [
       "0.28203488407030725"
      ]
     },
     "execution_count": 79,
     "metadata": {},
     "output_type": "execute_result"
    }
   ],
   "source": [
    "# desviación standard a partir de la varianza\n",
    "matriz.var() ** 0.5"
   ]
  },
  {
   "cell_type": "code",
   "execution_count": 80,
   "metadata": {},
   "outputs": [
    {
     "data": {
      "text/plain": [
       "array([1.25662279, 1.70598427, 1.31704328, 1.25656637, 0.92157908])"
      ]
     },
     "execution_count": 80,
     "metadata": {},
     "output_type": "execute_result"
    }
   ],
   "source": [
    "# suma de vectores\n",
    "\n",
    "np.add(matriz[0], matriz[1])"
   ]
  },
  {
   "cell_type": "code",
   "execution_count": 84,
   "metadata": {},
   "outputs": [
    {
     "name": "stdout",
     "output_type": "stream",
     "text": [
      "Suma vectorial [5 5]\n",
      "Suma  [8 7]\n"
     ]
    }
   ],
   "source": [
    "matriz_p = [[2,3],\n",
    "            [3,2]]\n",
    "array_p = np.array(matriz_p)\n",
    "\n",
    "print('Suma vectorial', np.add(array_p[0], array_p[1]))\n",
    "\n",
    "print('Suma ', sum(array_p[0], array_p[1]))"
   ]
  },
  {
   "cell_type": "code",
   "execution_count": 81,
   "metadata": {},
   "outputs": [
    {
     "data": {
      "text/plain": [
       "array([4.04737528, 4.52446787, 4.13689579, 4.49293985, 4.03857528])"
      ]
     },
     "execution_count": 81,
     "metadata": {},
     "output_type": "execute_result"
    }
   ],
   "source": [
    "sum(matriz[0], matriz[1])"
   ]
  },
  {
   "cell_type": "code",
   "execution_count": null,
   "metadata": {},
   "outputs": [],
   "source": [
    "# resta"
   ]
  },
  {
   "cell_type": "code",
   "execution_count": null,
   "metadata": {},
   "outputs": [],
   "source": [
    "np.subtract(matriz[0], matriz[1])"
   ]
  },
  {
   "cell_type": "code",
   "execution_count": 85,
   "metadata": {},
   "outputs": [
    {
     "data": {
      "text/plain": [
       "1000.0"
      ]
     },
     "execution_count": 85,
     "metadata": {},
     "output_type": "execute_result"
    }
   ],
   "source": [
    "# numeración científica\n",
    "1e3"
   ]
  },
  {
   "cell_type": "code",
   "execution_count": 86,
   "metadata": {},
   "outputs": [
    {
     "data": {
      "text/plain": [
       "0.001"
      ]
     },
     "execution_count": 86,
     "metadata": {},
     "output_type": "execute_result"
    }
   ],
   "source": [
    "1e-3"
   ]
  },
  {
   "cell_type": "code",
   "execution_count": 88,
   "metadata": {},
   "outputs": [
    {
     "data": {
      "text/plain": [
       "array([6, 6])"
      ]
     },
     "execution_count": 88,
     "metadata": {},
     "output_type": "execute_result"
    }
   ],
   "source": [
    "# elemento a elemento\n",
    "\n",
    "np.multiply(matriz_p[0], matriz_p[1])"
   ]
  },
  {
   "cell_type": "code",
   "execution_count": 89,
   "metadata": {},
   "outputs": [
    {
     "data": {
      "text/plain": [
       "12"
      ]
     },
     "execution_count": 89,
     "metadata": {},
     "output_type": "execute_result"
    }
   ],
   "source": [
    "# producto escalar\n",
    "\n",
    "np.dot(matriz_p[0], matriz_p[1])"
   ]
  },
  {
   "cell_type": "code",
   "execution_count": 91,
   "metadata": {},
   "outputs": [
    {
     "data": {
      "text/plain": [
       "array([[0.90486208, 0.35176071, 0.31051913, 0.92712852, 0.86823526,\n",
       "        0.72356205, 0.36501708, 0.60585984, 0.03046927, 0.39073941],\n",
       "       [0.87713097, 0.8288533 , 0.44899256, 0.73555388, 0.48125145,\n",
       "        0.95216341, 0.20384152, 0.12877656, 0.23549773, 0.78146196],\n",
       "       [0.87576206, 0.44128122, 0.91587882, 0.84575237, 0.42416677,\n",
       "        0.39680908, 0.4531161 , 0.93462732, 0.95594511, 0.46042978],\n",
       "       [0.45924109, 0.79732528, 0.20653487, 0.07835244, 0.70081709,\n",
       "        0.87109203, 0.38071829, 0.44645968, 0.33063498, 0.1701343 ],\n",
       "       [0.57861838, 0.34296071, 0.06429239, 0.22481925, 0.38932363,\n",
       "        0.7769021 , 0.18384882, 0.761247  , 0.87160176, 0.24417127]])"
      ]
     },
     "execution_count": 91,
     "metadata": {},
     "output_type": "execute_result"
    }
   ],
   "source": [
    "# matriz transpuesta\n",
    "matriz.T\n"
   ]
  },
  {
   "cell_type": "code",
   "execution_count": 92,
   "metadata": {},
   "outputs": [
    {
     "data": {
      "text/plain": [
       "array([[0.15070878, 0.56689701],\n",
       "       [0.97320995, 0.13927288],\n",
       "       [0.1439224 , 0.35631316]])"
      ]
     },
     "execution_count": 92,
     "metadata": {},
     "output_type": "execute_result"
    }
   ],
   "source": [
    "matriz_3 = np.random.random((3,2))\n",
    "\n",
    "matriz_3"
   ]
  },
  {
   "cell_type": "code",
   "execution_count": 93,
   "metadata": {},
   "outputs": [
    {
     "data": {
      "text/plain": [
       "array([[0.15070878, 0.97320995, 0.1439224 ],\n",
       "       [0.56689701, 0.13927288, 0.35631316]])"
      ]
     },
     "execution_count": 93,
     "metadata": {},
     "output_type": "execute_result"
    }
   ],
   "source": [
    "matriz_3.T"
   ]
  },
  {
   "cell_type": "code",
   "execution_count": 94,
   "metadata": {},
   "outputs": [
    {
     "data": {
      "text/plain": [
       "array([0.15070878, 0.71760579, 1.69081573, 1.83008862, 1.97401101,\n",
       "       2.33032418])"
      ]
     },
     "execution_count": 94,
     "metadata": {},
     "output_type": "execute_result"
    }
   ],
   "source": [
    "# suma acumulada\n",
    "np.cumsum(matriz_3)"
   ]
  },
  {
   "cell_type": "code",
   "execution_count": 95,
   "metadata": {},
   "outputs": [
    {
     "data": {
      "text/plain": [
       "array([0.15070878, 0.08543636, 0.08314751, 0.01158019, 0.00166665,\n",
       "       0.00059385])"
      ]
     },
     "execution_count": 95,
     "metadata": {},
     "output_type": "execute_result"
    }
   ],
   "source": [
    "# producto acumulado\n",
    "np.cumprod(matriz_3)"
   ]
  },
  {
   "cell_type": "code",
   "execution_count": 97,
   "metadata": {},
   "outputs": [
    {
     "data": {
      "text/plain": [
       "float"
      ]
     },
     "execution_count": 97,
     "metadata": {},
     "output_type": "execute_result"
    }
   ],
   "source": [
    "# infinito\n",
    "type(np.inf)"
   ]
  },
  {
   "cell_type": "code",
   "execution_count": 99,
   "metadata": {},
   "outputs": [
    {
     "data": {
      "text/plain": [
       "float"
      ]
     },
     "execution_count": 99,
     "metadata": {},
     "output_type": "execute_result"
    }
   ],
   "source": [
    "# nan\n",
    "type(np.nan)"
   ]
  },
  {
   "cell_type": "code",
   "execution_count": 101,
   "metadata": {},
   "outputs": [
    {
     "data": {
      "text/plain": [
       "list"
      ]
     },
     "execution_count": 101,
     "metadata": {},
     "output_type": "execute_result"
    }
   ],
   "source": [
    "type(matriz.tolist())"
   ]
  },
  {
   "cell_type": "code",
   "execution_count": 108,
   "metadata": {},
   "outputs": [
    {
     "data": {
      "text/plain": [
       "-0.5307201575862195"
      ]
     },
     "execution_count": 108,
     "metadata": {},
     "output_type": "execute_result"
    }
   ],
   "source": [
    "# determinante\n",
    "\n",
    "np.linalg.det(matriz_3[:2, :])"
   ]
  },
  {
   "cell_type": "markdown",
   "metadata": {},
   "source": [
    "**Dimensiones**"
   ]
  },
  {
   "cell_type": "code",
   "execution_count": 109,
   "metadata": {},
   "outputs": [
    {
     "data": {
      "text/plain": [
       "(10, 5)"
      ]
     },
     "execution_count": 109,
     "metadata": {},
     "output_type": "execute_result"
    }
   ],
   "source": [
    "matriz.shape"
   ]
  },
  {
   "cell_type": "code",
   "execution_count": 112,
   "metadata": {},
   "outputs": [
    {
     "data": {
      "text/plain": [
       "array([[[0.90486208, 0.87713097],\n",
       "        [0.87576206, 0.45924109],\n",
       "        [0.57861838, 0.35176071],\n",
       "        [0.8288533 , 0.44128122],\n",
       "        [0.79732528, 0.34296071]],\n",
       "\n",
       "       [[0.31051913, 0.44899256],\n",
       "        [0.91587882, 0.20653487],\n",
       "        [0.06429239, 0.92712852],\n",
       "        [0.73555388, 0.84575237],\n",
       "        [0.07835244, 0.22481925]],\n",
       "\n",
       "       [[0.86823526, 0.48125145],\n",
       "        [0.42416677, 0.70081709],\n",
       "        [0.38932363, 0.72356205],\n",
       "        [0.95216341, 0.39680908],\n",
       "        [0.87109203, 0.7769021 ]],\n",
       "\n",
       "       [[0.36501708, 0.20384152],\n",
       "        [0.4531161 , 0.38071829],\n",
       "        [0.18384882, 0.60585984],\n",
       "        [0.12877656, 0.93462732],\n",
       "        [0.44645968, 0.761247  ]],\n",
       "\n",
       "       [[0.03046927, 0.23549773],\n",
       "        [0.95594511, 0.33063498],\n",
       "        [0.87160176, 0.39073941],\n",
       "        [0.78146196, 0.46042978],\n",
       "        [0.1701343 , 0.24417127]]])"
      ]
     },
     "execution_count": 112,
     "metadata": {},
     "output_type": "execute_result"
    }
   ],
   "source": [
    "matriz.reshape(5,5,2)"
   ]
  },
  {
   "cell_type": "code",
   "execution_count": 114,
   "metadata": {},
   "outputs": [
    {
     "data": {
      "text/plain": [
       "(50,)"
      ]
     },
     "execution_count": 114,
     "metadata": {},
     "output_type": "execute_result"
    }
   ],
   "source": [
    "matriz.flatten().shape"
   ]
  },
  {
   "cell_type": "code",
   "execution_count": 115,
   "metadata": {},
   "outputs": [
    {
     "data": {
      "text/plain": [
       "array([[0.90486208, 0.87713097, 0.87576206, 0.45924109, 0.57861838],\n",
       "       [0.35176071, 0.8288533 , 0.44128122, 0.79732528, 0.34296071],\n",
       "       [0.31051913, 0.44899256, 0.91587882, 0.20653487, 0.06429239],\n",
       "       [0.92712852, 0.73555388, 0.84575237, 0.07835244, 0.22481925],\n",
       "       [0.86823526, 0.48125145, 0.42416677, 0.70081709, 0.38932363],\n",
       "       [0.72356205, 0.95216341, 0.39680908, 0.87109203, 0.7769021 ],\n",
       "       [0.36501708, 0.20384152, 0.4531161 , 0.38071829, 0.18384882],\n",
       "       [0.60585984, 0.12877656, 0.93462732, 0.44645968, 0.761247  ],\n",
       "       [0.03046927, 0.23549773, 0.95594511, 0.33063498, 0.87160176],\n",
       "       [0.39073941, 0.78146196, 0.46042978, 0.1701343 , 0.24417127]])"
      ]
     },
     "execution_count": 115,
     "metadata": {},
     "output_type": "execute_result"
    }
   ],
   "source": [
    "matriz"
   ]
  },
  {
   "cell_type": "code",
   "execution_count": 117,
   "metadata": {},
   "outputs": [
    {
     "data": {
      "text/plain": [
       "array([[1.90486208, 2.87713097, 3.87576206, 4.45924109, 5.57861838],\n",
       "       [1.35176071, 2.8288533 , 3.44128122, 4.79732528, 5.34296071],\n",
       "       [1.31051913, 2.44899256, 3.91587882, 4.20653487, 5.06429239],\n",
       "       [1.92712852, 2.73555388, 3.84575237, 4.07835244, 5.22481925],\n",
       "       [1.86823526, 2.48125145, 3.42416677, 4.70081709, 5.38932363],\n",
       "       [1.72356205, 2.95216341, 3.39680908, 4.87109203, 5.7769021 ],\n",
       "       [1.36501708, 2.20384152, 3.4531161 , 4.38071829, 5.18384882],\n",
       "       [1.60585984, 2.12877656, 3.93462732, 4.44645968, 5.761247  ],\n",
       "       [1.03046927, 2.23549773, 3.95594511, 4.33063498, 5.87160176],\n",
       "       [1.39073941, 2.78146196, 3.46042978, 4.1701343 , 5.24417127]])"
      ]
     },
     "execution_count": 117,
     "metadata": {},
     "output_type": "execute_result"
    }
   ],
   "source": [
    "matriz + np.array([1,2,3,4,5])"
   ]
  },
  {
   "cell_type": "code",
   "execution_count": 119,
   "metadata": {},
   "outputs": [
    {
     "data": {
      "text/plain": [
       "[0.6266171605963531, 0.5010284636312075]"
      ]
     },
     "execution_count": 119,
     "metadata": {},
     "output_type": "execute_result"
    }
   ],
   "source": [
    "list(filter(lambda x: x>0.5, vector))"
   ]
  },
  {
   "cell_type": "code",
   "execution_count": 120,
   "metadata": {},
   "outputs": [
    {
     "data": {
      "text/plain": [
       "array([0.12853713, 0.62661716, 0.50102846, 0.4953363 , 0.35817228])"
      ]
     },
     "execution_count": 120,
     "metadata": {},
     "output_type": "execute_result"
    }
   ],
   "source": [
    "vector"
   ]
  },
  {
   "cell_type": "code",
   "execution_count": 121,
   "metadata": {},
   "outputs": [
    {
     "data": {
      "text/plain": [
       "[0.9048620774288388,\n",
       " 0.8771309709176769,\n",
       " 0.8757620576716888,\n",
       " 0.5786183786772984]"
      ]
     },
     "execution_count": 121,
     "metadata": {},
     "output_type": "execute_result"
    }
   ],
   "source": [
    "list(filter(lambda x: x>0.5, matriz[0]))"
   ]
  },
  {
   "cell_type": "code",
   "execution_count": 122,
   "metadata": {},
   "outputs": [
    {
     "data": {
      "text/plain": [
       "[0.9048620774288388,\n",
       " 0.8771309709176769,\n",
       " 0.8757620576716888,\n",
       " 0.5786183786772984,\n",
       " 0.8288532976907179,\n",
       " 0.7973252770406675,\n",
       " 0.9158788240036452,\n",
       " 0.9271285211206118,\n",
       " 0.7355538840826737,\n",
       " 0.8457523700584322,\n",
       " 0.8682352615646561,\n",
       " 0.7008170942495212,\n",
       " 0.7235620472064006,\n",
       " 0.9521634077001998,\n",
       " 0.8710920311958733,\n",
       " 0.7769020956293169,\n",
       " 0.605859835745676,\n",
       " 0.9346273155036717,\n",
       " 0.761247000405622,\n",
       " 0.955945105537743,\n",
       " 0.8716017642522261,\n",
       " 0.7814619595789468]"
      ]
     },
     "execution_count": 122,
     "metadata": {},
     "output_type": "execute_result"
    }
   ],
   "source": [
    "list(filter(lambda x: x>0.5, matriz.flatten()))"
   ]
  },
  {
   "cell_type": "code",
   "execution_count": null,
   "metadata": {},
   "outputs": [],
   "source": []
  }
 ],
 "metadata": {
  "kernelspec": {
   "display_name": "IronHack",
   "language": "python",
   "name": "ironhack"
  },
  "language_info": {
   "codemirror_mode": {
    "name": "ipython",
    "version": 3
   },
   "file_extension": ".py",
   "mimetype": "text/x-python",
   "name": "python",
   "nbconvert_exporter": "python",
   "pygments_lexer": "ipython3",
   "version": "3.9.12"
  },
  "varInspector": {
   "cols": {
    "lenName": 16,
    "lenType": 16,
    "lenVar": 40
   },
   "kernels_config": {
    "python": {
     "delete_cmd_postfix": "",
     "delete_cmd_prefix": "del ",
     "library": "var_list.py",
     "varRefreshCmd": "print(var_dic_list())"
    },
    "r": {
     "delete_cmd_postfix": ") ",
     "delete_cmd_prefix": "rm(",
     "library": "var_list.r",
     "varRefreshCmd": "cat(var_dic_list()) "
    }
   },
   "types_to_exclude": [
    "module",
    "function",
    "builtin_function_or_method",
    "instance",
    "_Feature"
   ],
   "window_display": false
  }
 },
 "nbformat": 4,
 "nbformat_minor": 4
}
