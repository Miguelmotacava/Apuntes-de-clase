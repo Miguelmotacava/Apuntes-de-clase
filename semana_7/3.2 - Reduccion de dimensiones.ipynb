{
 "cells": [
  {
   "cell_type": "markdown",
   "id": "c3c95002",
   "metadata": {},
   "source": [
    "# 3.2 - Reduccion de dimensiones\n",
    "\n",
    "### PCA  (análisis de componente principal)\n",
    "\n",
    "**PCA** es una transformación lineal usada para reducir dimensiones en los datos.\n",
    "\n",
    "¿Por qué reducir dimensiones?\n",
    "\n",
    "Existen varias razones, entre ellas:\n",
    "+ Mejora de la performance\n",
    "+ Mejor manejo de la dispersión de los datos\n",
    "+ Maldición de las dimensiones (ojo-también existe la bendición)\n",
    "+ etc...\n",
    "\n",
    "\n",
    "Hay dos maneras diferentes de hacer ésta transformación:\n",
    "\n",
    "+ A través de la matriz de correlaciones (dimensiones no homogéneas)\n",
    "+ A través de la matriz de covarianzas (dimensiones homogéneas)\n",
    "\n",
    "Ambas matrices son simétricas y diagonalizables. De hecho, el Teorema Espectral dice que si una matriz es hermítica, cuadrada y de dimensión finita, entonces existe una base de vectores propios donde dicha matriz puede ser representada.\n",
    "Esto quiere decir que podemos cambiar de base para después proyectar, reduciendo las dimensiones e intentando conservar la máxima información en el nuevo subespacio."
   ]
  },
  {
   "cell_type": "markdown",
   "id": "f21d4834",
   "metadata": {},
   "source": [
    "![gio1](images/gioconda.jpeg)\n",
    "![gio2](images/gioconda_lego.png)"
   ]
  },
  {
   "cell_type": "markdown",
   "id": "d9237d55",
   "metadata": {},
   "source": [
    "#### Ejemplo intuitivo"
   ]
  },
  {
   "cell_type": "code",
   "execution_count": 1,
   "id": "7be371c7",
   "metadata": {},
   "outputs": [],
   "source": [
    "import pylab as plt\n",
    "%matplotlib inline"
   ]
  },
  {
   "cell_type": "code",
   "execution_count": 2,
   "id": "918c2dd8",
   "metadata": {},
   "outputs": [
    {
     "data": {
      "image/png": "[encoded data removed]",
      "text/plain": [
       "<Figure size 720x360 with 1 Axes>"
      ]
     },
     "metadata": {
      "needs_background": "light"
     },
     "output_type": "display_data"
    }
   ],
   "source": [
    "plt.figure(figsize=(10, 5))\n",
    "plt.scatter([i for i in range(15)],\n",
    "            [i+1 if i%2==0 else i-1 for i in range(15)])\n",
    "\n",
    "plt.quiver(7, 7, 9, 4, color='r', scale=20)\n",
    "plt.quiver(7, 7, -9, -4, color='r', scale=20)\n",
    "plt.plot(7, 8, marker='$PC1$', ms=30, color='r')\n",
    "\n",
    "plt.quiver(9, 9, -5, 4, color='b', scale=40)\n",
    "plt.quiver(9, 9, 5, -4, color='b', scale=40)\n",
    "plt.plot(8, 12, marker='$PC2$', ms=30, color='b');"
   ]
  },
  {
   "cell_type": "markdown",
   "id": "32fe9a13",
   "metadata": {},
   "source": [
    "Se rota y se proyecta, resultando:"
   ]
  },
  {
   "cell_type": "code",
   "execution_count": 3,
   "id": "d8a43b84",
   "metadata": {},
   "outputs": [
    {
     "data": {
      "image/png": "[encoded data removed]",
      "text/plain": [
       "<Figure size 720x360 with 1 Axes>"
      ]
     },
     "metadata": {
      "needs_background": "light"
     },
     "output_type": "display_data"
    }
   ],
   "source": [
    "plt.figure(figsize=(10, 5))\n",
    "plt.scatter([i for i in range(15)],\n",
    "            [6 for i in range(15)])\n",
    "\n",
    "plt.quiver(7, 6, 7, 0, color='r', scale=20)\n",
    "plt.quiver(7, 6, -7, 0, color='r', scale=20)\n",
    "plt.plot(7, 6.25, marker='$PC1$', ms=30, color='r');"
   ]
  },
  {
   "cell_type": "markdown",
   "id": "7f1d0035",
   "metadata": {},
   "source": [
    "**Combinacion lineal**\n",
    "\n",
    "$v1>$ vector 1\n",
    "\n",
    "$v2>$ vector 2\n",
    "\n",
    "comb lineal = 2·$v1$ - 4·$v2$\n",
    "\n",
    "**Combinacion no lineal**\n",
    "\n",
    "comb no lineal = 2·$v1$·$v2$"
   ]
  },
  {
   "cell_type": "markdown",
   "id": "4c6799d9",
   "metadata": {},
   "source": [
    "##### Resumen PCA\n",
    "\n",
    "+ Normalización de los datos\n",
    "+ Obtener base de vectores propios desde matriz de correlacion o covarianza\n",
    "+ Ordenar los vectores propios de mayor a menor según sus dimensiones en el nuevo subespacio\n",
    "+ Matriz de proyección, con los autovectores seleccionados (W)\n",
    "+ Se transforma X (los datos) según W (matriz de proyección)"
   ]
  },
  {
   "cell_type": "code",
   "execution_count": 4,
   "id": "be22e444",
   "metadata": {},
   "outputs": [],
   "source": [
    "import pandas as pd\n",
    "import numpy as np\n",
    "\n",
    "from sklearn.preprocessing import StandardScaler, MinMaxScaler  # normalizacion\n",
    "\n",
    "from sklearn.decomposition import PCA    # PCA\n",
    "\n",
    "import warnings\n",
    "warnings.simplefilter('ignore')"
   ]
  },
  {
   "cell_type": "code",
   "execution_count": 5,
   "id": "9029aba5",
   "metadata": {},
   "outputs": [
    {
     "data": {
      "text/html": [
       "<div>\n",
       "<style scoped>\n",
       "    .dataframe tbody tr th:only-of-type {\n",
       "        vertical-align: middle;\n",
       "    }\n",
       "\n",
       "    .dataframe tbody tr th {\n",
       "        vertical-align: top;\n",
       "    }\n",
       "\n",
       "    .dataframe thead th {\n",
       "        text-align: right;\n",
       "    }\n",
       "</style>\n",
       "<table border=\"1\" class=\"dataframe\">\n",
       "  <thead>\n",
       "    <tr style=\"text-align: right;\">\n",
       "      <th></th>\n",
       "      <th>Mean of the integrated profile</th>\n",
       "      <th>Standard deviation of the integrated profile</th>\n",
       "      <th>Excess kurtosis of the integrated profile</th>\n",
       "      <th>Skewness of the integrated profile</th>\n",
       "      <th>Mean of the DM-SNR curve</th>\n",
       "      <th>Standard deviation of the DM-SNR curve</th>\n",
       "      <th>Excess kurtosis of the DM-SNR curve</th>\n",
       "      <th>Skewness of the DM-SNR curve</th>\n",
       "      <th>target_class</th>\n",
       "    </tr>\n",
       "  </thead>\n",
       "  <tbody>\n",
       "    <tr>\n",
       "      <th>0</th>\n",
       "      <td>140.562500</td>\n",
       "      <td>55.683782</td>\n",
       "      <td>-0.234571</td>\n",
       "      <td>-0.699648</td>\n",
       "      <td>3.199833</td>\n",
       "      <td>19.110426</td>\n",
       "      <td>7.975532</td>\n",
       "      <td>74.242225</td>\n",
       "      <td>0</td>\n",
       "    </tr>\n",
       "    <tr>\n",
       "      <th>1</th>\n",
       "      <td>102.507812</td>\n",
       "      <td>58.882430</td>\n",
       "      <td>0.465318</td>\n",
       "      <td>-0.515088</td>\n",
       "      <td>1.677258</td>\n",
       "      <td>14.860146</td>\n",
       "      <td>10.576487</td>\n",
       "      <td>127.393580</td>\n",
       "      <td>0</td>\n",
       "    </tr>\n",
       "    <tr>\n",
       "      <th>2</th>\n",
       "      <td>103.015625</td>\n",
       "      <td>39.341649</td>\n",
       "      <td>0.323328</td>\n",
       "      <td>1.051164</td>\n",
       "      <td>3.121237</td>\n",
       "      <td>21.744669</td>\n",
       "      <td>7.735822</td>\n",
       "      <td>63.171909</td>\n",
       "      <td>0</td>\n",
       "    </tr>\n",
       "    <tr>\n",
       "      <th>3</th>\n",
       "      <td>136.750000</td>\n",
       "      <td>57.178449</td>\n",
       "      <td>-0.068415</td>\n",
       "      <td>-0.636238</td>\n",
       "      <td>3.642977</td>\n",
       "      <td>20.959280</td>\n",
       "      <td>6.896499</td>\n",
       "      <td>53.593661</td>\n",
       "      <td>0</td>\n",
       "    </tr>\n",
       "    <tr>\n",
       "      <th>4</th>\n",
       "      <td>88.726562</td>\n",
       "      <td>40.672225</td>\n",
       "      <td>0.600866</td>\n",
       "      <td>1.123492</td>\n",
       "      <td>1.178930</td>\n",
       "      <td>11.468720</td>\n",
       "      <td>14.269573</td>\n",
       "      <td>252.567306</td>\n",
       "      <td>0</td>\n",
       "    </tr>\n",
       "  </tbody>\n",
       "</table>\n",
       "</div>"
      ],
      "text/plain": [
       "    Mean of the integrated profile  \\\n",
       "0                       140.562500   \n",
       "1                       102.507812   \n",
       "2                       103.015625   \n",
       "3                       136.750000   \n",
       "4                        88.726562   \n",
       "\n",
       "    Standard deviation of the integrated profile  \\\n",
       "0                                      55.683782   \n",
       "1                                      58.882430   \n",
       "2                                      39.341649   \n",
       "3                                      57.178449   \n",
       "4                                      40.672225   \n",
       "\n",
       "    Excess kurtosis of the integrated profile  \\\n",
       "0                                   -0.234571   \n",
       "1                                    0.465318   \n",
       "2                                    0.323328   \n",
       "3                                   -0.068415   \n",
       "4                                    0.600866   \n",
       "\n",
       "    Skewness of the integrated profile   Mean of the DM-SNR curve  \\\n",
       "0                            -0.699648                   3.199833   \n",
       "1                            -0.515088                   1.677258   \n",
       "2                             1.051164                   3.121237   \n",
       "3                            -0.636238                   3.642977   \n",
       "4                             1.123492                   1.178930   \n",
       "\n",
       "    Standard deviation of the DM-SNR curve  \\\n",
       "0                                19.110426   \n",
       "1                                14.860146   \n",
       "2                                21.744669   \n",
       "3                                20.959280   \n",
       "4                                11.468720   \n",
       "\n",
       "    Excess kurtosis of the DM-SNR curve   Skewness of the DM-SNR curve  \\\n",
       "0                              7.975532                      74.242225   \n",
       "1                             10.576487                     127.393580   \n",
       "2                              7.735822                      63.171909   \n",
       "3                              6.896499                      53.593661   \n",
       "4                             14.269573                     252.567306   \n",
       "\n",
       "   target_class  \n",
       "0             0  \n",
       "1             0  \n",
       "2             0  \n",
       "3             0  \n",
       "4             0  "
      ]
     },
     "execution_count": 5,
     "metadata": {},
     "output_type": "execute_result"
    }
   ],
   "source": [
    "data=pd.read_csv('../data/pulsar_stars.csv')\n",
    "\n",
    "data.head()"
   ]
  },
  {
   "cell_type": "code",
   "execution_count": 6,
   "id": "c8b0fed4",
   "metadata": {},
   "outputs": [],
   "source": [
    "data=data.drop(columns=['target_class'])"
   ]
  },
  {
   "cell_type": "markdown",
   "id": "14526b4a",
   "metadata": {},
   "source": [
    "#### normalización\n",
    "\n",
    "Recordemos, el primer paso de PCA es la normalización de los datos. \n",
    "\n",
    "Primero, veamos la **estandarización**  ($N(\\mu, \\sigma)$):\n",
    "\n",
    "$$\\frac{x-\\mu}{\\frac{\\sigma}{\\sqrt{n}}}$$"
   ]
  },
  {
   "cell_type": "code",
   "execution_count": 7,
   "id": "9ac2461c",
   "metadata": {},
   "outputs": [
    {
     "data": {
      "text/plain": [
       " Mean of the integrated profile                  0.000000e+00\n",
       " Standard deviation of the integrated profile   -1.300834e-10\n",
       " Excess kurtosis of the integrated profile      -3.456877e-11\n",
       " Skewness of the integrated profile             -7.173085e-12\n",
       " Mean of the DM-SNR curve                        1.070817e-11\n",
       " Standard deviation of the DM-SNR curve         -9.144170e-11\n",
       " Excess kurtosis of the DM-SNR curve             3.528051e-11\n",
       " Skewness of the DM-SNR curve                    1.181706e-11\n",
       "dtype: float64"
      ]
     },
     "execution_count": 7,
     "metadata": {},
     "output_type": "execute_result"
    }
   ],
   "source": [
    "data_n_mano=(data - np.mean(data))/np.std(data)\n",
    "\n",
    "data_n=StandardScaler().fit_transform(data)\n",
    "\n",
    "np.sum(data_n_mano - data_n)"
   ]
  },
  {
   "cell_type": "markdown",
   "id": "9e378a25",
   "metadata": {},
   "source": [
    "Ahora el **MinMax** :\n",
    "\n",
    "$$\\frac{x-min}{max-min}$$"
   ]
  },
  {
   "cell_type": "code",
   "execution_count": 8,
   "id": "c2b84c7d",
   "metadata": {},
   "outputs": [
    {
     "data": {
      "text/plain": [
       " Mean of the integrated profile                  1.568736e-13\n",
       " Standard deviation of the integrated profile    5.547781e-14\n",
       " Excess kurtosis of the integrated profile       1.874941e-13\n",
       " Skewness of the integrated profile              6.680697e-14\n",
       " Mean of the DM-SNR curve                       -4.945127e-15\n",
       " Standard deviation of the DM-SNR curve          1.535528e-13\n",
       " Excess kurtosis of the DM-SNR curve            -3.709463e-13\n",
       " Skewness of the DM-SNR curve                   -3.247218e-14\n",
       "dtype: float64"
      ]
     },
     "execution_count": 8,
     "metadata": {},
     "output_type": "execute_result"
    }
   ],
   "source": [
    "data_mm_mano=(data - np.min(data))/(np.max(data) - np.min(data))\n",
    "\n",
    "data_mm=MinMaxScaler().fit_transform(data)\n",
    "\n",
    "np.sum(data_mm_mano - data_mm)"
   ]
  },
  {
   "cell_type": "markdown",
   "id": "cfeff355",
   "metadata": {},
   "source": [
    "Se usa la standarización:"
   ]
  },
  {
   "cell_type": "code",
   "execution_count": 9,
   "id": "4c3e9f5b",
   "metadata": {},
   "outputs": [],
   "source": [
    "data=StandardScaler().fit_transform(data)"
   ]
  },
  {
   "cell_type": "markdown",
   "id": "a022dc71",
   "metadata": {},
   "source": [
    "Se aplica **PCA**"
   ]
  },
  {
   "cell_type": "code",
   "execution_count": 10,
   "id": "12184a2f",
   "metadata": {},
   "outputs": [
    {
     "name": "stdout",
     "output_type": "stream",
     "text": [
      "(17898, 8)\n"
     ]
    },
    {
     "data": {
      "text/plain": [
       "array([0.51675584, 0.26807564, 0.10116862, 0.0571781 , 0.03227836,\n",
       "       0.01998491, 0.00255524, 0.00200328])"
      ]
     },
     "execution_count": 10,
     "metadata": {},
     "output_type": "execute_result"
    }
   ],
   "source": [
    "pca=PCA()\n",
    "\n",
    "pca.fit(data)\n",
    "\n",
    "print(data.shape)\n",
    "\n",
    "pca.explained_variance_ratio_"
   ]
  },
  {
   "cell_type": "code",
   "execution_count": 11,
   "id": "8ebe3cf5",
   "metadata": {},
   "outputs": [
    {
     "data": {
      "image/png": "[encoded data removed]",
      "text/plain": [
       "<Figure size 720x360 with 1 Axes>"
      ]
     },
     "metadata": {
      "needs_background": "light"
     },
     "output_type": "display_data"
    }
   ],
   "source": [
    "plt.figure(figsize=(10, 5))\n",
    "\n",
    "plt.plot(np.cumsum(pca.explained_variance_ratio_))\n",
    "\n",
    "plt.xlabel('Numero de componentes')\n",
    "plt.ylabel('% varianza')\n",
    "plt.ylim([0, 1.01]);"
   ]
  },
  {
   "cell_type": "code",
   "execution_count": 12,
   "id": "eeee2409",
   "metadata": {},
   "outputs": [
    {
     "data": {
      "text/html": [
       "<div>\n",
       "<style scoped>\n",
       "    .dataframe tbody tr th:only-of-type {\n",
       "        vertical-align: middle;\n",
       "    }\n",
       "\n",
       "    .dataframe tbody tr th {\n",
       "        vertical-align: top;\n",
       "    }\n",
       "\n",
       "    .dataframe thead th {\n",
       "        text-align: right;\n",
       "    }\n",
       "</style>\n",
       "<table border=\"1\" class=\"dataframe\">\n",
       "  <thead>\n",
       "    <tr style=\"text-align: right;\">\n",
       "      <th></th>\n",
       "      <th>0</th>\n",
       "      <th>1</th>\n",
       "      <th>2</th>\n",
       "      <th>3</th>\n",
       "    </tr>\n",
       "  </thead>\n",
       "  <tbody>\n",
       "    <tr>\n",
       "      <th>0</th>\n",
       "      <td>-1.278849</td>\n",
       "      <td>-1.273133</td>\n",
       "      <td>0.016213</td>\n",
       "      <td>0.662102</td>\n",
       "    </tr>\n",
       "    <tr>\n",
       "      <th>1</th>\n",
       "      <td>-1.020553</td>\n",
       "      <td>-0.201162</td>\n",
       "      <td>0.670478</td>\n",
       "      <td>1.605779</td>\n",
       "    </tr>\n",
       "    <tr>\n",
       "      <th>2</th>\n",
       "      <td>0.188289</td>\n",
       "      <td>0.432114</td>\n",
       "      <td>-0.979766</td>\n",
       "      <td>-0.519232</td>\n",
       "    </tr>\n",
       "    <tr>\n",
       "      <th>3</th>\n",
       "      <td>-1.015466</td>\n",
       "      <td>-1.469881</td>\n",
       "      <td>-0.018832</td>\n",
       "      <td>0.938386</td>\n",
       "    </tr>\n",
       "    <tr>\n",
       "      <th>4</th>\n",
       "      <td>-0.822626</td>\n",
       "      <td>2.123651</td>\n",
       "      <td>0.407953</td>\n",
       "      <td>-0.380922</td>\n",
       "    </tr>\n",
       "  </tbody>\n",
       "</table>\n",
       "</div>"
      ],
      "text/plain": [
       "          0         1         2         3\n",
       "0 -1.278849 -1.273133  0.016213  0.662102\n",
       "1 -1.020553 -0.201162  0.670478  1.605779\n",
       "2  0.188289  0.432114 -0.979766 -0.519232\n",
       "3 -1.015466 -1.469881 -0.018832  0.938386\n",
       "4 -0.822626  2.123651  0.407953 -0.380922"
      ]
     },
     "execution_count": 12,
     "metadata": {},
     "output_type": "execute_result"
    }
   ],
   "source": [
    "pca=PCA(n_components=4)\n",
    "\n",
    "data_pca=pca.fit_transform(data)\n",
    "\n",
    "df=pd.DataFrame(data_pca)\n",
    "\n",
    "df.head()"
   ]
  },
  {
   "cell_type": "code",
   "execution_count": 14,
   "id": "8f6f309b",
   "metadata": {},
   "outputs": [
    {
     "data": {
      "text/plain": [
       "0.9431781986997565"
      ]
     },
     "execution_count": 14,
     "metadata": {},
     "output_type": "execute_result"
    }
   ],
   "source": [
    "sum(pca.explained_variance_ratio_)"
   ]
  },
  {
   "cell_type": "code",
   "execution_count": 15,
   "id": "009581dd",
   "metadata": {},
   "outputs": [
    {
     "data": {
      "text/html": [
       "<div>\n",
       "<style scoped>\n",
       "    .dataframe tbody tr th:only-of-type {\n",
       "        vertical-align: middle;\n",
       "    }\n",
       "\n",
       "    .dataframe tbody tr th {\n",
       "        vertical-align: top;\n",
       "    }\n",
       "\n",
       "    .dataframe thead th {\n",
       "        text-align: right;\n",
       "    }\n",
       "</style>\n",
       "<table border=\"1\" class=\"dataframe\">\n",
       "  <thead>\n",
       "    <tr style=\"text-align: right;\">\n",
       "      <th></th>\n",
       "      <th>0</th>\n",
       "      <th>1</th>\n",
       "      <th>2</th>\n",
       "      <th>3</th>\n",
       "      <th>4</th>\n",
       "      <th>5</th>\n",
       "      <th>6</th>\n",
       "      <th>7</th>\n",
       "    </tr>\n",
       "  </thead>\n",
       "  <tbody>\n",
       "    <tr>\n",
       "      <th>0</th>\n",
       "      <td>1.149317</td>\n",
       "      <td>1.334832</td>\n",
       "      <td>-0.669570</td>\n",
       "      <td>-0.400459</td>\n",
       "      <td>-0.319440</td>\n",
       "      <td>-0.370625</td>\n",
       "      <td>-0.072798</td>\n",
       "      <td>-0.287438</td>\n",
       "    </tr>\n",
       "    <tr>\n",
       "      <th>1</th>\n",
       "      <td>-0.334168</td>\n",
       "      <td>1.802265</td>\n",
       "      <td>-0.011785</td>\n",
       "      <td>-0.370535</td>\n",
       "      <td>-0.371102</td>\n",
       "      <td>-0.588924</td>\n",
       "      <td>0.504427</td>\n",
       "      <td>0.211581</td>\n",
       "    </tr>\n",
       "    <tr>\n",
       "      <th>2</th>\n",
       "      <td>-0.314372</td>\n",
       "      <td>-1.053322</td>\n",
       "      <td>-0.145233</td>\n",
       "      <td>-0.116593</td>\n",
       "      <td>-0.322107</td>\n",
       "      <td>-0.235328</td>\n",
       "      <td>-0.125996</td>\n",
       "      <td>-0.391373</td>\n",
       "    </tr>\n",
       "    <tr>\n",
       "      <th>3</th>\n",
       "      <td>1.000694</td>\n",
       "      <td>1.553254</td>\n",
       "      <td>-0.513409</td>\n",
       "      <td>-0.390178</td>\n",
       "      <td>-0.304404</td>\n",
       "      <td>-0.275666</td>\n",
       "      <td>-0.312265</td>\n",
       "      <td>-0.481300</td>\n",
       "    </tr>\n",
       "    <tr>\n",
       "      <th>4</th>\n",
       "      <td>-0.871402</td>\n",
       "      <td>-0.858879</td>\n",
       "      <td>0.115609</td>\n",
       "      <td>-0.104866</td>\n",
       "      <td>-0.388010</td>\n",
       "      <td>-0.763111</td>\n",
       "      <td>1.324026</td>\n",
       "      <td>1.386794</td>\n",
       "    </tr>\n",
       "  </tbody>\n",
       "</table>\n",
       "</div>"
      ],
      "text/plain": [
       "          0         1         2         3         4         5         6  \\\n",
       "0  1.149317  1.334832 -0.669570 -0.400459 -0.319440 -0.370625 -0.072798   \n",
       "1 -0.334168  1.802265 -0.011785 -0.370535 -0.371102 -0.588924  0.504427   \n",
       "2 -0.314372 -1.053322 -0.145233 -0.116593 -0.322107 -0.235328 -0.125996   \n",
       "3  1.000694  1.553254 -0.513409 -0.390178 -0.304404 -0.275666 -0.312265   \n",
       "4 -0.871402 -0.858879  0.115609 -0.104866 -0.388010 -0.763111  1.324026   \n",
       "\n",
       "          7  \n",
       "0 -0.287438  \n",
       "1  0.211581  \n",
       "2 -0.391373  \n",
       "3 -0.481300  \n",
       "4  1.386794  "
      ]
     },
     "execution_count": 15,
     "metadata": {},
     "output_type": "execute_result"
    }
   ],
   "source": [
    "pd.DataFrame(data).head()"
   ]
  },
  {
   "cell_type": "code",
   "execution_count": 18,
   "id": "32a4be4f",
   "metadata": {},
   "outputs": [
    {
     "data": {
      "text/html": [
       "<div>\n",
       "<style scoped>\n",
       "    .dataframe tbody tr th:only-of-type {\n",
       "        vertical-align: middle;\n",
       "    }\n",
       "\n",
       "    .dataframe tbody tr th {\n",
       "        vertical-align: top;\n",
       "    }\n",
       "\n",
       "    .dataframe thead th {\n",
       "        text-align: right;\n",
       "    }\n",
       "</style>\n",
       "<table border=\"1\" class=\"dataframe\">\n",
       "  <thead>\n",
       "    <tr style=\"text-align: right;\">\n",
       "      <th></th>\n",
       "      <th>0</th>\n",
       "      <th>1</th>\n",
       "      <th>2</th>\n",
       "      <th>3</th>\n",
       "      <th>4</th>\n",
       "      <th>5</th>\n",
       "      <th>6</th>\n",
       "      <th>7</th>\n",
       "    </tr>\n",
       "  </thead>\n",
       "  <tbody>\n",
       "    <tr>\n",
       "      <th>0</th>\n",
       "      <td>0.726963</td>\n",
       "      <td>1.327427</td>\n",
       "      <td>-0.735075</td>\n",
       "      <td>-0.783587</td>\n",
       "      <td>-0.337221</td>\n",
       "      <td>-0.257022</td>\n",
       "      <td>-0.070554</td>\n",
       "      <td>-0.255592</td>\n",
       "    </tr>\n",
       "    <tr>\n",
       "      <th>1</th>\n",
       "      <td>-0.038332</td>\n",
       "      <td>1.811110</td>\n",
       "      <td>0.059444</td>\n",
       "      <td>-0.129622</td>\n",
       "      <td>-0.454226</td>\n",
       "      <td>-0.587282</td>\n",
       "      <td>0.417421</td>\n",
       "      <td>0.287539</td>\n",
       "    </tr>\n",
       "    <tr>\n",
       "      <th>2</th>\n",
       "      <td>-0.059363</td>\n",
       "      <td>-1.046436</td>\n",
       "      <td>-0.031402</td>\n",
       "      <td>0.033576</td>\n",
       "      <td>-0.428290</td>\n",
       "      <td>-0.159977</td>\n",
       "      <td>-0.140189</td>\n",
       "      <td>-0.349821</td>\n",
       "    </tr>\n",
       "    <tr>\n",
       "      <th>3</th>\n",
       "      <td>0.623153</td>\n",
       "      <td>1.549935</td>\n",
       "      <td>-0.607552</td>\n",
       "      <td>-0.691777</td>\n",
       "      <td>-0.309245</td>\n",
       "      <td>-0.172273</td>\n",
       "      <td>-0.269003</td>\n",
       "      <td>-0.486495</td>\n",
       "    </tr>\n",
       "    <tr>\n",
       "      <th>4</th>\n",
       "      <td>-0.366730</td>\n",
       "      <td>-0.849173</td>\n",
       "      <td>0.255278</td>\n",
       "      <td>0.285361</td>\n",
       "      <td>-0.451494</td>\n",
       "      <td>-0.797759</td>\n",
       "      <td>1.303397</td>\n",
       "      <td>1.398872</td>\n",
       "    </tr>\n",
       "  </tbody>\n",
       "</table>\n",
       "</div>"
      ],
      "text/plain": [
       "          0         1         2         3         4         5         6  \\\n",
       "0  0.726963  1.327427 -0.735075 -0.783587 -0.337221 -0.257022 -0.070554   \n",
       "1 -0.038332  1.811110  0.059444 -0.129622 -0.454226 -0.587282  0.417421   \n",
       "2 -0.059363 -1.046436 -0.031402  0.033576 -0.428290 -0.159977 -0.140189   \n",
       "3  0.623153  1.549935 -0.607552 -0.691777 -0.309245 -0.172273 -0.269003   \n",
       "4 -0.366730 -0.849173  0.255278  0.285361 -0.451494 -0.797759  1.303397   \n",
       "\n",
       "          7  \n",
       "0 -0.255592  \n",
       "1  0.287539  \n",
       "2 -0.349821  \n",
       "3 -0.486495  \n",
       "4  1.398872  "
      ]
     },
     "execution_count": 18,
     "metadata": {},
     "output_type": "execute_result"
    }
   ],
   "source": [
    "pd.DataFrame(pca.inverse_transform(df)).head()"
   ]
  },
  {
   "cell_type": "markdown",
   "id": "784737e7",
   "metadata": {},
   "source": [
    "### UMAP (uniform manifold aprox and projection)\n",
    "\n",
    "Tiene dos pasos:\n",
    "\n",
    "+ KNN con pesos, según topología (grafo)\n",
    "+ Se reduce la dimensión basándose en esa topología\n",
    "\n",
    "https://umap-learn.readthedocs.io/en/latest/"
   ]
  },
  {
   "cell_type": "code",
   "execution_count": null,
   "id": "e4fefcf2",
   "metadata": {},
   "outputs": [],
   "source": [
    "%pip install umap-learn"
   ]
  },
  {
   "cell_type": "code",
   "execution_count": 1,
   "id": "56ac5ecd",
   "metadata": {},
   "outputs": [],
   "source": [
    "import umap\n",
    "\n",
    "import seaborn as sns\n",
    "\n",
    "from sklearn.datasets import load_iris"
   ]
  },
  {
   "cell_type": "code",
   "execution_count": 2,
   "id": "7f139748",
   "metadata": {},
   "outputs": [
    {
     "data": {
      "text/plain": [
       "(150, 4)"
      ]
     },
     "execution_count": 2,
     "metadata": {},
     "output_type": "execute_result"
    }
   ],
   "source": [
    "load_iris().data.shape"
   ]
  },
  {
   "cell_type": "code",
   "execution_count": 4,
   "id": "866a9f08",
   "metadata": {},
   "outputs": [
    {
     "data": {
      "text/plain": [
       "(150, 2)"
      ]
     },
     "execution_count": 4,
     "metadata": {},
     "output_type": "execute_result"
    }
   ],
   "source": [
    "reduc=umap.UMAP(n_components=2).fit_transform(load_iris().data)\n",
    "\n",
    "reduc.shape"
   ]
  },
  {
   "cell_type": "code",
   "execution_count": 8,
   "id": "0ed87db9",
   "metadata": {},
   "outputs": [
    {
     "data": {
      "image/png": "[encoded data removed]",
      "text/plain": [
       "<Figure size 432x288 with 1 Axes>"
      ]
     },
     "metadata": {
      "needs_background": "light"
     },
     "output_type": "display_data"
    }
   ],
   "source": [
    "import pylab as plt\n",
    "\n",
    "plt.scatter(reduc[:,0], # x\n",
    "            reduc[:, 1],# y \n",
    "            c=[sns.color_palette()[x] for x in load_iris().target])\n",
    "\n",
    "\n",
    "plt.gca().set_aspect('equal', 'datalim')\n",
    "plt.title('Proyeccion UMAP');"
   ]
  },
  {
   "cell_type": "markdown",
   "id": "24a6fc1c",
   "metadata": {},
   "source": [
    "### t-SNE\n",
    "\n",
    "**t-Distributed Stochastic Neighbor Embbeding**\n",
    "\n",
    "Convierte similitudes entre los datos en probabilidad conjunta y trata de minimizar la divergencia _Kullback-Leibler_ (entropía relativa):\n",
    "\n",
    "$$D_{KL}(P|Q)=\\sum P(x)log(\\frac{P(x)}{Q(x)})$$\n",
    "\n",
    "https://scikit-learn.org/stable/auto_examples/manifold/plot_t_sne_perplexity.html"
   ]
  },
  {
   "cell_type": "code",
   "execution_count": 11,
   "id": "30f77a8d",
   "metadata": {},
   "outputs": [],
   "source": [
    "from sklearn.manifold import TSNE\n",
    "\n",
    "import pandas as pd"
   ]
  },
  {
   "cell_type": "code",
   "execution_count": 12,
   "id": "4a69d05a",
   "metadata": {},
   "outputs": [
    {
     "name": "stderr",
     "output_type": "stream",
     "text": [
      "/Users/iudh/miniforge3/envs/tensor/lib/python3.8/site-packages/sklearn/manifold/_t_sne.py:780: FutureWarning: The default initialization in TSNE will change from 'random' to 'pca' in 1.2.\n",
      "  warnings.warn(\n",
      "/Users/iudh/miniforge3/envs/tensor/lib/python3.8/site-packages/sklearn/manifold/_t_sne.py:790: FutureWarning: The default learning rate in TSNE will change from 200.0 to 'auto' in 1.2.\n",
      "  warnings.warn(\n"
     ]
    },
    {
     "data": {
      "text/html": [
       "<div>\n",
       "<style scoped>\n",
       "    .dataframe tbody tr th:only-of-type {\n",
       "        vertical-align: middle;\n",
       "    }\n",
       "\n",
       "    .dataframe tbody tr th {\n",
       "        vertical-align: top;\n",
       "    }\n",
       "\n",
       "    .dataframe thead th {\n",
       "        text-align: right;\n",
       "    }\n",
       "</style>\n",
       "<table border=\"1\" class=\"dataframe\">\n",
       "  <thead>\n",
       "    <tr style=\"text-align: right;\">\n",
       "      <th></th>\n",
       "      <th>e1</th>\n",
       "      <th>e2</th>\n",
       "    </tr>\n",
       "  </thead>\n",
       "  <tbody>\n",
       "    <tr>\n",
       "      <th>0</th>\n",
       "      <td>-23.614374</td>\n",
       "      <td>3.969791</td>\n",
       "    </tr>\n",
       "    <tr>\n",
       "      <th>1</th>\n",
       "      <td>-21.020954</td>\n",
       "      <td>3.592188</td>\n",
       "    </tr>\n",
       "    <tr>\n",
       "      <th>2</th>\n",
       "      <td>-20.932966</td>\n",
       "      <td>4.515702</td>\n",
       "    </tr>\n",
       "    <tr>\n",
       "      <th>3</th>\n",
       "      <td>-20.622675</td>\n",
       "      <td>4.416893</td>\n",
       "    </tr>\n",
       "    <tr>\n",
       "      <th>4</th>\n",
       "      <td>-23.663538</td>\n",
       "      <td>4.416303</td>\n",
       "    </tr>\n",
       "  </tbody>\n",
       "</table>\n",
       "</div>"
      ],
      "text/plain": [
       "          e1        e2\n",
       "0 -23.614374  3.969791\n",
       "1 -21.020954  3.592188\n",
       "2 -20.932966  4.515702\n",
       "3 -20.622675  4.416893\n",
       "4 -23.663538  4.416303"
      ]
     },
     "execution_count": 12,
     "metadata": {},
     "output_type": "execute_result"
    }
   ],
   "source": [
    "tsne=TSNE(n_components=2, perplexity=30)\n",
    "\n",
    "emb=tsne.fit_transform(load_iris().data)\n",
    "\n",
    "emb=pd.DataFrame(emb, columns=['e1', 'e2'])\n",
    "\n",
    "emb.head()"
   ]
  },
  {
   "cell_type": "code",
   "execution_count": 13,
   "id": "bfcb86b8",
   "metadata": {},
   "outputs": [
    {
     "data": {
      "image/png": "[encoded data removed]",
      "text/plain": [
       "<Figure size 432x288 with 1 Axes>"
      ]
     },
     "metadata": {
      "needs_background": "light"
     },
     "output_type": "display_data"
    }
   ],
   "source": [
    "emb.plot.scatter(x='e1', \n",
    "                 y='e2', \n",
    "                 c=[sns.color_palette()[x] for x in load_iris().target])\n",
    "\n",
    "plt.title('Proyeccion t-SNE');"
   ]
  },
  {
   "cell_type": "code",
   "execution_count": 17,
   "id": "734d74e8",
   "metadata": {},
   "outputs": [
    {
     "data": {
      "text/plain": [
       "array([0, 0, 0, 0, 0, 0, 0, 0, 0, 0, 0, 0, 0, 0, 0, 0, 0, 0, 0, 0, 0, 0,\n",
       "       0, 0, 0, 0, 0, 0, 0, 0, 0, 0, 0, 0, 0, 0, 0, 0, 0, 0, 0, 0, 0, 0,\n",
       "       0, 0, 0, 0, 0, 0, 1, 1, 1, 1, 1, 1, 1, 1, 1, 1, 1, 1, 1, 1, 1, 1,\n",
       "       1, 1, 1, 1, 1, 1, 1, 1, 1, 1, 1, 1, 1, 1, 1, 1, 1, 1, 1, 1, 1, 1,\n",
       "       1, 1, 1, 1, 1, 1, 1, 1, 1, 1, 1, 1, 2, 2, 2, 2, 2, 2, 2, 2, 2, 2,\n",
       "       2, 2, 2, 2, 2, 2, 2, 2, 2, 2, 2, 2, 2, 2, 2, 2, 2, 2, 2, 2, 2, 2,\n",
       "       2, 2, 2, 2, 2, 2, 2, 2, 2, 2, 2, 2, 2, 2, 2, 2, 2, 2])"
      ]
     },
     "execution_count": 17,
     "metadata": {},
     "output_type": "execute_result"
    }
   ],
   "source": [
    "load_iris().target"
   ]
  },
  {
   "cell_type": "markdown",
   "id": "9a36eacf",
   "metadata": {},
   "source": [
    "## Guardar modelo de machine learning"
   ]
  },
  {
   "cell_type": "code",
   "execution_count": 18,
   "id": "444fd8fc",
   "metadata": {},
   "outputs": [
    {
     "data": {
      "text/html": [
       "<div>\n",
       "<style scoped>\n",
       "    .dataframe tbody tr th:only-of-type {\n",
       "        vertical-align: middle;\n",
       "    }\n",
       "\n",
       "    .dataframe tbody tr th {\n",
       "        vertical-align: top;\n",
       "    }\n",
       "\n",
       "    .dataframe thead th {\n",
       "        text-align: right;\n",
       "    }\n",
       "</style>\n",
       "<table border=\"1\" class=\"dataframe\">\n",
       "  <thead>\n",
       "    <tr style=\"text-align: right;\">\n",
       "      <th></th>\n",
       "      <th>Mean of the integrated profile</th>\n",
       "      <th>Standard deviation of the integrated profile</th>\n",
       "      <th>Excess kurtosis of the integrated profile</th>\n",
       "      <th>Skewness of the integrated profile</th>\n",
       "      <th>Mean of the DM-SNR curve</th>\n",
       "      <th>Standard deviation of the DM-SNR curve</th>\n",
       "      <th>Excess kurtosis of the DM-SNR curve</th>\n",
       "      <th>Skewness of the DM-SNR curve</th>\n",
       "      <th>target_class</th>\n",
       "    </tr>\n",
       "  </thead>\n",
       "  <tbody>\n",
       "    <tr>\n",
       "      <th>0</th>\n",
       "      <td>140.562500</td>\n",
       "      <td>55.683782</td>\n",
       "      <td>-0.234571</td>\n",
       "      <td>-0.699648</td>\n",
       "      <td>3.199833</td>\n",
       "      <td>19.110426</td>\n",
       "      <td>7.975532</td>\n",
       "      <td>74.242225</td>\n",
       "      <td>0</td>\n",
       "    </tr>\n",
       "    <tr>\n",
       "      <th>1</th>\n",
       "      <td>102.507812</td>\n",
       "      <td>58.882430</td>\n",
       "      <td>0.465318</td>\n",
       "      <td>-0.515088</td>\n",
       "      <td>1.677258</td>\n",
       "      <td>14.860146</td>\n",
       "      <td>10.576487</td>\n",
       "      <td>127.393580</td>\n",
       "      <td>0</td>\n",
       "    </tr>\n",
       "    <tr>\n",
       "      <th>2</th>\n",
       "      <td>103.015625</td>\n",
       "      <td>39.341649</td>\n",
       "      <td>0.323328</td>\n",
       "      <td>1.051164</td>\n",
       "      <td>3.121237</td>\n",
       "      <td>21.744669</td>\n",
       "      <td>7.735822</td>\n",
       "      <td>63.171909</td>\n",
       "      <td>0</td>\n",
       "    </tr>\n",
       "    <tr>\n",
       "      <th>3</th>\n",
       "      <td>136.750000</td>\n",
       "      <td>57.178449</td>\n",
       "      <td>-0.068415</td>\n",
       "      <td>-0.636238</td>\n",
       "      <td>3.642977</td>\n",
       "      <td>20.959280</td>\n",
       "      <td>6.896499</td>\n",
       "      <td>53.593661</td>\n",
       "      <td>0</td>\n",
       "    </tr>\n",
       "    <tr>\n",
       "      <th>4</th>\n",
       "      <td>88.726562</td>\n",
       "      <td>40.672225</td>\n",
       "      <td>0.600866</td>\n",
       "      <td>1.123492</td>\n",
       "      <td>1.178930</td>\n",
       "      <td>11.468720</td>\n",
       "      <td>14.269573</td>\n",
       "      <td>252.567306</td>\n",
       "      <td>0</td>\n",
       "    </tr>\n",
       "  </tbody>\n",
       "</table>\n",
       "</div>"
      ],
      "text/plain": [
       "    Mean of the integrated profile  \\\n",
       "0                       140.562500   \n",
       "1                       102.507812   \n",
       "2                       103.015625   \n",
       "3                       136.750000   \n",
       "4                        88.726562   \n",
       "\n",
       "    Standard deviation of the integrated profile  \\\n",
       "0                                      55.683782   \n",
       "1                                      58.882430   \n",
       "2                                      39.341649   \n",
       "3                                      57.178449   \n",
       "4                                      40.672225   \n",
       "\n",
       "    Excess kurtosis of the integrated profile  \\\n",
       "0                                   -0.234571   \n",
       "1                                    0.465318   \n",
       "2                                    0.323328   \n",
       "3                                   -0.068415   \n",
       "4                                    0.600866   \n",
       "\n",
       "    Skewness of the integrated profile   Mean of the DM-SNR curve  \\\n",
       "0                            -0.699648                   3.199833   \n",
       "1                            -0.515088                   1.677258   \n",
       "2                             1.051164                   3.121237   \n",
       "3                            -0.636238                   3.642977   \n",
       "4                             1.123492                   1.178930   \n",
       "\n",
       "    Standard deviation of the DM-SNR curve  \\\n",
       "0                                19.110426   \n",
       "1                                14.860146   \n",
       "2                                21.744669   \n",
       "3                                20.959280   \n",
       "4                                11.468720   \n",
       "\n",
       "    Excess kurtosis of the DM-SNR curve   Skewness of the DM-SNR curve  \\\n",
       "0                              7.975532                      74.242225   \n",
       "1                             10.576487                     127.393580   \n",
       "2                              7.735822                      63.171909   \n",
       "3                              6.896499                      53.593661   \n",
       "4                             14.269573                     252.567306   \n",
       "\n",
       "   target_class  \n",
       "0             0  \n",
       "1             0  \n",
       "2             0  \n",
       "3             0  \n",
       "4             0  "
      ]
     },
     "execution_count": 18,
     "metadata": {},
     "output_type": "execute_result"
    }
   ],
   "source": [
    "data=pd.read_csv('../data/pulsar_stars.csv')\n",
    "\n",
    "data.head()"
   ]
  },
  {
   "cell_type": "code",
   "execution_count": 19,
   "id": "d0e38eb9",
   "metadata": {},
   "outputs": [],
   "source": [
    "from sklearn.ensemble import RandomForestClassifier as RFC"
   ]
  },
  {
   "cell_type": "code",
   "execution_count": 20,
   "id": "ac78ebb7",
   "metadata": {},
   "outputs": [],
   "source": [
    "X=data.drop('target_class', axis=1)\n",
    "\n",
    "y=data.target_class"
   ]
  },
  {
   "cell_type": "code",
   "execution_count": 21,
   "id": "6499094c",
   "metadata": {},
   "outputs": [
    {
     "data": {
      "text/plain": [
       "RandomForestClassifier()"
      ]
     },
     "execution_count": 21,
     "metadata": {},
     "output_type": "execute_result"
    }
   ],
   "source": [
    "rfc=RFC()\n",
    "\n",
    "rfc.fit(X, y)"
   ]
  },
  {
   "cell_type": "code",
   "execution_count": 22,
   "id": "0c9ec022",
   "metadata": {},
   "outputs": [],
   "source": [
    "# guardar modelo\n",
    "\n",
    "import pickle\n",
    "\n",
    "pickle.dump(rfc, open('random_forest.pk', 'wb'))"
   ]
  },
  {
   "cell_type": "code",
   "execution_count": 23,
   "id": "91aefffb",
   "metadata": {},
   "outputs": [],
   "source": [
    "# abrir y usar\n",
    "\n",
    "modelo = pickle.load(open('random_forest.pk', 'rb'))"
   ]
  },
  {
   "cell_type": "code",
   "execution_count": 24,
   "id": "712b7593",
   "metadata": {},
   "outputs": [
    {
     "data": {
      "text/plain": [
       "array([0, 0, 0, 0, 0, 0, 0, 0, 0, 0])"
      ]
     },
     "execution_count": 24,
     "metadata": {},
     "output_type": "execute_result"
    }
   ],
   "source": [
    "modelo.predict(X)[:10]"
   ]
  },
  {
   "cell_type": "code",
   "execution_count": 25,
   "id": "89ab5817",
   "metadata": {},
   "outputs": [
    {
     "data": {
      "text/plain": [
       "RandomForestClassifier()"
      ]
     },
     "execution_count": 25,
     "metadata": {},
     "output_type": "execute_result"
    }
   ],
   "source": [
    "modelo.fit(X, y)"
   ]
  },
  {
   "cell_type": "code",
   "execution_count": null,
   "id": "ee62c877",
   "metadata": {},
   "outputs": [],
   "source": []
  }
 ],
 "metadata": {
  "finalized": {
   "timestamp": 1663753257836,
   "trusted": true
  },
  "kernelspec": {
   "display_name": "tensor",
   "language": "python",
   "name": "tensor"
  },
  "language_info": {
   "codemirror_mode": {
    "name": "ipython",
    "version": 3
   },
   "file_extension": ".py",
   "mimetype": "text/x-python",
   "name": "python",
   "nbconvert_exporter": "python",
   "pygments_lexer": "ipython3",
   "version": "3.8.13"
  },
  "varInspector": {
   "cols": {
    "lenName": 16,
    "lenType": 16,
    "lenVar": 40
   },
   "kernels_config": {
    "python": {
     "delete_cmd_postfix": "",
     "delete_cmd_prefix": "del ",
     "library": "var_list.py",
     "varRefreshCmd": "print(var_dic_list())"
    },
    "r": {
     "delete_cmd_postfix": ") ",
     "delete_cmd_prefix": "rm(",
     "library": "var_list.r",
     "varRefreshCmd": "cat(var_dic_list()) "
    }
   },
   "types_to_exclude": [
    "module",
    "function",
    "builtin_function_or_method",
    "instance",
    "_Feature"
   ],
   "window_display": false
  }
 },
 "nbformat": 4,
 "nbformat_minor": 5
}
