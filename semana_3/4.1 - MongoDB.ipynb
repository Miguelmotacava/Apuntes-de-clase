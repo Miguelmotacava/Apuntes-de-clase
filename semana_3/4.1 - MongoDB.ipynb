{
 "cells": [
  {
   "cell_type": "markdown",
   "id": "296c3fa2",
   "metadata": {},
   "source": [
    "# 4.1 - MongoDB\n",
    "\n",
    "![mongo](images/mongodb.jpeg)\n",
    "\n",
    "https://docs.mongodb.com/manual/administration/install-community/\n",
    "\n",
    "https://docs.mongodb.com/compass/current/install/\n",
    "\n",
    "MongoDB es una base de datos orientada a documentos. Esto quiere decir que en lugar de guardar los datos en registros, guarda los datos en documentos. Estos documentos son almacenados en BSON, que es una representación binaria de JSON.\n",
    "\n",
    "Una de las diferencias más importantes con respecto a las bases de datos relacionales, es que no es necesario seguir un esquema. Los documentos de una misma colección, concepto similar a una tabla de una base de datos relacional, pueden tener esquemas diferentes.\n"
   ]
  },
  {
   "cell_type": "code",
   "execution_count": 1,
   "id": "d686b82b",
   "metadata": {},
   "outputs": [
    {
     "name": "stdout",
     "output_type": "stream",
     "text": [
      "Requirement already satisfied: pymongo in /Users/iudh/miniforge3/envs/clase/lib/python3.9/site-packages (4.1.0)\n",
      "Note: you may need to restart the kernel to use updated packages.\n"
     ]
    }
   ],
   "source": [
    "%pip install pymongo"
   ]
  },
  {
   "cell_type": "code",
   "execution_count": 2,
   "id": "b53f90eb",
   "metadata": {},
   "outputs": [],
   "source": [
    "from pymongo import MongoClient\n",
    "\n",
    "import warnings\n",
    "warnings.filterwarnings('ignore')"
   ]
  },
  {
   "cell_type": "code",
   "execution_count": 4,
   "id": "87c2662e",
   "metadata": {},
   "outputs": [
    {
     "data": {
      "text/plain": [
       "MongoClient(host=['localhost:27017'], document_class=dict, tz_aware=False, connect=True)"
      ]
     },
     "execution_count": 4,
     "metadata": {},
     "output_type": "execute_result"
    }
   ],
   "source": [
    "cursor=MongoClient('mongodb://localhost:27017')\n",
    "\n",
    "cursor"
   ]
  },
  {
   "cell_type": "code",
   "execution_count": 5,
   "id": "0eff5667",
   "metadata": {},
   "outputs": [
    {
     "data": {
      "text/plain": [
       "['admin',\n",
       " 'arbbot',\n",
       " 'campus_tools',\n",
       " 'companies',\n",
       " 'complete_exchange_matches',\n",
       " 'config',\n",
       " 'ironcomes',\n",
       " 'local',\n",
       " 'telegram_messages',\n",
       " 'total_records']"
      ]
     },
     "execution_count": 5,
     "metadata": {},
     "output_type": "execute_result"
    }
   ],
   "source": [
    "cursor.list_database_names()   # lista de bases de datos"
   ]
  },
  {
   "cell_type": "code",
   "execution_count": 6,
   "id": "882a8427",
   "metadata": {},
   "outputs": [],
   "source": [
    "db=cursor.nueva_db   # nueva base de datos"
   ]
  },
  {
   "cell_type": "code",
   "execution_count": 7,
   "id": "ae026dc9",
   "metadata": {},
   "outputs": [
    {
     "data": {
      "text/plain": [
       "['admin',\n",
       " 'arbbot',\n",
       " 'campus_tools',\n",
       " 'companies',\n",
       " 'complete_exchange_matches',\n",
       " 'config',\n",
       " 'ironcomes',\n",
       " 'local',\n",
       " 'telegram_messages',\n",
       " 'total_records']"
      ]
     },
     "execution_count": 7,
     "metadata": {},
     "output_type": "execute_result"
    }
   ],
   "source": [
    "cursor.list_database_names()"
   ]
  },
  {
   "cell_type": "code",
   "execution_count": 8,
   "id": "af4151db",
   "metadata": {},
   "outputs": [],
   "source": [
    "colec=db.n_colec   # nueva coleccion"
   ]
  },
  {
   "cell_type": "code",
   "execution_count": 9,
   "id": "bc989056",
   "metadata": {},
   "outputs": [
    {
     "data": {
      "text/plain": [
       "[]"
      ]
     },
     "execution_count": 9,
     "metadata": {},
     "output_type": "execute_result"
    }
   ],
   "source": [
    "db.list_collection_names()  # lista de colecciones"
   ]
  },
  {
   "cell_type": "code",
   "execution_count": 10,
   "id": "85c8002d",
   "metadata": {},
   "outputs": [
    {
     "data": {
      "text/plain": [
       "<pymongo.results.InsertOneResult at 0x107e36400>"
      ]
     },
     "execution_count": 10,
     "metadata": {},
     "output_type": "execute_result"
    }
   ],
   "source": [
    "# insertar datos\n",
    "\n",
    "dictio={'nombre': 'pepe', 'edad': 23}\n",
    "\n",
    "colec.insert_one(dictio)"
   ]
  },
  {
   "cell_type": "code",
   "execution_count": 11,
   "id": "6afb0b69",
   "metadata": {},
   "outputs": [
    {
     "data": {
      "text/plain": [
       "['admin',\n",
       " 'arbbot',\n",
       " 'campus_tools',\n",
       " 'companies',\n",
       " 'complete_exchange_matches',\n",
       " 'config',\n",
       " 'ironcomes',\n",
       " 'local',\n",
       " 'nueva_db',\n",
       " 'telegram_messages',\n",
       " 'total_records']"
      ]
     },
     "execution_count": 11,
     "metadata": {},
     "output_type": "execute_result"
    }
   ],
   "source": [
    "cursor.list_database_names()"
   ]
  },
  {
   "cell_type": "code",
   "execution_count": 12,
   "id": "f4320811",
   "metadata": {},
   "outputs": [
    {
     "data": {
      "text/plain": [
       "['n_colec']"
      ]
     },
     "execution_count": 12,
     "metadata": {},
     "output_type": "execute_result"
    }
   ],
   "source": [
    "db.list_collection_names() "
   ]
  },
  {
   "cell_type": "code",
   "execution_count": 13,
   "id": "812407c3",
   "metadata": {},
   "outputs": [
    {
     "data": {
      "text/plain": [
       "<pymongo.results.InsertManyResult at 0x104fa5c10>"
      ]
     },
     "execution_count": 13,
     "metadata": {},
     "output_type": "execute_result"
    }
   ],
   "source": [
    "# insertar varios\n",
    "\n",
    "# insert into colec (columnas) values (valores);   equivalente SQL\n",
    "\n",
    "json=[{'nombre': 'Ana', 'edad':24},\n",
    "      {'_id': 20, 'actividad': 'natacion', 'hora':'22:00', 'lugar': 'aculla'}]\n",
    "\n",
    "\n",
    "colec.insert_many(json)"
   ]
  },
  {
   "cell_type": "code",
   "execution_count": 14,
   "id": "e54fc648",
   "metadata": {},
   "outputs": [
    {
     "data": {
      "text/plain": [
       "<pymongo.results.InsertManyResult at 0x104fa5f40>"
      ]
     },
     "execution_count": 14,
     "metadata": {},
     "output_type": "execute_result"
    }
   ],
   "source": [
    "json=[{'nombre': 'Ana', 'edad': 24},\n",
    "      {'_id': 22, 'actividad': 'natacion', 'hora': '22:00', 'lugar': 'aculla'}]\n",
    "\n",
    "\n",
    "colec.insert_many(json)"
   ]
  },
  {
   "cell_type": "code",
   "execution_count": 15,
   "id": "0dcf515f",
   "metadata": {},
   "outputs": [
    {
     "data": {
      "text/plain": [
       "<pymongo.cursor.Cursor at 0x107f81370>"
      ]
     },
     "execution_count": 15,
     "metadata": {},
     "output_type": "execute_result"
    }
   ],
   "source": [
    "# select * from colec;\n",
    "\n",
    "colec.find()"
   ]
  },
  {
   "cell_type": "code",
   "execution_count": 16,
   "id": "51f1daf9",
   "metadata": {},
   "outputs": [
    {
     "data": {
      "text/plain": [
       "[{'_id': ObjectId('630732bfedeca3d4b5aed4dc'), 'nombre': 'pepe', 'edad': 23},\n",
       " {'_id': ObjectId('63073373edeca3d4b5aed4dd'), 'nombre': 'Ana', 'edad': 24},\n",
       " {'_id': 20, 'actividad': 'natacion', 'hora': '22:00', 'lugar': 'aculla'},\n",
       " {'_id': ObjectId('630733efedeca3d4b5aed4de'), 'nombre': 'Ana', 'edad': 24},\n",
       " {'_id': 22, 'actividad': 'natacion', 'hora': '22:00', 'lugar': 'aculla'}]"
      ]
     },
     "execution_count": 16,
     "metadata": {},
     "output_type": "execute_result"
    }
   ],
   "source": [
    "list(colec.find())"
   ]
  },
  {
   "cell_type": "code",
   "execution_count": 17,
   "id": "45b50423",
   "metadata": {},
   "outputs": [],
   "source": [
    "c=list(colec.find())"
   ]
  },
  {
   "cell_type": "code",
   "execution_count": 20,
   "id": "20e41237",
   "metadata": {},
   "outputs": [
    {
     "data": {
      "text/plain": [
       "dict_values([ObjectId('630733efedeca3d4b5aed4de'), 'Ana', 24])"
      ]
     },
     "execution_count": 20,
     "metadata": {},
     "output_type": "execute_result"
    }
   ],
   "source": [
    "c[3].values()"
   ]
  },
  {
   "cell_type": "code",
   "execution_count": 21,
   "id": "db7dc826",
   "metadata": {},
   "outputs": [
    {
     "data": {
      "text/plain": [
       "<pymongo.results.InsertManyResult at 0x104fc3070>"
      ]
     },
     "execution_count": 21,
     "metadata": {},
     "output_type": "execute_result"
    }
   ],
   "source": [
    "json=[{'nombre': 'Ana', 'edad': 42},\n",
    "      {'nombre': 'Juan', 'edad': 30},\n",
    "      {'nombre': 'Maria', 'edad': 12},\n",
    "      {'nombre': 'Joase', 'edad': 5},\n",
    "      {'nombre': 'Hola', 'edad': 70},\n",
    "      ]\n",
    "\n",
    "colec.insert_many(json)"
   ]
  },
  {
   "cell_type": "markdown",
   "id": "5cec891a",
   "metadata": {},
   "source": [
    "### Queries"
   ]
  },
  {
   "cell_type": "code",
   "execution_count": 22,
   "id": "308bdc0f",
   "metadata": {},
   "outputs": [
    {
     "data": {
      "text/plain": [
       "[{'_id': ObjectId('630732bfedeca3d4b5aed4dc'), 'nombre': 'pepe', 'edad': 23},\n",
       " {'_id': ObjectId('63073373edeca3d4b5aed4dd'), 'nombre': 'Ana', 'edad': 24},\n",
       " {'_id': 20, 'actividad': 'natacion', 'hora': '22:00', 'lugar': 'aculla'},\n",
       " {'_id': ObjectId('630733efedeca3d4b5aed4de'), 'nombre': 'Ana', 'edad': 24},\n",
       " {'_id': 22, 'actividad': 'natacion', 'hora': '22:00', 'lugar': 'aculla'},\n",
       " {'_id': ObjectId('630734b2edeca3d4b5aed4df'), 'nombre': 'Ana', 'edad': 42},\n",
       " {'_id': ObjectId('630734b2edeca3d4b5aed4e0'), 'nombre': 'Juan', 'edad': 30},\n",
       " {'_id': ObjectId('630734b2edeca3d4b5aed4e1'), 'nombre': 'Maria', 'edad': 12},\n",
       " {'_id': ObjectId('630734b2edeca3d4b5aed4e2'), 'nombre': 'Joase', 'edad': 5},\n",
       " {'_id': ObjectId('630734b2edeca3d4b5aed4e3'), 'nombre': 'Hola', 'edad': 70}]"
      ]
     },
     "execution_count": 22,
     "metadata": {},
     "output_type": "execute_result"
    }
   ],
   "source": [
    "list(colec.find())   # select * from colec;"
   ]
  },
  {
   "cell_type": "code",
   "execution_count": 23,
   "id": "52107153",
   "metadata": {},
   "outputs": [
    {
     "data": {
      "text/plain": [
       "[{'_id': ObjectId('630734b2edeca3d4b5aed4e1'), 'nombre': 'Maria', 'edad': 12}]"
      ]
     },
     "execution_count": 23,
     "metadata": {},
     "output_type": "execute_result"
    }
   ],
   "source": [
    "list(colec.find({'edad': 12}))   # select * from colec where edad=12;"
   ]
  },
  {
   "cell_type": "code",
   "execution_count": 24,
   "id": "dbfc33db",
   "metadata": {},
   "outputs": [
    {
     "data": {
      "text/plain": [
       "[{'_id': ObjectId('63073373edeca3d4b5aed4dd'), 'nombre': 'Ana', 'edad': 24},\n",
       " {'_id': ObjectId('630733efedeca3d4b5aed4de'), 'nombre': 'Ana', 'edad': 24},\n",
       " {'_id': ObjectId('630734b2edeca3d4b5aed4df'), 'nombre': 'Ana', 'edad': 42}]"
      ]
     },
     "execution_count": 24,
     "metadata": {},
     "output_type": "execute_result"
    }
   ],
   "source": [
    "list(colec.find({'nombre': 'Ana'}))   # select * from colec where nombre=Ana;"
   ]
  },
  {
   "cell_type": "code",
   "execution_count": 25,
   "id": "b2294eb5",
   "metadata": {},
   "outputs": [
    {
     "data": {
      "text/plain": [
       "[{'_id': ObjectId('630732bfedeca3d4b5aed4dc'), 'nombre': 'pepe', 'edad': 23},\n",
       " {'_id': ObjectId('63073373edeca3d4b5aed4dd'), 'nombre': 'Ana', 'edad': 24},\n",
       " {'_id': ObjectId('630733efedeca3d4b5aed4de'), 'nombre': 'Ana', 'edad': 24},\n",
       " {'_id': ObjectId('630734b2edeca3d4b5aed4df'), 'nombre': 'Ana', 'edad': 42},\n",
       " {'_id': ObjectId('630734b2edeca3d4b5aed4e0'), 'nombre': 'Juan', 'edad': 30},\n",
       " {'_id': ObjectId('630734b2edeca3d4b5aed4e1'), 'nombre': 'Maria', 'edad': 12},\n",
       " {'_id': ObjectId('630734b2edeca3d4b5aed4e3'), 'nombre': 'Hola', 'edad': 70}]"
      ]
     },
     "execution_count": 25,
     "metadata": {},
     "output_type": "execute_result"
    }
   ],
   "source": [
    "list(colec.find({'edad': {'$gte': 12}}))   # select * from colec where edad>=12;"
   ]
  },
  {
   "cell_type": "code",
   "execution_count": 26,
   "id": "347ac0ff",
   "metadata": {},
   "outputs": [
    {
     "data": {
      "text/plain": [
       "[{'_id': ObjectId('630732bfedeca3d4b5aed4dc'), 'nombre': 'pepe', 'edad': 23},\n",
       " {'_id': ObjectId('63073373edeca3d4b5aed4dd'), 'nombre': 'Ana', 'edad': 24},\n",
       " {'_id': ObjectId('630733efedeca3d4b5aed4de'), 'nombre': 'Ana', 'edad': 24},\n",
       " {'_id': ObjectId('630734b2edeca3d4b5aed4df'), 'nombre': 'Ana', 'edad': 42},\n",
       " {'_id': ObjectId('630734b2edeca3d4b5aed4e0'), 'nombre': 'Juan', 'edad': 30},\n",
       " {'_id': ObjectId('630734b2edeca3d4b5aed4e3'), 'nombre': 'Hola', 'edad': 70}]"
      ]
     },
     "execution_count": 26,
     "metadata": {},
     "output_type": "execute_result"
    }
   ],
   "source": [
    "list(colec.find({'edad': {'$gt': 12}}))   # select * from colec where edad>12;"
   ]
  },
  {
   "cell_type": "code",
   "execution_count": 27,
   "id": "18f2b6d7",
   "metadata": {},
   "outputs": [
    {
     "data": {
      "text/plain": [
       "[{'_id': ObjectId('630734b2edeca3d4b5aed4e1'), 'nombre': 'Maria', 'edad': 12},\n",
       " {'_id': ObjectId('630734b2edeca3d4b5aed4e2'), 'nombre': 'Joase', 'edad': 5}]"
      ]
     },
     "execution_count": 27,
     "metadata": {},
     "output_type": "execute_result"
    }
   ],
   "source": [
    "list(colec.find({'edad': {'$lte': 12}}))   # select * from colec where edad<=12;"
   ]
  },
  {
   "cell_type": "code",
   "execution_count": 28,
   "id": "834043b6",
   "metadata": {},
   "outputs": [
    {
     "data": {
      "text/plain": [
       "[{'_id': ObjectId('630734b2edeca3d4b5aed4e2'), 'nombre': 'Joase', 'edad': 5}]"
      ]
     },
     "execution_count": 28,
     "metadata": {},
     "output_type": "execute_result"
    }
   ],
   "source": [
    "list(colec.find({'edad': {'$lt': 12}}))   # select * from colec where edad<12;"
   ]
  },
  {
   "cell_type": "code",
   "execution_count": 29,
   "id": "27846ebb",
   "metadata": {},
   "outputs": [
    {
     "data": {
      "text/plain": [
       "[{'_id': ObjectId('630732bfedeca3d4b5aed4dc'), 'nombre': 'pepe', 'edad': 23},\n",
       " {'_id': ObjectId('63073373edeca3d4b5aed4dd'), 'nombre': 'Ana', 'edad': 24},\n",
       " {'_id': 20, 'actividad': 'natacion', 'hora': '22:00', 'lugar': 'aculla'},\n",
       " {'_id': ObjectId('630733efedeca3d4b5aed4de'), 'nombre': 'Ana', 'edad': 24},\n",
       " {'_id': 22, 'actividad': 'natacion', 'hora': '22:00', 'lugar': 'aculla'},\n",
       " {'_id': ObjectId('630734b2edeca3d4b5aed4df'), 'nombre': 'Ana', 'edad': 42},\n",
       " {'_id': ObjectId('630734b2edeca3d4b5aed4e0'), 'nombre': 'Juan', 'edad': 30},\n",
       " {'_id': ObjectId('630734b2edeca3d4b5aed4e2'), 'nombre': 'Joase', 'edad': 5},\n",
       " {'_id': ObjectId('630734b2edeca3d4b5aed4e3'), 'nombre': 'Hola', 'edad': 70}]"
      ]
     },
     "execution_count": 29,
     "metadata": {},
     "output_type": "execute_result"
    }
   ],
   "source": [
    "list(colec.find({'edad': {'$ne': 12}}))   # select * from colec where edad!=12;"
   ]
  },
  {
   "cell_type": "code",
   "execution_count": 31,
   "id": "0442338a",
   "metadata": {},
   "outputs": [],
   "source": [
    "#colec.insert_one({'_id': 20, 'edad': 45})  # error"
   ]
  },
  {
   "cell_type": "code",
   "execution_count": 32,
   "id": "dce6127a",
   "metadata": {},
   "outputs": [
    {
     "data": {
      "text/plain": [
       "[{'_id': ObjectId('630732bfedeca3d4b5aed4dc'), 'nombre': 'pepe', 'edad': 23},\n",
       " {'_id': ObjectId('63073373edeca3d4b5aed4dd'), 'nombre': 'Ana', 'edad': 24},\n",
       " {'_id': 20, 'actividad': 'natacion', 'hora': '22:00', 'lugar': 'aculla'}]"
      ]
     },
     "execution_count": 32,
     "metadata": {},
     "output_type": "execute_result"
    }
   ],
   "source": [
    "list(colec.find({'edad': {'$ne': 12}}).limit(3))   # select * from colec where edad!=12 limit 3;"
   ]
  },
  {
   "cell_type": "code",
   "execution_count": 34,
   "id": "cb1b6794",
   "metadata": {},
   "outputs": [
    {
     "data": {
      "text/plain": [
       "[{'_id': 20, 'actividad': 'natacion', 'hora': '22:00', 'lugar': 'aculla'},\n",
       " {'_id': 22, 'actividad': 'natacion', 'hora': '22:00', 'lugar': 'aculla'},\n",
       " {'_id': ObjectId('630734b2edeca3d4b5aed4e2'), 'nombre': 'Joase', 'edad': 5}]"
      ]
     },
     "execution_count": 34,
     "metadata": {},
     "output_type": "execute_result"
    }
   ],
   "source": [
    "list(colec.find({'edad': {'$ne': 12}}).sort('edad', 1).limit(3))   # select * from colec where edad!=12 order by asc edad limit 3;"
   ]
  },
  {
   "cell_type": "code",
   "execution_count": 35,
   "id": "bd5b3f2d",
   "metadata": {},
   "outputs": [
    {
     "data": {
      "text/plain": [
       "[{'_id': ObjectId('630734b2edeca3d4b5aed4e3'), 'nombre': 'Hola', 'edad': 70},\n",
       " {'_id': ObjectId('630734b2edeca3d4b5aed4df'), 'nombre': 'Ana', 'edad': 42},\n",
       " {'_id': ObjectId('630734b2edeca3d4b5aed4e0'), 'nombre': 'Juan', 'edad': 30}]"
      ]
     },
     "execution_count": 35,
     "metadata": {},
     "output_type": "execute_result"
    }
   ],
   "source": [
    "list(colec.find({'edad': {'$ne': 12}}).sort('edad', -1).limit(3))   # select * from colec where edad!=12 order by desc edad limit 3;"
   ]
  },
  {
   "cell_type": "code",
   "execution_count": 36,
   "id": "509215c5",
   "metadata": {},
   "outputs": [
    {
     "data": {
      "text/plain": [
       "<pymongo.results.UpdateResult at 0x104fa5b50>"
      ]
     },
     "execution_count": 36,
     "metadata": {},
     "output_type": "execute_result"
    }
   ],
   "source": [
    "colec.update_one({'_id': 20}, {'$set': {'actividad': 'atletismo'}})"
   ]
  },
  {
   "cell_type": "code",
   "execution_count": 37,
   "id": "3596c61e",
   "metadata": {},
   "outputs": [
    {
     "data": {
      "text/plain": [
       "<pymongo.results.UpdateResult at 0x107f813d0>"
      ]
     },
     "execution_count": 37,
     "metadata": {},
     "output_type": "execute_result"
    }
   ],
   "source": [
    "colec.update_many({'nombre': 'Ana'}, {'$set': {'edad': 1}})"
   ]
  },
  {
   "cell_type": "code",
   "execution_count": 39,
   "id": "d3462603",
   "metadata": {},
   "outputs": [
    {
     "data": {
      "text/plain": [
       "<pymongo.results.UpdateResult at 0x111707070>"
      ]
     },
     "execution_count": 39,
     "metadata": {},
     "output_type": "execute_result"
    }
   ],
   "source": [
    "colec.update_one({'nombre': 'Ana'}, {'$set': {'edad': 15}})"
   ]
  },
  {
   "cell_type": "code",
   "execution_count": 40,
   "id": "bb1ec1ca",
   "metadata": {
    "scrolled": false
   },
   "outputs": [
    {
     "data": {
      "text/plain": [
       "[{'_id': '', 'count': 10}]"
      ]
     },
     "execution_count": 40,
     "metadata": {},
     "output_type": "execute_result"
    }
   ],
   "source": [
    "list(colec.aggregate([\n",
    "    \n",
    "    {'$group': {'_id': '', 'count': {'$sum': 1}}}\n",
    "    \n",
    "]))\n",
    "\n",
    "\n",
    "# select count(*) from colec group by _id;     # por cada id suma 1"
   ]
  },
  {
   "cell_type": "code",
   "execution_count": 42,
   "id": "5acb8754",
   "metadata": {},
   "outputs": [
    {
     "data": {
      "text/plain": [
       "<pymongo.results.DeleteResult at 0x111707d30>"
      ]
     },
     "execution_count": 42,
     "metadata": {},
     "output_type": "execute_result"
    }
   ],
   "source": [
    "colec.delete_one({'_id': 20})\n",
    "\n",
    "# delete from colec where _id=20;"
   ]
  },
  {
   "cell_type": "code",
   "execution_count": 43,
   "id": "5e8b0e07",
   "metadata": {},
   "outputs": [
    {
     "data": {
      "text/plain": [
       "<pymongo.results.DeleteResult at 0x1116fcd30>"
      ]
     },
     "execution_count": 43,
     "metadata": {},
     "output_type": "execute_result"
    }
   ],
   "source": [
    "colec.delete_many({'nombre': 'Ana'})\n",
    "\n",
    "# delete from colec where nombre=Ana;"
   ]
  },
  {
   "cell_type": "code",
   "execution_count": 44,
   "id": "0d184896",
   "metadata": {},
   "outputs": [
    {
     "data": {
      "text/plain": [
       "[{'_id': ObjectId('630732bfedeca3d4b5aed4dc'), 'nombre': 'pepe', 'edad': 23},\n",
       " {'_id': 22, 'actividad': 'natacion', 'hora': '22:00', 'lugar': 'aculla'},\n",
       " {'_id': ObjectId('630734b2edeca3d4b5aed4e0'), 'nombre': 'Juan', 'edad': 30},\n",
       " {'_id': ObjectId('630734b2edeca3d4b5aed4e1'), 'nombre': 'Maria', 'edad': 12},\n",
       " {'_id': ObjectId('630734b2edeca3d4b5aed4e2'), 'nombre': 'Joase', 'edad': 5},\n",
       " {'_id': ObjectId('630734b2edeca3d4b5aed4e3'), 'nombre': 'Hola', 'edad': 70}]"
      ]
     },
     "execution_count": 44,
     "metadata": {},
     "output_type": "execute_result"
    }
   ],
   "source": [
    "list(colec.find())"
   ]
  },
  {
   "cell_type": "code",
   "execution_count": 45,
   "id": "d2e6184f",
   "metadata": {},
   "outputs": [],
   "source": [
    "colec.drop()"
   ]
  },
  {
   "cell_type": "code",
   "execution_count": 46,
   "id": "0993fa7f",
   "metadata": {},
   "outputs": [
    {
     "data": {
      "text/plain": [
       "[]"
      ]
     },
     "execution_count": 46,
     "metadata": {},
     "output_type": "execute_result"
    }
   ],
   "source": [
    "db.list_collection_names()"
   ]
  },
  {
   "cell_type": "markdown",
   "id": "be3cedee",
   "metadata": {},
   "source": [
    "### DB Companies"
   ]
  },
  {
   "cell_type": "code",
   "execution_count": 47,
   "id": "501d1ab6",
   "metadata": {},
   "outputs": [],
   "source": [
    "db=cursor.companies"
   ]
  },
  {
   "cell_type": "code",
   "execution_count": 48,
   "id": "03fe7510",
   "metadata": {},
   "outputs": [],
   "source": [
    "colec=db.companies"
   ]
  },
  {
   "cell_type": "code",
   "execution_count": 52,
   "id": "96a82439",
   "metadata": {
    "scrolled": false
   },
   "outputs": [],
   "source": [
    "#list(colec.find().limit(1))"
   ]
  },
  {
   "cell_type": "code",
   "execution_count": 59,
   "id": "d163257f",
   "metadata": {},
   "outputs": [
    {
     "data": {
      "text/plain": [
       "[{'name': 'Wetpaint', 'category_code': 'web'},\n",
       " {'name': 'Postini', 'category_code': 'web'},\n",
       " {'name': 'Geni', 'category_code': 'web'},\n",
       " {'name': 'Fox Interactive Media', 'category_code': 'web'},\n",
       " {'name': 'StumbleUpon', 'category_code': 'web'},\n",
       " {'name': 'Gizmoz', 'category_code': 'web'},\n",
       " {'name': 'eBay', 'category_code': 'web'},\n",
       " {'name': 'Viacom', 'category_code': 'web'},\n",
       " {'name': 'Plaxo', 'category_code': 'web'},\n",
       " {'name': 'Yahoo!', 'category_code': 'web'}]"
      ]
     },
     "execution_count": 59,
     "metadata": {},
     "output_type": "execute_result"
    }
   ],
   "source": [
    "list(colec.find({'$or': [{'category_code': 'web'},\n",
    "                         {'category_code': 'ecommerce'}]},\n",
    "               \n",
    "               \n",
    "                {'name': True, 'category_code': True, '_id': False}).limit(10))  \n",
    "\n",
    "\n",
    "\n",
    "# select name, category_code from colec where category_code in ('web', 'ecommerce') limit 10;"
   ]
  },
  {
   "cell_type": "code",
   "execution_count": 60,
   "id": "39053424",
   "metadata": {},
   "outputs": [
    {
     "data": {
      "text/plain": [
       "[{'name': 'Postini', 'founded_year': 1999},\n",
       " {'name': 'Fox Interactive Media', 'founded_year': 1979},\n",
       " {'name': 'StumbleUpon', 'founded_year': 2002},\n",
       " {'name': 'eBay', 'founded_year': 1995},\n",
       " {'name': 'Viacom', 'founded_year': 1971},\n",
       " {'name': 'Plaxo', 'founded_year': 2002},\n",
       " {'name': 'Yahoo!', 'founded_year': 1994},\n",
       " {'name': 'Meetup', 'founded_year': 2002},\n",
       " {'name': 'Topix', 'founded_year': 2002},\n",
       " {'name': 'Steorn', 'founded_year': 2000}]"
      ]
     },
     "execution_count": 60,
     "metadata": {},
     "output_type": "execute_result"
    }
   ],
   "source": [
    "list(colec.find({'$and': [{'category_code': 'web'},\n",
    "                          {'founded_year': {'$lte': 2002}}]},\n",
    "               \n",
    "               \n",
    "                {'founded_year': True, 'name': True, '_id': False}).limit(10))  \n",
    "\n",
    "\n",
    "\n",
    "# select founded_year, name from colec where category_code=web and founded_year<=2002 limit 10;"
   ]
  },
  {
   "cell_type": "code",
   "execution_count": 65,
   "id": "2e4f4e5c",
   "metadata": {},
   "outputs": [
    {
     "data": {
      "text/html": [
       "<div>\n",
       "<style scoped>\n",
       "    .dataframe tbody tr th:only-of-type {\n",
       "        vertical-align: middle;\n",
       "    }\n",
       "\n",
       "    .dataframe tbody tr th {\n",
       "        vertical-align: top;\n",
       "    }\n",
       "\n",
       "    .dataframe thead th {\n",
       "        text-align: right;\n",
       "    }\n",
       "</style>\n",
       "<table border=\"1\" class=\"dataframe\">\n",
       "  <thead>\n",
       "    <tr style=\"text-align: right;\">\n",
       "      <th></th>\n",
       "      <th>name</th>\n",
       "      <th>founded_year</th>\n",
       "    </tr>\n",
       "  </thead>\n",
       "  <tbody>\n",
       "    <tr>\n",
       "      <th>0</th>\n",
       "      <td>SmallWorlds</td>\n",
       "      <td>1800</td>\n",
       "    </tr>\n",
       "    <tr>\n",
       "      <th>1</th>\n",
       "      <td>WeGame</td>\n",
       "      <td>1840</td>\n",
       "    </tr>\n",
       "    <tr>\n",
       "      <th>2</th>\n",
       "      <td>The Economist Group</td>\n",
       "      <td>1843</td>\n",
       "    </tr>\n",
       "    <tr>\n",
       "      <th>3</th>\n",
       "      <td>Elsevier</td>\n",
       "      <td>1880</td>\n",
       "    </tr>\n",
       "    <tr>\n",
       "      <th>4</th>\n",
       "      <td>Los Angeles Times Media Group</td>\n",
       "      <td>1881</td>\n",
       "    </tr>\n",
       "    <tr>\n",
       "      <th>5</th>\n",
       "      <td>National Geographic</td>\n",
       "      <td>1888</td>\n",
       "    </tr>\n",
       "    <tr>\n",
       "      <th>6</th>\n",
       "      <td>Financial Times</td>\n",
       "      <td>1888</td>\n",
       "    </tr>\n",
       "    <tr>\n",
       "      <th>7</th>\n",
       "      <td>PA SportsTicker</td>\n",
       "      <td>1909</td>\n",
       "    </tr>\n",
       "    <tr>\n",
       "      <th>8</th>\n",
       "      <td>Nielsen</td>\n",
       "      <td>1922</td>\n",
       "    </tr>\n",
       "    <tr>\n",
       "      <th>9</th>\n",
       "      <td>Consumers Union</td>\n",
       "      <td>1936</td>\n",
       "    </tr>\n",
       "  </tbody>\n",
       "</table>\n",
       "</div>"
      ],
      "text/plain": [
       "                            name  founded_year\n",
       "0                    SmallWorlds          1800\n",
       "1                         WeGame          1840\n",
       "2            The Economist Group          1843\n",
       "3                       Elsevier          1880\n",
       "4  Los Angeles Times Media Group          1881\n",
       "5            National Geographic          1888\n",
       "6                Financial Times          1888\n",
       "7                PA SportsTicker          1909\n",
       "8                        Nielsen          1922\n",
       "9                Consumers Union          1936"
      ]
     },
     "execution_count": 65,
     "metadata": {},
     "output_type": "execute_result"
    }
   ],
   "source": [
    "import pandas as pd\n",
    "\n",
    "\n",
    "df=pd.DataFrame(list(colec.find({'$and': [{'category_code': 'web'},\n",
    "                          {'founded_year': {'$lte': 2002}}]},\n",
    "               \n",
    "               \n",
    "                {'founded_year': True, 'name': True, '_id': False}).sort('founded_year', 1).limit(10)))\n",
    "\n",
    "\n",
    "df"
   ]
  },
  {
   "cell_type": "code",
   "execution_count": 62,
   "id": "e457d14d",
   "metadata": {},
   "outputs": [
    {
     "data": {
      "text/plain": [
       "[{'_id': ObjectId('52cdef7c4bab8bd675297d8e'),\n",
       "  'name': 'Facebook',\n",
       "  'category_code': 'social',\n",
       "  'founded_year': 2004},\n",
       " {'_id': ObjectId('52cdef7c4bab8bd675298140'),\n",
       "  'name': 'WeGame',\n",
       "  'category_code': 'web',\n",
       "  'founded_year': 1840}]"
      ]
     },
     "execution_count": 62,
     "metadata": {},
     "output_type": "execute_result"
    }
   ],
   "source": [
    "list(colec.find({'name': {'$in': ['WeGame', 'Facebook']}},\n",
    "                \n",
    "                {'name':True, 'category_code': True, 'founded_year': True}))\n",
    "\n",
    "\n",
    "# select name, category_code, founded_year from colec where name in ('WeGame', 'Facebook');"
   ]
  },
  {
   "cell_type": "code",
   "execution_count": 63,
   "id": "05ce38fe",
   "metadata": {},
   "outputs": [
    {
     "data": {
      "text/plain": [
       "[{'_id': ObjectId('52cdef7c4bab8bd675297d8e'),\n",
       "  'name': 'Facebook',\n",
       "  'category_code': 'social',\n",
       "  'founded_year': 2004},\n",
       " {'_id': ObjectId('52cdef7c4bab8bd675298334'),\n",
       "  'name': 'FaceTec',\n",
       "  'category_code': 'software',\n",
       "  'founded_year': 2002}]"
      ]
     },
     "execution_count": 63,
     "metadata": {},
     "output_type": "execute_result"
    }
   ],
   "source": [
    "list(colec.find({'name': {'$regex': '^Face'}},\n",
    "                \n",
    "                {'name':True, 'category_code': True, 'founded_year': True}).limit(2))\n",
    "\n",
    "\n",
    "# select name, category_code, founded_year from colec where name like 'Face%'; "
   ]
  },
  {
   "cell_type": "markdown",
   "id": "3a5a081e",
   "metadata": {},
   "source": [
    "### Geoqueries"
   ]
  },
  {
   "cell_type": "code",
   "execution_count": 67,
   "id": "fc1ac2f4",
   "metadata": {},
   "outputs": [],
   "source": [
    "# documentos que contengan oficinas, devuelve solo el nombre y el array de oficinas\n",
    "\n",
    "\n",
    "ofi=colec.find({'offices': {'$not': {'$size': 0}}},\n",
    "          \n",
    "           {'_id':0, 'name':1, 'offices':1})"
   ]
  },
  {
   "cell_type": "code",
   "execution_count": 69,
   "id": "fda7a05e",
   "metadata": {},
   "outputs": [
    {
     "data": {
      "text/html": [
       "<div>\n",
       "<style scoped>\n",
       "    .dataframe tbody tr th:only-of-type {\n",
       "        vertical-align: middle;\n",
       "    }\n",
       "\n",
       "    .dataframe tbody tr th {\n",
       "        vertical-align: top;\n",
       "    }\n",
       "\n",
       "    .dataframe thead th {\n",
       "        text-align: right;\n",
       "    }\n",
       "</style>\n",
       "<table border=\"1\" class=\"dataframe\">\n",
       "  <thead>\n",
       "    <tr style=\"text-align: right;\">\n",
       "      <th></th>\n",
       "      <th>name</th>\n",
       "      <th>offices</th>\n",
       "    </tr>\n",
       "  </thead>\n",
       "  <tbody>\n",
       "    <tr>\n",
       "      <th>0</th>\n",
       "      <td>Wetpaint</td>\n",
       "      <td>[{'description': '', 'address1': '710 - 2nd Av...</td>\n",
       "    </tr>\n",
       "    <tr>\n",
       "      <th>1</th>\n",
       "      <td>AdventNet</td>\n",
       "      <td>[{'description': 'Headquarters', 'address1': '...</td>\n",
       "    </tr>\n",
       "    <tr>\n",
       "      <th>2</th>\n",
       "      <td>Zoho</td>\n",
       "      <td>[{'description': 'Headquarters', 'address1': '...</td>\n",
       "    </tr>\n",
       "    <tr>\n",
       "      <th>3</th>\n",
       "      <td>Digg</td>\n",
       "      <td>[{'description': None, 'address1': '135 Missis...</td>\n",
       "    </tr>\n",
       "    <tr>\n",
       "      <th>4</th>\n",
       "      <td>Facebook</td>\n",
       "      <td>[{'description': 'Headquarters', 'address1': '...</td>\n",
       "    </tr>\n",
       "  </tbody>\n",
       "</table>\n",
       "</div>"
      ],
      "text/plain": [
       "        name                                            offices\n",
       "0   Wetpaint  [{'description': '', 'address1': '710 - 2nd Av...\n",
       "1  AdventNet  [{'description': 'Headquarters', 'address1': '...\n",
       "2       Zoho  [{'description': 'Headquarters', 'address1': '...\n",
       "3       Digg  [{'description': None, 'address1': '135 Missis...\n",
       "4   Facebook  [{'description': 'Headquarters', 'address1': '..."
      ]
     },
     "execution_count": 69,
     "metadata": {},
     "output_type": "execute_result"
    }
   ],
   "source": [
    "df=pd.DataFrame(ofi)\n",
    "\n",
    "df=df.dropna()\n",
    "\n",
    "df.head()"
   ]
  },
  {
   "cell_type": "code",
   "execution_count": 72,
   "id": "4b6ea2d9",
   "metadata": {},
   "outputs": [],
   "source": [
    "# extraer la primera oficina y crear geopunto\n",
    "\n",
    "\n",
    "def get_first(data):\n",
    "    \n",
    "    data=data.offices\n",
    "    \n",
    "    principal=None\n",
    "    \n",
    "    if data[0]['latitude'] and data[0]['longitude']:\n",
    "        \n",
    "        principal={'type': 'Point', 'coordinates': [data[0]['longitude'], data[0]['latitude']]}\n",
    "        \n",
    "    \n",
    "    return {'total_offices': len(data),\n",
    "            'lat': data[0]['latitude'],\n",
    "            'lng': data[0]['longitude'],\n",
    "            'principal': principal}"
   ]
  },
  {
   "cell_type": "code",
   "execution_count": 78,
   "id": "ca153d3d",
   "metadata": {},
   "outputs": [
    {
     "data": {
      "text/html": [
       "<div>\n",
       "<style scoped>\n",
       "    .dataframe tbody tr th:only-of-type {\n",
       "        vertical-align: middle;\n",
       "    }\n",
       "\n",
       "    .dataframe tbody tr th {\n",
       "        vertical-align: top;\n",
       "    }\n",
       "\n",
       "    .dataframe thead th {\n",
       "        text-align: right;\n",
       "    }\n",
       "</style>\n",
       "<table border=\"1\" class=\"dataframe\">\n",
       "  <thead>\n",
       "    <tr style=\"text-align: right;\">\n",
       "      <th></th>\n",
       "      <th>total_offices</th>\n",
       "      <th>lat</th>\n",
       "      <th>lng</th>\n",
       "      <th>principal</th>\n",
       "    </tr>\n",
       "  </thead>\n",
       "  <tbody>\n",
       "    <tr>\n",
       "      <th>0</th>\n",
       "      <td>2.0</td>\n",
       "      <td>47.603122</td>\n",
       "      <td>-122.333253</td>\n",
       "      <td>{'type': 'Point', 'coordinates': [-122.333253,...</td>\n",
       "    </tr>\n",
       "    <tr>\n",
       "      <th>1</th>\n",
       "      <td>1.0</td>\n",
       "      <td>37.692934</td>\n",
       "      <td>-121.904945</td>\n",
       "      <td>{'type': 'Point', 'coordinates': [-121.904945,...</td>\n",
       "    </tr>\n",
       "    <tr>\n",
       "      <th>2</th>\n",
       "      <td>1.0</td>\n",
       "      <td>37.692934</td>\n",
       "      <td>-121.904945</td>\n",
       "      <td>{'type': 'Point', 'coordinates': [-121.904945,...</td>\n",
       "    </tr>\n",
       "    <tr>\n",
       "      <th>3</th>\n",
       "      <td>1.0</td>\n",
       "      <td>37.764726</td>\n",
       "      <td>-122.394523</td>\n",
       "      <td>{'type': 'Point', 'coordinates': [-122.394523,...</td>\n",
       "    </tr>\n",
       "    <tr>\n",
       "      <th>4</th>\n",
       "      <td>3.0</td>\n",
       "      <td>37.416050</td>\n",
       "      <td>-122.151801</td>\n",
       "      <td>{'type': 'Point', 'coordinates': [-122.151801,...</td>\n",
       "    </tr>\n",
       "  </tbody>\n",
       "</table>\n",
       "</div>"
      ],
      "text/plain": [
       "   total_offices        lat         lng  \\\n",
       "0            2.0  47.603122 -122.333253   \n",
       "1            1.0  37.692934 -121.904945   \n",
       "2            1.0  37.692934 -121.904945   \n",
       "3            1.0  37.764726 -122.394523   \n",
       "4            3.0  37.416050 -122.151801   \n",
       "\n",
       "                                           principal  \n",
       "0  {'type': 'Point', 'coordinates': [-122.333253,...  \n",
       "1  {'type': 'Point', 'coordinates': [-121.904945,...  \n",
       "2  {'type': 'Point', 'coordinates': [-121.904945,...  \n",
       "3  {'type': 'Point', 'coordinates': [-122.394523,...  \n",
       "4  {'type': 'Point', 'coordinates': [-122.151801,...  "
      ]
     },
     "execution_count": 78,
     "metadata": {},
     "output_type": "execute_result"
    }
   ],
   "source": [
    "first_office=df[['offices']].apply(get_first, result_type='expand', axis=1)\n",
    "\n",
    "first_office.head()"
   ]
  },
  {
   "cell_type": "code",
   "execution_count": 80,
   "id": "9981bc6a",
   "metadata": {},
   "outputs": [
    {
     "data": {
      "text/html": [
       "<div>\n",
       "<style scoped>\n",
       "    .dataframe tbody tr th:only-of-type {\n",
       "        vertical-align: middle;\n",
       "    }\n",
       "\n",
       "    .dataframe tbody tr th {\n",
       "        vertical-align: top;\n",
       "    }\n",
       "\n",
       "    .dataframe thead th {\n",
       "        text-align: right;\n",
       "    }\n",
       "</style>\n",
       "<table border=\"1\" class=\"dataframe\">\n",
       "  <thead>\n",
       "    <tr style=\"text-align: right;\">\n",
       "      <th></th>\n",
       "      <th>name</th>\n",
       "      <th>total_offices</th>\n",
       "      <th>lat</th>\n",
       "      <th>lng</th>\n",
       "      <th>principal</th>\n",
       "    </tr>\n",
       "  </thead>\n",
       "  <tbody>\n",
       "    <tr>\n",
       "      <th>0</th>\n",
       "      <td>Wetpaint</td>\n",
       "      <td>2.0</td>\n",
       "      <td>47.603122</td>\n",
       "      <td>-122.333253</td>\n",
       "      <td>{'type': 'Point', 'coordinates': [-122.333253,...</td>\n",
       "    </tr>\n",
       "    <tr>\n",
       "      <th>1</th>\n",
       "      <td>AdventNet</td>\n",
       "      <td>1.0</td>\n",
       "      <td>37.692934</td>\n",
       "      <td>-121.904945</td>\n",
       "      <td>{'type': 'Point', 'coordinates': [-121.904945,...</td>\n",
       "    </tr>\n",
       "    <tr>\n",
       "      <th>2</th>\n",
       "      <td>Zoho</td>\n",
       "      <td>1.0</td>\n",
       "      <td>37.692934</td>\n",
       "      <td>-121.904945</td>\n",
       "      <td>{'type': 'Point', 'coordinates': [-121.904945,...</td>\n",
       "    </tr>\n",
       "    <tr>\n",
       "      <th>3</th>\n",
       "      <td>Digg</td>\n",
       "      <td>1.0</td>\n",
       "      <td>37.764726</td>\n",
       "      <td>-122.394523</td>\n",
       "      <td>{'type': 'Point', 'coordinates': [-122.394523,...</td>\n",
       "    </tr>\n",
       "    <tr>\n",
       "      <th>4</th>\n",
       "      <td>Facebook</td>\n",
       "      <td>3.0</td>\n",
       "      <td>37.416050</td>\n",
       "      <td>-122.151801</td>\n",
       "      <td>{'type': 'Point', 'coordinates': [-122.151801,...</td>\n",
       "    </tr>\n",
       "  </tbody>\n",
       "</table>\n",
       "</div>"
      ],
      "text/plain": [
       "        name  total_offices        lat         lng  \\\n",
       "0   Wetpaint            2.0  47.603122 -122.333253   \n",
       "1  AdventNet            1.0  37.692934 -121.904945   \n",
       "2       Zoho            1.0  37.692934 -121.904945   \n",
       "3       Digg            1.0  37.764726 -122.394523   \n",
       "4   Facebook            3.0  37.416050 -122.151801   \n",
       "\n",
       "                                           principal  \n",
       "0  {'type': 'Point', 'coordinates': [-122.333253,...  \n",
       "1  {'type': 'Point', 'coordinates': [-121.904945,...  \n",
       "2  {'type': 'Point', 'coordinates': [-121.904945,...  \n",
       "3  {'type': 'Point', 'coordinates': [-122.394523,...  \n",
       "4  {'type': 'Point', 'coordinates': [-122.151801,...  "
      ]
     },
     "execution_count": 80,
     "metadata": {},
     "output_type": "execute_result"
    }
   ],
   "source": [
    "first_office=first_office.dropna()\n",
    "\n",
    "df=pd.concat([df, first_office], axis=1).drop('offices', axis=1)\n",
    "\n",
    "df=df.dropna()\n",
    "\n",
    "df.head()"
   ]
  },
  {
   "cell_type": "code",
   "execution_count": 81,
   "id": "79428353",
   "metadata": {},
   "outputs": [],
   "source": [
    "#df.to_json('../data/oficinas.json')"
   ]
  },
  {
   "cell_type": "code",
   "execution_count": 82,
   "id": "479d9e52",
   "metadata": {},
   "outputs": [
    {
     "data": {
      "text/plain": [
       "<pymongo.results.InsertManyResult at 0x17fb7cd90>"
      ]
     },
     "execution_count": 82,
     "metadata": {},
     "output_type": "execute_result"
    }
   ],
   "source": [
    "db.first_office.insert_many(df.to_dict('records'))  # de pandas pa mongo"
   ]
  },
  {
   "cell_type": "code",
   "execution_count": 83,
   "id": "06e2a013",
   "metadata": {},
   "outputs": [
    {
     "data": {
      "text/plain": [
       "'principal_2dsphere'"
      ]
     },
     "execution_count": 83,
     "metadata": {},
     "output_type": "execute_result"
    }
   ],
   "source": [
    "db.first_office.create_index([('principal', '2dsphere')]) # ahora mongo entiende esto como dato geoespacial"
   ]
  },
  {
   "cell_type": "code",
   "execution_count": 88,
   "id": "7908dfad",
   "metadata": {},
   "outputs": [],
   "source": [
    "# encuentra los elementos dentro de cierto radio, geoquery\n",
    "\n",
    "\n",
    "def find_near(array, radio=1000):\n",
    "    \n",
    "    return db.first_office.find({'principal': {\n",
    "                                                '$near': {'$geometry': {'type': 'Point', \n",
    "                                                                        'coordinates': array},\n",
    "                                                          '$maxDistance': radio}\n",
    "    \n",
    "                                }})"
   ]
  },
  {
   "cell_type": "code",
   "execution_count": 91,
   "id": "958eb501",
   "metadata": {},
   "outputs": [
    {
     "data": {
      "text/html": [
       "<div>\n",
       "<style scoped>\n",
       "    .dataframe tbody tr th:only-of-type {\n",
       "        vertical-align: middle;\n",
       "    }\n",
       "\n",
       "    .dataframe tbody tr th {\n",
       "        vertical-align: top;\n",
       "    }\n",
       "\n",
       "    .dataframe thead th {\n",
       "        text-align: right;\n",
       "    }\n",
       "</style>\n",
       "<table border=\"1\" class=\"dataframe\">\n",
       "  <thead>\n",
       "    <tr style=\"text-align: right;\">\n",
       "      <th></th>\n",
       "      <th>_id</th>\n",
       "      <th>name</th>\n",
       "      <th>total_offices</th>\n",
       "      <th>lat</th>\n",
       "      <th>lng</th>\n",
       "      <th>principal</th>\n",
       "    </tr>\n",
       "  </thead>\n",
       "  <tbody>\n",
       "    <tr>\n",
       "      <th>0</th>\n",
       "      <td>63074876edeca3d4b5aef29a</td>\n",
       "      <td>SpaBooker</td>\n",
       "      <td>1.0</td>\n",
       "      <td>40.738567</td>\n",
       "      <td>-73.987199</td>\n",
       "      <td>{'type': 'Point', 'coordinates': [-73.987199, ...</td>\n",
       "    </tr>\n",
       "    <tr>\n",
       "      <th>1</th>\n",
       "      <td>63074876edeca3d4b5aee072</td>\n",
       "      <td>HealthiNation</td>\n",
       "      <td>1.0</td>\n",
       "      <td>40.739341</td>\n",
       "      <td>-73.988357</td>\n",
       "      <td>{'type': 'Point', 'coordinates': [-73.988357, ...</td>\n",
       "    </tr>\n",
       "    <tr>\n",
       "      <th>2</th>\n",
       "      <td>63074876edeca3d4b5aedc5a</td>\n",
       "      <td>Special Ops Media</td>\n",
       "      <td>1.0</td>\n",
       "      <td>40.737721</td>\n",
       "      <td>-73.987725</td>\n",
       "      <td>{'type': 'Point', 'coordinates': [-73.987725, ...</td>\n",
       "    </tr>\n",
       "    <tr>\n",
       "      <th>3</th>\n",
       "      <td>63074876edeca3d4b5aef8ec</td>\n",
       "      <td>Mashable</td>\n",
       "      <td>1.0</td>\n",
       "      <td>40.740154</td>\n",
       "      <td>-73.986742</td>\n",
       "      <td>{'type': 'Point', 'coordinates': [-73.9867417,...</td>\n",
       "    </tr>\n",
       "    <tr>\n",
       "      <th>4</th>\n",
       "      <td>63074876edeca3d4b5aee9f1</td>\n",
       "      <td>Return Path</td>\n",
       "      <td>1.0</td>\n",
       "      <td>40.740207</td>\n",
       "      <td>-73.987002</td>\n",
       "      <td>{'type': 'Point', 'coordinates': [-73.987002, ...</td>\n",
       "    </tr>\n",
       "  </tbody>\n",
       "</table>\n",
       "</div>"
      ],
      "text/plain": [
       "                        _id               name  total_offices        lat  \\\n",
       "0  63074876edeca3d4b5aef29a          SpaBooker            1.0  40.738567   \n",
       "1  63074876edeca3d4b5aee072      HealthiNation            1.0  40.739341   \n",
       "2  63074876edeca3d4b5aedc5a  Special Ops Media            1.0  40.737721   \n",
       "3  63074876edeca3d4b5aef8ec           Mashable            1.0  40.740154   \n",
       "4  63074876edeca3d4b5aee9f1        Return Path            1.0  40.740207   \n",
       "\n",
       "         lng                                          principal  \n",
       "0 -73.987199  {'type': 'Point', 'coordinates': [-73.987199, ...  \n",
       "1 -73.988357  {'type': 'Point', 'coordinates': [-73.988357, ...  \n",
       "2 -73.987725  {'type': 'Point', 'coordinates': [-73.987725, ...  \n",
       "3 -73.986742  {'type': 'Point', 'coordinates': [-73.9867417,...  \n",
       "4 -73.987002  {'type': 'Point', 'coordinates': [-73.987002, ...  "
      ]
     },
     "execution_count": 91,
     "metadata": {},
     "output_type": "execute_result"
    }
   ],
   "source": [
    "park_avenue=[-73.987308, 40.738935] \n",
    "\n",
    "radio=1000\n",
    "\n",
    "\n",
    "n_ofi=find_near(park_avenue, radio)\n",
    "\n",
    "\n",
    "pd.DataFrame(n_ofi).head()"
   ]
  },
  {
   "cell_type": "code",
   "execution_count": null,
   "id": "0f5f4495",
   "metadata": {},
   "outputs": [],
   "source": []
  }
 ],
 "metadata": {
  "kernelspec": {
   "display_name": "clase",
   "language": "python",
   "name": "clase"
  },
  "language_info": {
   "codemirror_mode": {
    "name": "ipython",
    "version": 3
   },
   "file_extension": ".py",
   "mimetype": "text/x-python",
   "name": "python",
   "nbconvert_exporter": "python",
   "pygments_lexer": "ipython3",
   "version": "3.9.7"
  },
  "varInspector": {
   "cols": {
    "lenName": 16,
    "lenType": 16,
    "lenVar": 40
   },
   "kernels_config": {
    "python": {
     "delete_cmd_postfix": "",
     "delete_cmd_prefix": "del ",
     "library": "var_list.py",
     "varRefreshCmd": "print(var_dic_list())"
    },
    "r": {
     "delete_cmd_postfix": ") ",
     "delete_cmd_prefix": "rm(",
     "library": "var_list.r",
     "varRefreshCmd": "cat(var_dic_list()) "
    }
   },
   "types_to_exclude": [
    "module",
    "function",
    "builtin_function_or_method",
    "instance",
    "_Feature"
   ],
   "window_display": false
  }
 },
 "nbformat": 4,
 "nbformat_minor": 5
}
