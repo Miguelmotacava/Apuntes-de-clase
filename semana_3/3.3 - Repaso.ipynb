{
 "cells": [
  {
   "cell_type": "markdown",
   "id": "92e6d3b8",
   "metadata": {},
   "source": [
    "### 1) map/filter/reduce"
   ]
  },
  {
   "cell_type": "code",
   "execution_count": 1,
   "id": "d6afb595",
   "metadata": {},
   "outputs": [
    {
     "data": {
      "text/plain": [
       "[0, 1, 2, 3, 4, 5, 6, 7, 8, 9]"
      ]
     },
     "execution_count": 1,
     "metadata": {},
     "output_type": "execute_result"
    }
   ],
   "source": [
    "# map - mathematical aplication\n",
    "\n",
    "\n",
    "lst=[i for i in range(5000)]\n",
    "\n",
    "lst[:10]"
   ]
  },
  {
   "cell_type": "code",
   "execution_count": 2,
   "id": "449f5c95",
   "metadata": {},
   "outputs": [
    {
     "name": "stdout",
     "output_type": "stream",
     "text": [
      "CPU times: user 926 µs, sys: 84 µs, total: 1.01 ms\n",
      "Wall time: 1.01 ms\n"
     ]
    },
    {
     "data": {
      "text/plain": [
       "[5, 6, 7, 8, 9, 10, 11, 12, 13, 14]"
      ]
     },
     "execution_count": 2,
     "metadata": {},
     "output_type": "execute_result"
    }
   ],
   "source": [
    "%%time\n",
    "\n",
    "lst2=[]\n",
    "\n",
    "for e in lst:\n",
    "    lst2.append(e+5)\n",
    "    \n",
    "lst2[:10]"
   ]
  },
  {
   "cell_type": "code",
   "execution_count": 3,
   "id": "1d7b0938",
   "metadata": {},
   "outputs": [],
   "source": [
    "def suma_5(x):\n",
    "    return x+5"
   ]
  },
  {
   "cell_type": "code",
   "execution_count": 5,
   "id": "10da0338",
   "metadata": {},
   "outputs": [
    {
     "data": {
      "text/plain": [
       "[5, 6, 7, 8, 9, 10, 11, 12, 13, 14]"
      ]
     },
     "execution_count": 5,
     "metadata": {},
     "output_type": "execute_result"
    }
   ],
   "source": [
    "list(map(suma_5, lst))[:10]"
   ]
  },
  {
   "cell_type": "code",
   "execution_count": 6,
   "id": "d7ddc835",
   "metadata": {},
   "outputs": [
    {
     "name": "stdout",
     "output_type": "stream",
     "text": [
      "CPU times: user 5 µs, sys: 1 µs, total: 6 µs\n",
      "Wall time: 9.06 µs\n"
     ]
    },
    {
     "data": {
      "text/plain": [
       "<map at 0x1062bbbe0>"
      ]
     },
     "execution_count": 6,
     "metadata": {},
     "output_type": "execute_result"
    }
   ],
   "source": [
    "%%time\n",
    "\n",
    "map(suma_5, lst)"
   ]
  },
  {
   "cell_type": "code",
   "execution_count": 7,
   "id": "7ac8e318",
   "metadata": {},
   "outputs": [
    {
     "data": {
      "text/html": [
       "<div>\n",
       "<style scoped>\n",
       "    .dataframe tbody tr th:only-of-type {\n",
       "        vertical-align: middle;\n",
       "    }\n",
       "\n",
       "    .dataframe tbody tr th {\n",
       "        vertical-align: top;\n",
       "    }\n",
       "\n",
       "    .dataframe thead th {\n",
       "        text-align: right;\n",
       "    }\n",
       "</style>\n",
       "<table border=\"1\" class=\"dataframe\">\n",
       "  <thead>\n",
       "    <tr style=\"text-align: right;\">\n",
       "      <th></th>\n",
       "      <th>id</th>\n",
       "      <th>track_name</th>\n",
       "      <th>size_bytes</th>\n",
       "      <th>price</th>\n",
       "      <th>rating_count_tot</th>\n",
       "      <th>rating_count_ver</th>\n",
       "      <th>user_rating</th>\n",
       "      <th>user_rating_ver</th>\n",
       "      <th>prime_genre</th>\n",
       "    </tr>\n",
       "  </thead>\n",
       "  <tbody>\n",
       "    <tr>\n",
       "      <th>0</th>\n",
       "      <td>281656475</td>\n",
       "      <td>PAC-MAN Premium</td>\n",
       "      <td>100788224</td>\n",
       "      <td>3.99</td>\n",
       "      <td>21292</td>\n",
       "      <td>26</td>\n",
       "      <td>4.0</td>\n",
       "      <td>4.5</td>\n",
       "      <td>Games</td>\n",
       "    </tr>\n",
       "    <tr>\n",
       "      <th>1</th>\n",
       "      <td>281796108</td>\n",
       "      <td>Evernote - stay organized</td>\n",
       "      <td>158578688</td>\n",
       "      <td>0.00</td>\n",
       "      <td>161065</td>\n",
       "      <td>26</td>\n",
       "      <td>4.0</td>\n",
       "      <td>3.5</td>\n",
       "      <td>Productivity</td>\n",
       "    </tr>\n",
       "    <tr>\n",
       "      <th>2</th>\n",
       "      <td>281940292</td>\n",
       "      <td>WeatherBug - Local Weather, Radar, Maps, Alerts</td>\n",
       "      <td>100524032</td>\n",
       "      <td>0.00</td>\n",
       "      <td>188583</td>\n",
       "      <td>2822</td>\n",
       "      <td>3.5</td>\n",
       "      <td>4.5</td>\n",
       "      <td>Weather</td>\n",
       "    </tr>\n",
       "    <tr>\n",
       "      <th>3</th>\n",
       "      <td>282614216</td>\n",
       "      <td>eBay: Best App to Buy, Sell, Save! Online Shop...</td>\n",
       "      <td>128512000</td>\n",
       "      <td>0.00</td>\n",
       "      <td>262241</td>\n",
       "      <td>649</td>\n",
       "      <td>4.0</td>\n",
       "      <td>4.5</td>\n",
       "      <td>Shopping</td>\n",
       "    </tr>\n",
       "    <tr>\n",
       "      <th>4</th>\n",
       "      <td>282935706</td>\n",
       "      <td>Bible</td>\n",
       "      <td>92774400</td>\n",
       "      <td>0.00</td>\n",
       "      <td>985920</td>\n",
       "      <td>5320</td>\n",
       "      <td>4.5</td>\n",
       "      <td>5.0</td>\n",
       "      <td>Reference</td>\n",
       "    </tr>\n",
       "  </tbody>\n",
       "</table>\n",
       "</div>"
      ],
      "text/plain": [
       "          id                                         track_name  size_bytes  \\\n",
       "0  281656475                                    PAC-MAN Premium   100788224   \n",
       "1  281796108                          Evernote - stay organized   158578688   \n",
       "2  281940292    WeatherBug - Local Weather, Radar, Maps, Alerts   100524032   \n",
       "3  282614216  eBay: Best App to Buy, Sell, Save! Online Shop...   128512000   \n",
       "4  282935706                                              Bible    92774400   \n",
       "\n",
       "   price  rating_count_tot  rating_count_ver  user_rating  user_rating_ver  \\\n",
       "0   3.99             21292                26          4.0              4.5   \n",
       "1   0.00            161065                26          4.0              3.5   \n",
       "2   0.00            188583              2822          3.5              4.5   \n",
       "3   0.00            262241               649          4.0              4.5   \n",
       "4   0.00            985920              5320          4.5              5.0   \n",
       "\n",
       "    prime_genre  \n",
       "0         Games  \n",
       "1  Productivity  \n",
       "2       Weather  \n",
       "3      Shopping  \n",
       "4     Reference  "
      ]
     },
     "execution_count": 7,
     "metadata": {},
     "output_type": "execute_result"
    }
   ],
   "source": [
    "import pandas as pd\n",
    "\n",
    "df=pd.read_csv('../data/apple_store.csv')\n",
    "\n",
    "df.head()"
   ]
  },
  {
   "cell_type": "code",
   "execution_count": 13,
   "id": "32806330",
   "metadata": {},
   "outputs": [
    {
     "name": "stdout",
     "output_type": "stream",
     "text": [
      "CPU times: user 743 µs, sys: 75 µs, total: 818 µs\n",
      "Wall time: 805 µs\n"
     ]
    },
    {
     "data": {
      "text/html": [
       "<div>\n",
       "<style scoped>\n",
       "    .dataframe tbody tr th:only-of-type {\n",
       "        vertical-align: middle;\n",
       "    }\n",
       "\n",
       "    .dataframe tbody tr th {\n",
       "        vertical-align: top;\n",
       "    }\n",
       "\n",
       "    .dataframe thead th {\n",
       "        text-align: right;\n",
       "    }\n",
       "</style>\n",
       "<table border=\"1\" class=\"dataframe\">\n",
       "  <thead>\n",
       "    <tr style=\"text-align: right;\">\n",
       "      <th></th>\n",
       "      <th>id</th>\n",
       "      <th>track_name</th>\n",
       "      <th>size_bytes</th>\n",
       "      <th>price</th>\n",
       "      <th>rating_count_tot</th>\n",
       "      <th>rating_count_ver</th>\n",
       "      <th>user_rating</th>\n",
       "      <th>user_rating_ver</th>\n",
       "      <th>prime_genre</th>\n",
       "    </tr>\n",
       "  </thead>\n",
       "  <tbody>\n",
       "    <tr>\n",
       "      <th>0</th>\n",
       "      <td>281656475</td>\n",
       "      <td>PAC-MAN Premium</td>\n",
       "      <td>100788224</td>\n",
       "      <td>23.99</td>\n",
       "      <td>21292</td>\n",
       "      <td>26</td>\n",
       "      <td>4.0</td>\n",
       "      <td>4.5</td>\n",
       "      <td>Games</td>\n",
       "    </tr>\n",
       "    <tr>\n",
       "      <th>1</th>\n",
       "      <td>281796108</td>\n",
       "      <td>Evernote - stay organized</td>\n",
       "      <td>158578688</td>\n",
       "      <td>20.00</td>\n",
       "      <td>161065</td>\n",
       "      <td>26</td>\n",
       "      <td>4.0</td>\n",
       "      <td>3.5</td>\n",
       "      <td>Productivity</td>\n",
       "    </tr>\n",
       "    <tr>\n",
       "      <th>2</th>\n",
       "      <td>281940292</td>\n",
       "      <td>WeatherBug - Local Weather, Radar, Maps, Alerts</td>\n",
       "      <td>100524032</td>\n",
       "      <td>20.00</td>\n",
       "      <td>188583</td>\n",
       "      <td>2822</td>\n",
       "      <td>3.5</td>\n",
       "      <td>4.5</td>\n",
       "      <td>Weather</td>\n",
       "    </tr>\n",
       "    <tr>\n",
       "      <th>3</th>\n",
       "      <td>282614216</td>\n",
       "      <td>eBay: Best App to Buy, Sell, Save! Online Shop...</td>\n",
       "      <td>128512000</td>\n",
       "      <td>20.00</td>\n",
       "      <td>262241</td>\n",
       "      <td>649</td>\n",
       "      <td>4.0</td>\n",
       "      <td>4.5</td>\n",
       "      <td>Shopping</td>\n",
       "    </tr>\n",
       "    <tr>\n",
       "      <th>4</th>\n",
       "      <td>282935706</td>\n",
       "      <td>Bible</td>\n",
       "      <td>92774400</td>\n",
       "      <td>20.00</td>\n",
       "      <td>985920</td>\n",
       "      <td>5320</td>\n",
       "      <td>4.5</td>\n",
       "      <td>5.0</td>\n",
       "      <td>Reference</td>\n",
       "    </tr>\n",
       "  </tbody>\n",
       "</table>\n",
       "</div>"
      ],
      "text/plain": [
       "          id                                         track_name  size_bytes  \\\n",
       "0  281656475                                    PAC-MAN Premium   100788224   \n",
       "1  281796108                          Evernote - stay organized   158578688   \n",
       "2  281940292    WeatherBug - Local Weather, Radar, Maps, Alerts   100524032   \n",
       "3  282614216  eBay: Best App to Buy, Sell, Save! Online Shop...   128512000   \n",
       "4  282935706                                              Bible    92774400   \n",
       "\n",
       "   price  rating_count_tot  rating_count_ver  user_rating  user_rating_ver  \\\n",
       "0  23.99             21292                26          4.0              4.5   \n",
       "1  20.00            161065                26          4.0              3.5   \n",
       "2  20.00            188583              2822          3.5              4.5   \n",
       "3  20.00            262241               649          4.0              4.5   \n",
       "4  20.00            985920              5320          4.5              5.0   \n",
       "\n",
       "    prime_genre  \n",
       "0         Games  \n",
       "1  Productivity  \n",
       "2       Weather  \n",
       "3      Shopping  \n",
       "4     Reference  "
      ]
     },
     "execution_count": 13,
     "metadata": {},
     "output_type": "execute_result"
    }
   ],
   "source": [
    "%%time\n",
    "\n",
    "df.price=df.price+5\n",
    "\n",
    "df.head()"
   ]
  },
  {
   "cell_type": "code",
   "execution_count": 14,
   "id": "65f45977",
   "metadata": {},
   "outputs": [
    {
     "name": "stdout",
     "output_type": "stream",
     "text": [
      "CPU times: user 2.96 ms, sys: 116 µs, total: 3.07 ms\n",
      "Wall time: 3.04 ms\n"
     ]
    },
    {
     "data": {
      "text/html": [
       "<div>\n",
       "<style scoped>\n",
       "    .dataframe tbody tr th:only-of-type {\n",
       "        vertical-align: middle;\n",
       "    }\n",
       "\n",
       "    .dataframe tbody tr th {\n",
       "        vertical-align: top;\n",
       "    }\n",
       "\n",
       "    .dataframe thead th {\n",
       "        text-align: right;\n",
       "    }\n",
       "</style>\n",
       "<table border=\"1\" class=\"dataframe\">\n",
       "  <thead>\n",
       "    <tr style=\"text-align: right;\">\n",
       "      <th></th>\n",
       "      <th>id</th>\n",
       "      <th>track_name</th>\n",
       "      <th>size_bytes</th>\n",
       "      <th>price</th>\n",
       "      <th>rating_count_tot</th>\n",
       "      <th>rating_count_ver</th>\n",
       "      <th>user_rating</th>\n",
       "      <th>user_rating_ver</th>\n",
       "      <th>prime_genre</th>\n",
       "    </tr>\n",
       "  </thead>\n",
       "  <tbody>\n",
       "    <tr>\n",
       "      <th>0</th>\n",
       "      <td>281656475</td>\n",
       "      <td>PAC-MAN Premium</td>\n",
       "      <td>100788224</td>\n",
       "      <td>28.99</td>\n",
       "      <td>21292</td>\n",
       "      <td>26</td>\n",
       "      <td>4.0</td>\n",
       "      <td>4.5</td>\n",
       "      <td>Games</td>\n",
       "    </tr>\n",
       "    <tr>\n",
       "      <th>1</th>\n",
       "      <td>281796108</td>\n",
       "      <td>Evernote - stay organized</td>\n",
       "      <td>158578688</td>\n",
       "      <td>25.00</td>\n",
       "      <td>161065</td>\n",
       "      <td>26</td>\n",
       "      <td>4.0</td>\n",
       "      <td>3.5</td>\n",
       "      <td>Productivity</td>\n",
       "    </tr>\n",
       "    <tr>\n",
       "      <th>2</th>\n",
       "      <td>281940292</td>\n",
       "      <td>WeatherBug - Local Weather, Radar, Maps, Alerts</td>\n",
       "      <td>100524032</td>\n",
       "      <td>25.00</td>\n",
       "      <td>188583</td>\n",
       "      <td>2822</td>\n",
       "      <td>3.5</td>\n",
       "      <td>4.5</td>\n",
       "      <td>Weather</td>\n",
       "    </tr>\n",
       "    <tr>\n",
       "      <th>3</th>\n",
       "      <td>282614216</td>\n",
       "      <td>eBay: Best App to Buy, Sell, Save! Online Shop...</td>\n",
       "      <td>128512000</td>\n",
       "      <td>25.00</td>\n",
       "      <td>262241</td>\n",
       "      <td>649</td>\n",
       "      <td>4.0</td>\n",
       "      <td>4.5</td>\n",
       "      <td>Shopping</td>\n",
       "    </tr>\n",
       "    <tr>\n",
       "      <th>4</th>\n",
       "      <td>282935706</td>\n",
       "      <td>Bible</td>\n",
       "      <td>92774400</td>\n",
       "      <td>25.00</td>\n",
       "      <td>985920</td>\n",
       "      <td>5320</td>\n",
       "      <td>4.5</td>\n",
       "      <td>5.0</td>\n",
       "      <td>Reference</td>\n",
       "    </tr>\n",
       "  </tbody>\n",
       "</table>\n",
       "</div>"
      ],
      "text/plain": [
       "          id                                         track_name  size_bytes  \\\n",
       "0  281656475                                    PAC-MAN Premium   100788224   \n",
       "1  281796108                          Evernote - stay organized   158578688   \n",
       "2  281940292    WeatherBug - Local Weather, Radar, Maps, Alerts   100524032   \n",
       "3  282614216  eBay: Best App to Buy, Sell, Save! Online Shop...   128512000   \n",
       "4  282935706                                              Bible    92774400   \n",
       "\n",
       "   price  rating_count_tot  rating_count_ver  user_rating  user_rating_ver  \\\n",
       "0  28.99             21292                26          4.0              4.5   \n",
       "1  25.00            161065                26          4.0              3.5   \n",
       "2  25.00            188583              2822          3.5              4.5   \n",
       "3  25.00            262241               649          4.0              4.5   \n",
       "4  25.00            985920              5320          4.5              5.0   \n",
       "\n",
       "    prime_genre  \n",
       "0         Games  \n",
       "1  Productivity  \n",
       "2       Weather  \n",
       "3      Shopping  \n",
       "4     Reference  "
      ]
     },
     "execution_count": 14,
     "metadata": {},
     "output_type": "execute_result"
    }
   ],
   "source": [
    "%%time\n",
    "\n",
    "df.price=df.price.apply(suma_5)   # apply es el map de pandas\n",
    "\n",
    "df.head()"
   ]
  },
  {
   "cell_type": "code",
   "execution_count": 16,
   "id": "792c9270",
   "metadata": {},
   "outputs": [
    {
     "data": {
      "text/plain": [
       "['1,2', '3,4']"
      ]
     },
     "execution_count": 16,
     "metadata": {},
     "output_type": "execute_result"
    }
   ],
   "source": [
    "lst=[['1', '2'], ['3', '4']]\n",
    "\n",
    "def cambia(x):\n",
    "    return ','.join(x)\n",
    "\n",
    "\n",
    "list(map(cambia, lst))"
   ]
  },
  {
   "cell_type": "code",
   "execution_count": 17,
   "id": "df91b959",
   "metadata": {},
   "outputs": [],
   "source": [
    "### filter"
   ]
  },
  {
   "cell_type": "code",
   "execution_count": 20,
   "id": "8496e1b8",
   "metadata": {},
   "outputs": [],
   "source": [
    "def busca(n):\n",
    "    \n",
    "    if n%3==0:\n",
    "        return True\n",
    "    else:\n",
    "        return False"
   ]
  },
  {
   "cell_type": "code",
   "execution_count": 21,
   "id": "219af97f",
   "metadata": {},
   "outputs": [
    {
     "data": {
      "text/plain": [
       "<filter at 0x12d7764c0>"
      ]
     },
     "execution_count": 21,
     "metadata": {},
     "output_type": "execute_result"
    }
   ],
   "source": [
    "filter(busca, lst2)"
   ]
  },
  {
   "cell_type": "code",
   "execution_count": 22,
   "id": "e0ae7226",
   "metadata": {},
   "outputs": [
    {
     "data": {
      "text/plain": [
       "[6, 9, 12, 15, 18, 21, 24, 27, 30, 33]"
      ]
     },
     "execution_count": 22,
     "metadata": {},
     "output_type": "execute_result"
    }
   ],
   "source": [
    "list(filter(busca, lst2))[:10]"
   ]
  },
  {
   "cell_type": "code",
   "execution_count": 24,
   "id": "938f99fa",
   "metadata": {},
   "outputs": [
    {
     "name": "stdout",
     "output_type": "stream",
     "text": [
      "CPU times: user 749 µs, sys: 0 ns, total: 749 µs\n",
      "Wall time: 754 µs\n"
     ]
    },
    {
     "data": {
      "text/plain": [
       "[6, 9, 12, 15, 18, 21, 24, 27, 30, 33]"
      ]
     },
     "execution_count": 24,
     "metadata": {},
     "output_type": "execute_result"
    }
   ],
   "source": [
    "%%time\n",
    "\n",
    "lst=[]\n",
    "\n",
    "\n",
    "for e in lst2:\n",
    "    if e%3==0:\n",
    "        lst.append(e)\n",
    "    else:\n",
    "        continue\n",
    "        \n",
    "lst[:10]"
   ]
  },
  {
   "cell_type": "code",
   "execution_count": 25,
   "id": "9d1f45d8",
   "metadata": {},
   "outputs": [
    {
     "name": "stdout",
     "output_type": "stream",
     "text": [
      "CPU times: user 4 µs, sys: 1e+03 ns, total: 5 µs\n",
      "Wall time: 8.34 µs\n"
     ]
    },
    {
     "data": {
      "text/plain": [
       "<filter at 0x12d9995e0>"
      ]
     },
     "execution_count": 25,
     "metadata": {},
     "output_type": "execute_result"
    }
   ],
   "source": [
    "%%time\n",
    "\n",
    "filter(busca, lst2)"
   ]
  },
  {
   "cell_type": "code",
   "execution_count": 26,
   "id": "124eca30",
   "metadata": {},
   "outputs": [],
   "source": [
    "### reduce\n",
    "\n",
    "from functools import reduce"
   ]
  },
  {
   "cell_type": "code",
   "execution_count": 41,
   "id": "33d824a7",
   "metadata": {},
   "outputs": [],
   "source": [
    "def sumar(a, b):\n",
    "    return a+b"
   ]
  },
  {
   "cell_type": "code",
   "execution_count": 42,
   "id": "4ea020a7",
   "metadata": {},
   "outputs": [
    {
     "data": {
      "text/plain": [
       "95"
      ]
     },
     "execution_count": 42,
     "metadata": {},
     "output_type": "execute_result"
    }
   ],
   "source": [
    "reduce(sumar, lst2[:10])"
   ]
  },
  {
   "cell_type": "code",
   "execution_count": 43,
   "id": "a65d7f18",
   "metadata": {},
   "outputs": [
    {
     "data": {
      "text/plain": [
       "[5, 6, 7, 8, 9, 10, 11, 12, 13, 14]"
      ]
     },
     "execution_count": 43,
     "metadata": {},
     "output_type": "execute_result"
    }
   ],
   "source": [
    "lst2[:10]"
   ]
  },
  {
   "cell_type": "code",
   "execution_count": 44,
   "id": "3df9bca9",
   "metadata": {},
   "outputs": [
    {
     "data": {
      "text/plain": [
       "95"
      ]
     },
     "execution_count": 44,
     "metadata": {},
     "output_type": "execute_result"
    }
   ],
   "source": [
    "sum(lst2[:10])"
   ]
  },
  {
   "cell_type": "code",
   "execution_count": 46,
   "id": "89d7017b",
   "metadata": {},
   "outputs": [],
   "source": [
    "def prod(a, b):\n",
    "    return a*b"
   ]
  },
  {
   "cell_type": "code",
   "execution_count": 47,
   "id": "8a2a0f80",
   "metadata": {},
   "outputs": [
    {
     "data": {
      "text/plain": [
       "3632428800"
      ]
     },
     "execution_count": 47,
     "metadata": {},
     "output_type": "execute_result"
    }
   ],
   "source": [
    "reduce(prod, lst2[:10])   # productorio"
   ]
  },
  {
   "cell_type": "code",
   "execution_count": 51,
   "id": "a01f14ed",
   "metadata": {},
   "outputs": [
    {
     "data": {
      "text/plain": [
       "6"
      ]
     },
     "execution_count": 51,
     "metadata": {},
     "output_type": "execute_result"
    }
   ],
   "source": [
    "reduce(prod, [i+1 for i in range(3)])  # factorial"
   ]
  },
  {
   "cell_type": "markdown",
   "id": "dbc0eb3c",
   "metadata": {},
   "source": [
    "### 2) value counts"
   ]
  },
  {
   "cell_type": "code",
   "execution_count": 55,
   "id": "ba943e6a",
   "metadata": {},
   "outputs": [
    {
     "data": {
      "text/plain": [
       "VR Roller Coaster                                   0.027789\n",
       "Mannequin Challenge                                 0.027789\n",
       "PAC-MAN Premium                                     0.013895\n",
       "European Qualifiers Official App                    0.013895\n",
       "Tooth Fairy Princess - Magical Adventure            0.013895\n",
       "                                                      ...   \n",
       "Heart of Vegas Slots – Casino Slot Machine Games    0.013895\n",
       "赤ペン 提出カメラ                                           0.013895\n",
       "J&J Official 7 Minute Workout                       0.013895\n",
       "Beautiful Japanese Handwriting                      0.013895\n",
       "Escape the Sweet Shop Series                        0.013895\n",
       "Name: track_name, Length: 7195, dtype: float64"
      ]
     },
     "execution_count": 55,
     "metadata": {},
     "output_type": "execute_result"
    }
   ],
   "source": [
    "df.track_name.value_counts(normalize=True)*100"
   ]
  },
  {
   "cell_type": "markdown",
   "id": "470a0b65",
   "metadata": {},
   "source": [
    "### 3) funcion anonima - lambda"
   ]
  },
  {
   "cell_type": "code",
   "execution_count": 56,
   "id": "89022e95",
   "metadata": {},
   "outputs": [],
   "source": [
    "def suma(n):\n",
    "    return n+2"
   ]
  },
  {
   "cell_type": "code",
   "execution_count": 60,
   "id": "40fa1e32",
   "metadata": {},
   "outputs": [
    {
     "data": {
      "text/plain": [
       "<function __main__.suma(n)>"
      ]
     },
     "execution_count": 60,
     "metadata": {},
     "output_type": "execute_result"
    }
   ],
   "source": [
    "suma"
   ]
  },
  {
   "cell_type": "code",
   "execution_count": 57,
   "id": "dad3d986",
   "metadata": {},
   "outputs": [
    {
     "data": {
      "text/plain": [
       "10"
      ]
     },
     "execution_count": 57,
     "metadata": {},
     "output_type": "execute_result"
    }
   ],
   "source": [
    "suma(8)"
   ]
  },
  {
   "cell_type": "code",
   "execution_count": 58,
   "id": "4ca59bfe",
   "metadata": {},
   "outputs": [
    {
     "data": {
      "text/plain": [
       "<function __main__.<lambda>(x)>"
      ]
     },
     "execution_count": 58,
     "metadata": {},
     "output_type": "execute_result"
    }
   ],
   "source": [
    "lambda x: x+2"
   ]
  },
  {
   "cell_type": "code",
   "execution_count": 59,
   "id": "34119a51",
   "metadata": {},
   "outputs": [
    {
     "data": {
      "text/plain": [
       "10"
      ]
     },
     "execution_count": 59,
     "metadata": {},
     "output_type": "execute_result"
    }
   ],
   "source": [
    "(lambda x: x+2)(8)"
   ]
  },
  {
   "cell_type": "code",
   "execution_count": 61,
   "id": "edf21426",
   "metadata": {},
   "outputs": [],
   "source": [
    "suma_=lambda x: x+2"
   ]
  },
  {
   "cell_type": "code",
   "execution_count": 62,
   "id": "771d0b0e",
   "metadata": {},
   "outputs": [
    {
     "data": {
      "text/plain": [
       "9"
      ]
     },
     "execution_count": 62,
     "metadata": {},
     "output_type": "execute_result"
    }
   ],
   "source": [
    "suma_(7)"
   ]
  },
  {
   "cell_type": "code",
   "execution_count": 67,
   "id": "3db36196",
   "metadata": {},
   "outputs": [
    {
     "data": {
      "text/plain": [
       "0    33.99\n",
       "1    30.00\n",
       "2    30.00\n",
       "3    30.00\n",
       "4    30.00\n",
       "Name: price, dtype: float64"
      ]
     },
     "execution_count": 67,
     "metadata": {},
     "output_type": "execute_result"
    }
   ],
   "source": [
    "df.price.apply(lambda x: x+5).head()"
   ]
  },
  {
   "cell_type": "code",
   "execution_count": 76,
   "id": "e652721c",
   "metadata": {},
   "outputs": [
    {
     "data": {
      "text/plain": [
       "{'Games': 0,\n",
       " 'Productivity': 1,\n",
       " 'Weather': 2,\n",
       " 'Shopping': 3,\n",
       " 'Reference': 4,\n",
       " 'Finance': 5,\n",
       " 'Music': 6,\n",
       " 'Utilities': 7,\n",
       " 'Travel': 8,\n",
       " 'Social Networking': 9,\n",
       " 'Sports': 10,\n",
       " 'Business': 11,\n",
       " 'Health & Fitness': 12,\n",
       " 'Entertainment': 13,\n",
       " 'Photo & Video': 14,\n",
       " 'Navigation': 15,\n",
       " 'Education': 16,\n",
       " 'Lifestyle': 17,\n",
       " 'Food & Drink': 18,\n",
       " 'News': 19,\n",
       " 'Book': 20,\n",
       " 'Medical': 21,\n",
       " 'Catalogs': 22}"
      ]
     },
     "execution_count": 76,
     "metadata": {},
     "output_type": "execute_result"
    }
   ],
   "source": [
    "dictio=dict(zip(df.prime_genre.unique(), [i for i in range(len(df.prime_genre.unique()))]))\n",
    "\n",
    "dictio"
   ]
  },
  {
   "cell_type": "code",
   "execution_count": 79,
   "id": "be1238c3",
   "metadata": {},
   "outputs": [
    {
     "data": {
      "text/plain": [
       "0    0\n",
       "1    1\n",
       "2    2\n",
       "3    3\n",
       "4    4\n",
       "Name: prime_genre, dtype: int64"
      ]
     },
     "execution_count": 79,
     "metadata": {},
     "output_type": "execute_result"
    }
   ],
   "source": [
    "df.prime_genre.apply(lambda x: dictio[x]).head()   # encoding"
   ]
  },
  {
   "cell_type": "code",
   "execution_count": 86,
   "id": "e7640ba4",
   "metadata": {},
   "outputs": [
    {
     "data": {
      "text/plain": [
       "(0, 'Games')"
      ]
     },
     "execution_count": 86,
     "metadata": {},
     "output_type": "execute_result"
    }
   ],
   "source": [
    "list(dictio.items())[0][::-1]"
   ]
  },
  {
   "cell_type": "code",
   "execution_count": 84,
   "id": "38407898",
   "metadata": {},
   "outputs": [
    {
     "name": "stdout",
     "output_type": "stream",
     "text": [
      "10\n",
      "9\n",
      "8\n",
      "7\n",
      "6\n",
      "5\n"
     ]
    }
   ],
   "source": [
    "for i in range(10, 4, -1):\n",
    "    print(i)"
   ]
  },
  {
   "cell_type": "markdown",
   "id": "96577e48",
   "metadata": {},
   "source": [
    "### 4) group by"
   ]
  },
  {
   "cell_type": "code",
   "execution_count": 89,
   "id": "1bbc8bf7",
   "metadata": {},
   "outputs": [
    {
     "data": {
      "text/html": [
       "<div>\n",
       "<style scoped>\n",
       "    .dataframe tbody tr th:only-of-type {\n",
       "        vertical-align: middle;\n",
       "    }\n",
       "\n",
       "    .dataframe tbody tr th {\n",
       "        vertical-align: top;\n",
       "    }\n",
       "\n",
       "    .dataframe thead th {\n",
       "        text-align: right;\n",
       "    }\n",
       "</style>\n",
       "<table border=\"1\" class=\"dataframe\">\n",
       "  <thead>\n",
       "    <tr style=\"text-align: right;\">\n",
       "      <th></th>\n",
       "      <th>id</th>\n",
       "      <th>size_bytes</th>\n",
       "      <th>price</th>\n",
       "      <th>rating_count_tot</th>\n",
       "      <th>rating_count_ver</th>\n",
       "      <th>user_rating</th>\n",
       "      <th>user_rating_ver</th>\n",
       "    </tr>\n",
       "    <tr>\n",
       "      <th>prime_genre</th>\n",
       "      <th></th>\n",
       "      <th></th>\n",
       "      <th></th>\n",
       "      <th></th>\n",
       "      <th></th>\n",
       "      <th></th>\n",
       "      <th></th>\n",
       "    </tr>\n",
       "  </thead>\n",
       "  <tbody>\n",
       "    <tr>\n",
       "      <th>Book</th>\n",
       "      <td>105680252817</td>\n",
       "      <td>20027910144</td>\n",
       "      <td>3000.54</td>\n",
       "      <td>574049</td>\n",
       "      <td>7920</td>\n",
       "      <td>277.5</td>\n",
       "      <td>236.5</td>\n",
       "    </tr>\n",
       "    <tr>\n",
       "      <th>Business</th>\n",
       "      <td>39527766053</td>\n",
       "      <td>3657604096</td>\n",
       "      <td>1716.63</td>\n",
       "      <td>272921</td>\n",
       "      <td>15701</td>\n",
       "      <td>213.5</td>\n",
       "      <td>190.0</td>\n",
       "    </tr>\n",
       "    <tr>\n",
       "      <th>Catalogs</th>\n",
       "      <td>9521080671</td>\n",
       "      <td>501816320</td>\n",
       "      <td>257.99</td>\n",
       "      <td>17325</td>\n",
       "      <td>3446</td>\n",
       "      <td>21.0</td>\n",
       "      <td>21.0</td>\n",
       "    </tr>\n",
       "    <tr>\n",
       "      <th>Education</th>\n",
       "      <td>370074261045</td>\n",
       "      <td>81732172267</td>\n",
       "      <td>13149.79</td>\n",
       "      <td>1014371</td>\n",
       "      <td>108267</td>\n",
       "      <td>1529.5</td>\n",
       "      <td>1337.5</td>\n",
       "    </tr>\n",
       "    <tr>\n",
       "      <th>Entertainment</th>\n",
       "      <td>455156238531</td>\n",
       "      <td>54291115746</td>\n",
       "      <td>13850.99</td>\n",
       "      <td>4030518</td>\n",
       "      <td>75378</td>\n",
       "      <td>1737.0</td>\n",
       "      <td>1551.5</td>\n",
       "    </tr>\n",
       "    <tr>\n",
       "      <th>Finance</th>\n",
       "      <td>75222780876</td>\n",
       "      <td>8136529366</td>\n",
       "      <td>2643.80</td>\n",
       "      <td>1148956</td>\n",
       "      <td>26060</td>\n",
       "      <td>253.0</td>\n",
       "      <td>170.0</td>\n",
       "    </tr>\n",
       "    <tr>\n",
       "      <th>Food &amp; Drink</th>\n",
       "      <td>46072394561</td>\n",
       "      <td>4888484864</td>\n",
       "      <td>1672.80</td>\n",
       "      <td>878133</td>\n",
       "      <td>20198</td>\n",
       "      <td>200.5</td>\n",
       "      <td>152.0</td>\n",
       "    </tr>\n",
       "    <tr>\n",
       "      <th>Games</th>\n",
       "      <td>3611702938489</td>\n",
       "      <td>1095488356523</td>\n",
       "      <td>102083.95</td>\n",
       "      <td>52878491</td>\n",
       "      <td>2221732</td>\n",
       "      <td>14231.5</td>\n",
       "      <td>13691.5</td>\n",
       "    </tr>\n",
       "    <tr>\n",
       "      <th>Health &amp; Fitness</th>\n",
       "      <td>131646851068</td>\n",
       "      <td>16219195392</td>\n",
       "      <td>4844.96</td>\n",
       "      <td>1784371</td>\n",
       "      <td>38017</td>\n",
       "      <td>666.0</td>\n",
       "      <td>606.5</td>\n",
       "    </tr>\n",
       "    <tr>\n",
       "      <th>Lifestyle</th>\n",
       "      <td>119099142377</td>\n",
       "      <td>8972131321</td>\n",
       "      <td>3727.50</td>\n",
       "      <td>887294</td>\n",
       "      <td>102544</td>\n",
       "      <td>404.0</td>\n",
       "      <td>319.5</td>\n",
       "    </tr>\n",
       "    <tr>\n",
       "      <th>Medical</th>\n",
       "      <td>17155693780</td>\n",
       "      <td>8656947200</td>\n",
       "      <td>776.85</td>\n",
       "      <td>13634</td>\n",
       "      <td>1075</td>\n",
       "      <td>77.5</td>\n",
       "      <td>75.0</td>\n",
       "    </tr>\n",
       "    <tr>\n",
       "      <th>Music</th>\n",
       "      <td>104419756383</td>\n",
       "      <td>15129717986</td>\n",
       "      <td>4117.29</td>\n",
       "      <td>3980199</td>\n",
       "      <td>47604</td>\n",
       "      <td>549.0</td>\n",
       "      <td>526.0</td>\n",
       "    </tr>\n",
       "    <tr>\n",
       "      <th>Navigation</th>\n",
       "      <td>28871108102</td>\n",
       "      <td>4754306323</td>\n",
       "      <td>1339.74</td>\n",
       "      <td>545282</td>\n",
       "      <td>5069</td>\n",
       "      <td>123.5</td>\n",
       "      <td>99.0</td>\n",
       "    </tr>\n",
       "    <tr>\n",
       "      <th>News</th>\n",
       "      <td>50904884158</td>\n",
       "      <td>4685313995</td>\n",
       "      <td>1913.83</td>\n",
       "      <td>976130</td>\n",
       "      <td>8529</td>\n",
       "      <td>223.5</td>\n",
       "      <td>166.0</td>\n",
       "    </tr>\n",
       "    <tr>\n",
       "      <th>Photo &amp; Video</th>\n",
       "      <td>277981619272</td>\n",
       "      <td>23914144768</td>\n",
       "      <td>9239.18</td>\n",
       "      <td>5008946</td>\n",
       "      <td>98708</td>\n",
       "      <td>1326.5</td>\n",
       "      <td>1216.5</td>\n",
       "    </tr>\n",
       "    <tr>\n",
       "      <th>Productivity</th>\n",
       "      <td>131122724884</td>\n",
       "      <td>13962433536</td>\n",
       "      <td>5220.84</td>\n",
       "      <td>1433136</td>\n",
       "      <td>21551</td>\n",
       "      <td>713.0</td>\n",
       "      <td>664.5</td>\n",
       "    </tr>\n",
       "    <tr>\n",
       "      <th>Reference</th>\n",
       "      <td>46280811955</td>\n",
       "      <td>9930411724</td>\n",
       "      <td>1909.56</td>\n",
       "      <td>1434294</td>\n",
       "      <td>55595</td>\n",
       "      <td>221.0</td>\n",
       "      <td>198.0</td>\n",
       "    </tr>\n",
       "    <tr>\n",
       "      <th>Shopping</th>\n",
       "      <td>80440592844</td>\n",
       "      <td>11388313600</td>\n",
       "      <td>3051.99</td>\n",
       "      <td>2271070</td>\n",
       "      <td>86499</td>\n",
       "      <td>432.0</td>\n",
       "      <td>319.5</td>\n",
       "    </tr>\n",
       "    <tr>\n",
       "      <th>Social Networking</th>\n",
       "      <td>132146097114</td>\n",
       "      <td>13255197407</td>\n",
       "      <td>4231.76</td>\n",
       "      <td>7598316</td>\n",
       "      <td>92900</td>\n",
       "      <td>498.5</td>\n",
       "      <td>414.5</td>\n",
       "    </tr>\n",
       "    <tr>\n",
       "      <th>Sports</th>\n",
       "      <td>84402145437</td>\n",
       "      <td>8991587328</td>\n",
       "      <td>2958.65</td>\n",
       "      <td>1599070</td>\n",
       "      <td>14643</td>\n",
       "      <td>340.0</td>\n",
       "      <td>290.5</td>\n",
       "    </tr>\n",
       "    <tr>\n",
       "      <th>Travel</th>\n",
       "      <td>50909739270</td>\n",
       "      <td>6699259904</td>\n",
       "      <td>2115.75</td>\n",
       "      <td>1144485</td>\n",
       "      <td>10843</td>\n",
       "      <td>273.5</td>\n",
       "      <td>228.5</td>\n",
       "    </tr>\n",
       "    <tr>\n",
       "      <th>Utilities</th>\n",
       "      <td>198430697384</td>\n",
       "      <td>13463935041</td>\n",
       "      <td>6608.61</td>\n",
       "      <td>1702228</td>\n",
       "      <td>187249</td>\n",
       "      <td>813.0</td>\n",
       "      <td>710.0</td>\n",
       "    </tr>\n",
       "    <tr>\n",
       "      <th>Weather</th>\n",
       "      <td>45184211588</td>\n",
       "      <td>4423779328</td>\n",
       "      <td>1915.59</td>\n",
       "      <td>1597034</td>\n",
       "      <td>63783</td>\n",
       "      <td>259.0</td>\n",
       "      <td>232.0</td>\n",
       "    </tr>\n",
       "  </tbody>\n",
       "</table>\n",
       "</div>"
      ],
      "text/plain": [
       "                              id     size_bytes      price  rating_count_tot  \\\n",
       "prime_genre                                                                    \n",
       "Book                105680252817    20027910144    3000.54            574049   \n",
       "Business             39527766053     3657604096    1716.63            272921   \n",
       "Catalogs              9521080671      501816320     257.99             17325   \n",
       "Education           370074261045    81732172267   13149.79           1014371   \n",
       "Entertainment       455156238531    54291115746   13850.99           4030518   \n",
       "Finance              75222780876     8136529366    2643.80           1148956   \n",
       "Food & Drink         46072394561     4888484864    1672.80            878133   \n",
       "Games              3611702938489  1095488356523  102083.95          52878491   \n",
       "Health & Fitness    131646851068    16219195392    4844.96           1784371   \n",
       "Lifestyle           119099142377     8972131321    3727.50            887294   \n",
       "Medical              17155693780     8656947200     776.85             13634   \n",
       "Music               104419756383    15129717986    4117.29           3980199   \n",
       "Navigation           28871108102     4754306323    1339.74            545282   \n",
       "News                 50904884158     4685313995    1913.83            976130   \n",
       "Photo & Video       277981619272    23914144768    9239.18           5008946   \n",
       "Productivity        131122724884    13962433536    5220.84           1433136   \n",
       "Reference            46280811955     9930411724    1909.56           1434294   \n",
       "Shopping             80440592844    11388313600    3051.99           2271070   \n",
       "Social Networking   132146097114    13255197407    4231.76           7598316   \n",
       "Sports               84402145437     8991587328    2958.65           1599070   \n",
       "Travel               50909739270     6699259904    2115.75           1144485   \n",
       "Utilities           198430697384    13463935041    6608.61           1702228   \n",
       "Weather              45184211588     4423779328    1915.59           1597034   \n",
       "\n",
       "                   rating_count_ver  user_rating  user_rating_ver  \n",
       "prime_genre                                                        \n",
       "Book                           7920        277.5            236.5  \n",
       "Business                      15701        213.5            190.0  \n",
       "Catalogs                       3446         21.0             21.0  \n",
       "Education                    108267       1529.5           1337.5  \n",
       "Entertainment                 75378       1737.0           1551.5  \n",
       "Finance                       26060        253.0            170.0  \n",
       "Food & Drink                  20198        200.5            152.0  \n",
       "Games                       2221732      14231.5          13691.5  \n",
       "Health & Fitness              38017        666.0            606.5  \n",
       "Lifestyle                    102544        404.0            319.5  \n",
       "Medical                        1075         77.5             75.0  \n",
       "Music                         47604        549.0            526.0  \n",
       "Navigation                     5069        123.5             99.0  \n",
       "News                           8529        223.5            166.0  \n",
       "Photo & Video                 98708       1326.5           1216.5  \n",
       "Productivity                  21551        713.0            664.5  \n",
       "Reference                     55595        221.0            198.0  \n",
       "Shopping                      86499        432.0            319.5  \n",
       "Social Networking             92900        498.5            414.5  \n",
       "Sports                        14643        340.0            290.5  \n",
       "Travel                        10843        273.5            228.5  \n",
       "Utilities                    187249        813.0            710.0  \n",
       "Weather                       63783        259.0            232.0  "
      ]
     },
     "execution_count": 89,
     "metadata": {},
     "output_type": "execute_result"
    }
   ],
   "source": [
    "df.groupby('prime_genre').sum()"
   ]
  },
  {
   "cell_type": "code",
   "execution_count": 90,
   "id": "06ea9a23",
   "metadata": {},
   "outputs": [
    {
     "data": {
      "text/html": [
       "<div>\n",
       "<style scoped>\n",
       "    .dataframe tbody tr th:only-of-type {\n",
       "        vertical-align: middle;\n",
       "    }\n",
       "\n",
       "    .dataframe tbody tr th {\n",
       "        vertical-align: top;\n",
       "    }\n",
       "\n",
       "    .dataframe thead th {\n",
       "        text-align: right;\n",
       "    }\n",
       "</style>\n",
       "<table border=\"1\" class=\"dataframe\">\n",
       "  <thead>\n",
       "    <tr style=\"text-align: right;\">\n",
       "      <th></th>\n",
       "      <th>price</th>\n",
       "      <th>user_rating</th>\n",
       "    </tr>\n",
       "    <tr>\n",
       "      <th>prime_genre</th>\n",
       "      <th></th>\n",
       "      <th></th>\n",
       "    </tr>\n",
       "  </thead>\n",
       "  <tbody>\n",
       "    <tr>\n",
       "      <th>Book</th>\n",
       "      <td>3000.54</td>\n",
       "      <td>2.477679</td>\n",
       "    </tr>\n",
       "    <tr>\n",
       "      <th>Business</th>\n",
       "      <td>1716.63</td>\n",
       "      <td>3.745614</td>\n",
       "    </tr>\n",
       "    <tr>\n",
       "      <th>Catalogs</th>\n",
       "      <td>257.99</td>\n",
       "      <td>2.100000</td>\n",
       "    </tr>\n",
       "    <tr>\n",
       "      <th>Education</th>\n",
       "      <td>13149.79</td>\n",
       "      <td>3.376380</td>\n",
       "    </tr>\n",
       "    <tr>\n",
       "      <th>Entertainment</th>\n",
       "      <td>13850.99</td>\n",
       "      <td>3.246729</td>\n",
       "    </tr>\n",
       "    <tr>\n",
       "      <th>Finance</th>\n",
       "      <td>2643.80</td>\n",
       "      <td>2.432692</td>\n",
       "    </tr>\n",
       "    <tr>\n",
       "      <th>Food &amp; Drink</th>\n",
       "      <td>1672.80</td>\n",
       "      <td>3.182540</td>\n",
       "    </tr>\n",
       "    <tr>\n",
       "      <th>Games</th>\n",
       "      <td>102083.95</td>\n",
       "      <td>3.685008</td>\n",
       "    </tr>\n",
       "    <tr>\n",
       "      <th>Health &amp; Fitness</th>\n",
       "      <td>4844.96</td>\n",
       "      <td>3.700000</td>\n",
       "    </tr>\n",
       "    <tr>\n",
       "      <th>Lifestyle</th>\n",
       "      <td>3727.50</td>\n",
       "      <td>2.805556</td>\n",
       "    </tr>\n",
       "    <tr>\n",
       "      <th>Medical</th>\n",
       "      <td>776.85</td>\n",
       "      <td>3.369565</td>\n",
       "    </tr>\n",
       "    <tr>\n",
       "      <th>Music</th>\n",
       "      <td>4117.29</td>\n",
       "      <td>3.978261</td>\n",
       "    </tr>\n",
       "    <tr>\n",
       "      <th>Navigation</th>\n",
       "      <td>1339.74</td>\n",
       "      <td>2.684783</td>\n",
       "    </tr>\n",
       "    <tr>\n",
       "      <th>News</th>\n",
       "      <td>1913.83</td>\n",
       "      <td>2.980000</td>\n",
       "    </tr>\n",
       "    <tr>\n",
       "      <th>Photo &amp; Video</th>\n",
       "      <td>9239.18</td>\n",
       "      <td>3.800860</td>\n",
       "    </tr>\n",
       "    <tr>\n",
       "      <th>Productivity</th>\n",
       "      <td>5220.84</td>\n",
       "      <td>4.005618</td>\n",
       "    </tr>\n",
       "    <tr>\n",
       "      <th>Reference</th>\n",
       "      <td>1909.56</td>\n",
       "      <td>3.453125</td>\n",
       "    </tr>\n",
       "    <tr>\n",
       "      <th>Shopping</th>\n",
       "      <td>3051.99</td>\n",
       "      <td>3.540984</td>\n",
       "    </tr>\n",
       "    <tr>\n",
       "      <th>Social Networking</th>\n",
       "      <td>4231.76</td>\n",
       "      <td>2.985030</td>\n",
       "    </tr>\n",
       "    <tr>\n",
       "      <th>Sports</th>\n",
       "      <td>2958.65</td>\n",
       "      <td>2.982456</td>\n",
       "    </tr>\n",
       "    <tr>\n",
       "      <th>Travel</th>\n",
       "      <td>2115.75</td>\n",
       "      <td>3.376543</td>\n",
       "    </tr>\n",
       "    <tr>\n",
       "      <th>Utilities</th>\n",
       "      <td>6608.61</td>\n",
       "      <td>3.278226</td>\n",
       "    </tr>\n",
       "    <tr>\n",
       "      <th>Weather</th>\n",
       "      <td>1915.59</td>\n",
       "      <td>3.597222</td>\n",
       "    </tr>\n",
       "  </tbody>\n",
       "</table>\n",
       "</div>"
      ],
      "text/plain": [
       "                       price  user_rating\n",
       "prime_genre                              \n",
       "Book                 3000.54     2.477679\n",
       "Business             1716.63     3.745614\n",
       "Catalogs              257.99     2.100000\n",
       "Education           13149.79     3.376380\n",
       "Entertainment       13850.99     3.246729\n",
       "Finance              2643.80     2.432692\n",
       "Food & Drink         1672.80     3.182540\n",
       "Games              102083.95     3.685008\n",
       "Health & Fitness     4844.96     3.700000\n",
       "Lifestyle            3727.50     2.805556\n",
       "Medical               776.85     3.369565\n",
       "Music                4117.29     3.978261\n",
       "Navigation           1339.74     2.684783\n",
       "News                 1913.83     2.980000\n",
       "Photo & Video        9239.18     3.800860\n",
       "Productivity         5220.84     4.005618\n",
       "Reference            1909.56     3.453125\n",
       "Shopping             3051.99     3.540984\n",
       "Social Networking    4231.76     2.985030\n",
       "Sports               2958.65     2.982456\n",
       "Travel               2115.75     3.376543\n",
       "Utilities            6608.61     3.278226\n",
       "Weather              1915.59     3.597222"
      ]
     },
     "execution_count": 90,
     "metadata": {},
     "output_type": "execute_result"
    }
   ],
   "source": [
    "df.groupby('prime_genre').agg({'price': 'sum', 'user_rating': 'mean'})"
   ]
  },
  {
   "cell_type": "code",
   "execution_count": 92,
   "id": "bf2ce3fa",
   "metadata": {},
   "outputs": [
    {
     "data": {
      "text/html": [
       "<div>\n",
       "<style scoped>\n",
       "    .dataframe tbody tr th:only-of-type {\n",
       "        vertical-align: middle;\n",
       "    }\n",
       "\n",
       "    .dataframe tbody tr th {\n",
       "        vertical-align: top;\n",
       "    }\n",
       "\n",
       "    .dataframe thead th {\n",
       "        text-align: right;\n",
       "    }\n",
       "</style>\n",
       "<table border=\"1\" class=\"dataframe\">\n",
       "  <thead>\n",
       "    <tr style=\"text-align: right;\">\n",
       "      <th></th>\n",
       "      <th></th>\n",
       "      <th>id</th>\n",
       "      <th>size_bytes</th>\n",
       "      <th>price</th>\n",
       "      <th>rating_count_tot</th>\n",
       "      <th>rating_count_ver</th>\n",
       "      <th>user_rating_ver</th>\n",
       "    </tr>\n",
       "    <tr>\n",
       "      <th>user_rating</th>\n",
       "      <th>prime_genre</th>\n",
       "      <th></th>\n",
       "      <th></th>\n",
       "      <th></th>\n",
       "      <th></th>\n",
       "      <th></th>\n",
       "      <th></th>\n",
       "    </tr>\n",
       "  </thead>\n",
       "  <tbody>\n",
       "    <tr>\n",
       "      <th rowspan=\"5\" valign=\"top\">0.0</th>\n",
       "      <th>Book</th>\n",
       "      <td>49788317771</td>\n",
       "      <td>3612632064</td>\n",
       "      <td>1197.94</td>\n",
       "      <td>0</td>\n",
       "      <td>0</td>\n",
       "      <td>0.0</td>\n",
       "    </tr>\n",
       "    <tr>\n",
       "      <th>Business</th>\n",
       "      <td>4059999876</td>\n",
       "      <td>191502336</td>\n",
       "      <td>107.98</td>\n",
       "      <td>0</td>\n",
       "      <td>0</td>\n",
       "      <td>0.0</td>\n",
       "    </tr>\n",
       "    <tr>\n",
       "      <th>Catalogs</th>\n",
       "      <td>4935277287</td>\n",
       "      <td>174513152</td>\n",
       "      <td>125.00</td>\n",
       "      <td>0</td>\n",
       "      <td>0</td>\n",
       "      <td>0.0</td>\n",
       "    </tr>\n",
       "    <tr>\n",
       "      <th>Education</th>\n",
       "      <td>55893417032</td>\n",
       "      <td>8604258711</td>\n",
       "      <td>1875.48</td>\n",
       "      <td>0</td>\n",
       "      <td>0</td>\n",
       "      <td>0.0</td>\n",
       "    </tr>\n",
       "    <tr>\n",
       "      <th>Entertainment</th>\n",
       "      <td>64951099548</td>\n",
       "      <td>2682235657</td>\n",
       "      <td>1632.86</td>\n",
       "      <td>0</td>\n",
       "      <td>0</td>\n",
       "      <td>0.0</td>\n",
       "    </tr>\n",
       "    <tr>\n",
       "      <th>...</th>\n",
       "      <th>...</th>\n",
       "      <td>...</td>\n",
       "      <td>...</td>\n",
       "      <td>...</td>\n",
       "      <td>...</td>\n",
       "      <td>...</td>\n",
       "      <td>...</td>\n",
       "    </tr>\n",
       "    <tr>\n",
       "      <th rowspan=\"5\" valign=\"top\">5.0</th>\n",
       "      <th>Social Networking</th>\n",
       "      <td>4997316734</td>\n",
       "      <td>380922880</td>\n",
       "      <td>125.99</td>\n",
       "      <td>90468</td>\n",
       "      <td>55</td>\n",
       "      <td>24.0</td>\n",
       "    </tr>\n",
       "    <tr>\n",
       "      <th>Sports</th>\n",
       "      <td>5142667373</td>\n",
       "      <td>154206208</td>\n",
       "      <td>159.95</td>\n",
       "      <td>4018</td>\n",
       "      <td>293</td>\n",
       "      <td>25.0</td>\n",
       "    </tr>\n",
       "    <tr>\n",
       "      <th>Travel</th>\n",
       "      <td>2907407942</td>\n",
       "      <td>286162944</td>\n",
       "      <td>125.99</td>\n",
       "      <td>444</td>\n",
       "      <td>78</td>\n",
       "      <td>10.0</td>\n",
       "    </tr>\n",
       "    <tr>\n",
       "      <th>Utilities</th>\n",
       "      <td>10683022139</td>\n",
       "      <td>659552256</td>\n",
       "      <td>307.95</td>\n",
       "      <td>176728</td>\n",
       "      <td>28876</td>\n",
       "      <td>44.5</td>\n",
       "    </tr>\n",
       "    <tr>\n",
       "      <th>Weather</th>\n",
       "      <td>940586491</td>\n",
       "      <td>106686464</td>\n",
       "      <td>54.98</td>\n",
       "      <td>19121</td>\n",
       "      <td>2338</td>\n",
       "      <td>9.5</td>\n",
       "    </tr>\n",
       "  </tbody>\n",
       "</table>\n",
       "<p>201 rows × 6 columns</p>\n",
       "</div>"
      ],
      "text/plain": [
       "                                        id  size_bytes    price  \\\n",
       "user_rating prime_genre                                           \n",
       "0.0         Book               49788317771  3612632064  1197.94   \n",
       "            Business            4059999876   191502336   107.98   \n",
       "            Catalogs            4935277287   174513152   125.00   \n",
       "            Education          55893417032  8604258711  1875.48   \n",
       "            Entertainment      64951099548  2682235657  1632.86   \n",
       "...                                    ...         ...      ...   \n",
       "5.0         Social Networking   4997316734   380922880   125.99   \n",
       "            Sports              5142667373   154206208   159.95   \n",
       "            Travel              2907407942   286162944   125.99   \n",
       "            Utilities          10683022139   659552256   307.95   \n",
       "            Weather              940586491   106686464    54.98   \n",
       "\n",
       "                               rating_count_tot  rating_count_ver  \\\n",
       "user_rating prime_genre                                             \n",
       "0.0         Book                              0                 0   \n",
       "            Business                          0                 0   \n",
       "            Catalogs                          0                 0   \n",
       "            Education                         0                 0   \n",
       "            Entertainment                     0                 0   \n",
       "...                                         ...               ...   \n",
       "5.0         Social Networking             90468                55   \n",
       "            Sports                         4018               293   \n",
       "            Travel                          444                78   \n",
       "            Utilities                    176728             28876   \n",
       "            Weather                       19121              2338   \n",
       "\n",
       "                               user_rating_ver  \n",
       "user_rating prime_genre                         \n",
       "0.0         Book                           0.0  \n",
       "            Business                       0.0  \n",
       "            Catalogs                       0.0  \n",
       "            Education                      0.0  \n",
       "            Entertainment                  0.0  \n",
       "...                                        ...  \n",
       "5.0         Social Networking             24.0  \n",
       "            Sports                        25.0  \n",
       "            Travel                        10.0  \n",
       "            Utilities                     44.5  \n",
       "            Weather                        9.5  \n",
       "\n",
       "[201 rows x 6 columns]"
      ]
     },
     "execution_count": 92,
     "metadata": {},
     "output_type": "execute_result"
    }
   ],
   "source": [
    "df.groupby(['user_rating', 'prime_genre']).sum()"
   ]
  },
  {
   "cell_type": "code",
   "execution_count": 93,
   "id": "29b83521",
   "metadata": {},
   "outputs": [
    {
     "data": {
      "text/html": [
       "<div>\n",
       "<style scoped>\n",
       "    .dataframe tbody tr th:only-of-type {\n",
       "        vertical-align: middle;\n",
       "    }\n",
       "\n",
       "    .dataframe tbody tr th {\n",
       "        vertical-align: top;\n",
       "    }\n",
       "\n",
       "    .dataframe thead th {\n",
       "        text-align: right;\n",
       "    }\n",
       "</style>\n",
       "<table border=\"1\" class=\"dataframe\">\n",
       "  <thead>\n",
       "    <tr style=\"text-align: right;\">\n",
       "      <th></th>\n",
       "      <th>user_rating</th>\n",
       "      <th>prime_genre</th>\n",
       "      <th>id</th>\n",
       "      <th>size_bytes</th>\n",
       "      <th>price</th>\n",
       "      <th>rating_count_tot</th>\n",
       "      <th>rating_count_ver</th>\n",
       "      <th>user_rating_ver</th>\n",
       "    </tr>\n",
       "  </thead>\n",
       "  <tbody>\n",
       "    <tr>\n",
       "      <th>0</th>\n",
       "      <td>0.0</td>\n",
       "      <td>Book</td>\n",
       "      <td>49788317771</td>\n",
       "      <td>3612632064</td>\n",
       "      <td>1197.94</td>\n",
       "      <td>0</td>\n",
       "      <td>0</td>\n",
       "      <td>0.0</td>\n",
       "    </tr>\n",
       "    <tr>\n",
       "      <th>1</th>\n",
       "      <td>0.0</td>\n",
       "      <td>Business</td>\n",
       "      <td>4059999876</td>\n",
       "      <td>191502336</td>\n",
       "      <td>107.98</td>\n",
       "      <td>0</td>\n",
       "      <td>0</td>\n",
       "      <td>0.0</td>\n",
       "    </tr>\n",
       "    <tr>\n",
       "      <th>2</th>\n",
       "      <td>0.0</td>\n",
       "      <td>Catalogs</td>\n",
       "      <td>4935277287</td>\n",
       "      <td>174513152</td>\n",
       "      <td>125.00</td>\n",
       "      <td>0</td>\n",
       "      <td>0</td>\n",
       "      <td>0.0</td>\n",
       "    </tr>\n",
       "    <tr>\n",
       "      <th>3</th>\n",
       "      <td>0.0</td>\n",
       "      <td>Education</td>\n",
       "      <td>55893417032</td>\n",
       "      <td>8604258711</td>\n",
       "      <td>1875.48</td>\n",
       "      <td>0</td>\n",
       "      <td>0</td>\n",
       "      <td>0.0</td>\n",
       "    </tr>\n",
       "    <tr>\n",
       "      <th>4</th>\n",
       "      <td>0.0</td>\n",
       "      <td>Entertainment</td>\n",
       "      <td>64951099548</td>\n",
       "      <td>2682235657</td>\n",
       "      <td>1632.86</td>\n",
       "      <td>0</td>\n",
       "      <td>0</td>\n",
       "      <td>0.0</td>\n",
       "    </tr>\n",
       "    <tr>\n",
       "      <th>...</th>\n",
       "      <td>...</td>\n",
       "      <td>...</td>\n",
       "      <td>...</td>\n",
       "      <td>...</td>\n",
       "      <td>...</td>\n",
       "      <td>...</td>\n",
       "      <td>...</td>\n",
       "      <td>...</td>\n",
       "    </tr>\n",
       "    <tr>\n",
       "      <th>196</th>\n",
       "      <td>5.0</td>\n",
       "      <td>Social Networking</td>\n",
       "      <td>4997316734</td>\n",
       "      <td>380922880</td>\n",
       "      <td>125.99</td>\n",
       "      <td>90468</td>\n",
       "      <td>55</td>\n",
       "      <td>24.0</td>\n",
       "    </tr>\n",
       "    <tr>\n",
       "      <th>197</th>\n",
       "      <td>5.0</td>\n",
       "      <td>Sports</td>\n",
       "      <td>5142667373</td>\n",
       "      <td>154206208</td>\n",
       "      <td>159.95</td>\n",
       "      <td>4018</td>\n",
       "      <td>293</td>\n",
       "      <td>25.0</td>\n",
       "    </tr>\n",
       "    <tr>\n",
       "      <th>198</th>\n",
       "      <td>5.0</td>\n",
       "      <td>Travel</td>\n",
       "      <td>2907407942</td>\n",
       "      <td>286162944</td>\n",
       "      <td>125.99</td>\n",
       "      <td>444</td>\n",
       "      <td>78</td>\n",
       "      <td>10.0</td>\n",
       "    </tr>\n",
       "    <tr>\n",
       "      <th>199</th>\n",
       "      <td>5.0</td>\n",
       "      <td>Utilities</td>\n",
       "      <td>10683022139</td>\n",
       "      <td>659552256</td>\n",
       "      <td>307.95</td>\n",
       "      <td>176728</td>\n",
       "      <td>28876</td>\n",
       "      <td>44.5</td>\n",
       "    </tr>\n",
       "    <tr>\n",
       "      <th>200</th>\n",
       "      <td>5.0</td>\n",
       "      <td>Weather</td>\n",
       "      <td>940586491</td>\n",
       "      <td>106686464</td>\n",
       "      <td>54.98</td>\n",
       "      <td>19121</td>\n",
       "      <td>2338</td>\n",
       "      <td>9.5</td>\n",
       "    </tr>\n",
       "  </tbody>\n",
       "</table>\n",
       "<p>201 rows × 8 columns</p>\n",
       "</div>"
      ],
      "text/plain": [
       "     user_rating        prime_genre           id  size_bytes    price  \\\n",
       "0            0.0               Book  49788317771  3612632064  1197.94   \n",
       "1            0.0           Business   4059999876   191502336   107.98   \n",
       "2            0.0           Catalogs   4935277287   174513152   125.00   \n",
       "3            0.0          Education  55893417032  8604258711  1875.48   \n",
       "4            0.0      Entertainment  64951099548  2682235657  1632.86   \n",
       "..           ...                ...          ...         ...      ...   \n",
       "196          5.0  Social Networking   4997316734   380922880   125.99   \n",
       "197          5.0             Sports   5142667373   154206208   159.95   \n",
       "198          5.0             Travel   2907407942   286162944   125.99   \n",
       "199          5.0          Utilities  10683022139   659552256   307.95   \n",
       "200          5.0            Weather    940586491   106686464    54.98   \n",
       "\n",
       "     rating_count_tot  rating_count_ver  user_rating_ver  \n",
       "0                   0                 0              0.0  \n",
       "1                   0                 0              0.0  \n",
       "2                   0                 0              0.0  \n",
       "3                   0                 0              0.0  \n",
       "4                   0                 0              0.0  \n",
       "..                ...               ...              ...  \n",
       "196             90468                55             24.0  \n",
       "197              4018               293             25.0  \n",
       "198               444                78             10.0  \n",
       "199            176728             28876             44.5  \n",
       "200             19121              2338              9.5  \n",
       "\n",
       "[201 rows x 8 columns]"
      ]
     },
     "execution_count": 93,
     "metadata": {},
     "output_type": "execute_result"
    }
   ],
   "source": [
    "df.groupby(['user_rating', 'prime_genre']).sum().reset_index()"
   ]
  },
  {
   "cell_type": "code",
   "execution_count": 96,
   "id": "74533af7",
   "metadata": {},
   "outputs": [
    {
     "data": {
      "text/html": [
       "<div>\n",
       "<style scoped>\n",
       "    .dataframe tbody tr th:only-of-type {\n",
       "        vertical-align: middle;\n",
       "    }\n",
       "\n",
       "    .dataframe tbody tr th {\n",
       "        vertical-align: top;\n",
       "    }\n",
       "\n",
       "    .dataframe thead th {\n",
       "        text-align: right;\n",
       "    }\n",
       "</style>\n",
       "<table border=\"1\" class=\"dataframe\">\n",
       "  <thead>\n",
       "    <tr style=\"text-align: right;\">\n",
       "      <th></th>\n",
       "      <th>id</th>\n",
       "      <th>track_name</th>\n",
       "      <th>size_bytes</th>\n",
       "      <th>price</th>\n",
       "    </tr>\n",
       "  </thead>\n",
       "  <tbody>\n",
       "    <tr>\n",
       "      <th>0</th>\n",
       "      <td>281656475</td>\n",
       "      <td>PAC-MAN Premium</td>\n",
       "      <td>100788224</td>\n",
       "      <td>28.99</td>\n",
       "    </tr>\n",
       "    <tr>\n",
       "      <th>1</th>\n",
       "      <td>281796108</td>\n",
       "      <td>Evernote - stay organized</td>\n",
       "      <td>158578688</td>\n",
       "      <td>25.00</td>\n",
       "    </tr>\n",
       "  </tbody>\n",
       "</table>\n",
       "</div>"
      ],
      "text/plain": [
       "          id                 track_name  size_bytes  price\n",
       "0  281656475            PAC-MAN Premium   100788224  28.99\n",
       "1  281796108  Evernote - stay organized   158578688  25.00"
      ]
     },
     "execution_count": 96,
     "metadata": {},
     "output_type": "execute_result"
    }
   ],
   "source": [
    "df.iloc[:2, :4]"
   ]
  },
  {
   "cell_type": "code",
   "execution_count": 101,
   "id": "a293c6e5",
   "metadata": {},
   "outputs": [
    {
     "data": {
      "text/html": [
       "<div>\n",
       "<style scoped>\n",
       "    .dataframe tbody tr th:only-of-type {\n",
       "        vertical-align: middle;\n",
       "    }\n",
       "\n",
       "    .dataframe tbody tr th {\n",
       "        vertical-align: top;\n",
       "    }\n",
       "\n",
       "    .dataframe thead th {\n",
       "        text-align: right;\n",
       "    }\n",
       "</style>\n",
       "<table border=\"1\" class=\"dataframe\">\n",
       "  <thead>\n",
       "    <tr style=\"text-align: right;\">\n",
       "      <th></th>\n",
       "      <th>track_name</th>\n",
       "      <th>price</th>\n",
       "      <th>rating_count_ver</th>\n",
       "    </tr>\n",
       "  </thead>\n",
       "  <tbody>\n",
       "    <tr>\n",
       "      <th>0</th>\n",
       "      <td>PAC-MAN Premium</td>\n",
       "      <td>28.99</td>\n",
       "      <td>26</td>\n",
       "    </tr>\n",
       "    <tr>\n",
       "      <th>1</th>\n",
       "      <td>Evernote - stay organized</td>\n",
       "      <td>25.00</td>\n",
       "      <td>26</td>\n",
       "    </tr>\n",
       "    <tr>\n",
       "      <th>2</th>\n",
       "      <td>WeatherBug - Local Weather, Radar, Maps, Alerts</td>\n",
       "      <td>25.00</td>\n",
       "      <td>2822</td>\n",
       "    </tr>\n",
       "    <tr>\n",
       "      <th>3</th>\n",
       "      <td>eBay: Best App to Buy, Sell, Save! Online Shop...</td>\n",
       "      <td>25.00</td>\n",
       "      <td>649</td>\n",
       "    </tr>\n",
       "    <tr>\n",
       "      <th>4</th>\n",
       "      <td>Bible</td>\n",
       "      <td>25.00</td>\n",
       "      <td>5320</td>\n",
       "    </tr>\n",
       "    <tr>\n",
       "      <th>5</th>\n",
       "      <td>Shanghai Mahjong</td>\n",
       "      <td>25.99</td>\n",
       "      <td>5516</td>\n",
       "    </tr>\n",
       "    <tr>\n",
       "      <th>6</th>\n",
       "      <td>PayPal - Send and request money safely</td>\n",
       "      <td>25.00</td>\n",
       "      <td>879</td>\n",
       "    </tr>\n",
       "    <tr>\n",
       "      <th>7</th>\n",
       "      <td>Pandora - Music &amp; Radio</td>\n",
       "      <td>25.00</td>\n",
       "      <td>3594</td>\n",
       "    </tr>\n",
       "    <tr>\n",
       "      <th>8</th>\n",
       "      <td>PCalc - The Best Calculator</td>\n",
       "      <td>34.99</td>\n",
       "      <td>4</td>\n",
       "    </tr>\n",
       "    <tr>\n",
       "      <th>9</th>\n",
       "      <td>Ms. PAC-MAN</td>\n",
       "      <td>28.99</td>\n",
       "      <td>40</td>\n",
       "    </tr>\n",
       "    <tr>\n",
       "      <th>10</th>\n",
       "      <td>Solitaire by MobilityWare</td>\n",
       "      <td>29.99</td>\n",
       "      <td>4017</td>\n",
       "    </tr>\n",
       "  </tbody>\n",
       "</table>\n",
       "</div>"
      ],
      "text/plain": [
       "                                           track_name  price  rating_count_ver\n",
       "0                                     PAC-MAN Premium  28.99                26\n",
       "1                           Evernote - stay organized  25.00                26\n",
       "2     WeatherBug - Local Weather, Radar, Maps, Alerts  25.00              2822\n",
       "3   eBay: Best App to Buy, Sell, Save! Online Shop...  25.00               649\n",
       "4                                               Bible  25.00              5320\n",
       "5                                    Shanghai Mahjong  25.99              5516\n",
       "6              PayPal - Send and request money safely  25.00               879\n",
       "7                             Pandora - Music & Radio  25.00              3594\n",
       "8                         PCalc - The Best Calculator  34.99                 4\n",
       "9                                         Ms. PAC-MAN  28.99                40\n",
       "10                          Solitaire by MobilityWare  29.99              4017"
      ]
     },
     "execution_count": 101,
     "metadata": {},
     "output_type": "execute_result"
    }
   ],
   "source": [
    "df.loc[:10, ['track_name', 'price', 'rating_count_ver']]"
   ]
  },
  {
   "cell_type": "code",
   "execution_count": 102,
   "id": "4d4c7986",
   "metadata": {},
   "outputs": [
    {
     "data": {
      "text/html": [
       "<div>\n",
       "<style scoped>\n",
       "    .dataframe tbody tr th:only-of-type {\n",
       "        vertical-align: middle;\n",
       "    }\n",
       "\n",
       "    .dataframe tbody tr th {\n",
       "        vertical-align: top;\n",
       "    }\n",
       "\n",
       "    .dataframe thead th {\n",
       "        text-align: right;\n",
       "    }\n",
       "</style>\n",
       "<table border=\"1\" class=\"dataframe\">\n",
       "  <thead>\n",
       "    <tr style=\"text-align: right;\">\n",
       "      <th></th>\n",
       "      <th>id</th>\n",
       "      <th>track_name</th>\n",
       "      <th>size_bytes</th>\n",
       "      <th>price</th>\n",
       "      <th>rating_count_tot</th>\n",
       "      <th>rating_count_ver</th>\n",
       "      <th>user_rating</th>\n",
       "      <th>user_rating_ver</th>\n",
       "      <th>prime_genre</th>\n",
       "    </tr>\n",
       "  </thead>\n",
       "  <tbody>\n",
       "    <tr>\n",
       "      <th>a</th>\n",
       "      <td>281656475</td>\n",
       "      <td>PAC-MAN Premium</td>\n",
       "      <td>100788224</td>\n",
       "      <td>28.99</td>\n",
       "      <td>21292</td>\n",
       "      <td>26</td>\n",
       "      <td>4.0</td>\n",
       "      <td>4.5</td>\n",
       "      <td>Games</td>\n",
       "    </tr>\n",
       "    <tr>\n",
       "      <th>b</th>\n",
       "      <td>281796108</td>\n",
       "      <td>Evernote - stay organized</td>\n",
       "      <td>158578688</td>\n",
       "      <td>25.00</td>\n",
       "      <td>161065</td>\n",
       "      <td>26</td>\n",
       "      <td>4.0</td>\n",
       "      <td>3.5</td>\n",
       "      <td>Productivity</td>\n",
       "    </tr>\n",
       "    <tr>\n",
       "      <th>c</th>\n",
       "      <td>281940292</td>\n",
       "      <td>WeatherBug - Local Weather, Radar, Maps, Alerts</td>\n",
       "      <td>100524032</td>\n",
       "      <td>25.00</td>\n",
       "      <td>188583</td>\n",
       "      <td>2822</td>\n",
       "      <td>3.5</td>\n",
       "      <td>4.5</td>\n",
       "      <td>Weather</td>\n",
       "    </tr>\n",
       "    <tr>\n",
       "      <th>d</th>\n",
       "      <td>282614216</td>\n",
       "      <td>eBay: Best App to Buy, Sell, Save! Online Shop...</td>\n",
       "      <td>128512000</td>\n",
       "      <td>25.00</td>\n",
       "      <td>262241</td>\n",
       "      <td>649</td>\n",
       "      <td>4.0</td>\n",
       "      <td>4.5</td>\n",
       "      <td>Shopping</td>\n",
       "    </tr>\n",
       "    <tr>\n",
       "      <th>e</th>\n",
       "      <td>282935706</td>\n",
       "      <td>Bible</td>\n",
       "      <td>92774400</td>\n",
       "      <td>25.00</td>\n",
       "      <td>985920</td>\n",
       "      <td>5320</td>\n",
       "      <td>4.5</td>\n",
       "      <td>5.0</td>\n",
       "      <td>Reference</td>\n",
       "    </tr>\n",
       "  </tbody>\n",
       "</table>\n",
       "</div>"
      ],
      "text/plain": [
       "          id                                         track_name  size_bytes  \\\n",
       "a  281656475                                    PAC-MAN Premium   100788224   \n",
       "b  281796108                          Evernote - stay organized   158578688   \n",
       "c  281940292    WeatherBug - Local Weather, Radar, Maps, Alerts   100524032   \n",
       "d  282614216  eBay: Best App to Buy, Sell, Save! Online Shop...   128512000   \n",
       "e  282935706                                              Bible    92774400   \n",
       "\n",
       "   price  rating_count_tot  rating_count_ver  user_rating  user_rating_ver  \\\n",
       "a  28.99             21292                26          4.0              4.5   \n",
       "b  25.00            161065                26          4.0              3.5   \n",
       "c  25.00            188583              2822          3.5              4.5   \n",
       "d  25.00            262241               649          4.0              4.5   \n",
       "e  25.00            985920              5320          4.5              5.0   \n",
       "\n",
       "    prime_genre  \n",
       "a         Games  \n",
       "b  Productivity  \n",
       "c       Weather  \n",
       "d      Shopping  \n",
       "e     Reference  "
      ]
     },
     "execution_count": 102,
     "metadata": {},
     "output_type": "execute_result"
    }
   ],
   "source": [
    "df=df.head()\n",
    "\n",
    "df.index=['a', 'b', 'c', 'd', 'e']\n",
    "\n",
    "df"
   ]
  },
  {
   "cell_type": "code",
   "execution_count": 103,
   "id": "ec9ef0de",
   "metadata": {},
   "outputs": [
    {
     "data": {
      "text/html": [
       "<div>\n",
       "<style scoped>\n",
       "    .dataframe tbody tr th:only-of-type {\n",
       "        vertical-align: middle;\n",
       "    }\n",
       "\n",
       "    .dataframe tbody tr th {\n",
       "        vertical-align: top;\n",
       "    }\n",
       "\n",
       "    .dataframe thead th {\n",
       "        text-align: right;\n",
       "    }\n",
       "</style>\n",
       "<table border=\"1\" class=\"dataframe\">\n",
       "  <thead>\n",
       "    <tr style=\"text-align: right;\">\n",
       "      <th></th>\n",
       "      <th>track_name</th>\n",
       "      <th>price</th>\n",
       "      <th>rating_count_ver</th>\n",
       "    </tr>\n",
       "  </thead>\n",
       "  <tbody>\n",
       "    <tr>\n",
       "      <th>a</th>\n",
       "      <td>PAC-MAN Premium</td>\n",
       "      <td>28.99</td>\n",
       "      <td>26</td>\n",
       "    </tr>\n",
       "    <tr>\n",
       "      <th>b</th>\n",
       "      <td>Evernote - stay organized</td>\n",
       "      <td>25.00</td>\n",
       "      <td>26</td>\n",
       "    </tr>\n",
       "    <tr>\n",
       "      <th>c</th>\n",
       "      <td>WeatherBug - Local Weather, Radar, Maps, Alerts</td>\n",
       "      <td>25.00</td>\n",
       "      <td>2822</td>\n",
       "    </tr>\n",
       "    <tr>\n",
       "      <th>d</th>\n",
       "      <td>eBay: Best App to Buy, Sell, Save! Online Shop...</td>\n",
       "      <td>25.00</td>\n",
       "      <td>649</td>\n",
       "    </tr>\n",
       "  </tbody>\n",
       "</table>\n",
       "</div>"
      ],
      "text/plain": [
       "                                          track_name  price  rating_count_ver\n",
       "a                                    PAC-MAN Premium  28.99                26\n",
       "b                          Evernote - stay organized  25.00                26\n",
       "c    WeatherBug - Local Weather, Radar, Maps, Alerts  25.00              2822\n",
       "d  eBay: Best App to Buy, Sell, Save! Online Shop...  25.00               649"
      ]
     },
     "execution_count": 103,
     "metadata": {},
     "output_type": "execute_result"
    }
   ],
   "source": [
    "df.loc[:'d', ['track_name', 'price', 'rating_count_ver']]"
   ]
  },
  {
   "cell_type": "code",
   "execution_count": 105,
   "id": "e6ba132c",
   "metadata": {},
   "outputs": [
    {
     "data": {
      "text/html": [
       "<div>\n",
       "<style scoped>\n",
       "    .dataframe tbody tr th:only-of-type {\n",
       "        vertical-align: middle;\n",
       "    }\n",
       "\n",
       "    .dataframe tbody tr th {\n",
       "        vertical-align: top;\n",
       "    }\n",
       "\n",
       "    .dataframe thead th {\n",
       "        text-align: right;\n",
       "    }\n",
       "</style>\n",
       "<table border=\"1\" class=\"dataframe\">\n",
       "  <thead>\n",
       "    <tr style=\"text-align: right;\">\n",
       "      <th></th>\n",
       "      <th>index</th>\n",
       "      <th>id</th>\n",
       "      <th>track_name</th>\n",
       "      <th>size_bytes</th>\n",
       "      <th>price</th>\n",
       "      <th>rating_count_tot</th>\n",
       "      <th>rating_count_ver</th>\n",
       "      <th>user_rating</th>\n",
       "      <th>user_rating_ver</th>\n",
       "      <th>prime_genre</th>\n",
       "    </tr>\n",
       "  </thead>\n",
       "  <tbody>\n",
       "    <tr>\n",
       "      <th>0</th>\n",
       "      <td>a</td>\n",
       "      <td>281656475</td>\n",
       "      <td>PAC-MAN Premium</td>\n",
       "      <td>100788224</td>\n",
       "      <td>28.99</td>\n",
       "      <td>21292</td>\n",
       "      <td>26</td>\n",
       "      <td>4.0</td>\n",
       "      <td>4.5</td>\n",
       "      <td>Games</td>\n",
       "    </tr>\n",
       "    <tr>\n",
       "      <th>1</th>\n",
       "      <td>b</td>\n",
       "      <td>281796108</td>\n",
       "      <td>Evernote - stay organized</td>\n",
       "      <td>158578688</td>\n",
       "      <td>25.00</td>\n",
       "      <td>161065</td>\n",
       "      <td>26</td>\n",
       "      <td>4.0</td>\n",
       "      <td>3.5</td>\n",
       "      <td>Productivity</td>\n",
       "    </tr>\n",
       "    <tr>\n",
       "      <th>2</th>\n",
       "      <td>c</td>\n",
       "      <td>281940292</td>\n",
       "      <td>WeatherBug - Local Weather, Radar, Maps, Alerts</td>\n",
       "      <td>100524032</td>\n",
       "      <td>25.00</td>\n",
       "      <td>188583</td>\n",
       "      <td>2822</td>\n",
       "      <td>3.5</td>\n",
       "      <td>4.5</td>\n",
       "      <td>Weather</td>\n",
       "    </tr>\n",
       "    <tr>\n",
       "      <th>3</th>\n",
       "      <td>d</td>\n",
       "      <td>282614216</td>\n",
       "      <td>eBay: Best App to Buy, Sell, Save! Online Shop...</td>\n",
       "      <td>128512000</td>\n",
       "      <td>25.00</td>\n",
       "      <td>262241</td>\n",
       "      <td>649</td>\n",
       "      <td>4.0</td>\n",
       "      <td>4.5</td>\n",
       "      <td>Shopping</td>\n",
       "    </tr>\n",
       "    <tr>\n",
       "      <th>4</th>\n",
       "      <td>e</td>\n",
       "      <td>282935706</td>\n",
       "      <td>Bible</td>\n",
       "      <td>92774400</td>\n",
       "      <td>25.00</td>\n",
       "      <td>985920</td>\n",
       "      <td>5320</td>\n",
       "      <td>4.5</td>\n",
       "      <td>5.0</td>\n",
       "      <td>Reference</td>\n",
       "    </tr>\n",
       "  </tbody>\n",
       "</table>\n",
       "</div>"
      ],
      "text/plain": [
       "  index         id                                         track_name  \\\n",
       "0     a  281656475                                    PAC-MAN Premium   \n",
       "1     b  281796108                          Evernote - stay organized   \n",
       "2     c  281940292    WeatherBug - Local Weather, Radar, Maps, Alerts   \n",
       "3     d  282614216  eBay: Best App to Buy, Sell, Save! Online Shop...   \n",
       "4     e  282935706                                              Bible   \n",
       "\n",
       "   size_bytes  price  rating_count_tot  rating_count_ver  user_rating  \\\n",
       "0   100788224  28.99             21292                26          4.0   \n",
       "1   158578688  25.00            161065                26          4.0   \n",
       "2   100524032  25.00            188583              2822          3.5   \n",
       "3   128512000  25.00            262241               649          4.0   \n",
       "4    92774400  25.00            985920              5320          4.5   \n",
       "\n",
       "   user_rating_ver   prime_genre  \n",
       "0              4.5         Games  \n",
       "1              3.5  Productivity  \n",
       "2              4.5       Weather  \n",
       "3              4.5      Shopping  \n",
       "4              5.0     Reference  "
      ]
     },
     "execution_count": 105,
     "metadata": {},
     "output_type": "execute_result"
    }
   ],
   "source": [
    "df.reset_index()"
   ]
  },
  {
   "cell_type": "code",
   "execution_count": 107,
   "id": "b9273235",
   "metadata": {},
   "outputs": [
    {
     "data": {
      "text/plain": [
       "'b'"
      ]
     },
     "execution_count": 107,
     "metadata": {},
     "output_type": "execute_result"
    }
   ],
   "source": [
    "df.reset_index().loc[1, 'index']"
   ]
  },
  {
   "cell_type": "code",
   "execution_count": 108,
   "id": "ad742a1a",
   "metadata": {},
   "outputs": [
    {
     "data": {
      "text/html": [
       "<div>\n",
       "<style scoped>\n",
       "    .dataframe tbody tr th:only-of-type {\n",
       "        vertical-align: middle;\n",
       "    }\n",
       "\n",
       "    .dataframe tbody tr th {\n",
       "        vertical-align: top;\n",
       "    }\n",
       "\n",
       "    .dataframe thead th {\n",
       "        text-align: right;\n",
       "    }\n",
       "</style>\n",
       "<table border=\"1\" class=\"dataframe\">\n",
       "  <thead>\n",
       "    <tr style=\"text-align: right;\">\n",
       "      <th></th>\n",
       "      <th>0</th>\n",
       "      <th>1</th>\n",
       "      <th>2</th>\n",
       "      <th>3</th>\n",
       "      <th>4</th>\n",
       "      <th>5</th>\n",
       "      <th>6</th>\n",
       "      <th>7</th>\n",
       "      <th>8</th>\n",
       "    </tr>\n",
       "  </thead>\n",
       "  <tbody>\n",
       "    <tr>\n",
       "      <th>a</th>\n",
       "      <td>281656475</td>\n",
       "      <td>PAC-MAN Premium</td>\n",
       "      <td>100788224</td>\n",
       "      <td>28.99</td>\n",
       "      <td>21292</td>\n",
       "      <td>26</td>\n",
       "      <td>4.0</td>\n",
       "      <td>4.5</td>\n",
       "      <td>Games</td>\n",
       "    </tr>\n",
       "    <tr>\n",
       "      <th>b</th>\n",
       "      <td>281796108</td>\n",
       "      <td>Evernote - stay organized</td>\n",
       "      <td>158578688</td>\n",
       "      <td>25.00</td>\n",
       "      <td>161065</td>\n",
       "      <td>26</td>\n",
       "      <td>4.0</td>\n",
       "      <td>3.5</td>\n",
       "      <td>Productivity</td>\n",
       "    </tr>\n",
       "    <tr>\n",
       "      <th>c</th>\n",
       "      <td>281940292</td>\n",
       "      <td>WeatherBug - Local Weather, Radar, Maps, Alerts</td>\n",
       "      <td>100524032</td>\n",
       "      <td>25.00</td>\n",
       "      <td>188583</td>\n",
       "      <td>2822</td>\n",
       "      <td>3.5</td>\n",
       "      <td>4.5</td>\n",
       "      <td>Weather</td>\n",
       "    </tr>\n",
       "    <tr>\n",
       "      <th>d</th>\n",
       "      <td>282614216</td>\n",
       "      <td>eBay: Best App to Buy, Sell, Save! Online Shop...</td>\n",
       "      <td>128512000</td>\n",
       "      <td>25.00</td>\n",
       "      <td>262241</td>\n",
       "      <td>649</td>\n",
       "      <td>4.0</td>\n",
       "      <td>4.5</td>\n",
       "      <td>Shopping</td>\n",
       "    </tr>\n",
       "    <tr>\n",
       "      <th>e</th>\n",
       "      <td>282935706</td>\n",
       "      <td>Bible</td>\n",
       "      <td>92774400</td>\n",
       "      <td>25.00</td>\n",
       "      <td>985920</td>\n",
       "      <td>5320</td>\n",
       "      <td>4.5</td>\n",
       "      <td>5.0</td>\n",
       "      <td>Reference</td>\n",
       "    </tr>\n",
       "  </tbody>\n",
       "</table>\n",
       "</div>"
      ],
      "text/plain": [
       "           0                                                  1          2  \\\n",
       "a  281656475                                    PAC-MAN Premium  100788224   \n",
       "b  281796108                          Evernote - stay organized  158578688   \n",
       "c  281940292    WeatherBug - Local Weather, Radar, Maps, Alerts  100524032   \n",
       "d  282614216  eBay: Best App to Buy, Sell, Save! Online Shop...  128512000   \n",
       "e  282935706                                              Bible   92774400   \n",
       "\n",
       "       3       4     5    6    7             8  \n",
       "a  28.99   21292    26  4.0  4.5         Games  \n",
       "b  25.00  161065    26  4.0  3.5  Productivity  \n",
       "c  25.00  188583  2822  3.5  4.5       Weather  \n",
       "d  25.00  262241   649  4.0  4.5      Shopping  \n",
       "e  25.00  985920  5320  4.5  5.0     Reference  "
      ]
     },
     "execution_count": 108,
     "metadata": {},
     "output_type": "execute_result"
    }
   ],
   "source": [
    "df.columns=[i for i in range(len(df.columns))]\n",
    "\n",
    "df.head()"
   ]
  },
  {
   "cell_type": "code",
   "execution_count": 110,
   "id": "1c2cb79e",
   "metadata": {},
   "outputs": [
    {
     "data": {
      "text/plain": [
       "'Evernote - stay organized'"
      ]
     },
     "execution_count": 110,
     "metadata": {},
     "output_type": "execute_result"
    }
   ],
   "source": [
    "df.reset_index().loc[1, 1]"
   ]
  },
  {
   "cell_type": "code",
   "execution_count": 113,
   "id": "f501d784",
   "metadata": {},
   "outputs": [
    {
     "data": {
      "text/plain": [
       "'Evernote - stay organized'"
      ]
     },
     "execution_count": 113,
     "metadata": {},
     "output_type": "execute_result"
    }
   ],
   "source": [
    "df.reset_index().iloc[1, 2]"
   ]
  },
  {
   "cell_type": "code",
   "execution_count": null,
   "id": "58e7ec9f",
   "metadata": {},
   "outputs": [],
   "source": []
  }
 ],
 "metadata": {
  "kernelspec": {
   "display_name": "clase",
   "language": "python",
   "name": "clase"
  },
  "language_info": {
   "codemirror_mode": {
    "name": "ipython",
    "version": 3
   },
   "file_extension": ".py",
   "mimetype": "text/x-python",
   "name": "python",
   "nbconvert_exporter": "python",
   "pygments_lexer": "ipython3",
   "version": "3.9.7"
  }
 },
 "nbformat": 4,
 "nbformat_minor": 5
}
