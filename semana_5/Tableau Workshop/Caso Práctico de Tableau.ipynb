{
 "cells": [
  {
   "cell_type": "markdown",
   "id": "b354fbf5",
   "metadata": {},
   "source": [
    "## Importamos librerias"
   ]
  },
  {
   "cell_type": "code",
   "execution_count": 2,
   "id": "9eee0798",
   "metadata": {},
   "outputs": [],
   "source": [
    "import pandas as pd\n",
    "import numpy as np\n",
    "pd.set_option('display.max_columns', None)\n",
    "pd.set_option('display.max_rows', None)\n",
    "PATH = 'data/'"
   ]
  },
  {
   "cell_type": "markdown",
   "id": "2372c820",
   "metadata": {},
   "source": [
    "## Cargamos los datos\n",
    "\n",
    "    En este caso vamos a realizar un análisis de la jornada 4 para poder detectar que fichajes serían los más optimos de cara a la jornada del campeonato para tratar de obtener la mejor puntuación posible."
   ]
  },
  {
   "cell_type": "code",
   "execution_count": 5,
   "id": "492bffd9",
   "metadata": {},
   "outputs": [],
   "source": [
    "journey = pd.read_csv(PATH+ 'comunio_J4.csv')\n",
    "clas = pd.read_excel(PATH + 'classification_J_4.xlsx')"
   ]
  },
  {
   "cell_type": "code",
   "execution_count": 6,
   "id": "fba4642c",
   "metadata": {},
   "outputs": [
    {
     "name": "stdout",
     "output_type": "stream",
     "text": [
      "<class 'pandas.core.frame.DataFrame'>\n",
      "RangeIndex: 518 entries, 0 to 517\n",
      "Data columns (total 18 columns):\n",
      " #   Column               Non-Null Count  Dtype  \n",
      "---  ------               --------------  -----  \n",
      " 0   Team_id              518 non-null    int64  \n",
      " 1   Team                 518 non-null    object \n",
      " 2   Player               518 non-null    object \n",
      " 3   Position             518 non-null    object \n",
      " 4   Matchs               518 non-null    int64  \n",
      " 5   On_start_%           518 non-null    int64  \n",
      " 6   Goals                518 non-null    int64  \n",
      " 7   Assists              518 non-null    int64  \n",
      " 8   Total_Points         518 non-null    int64  \n",
      " 9   Points_Average       518 non-null    float64\n",
      " 10  Last_5_games_points  518 non-null    object \n",
      " 11  J_4                  518 non-null    int64  \n",
      " 12  J_3                  518 non-null    int64  \n",
      " 13  J_2                  518 non-null    int64  \n",
      " 14  J_1                  518 non-null    int64  \n",
      " 15  J_0                  518 non-null    int64  \n",
      " 16  Avg_last_5_games     518 non-null    float64\n",
      " 17  Value                518 non-null    int64  \n",
      "dtypes: float64(2), int64(12), object(4)\n",
      "memory usage: 73.0+ KB\n"
     ]
    }
   ],
   "source": [
    "journey.info()"
   ]
  },
  {
   "cell_type": "code",
   "execution_count": 7,
   "id": "919096ed",
   "metadata": {},
   "outputs": [
    {
     "name": "stdout",
     "output_type": "stream",
     "text": [
      "<class 'pandas.core.frame.DataFrame'>\n",
      "RangeIndex: 20 entries, 0 to 19\n",
      "Data columns (total 11 columns):\n",
      " #   Column      Non-Null Count  Dtype \n",
      "---  ------      --------------  ----- \n",
      " 0   Unnamed: 0  20 non-null     int64 \n",
      " 1   Position    20 non-null     int64 \n",
      " 2   Team        20 non-null     object\n",
      " 3   Games       20 non-null     int64 \n",
      " 4   Won         20 non-null     int64 \n",
      " 5   Draw        20 non-null     int64 \n",
      " 6   Lost        20 non-null     int64 \n",
      " 7   Goals S.    20 non-null     int64 \n",
      " 8   Goals R.    20 non-null     int64 \n",
      " 9   GD          20 non-null     int64 \n",
      " 10  PTS         20 non-null     int64 \n",
      "dtypes: int64(10), object(1)\n",
      "memory usage: 1.8+ KB\n"
     ]
    }
   ],
   "source": [
    "clas.info()"
   ]
  },
  {
   "cell_type": "markdown",
   "id": "4efbc0b3",
   "metadata": {},
   "source": [
    "*Con los datos cargados vamos a realizar las transformaciones y filtros necesarios para obtener la tabla que necesitamos para el dashboard*"
   ]
  },
  {
   "cell_type": "code",
   "execution_count": 10,
   "id": "310717dd",
   "metadata": {},
   "outputs": [],
   "source": [
    "journey = journey.drop('Last_5_games_points', axis=1)"
   ]
  },
  {
   "cell_type": "code",
   "execution_count": 12,
   "id": "3bbc9aa4",
   "metadata": {},
   "outputs": [],
   "source": [
    "clas = clas.drop('Unnamed: 0', axis=1)"
   ]
  },
  {
   "cell_type": "markdown",
   "id": "3e8d70e0",
   "metadata": {},
   "source": [
    "Filtramos el df para extraer los mejores jugadores por posición"
   ]
  },
  {
   "cell_type": "code",
   "execution_count": 13,
   "id": "6114c91e",
   "metadata": {},
   "outputs": [],
   "source": [
    "gk = journey.loc[journey['Position']=='PT'].sort_values('Total_Points', ascending=False)[:5]\n",
    "df = journey.loc[journey['Position']=='DF'].sort_values('Total_Points', ascending=False)[:10]\n",
    "md = journey.loc[journey['Position']=='MD'].sort_values('Total_Points', ascending=False)[:10]\n",
    "dl = journey.loc[journey['Position']=='DL'].sort_values('Total_Points', ascending=False)[:10]"
   ]
  },
  {
   "cell_type": "code",
   "execution_count": 14,
   "id": "c1fb8f2a",
   "metadata": {},
   "outputs": [],
   "source": [
    "pos = [gk, df, md, dl]"
   ]
  },
  {
   "cell_type": "code",
   "execution_count": 15,
   "id": "5f65c778",
   "metadata": {},
   "outputs": [
    {
     "data": {
      "text/html": [
       "<div>\n",
       "<style scoped>\n",
       "    .dataframe tbody tr th:only-of-type {\n",
       "        vertical-align: middle;\n",
       "    }\n",
       "\n",
       "    .dataframe tbody tr th {\n",
       "        vertical-align: top;\n",
       "    }\n",
       "\n",
       "    .dataframe thead th {\n",
       "        text-align: right;\n",
       "    }\n",
       "</style>\n",
       "<table border=\"1\" class=\"dataframe\">\n",
       "  <thead>\n",
       "    <tr style=\"text-align: right;\">\n",
       "      <th></th>\n",
       "      <th>Team_id</th>\n",
       "      <th>Team</th>\n",
       "      <th>Player</th>\n",
       "      <th>Position</th>\n",
       "      <th>Matchs</th>\n",
       "      <th>On_start_%</th>\n",
       "      <th>Goals</th>\n",
       "      <th>Assists</th>\n",
       "      <th>Total_Points</th>\n",
       "      <th>Points_Average</th>\n",
       "      <th>J_4</th>\n",
       "      <th>J_3</th>\n",
       "      <th>J_2</th>\n",
       "      <th>J_1</th>\n",
       "      <th>J_0</th>\n",
       "      <th>Avg_last_5_games</th>\n",
       "      <th>Value</th>\n",
       "    </tr>\n",
       "  </thead>\n",
       "  <tbody>\n",
       "    <tr>\n",
       "      <th>281</th>\n",
       "      <td>12</td>\n",
       "      <td>Villarreal CF</td>\n",
       "      <td>Rulli</td>\n",
       "      <td>PT</td>\n",
       "      <td>4</td>\n",
       "      <td>100</td>\n",
       "      <td>0</td>\n",
       "      <td>0</td>\n",
       "      <td>36</td>\n",
       "      <td>9.0</td>\n",
       "      <td>12</td>\n",
       "      <td>11</td>\n",
       "      <td>8</td>\n",
       "      <td>5</td>\n",
       "      <td>0</td>\n",
       "      <td>7.2</td>\n",
       "      <td>4990000</td>\n",
       "    </tr>\n",
       "    <tr>\n",
       "      <th>101</th>\n",
       "      <td>5</td>\n",
       "      <td>FC Barcelona</td>\n",
       "      <td>Ter Stegen</td>\n",
       "      <td>PT</td>\n",
       "      <td>4</td>\n",
       "      <td>100</td>\n",
       "      <td>0</td>\n",
       "      <td>0</td>\n",
       "      <td>32</td>\n",
       "      <td>8.0</td>\n",
       "      <td>8</td>\n",
       "      <td>7</td>\n",
       "      <td>7</td>\n",
       "      <td>10</td>\n",
       "      <td>0</td>\n",
       "      <td>6.4</td>\n",
       "      <td>5880000</td>\n",
       "    </tr>\n",
       "    <tr>\n",
       "      <th>387</th>\n",
       "      <td>16</td>\n",
       "      <td>UD Almería</td>\n",
       "      <td>Fernando Martínez</td>\n",
       "      <td>PT</td>\n",
       "      <td>4</td>\n",
       "      <td>100</td>\n",
       "      <td>0</td>\n",
       "      <td>0</td>\n",
       "      <td>29</td>\n",
       "      <td>7.3</td>\n",
       "      <td>12</td>\n",
       "      <td>4</td>\n",
       "      <td>7</td>\n",
       "      <td>6</td>\n",
       "      <td>0</td>\n",
       "      <td>5.8</td>\n",
       "      <td>3310000</td>\n",
       "    </tr>\n",
       "    <tr>\n",
       "      <th>226</th>\n",
       "      <td>10</td>\n",
       "      <td>Real Betis Balompié</td>\n",
       "      <td>Rui Silva</td>\n",
       "      <td>PT</td>\n",
       "      <td>4</td>\n",
       "      <td>100</td>\n",
       "      <td>0</td>\n",
       "      <td>0</td>\n",
       "      <td>26</td>\n",
       "      <td>6.5</td>\n",
       "      <td>7</td>\n",
       "      <td>9</td>\n",
       "      <td>8</td>\n",
       "      <td>2</td>\n",
       "      <td>0</td>\n",
       "      <td>5.2</td>\n",
       "      <td>3280000</td>\n",
       "    </tr>\n",
       "    <tr>\n",
       "      <th>415</th>\n",
       "      <td>17</td>\n",
       "      <td>Elche CF</td>\n",
       "      <td>Édgar Badía</td>\n",
       "      <td>PT</td>\n",
       "      <td>4</td>\n",
       "      <td>100</td>\n",
       "      <td>0</td>\n",
       "      <td>0</td>\n",
       "      <td>23</td>\n",
       "      <td>5.8</td>\n",
       "      <td>2</td>\n",
       "      <td>7</td>\n",
       "      <td>10</td>\n",
       "      <td>4</td>\n",
       "      <td>0</td>\n",
       "      <td>4.6</td>\n",
       "      <td>2900000</td>\n",
       "    </tr>\n",
       "  </tbody>\n",
       "</table>\n",
       "</div>"
      ],
      "text/plain": [
       "     Team_id                 Team             Player Position  Matchs  \\\n",
       "281       12        Villarreal CF              Rulli       PT       4   \n",
       "101        5         FC Barcelona         Ter Stegen       PT       4   \n",
       "387       16           UD Almería  Fernando Martínez       PT       4   \n",
       "226       10  Real Betis Balompié          Rui Silva       PT       4   \n",
       "415       17             Elche CF        Édgar Badía       PT       4   \n",
       "\n",
       "     On_start_%  Goals  Assists  Total_Points  Points_Average  J_4  J_3  J_2  \\\n",
       "281         100      0        0            36             9.0   12   11    8   \n",
       "101         100      0        0            32             8.0    8    7    7   \n",
       "387         100      0        0            29             7.3   12    4    7   \n",
       "226         100      0        0            26             6.5    7    9    8   \n",
       "415         100      0        0            23             5.8    2    7   10   \n",
       "\n",
       "     J_1  J_0  Avg_last_5_games    Value  \n",
       "281    5    0               7.2  4990000  \n",
       "101   10    0               6.4  5880000  \n",
       "387    6    0               5.8  3310000  \n",
       "226    2    0               5.2  3280000  \n",
       "415    4    0               4.6  2900000  "
      ]
     },
     "execution_count": 15,
     "metadata": {},
     "output_type": "execute_result"
    }
   ],
   "source": [
    "top_players = pd.DataFrame()\n",
    "\n",
    "for p in pos:\n",
    "    top_players = pd.concat([top_players, pd.DataFrame(p)], axis=0)\n",
    "\n",
    "top_players.head()"
   ]
  },
  {
   "cell_type": "markdown",
   "id": "cb5814be",
   "metadata": {},
   "source": [
    "## Ahora vamos ha realizar un poco ingeniería de datos para obtener algunas columnas que nos puedas ayudar al estudio"
   ]
  },
  {
   "cell_type": "markdown",
   "id": "457a9b37",
   "metadata": {},
   "source": [
    "*En primer lugar vamos a añadir una columna para obtener el precio por puntos totales de cada jugador*"
   ]
  },
  {
   "cell_type": "code",
   "execution_count": 16,
   "id": "a54cd4a9",
   "metadata": {},
   "outputs": [],
   "source": [
    "top_players['Price_per_Total_Points'] = (top_players['Value']/top_players.Total_Points).apply(lambda x: '{0:.2f}'.format(x))"
   ]
  },
  {
   "cell_type": "markdown",
   "id": "43bf7948",
   "metadata": {},
   "source": [
    "*Ahora hacemos lo mismo pero únicamente calculando el valor por punto obtenido en las últimas cinco jornadas*"
   ]
  },
  {
   "cell_type": "code",
   "execution_count": 17,
   "id": "24c52394",
   "metadata": {},
   "outputs": [],
   "source": [
    "top_players['Price_per_Points_Last_4_J'] = (top_players['Value']/ (top_players['J_4']\n",
    "                                                    + top_players['J_3']\n",
    "                                                    + top_players['J_2']\n",
    "                                                    + top_players['J_1'])).apply(lambda x: '{0:.2f}'.format(x))\n",
    "    "
   ]
  },
  {
   "cell_type": "code",
   "execution_count": 18,
   "id": "15e901ea",
   "metadata": {},
   "outputs": [],
   "source": [
    "top_players.Avg_last_5_games = round((top_players.J_4+top_players.J_3+top_players.J_2+top_players.J_1)/4, 1)"
   ]
  },
  {
   "cell_type": "code",
   "execution_count": 19,
   "id": "5306b3e0",
   "metadata": {},
   "outputs": [
    {
     "data": {
      "text/html": [
       "<div>\n",
       "<style scoped>\n",
       "    .dataframe tbody tr th:only-of-type {\n",
       "        vertical-align: middle;\n",
       "    }\n",
       "\n",
       "    .dataframe tbody tr th {\n",
       "        vertical-align: top;\n",
       "    }\n",
       "\n",
       "    .dataframe thead th {\n",
       "        text-align: right;\n",
       "    }\n",
       "</style>\n",
       "<table border=\"1\" class=\"dataframe\">\n",
       "  <thead>\n",
       "    <tr style=\"text-align: right;\">\n",
       "      <th></th>\n",
       "      <th>Team_id</th>\n",
       "      <th>Team</th>\n",
       "      <th>Player</th>\n",
       "      <th>Position</th>\n",
       "      <th>Matchs</th>\n",
       "      <th>On_start_%</th>\n",
       "      <th>Goals</th>\n",
       "      <th>Assists</th>\n",
       "      <th>Total_Points</th>\n",
       "      <th>Points_Average</th>\n",
       "      <th>J_4</th>\n",
       "      <th>J_3</th>\n",
       "      <th>J_2</th>\n",
       "      <th>J_1</th>\n",
       "      <th>J_0</th>\n",
       "      <th>Avg_last_5_games</th>\n",
       "      <th>Value</th>\n",
       "      <th>Price_per_Total_Points</th>\n",
       "      <th>Price_per_Points_Last_4_J</th>\n",
       "    </tr>\n",
       "  </thead>\n",
       "  <tbody>\n",
       "    <tr>\n",
       "      <th>281</th>\n",
       "      <td>12</td>\n",
       "      <td>Villarreal CF</td>\n",
       "      <td>Rulli</td>\n",
       "      <td>PT</td>\n",
       "      <td>4</td>\n",
       "      <td>100</td>\n",
       "      <td>0</td>\n",
       "      <td>0</td>\n",
       "      <td>36</td>\n",
       "      <td>9.0</td>\n",
       "      <td>12</td>\n",
       "      <td>11</td>\n",
       "      <td>8</td>\n",
       "      <td>5</td>\n",
       "      <td>0</td>\n",
       "      <td>9.0</td>\n",
       "      <td>4990000</td>\n",
       "      <td>138611.11</td>\n",
       "      <td>138611.11</td>\n",
       "    </tr>\n",
       "    <tr>\n",
       "      <th>101</th>\n",
       "      <td>5</td>\n",
       "      <td>FC Barcelona</td>\n",
       "      <td>Ter Stegen</td>\n",
       "      <td>PT</td>\n",
       "      <td>4</td>\n",
       "      <td>100</td>\n",
       "      <td>0</td>\n",
       "      <td>0</td>\n",
       "      <td>32</td>\n",
       "      <td>8.0</td>\n",
       "      <td>8</td>\n",
       "      <td>7</td>\n",
       "      <td>7</td>\n",
       "      <td>10</td>\n",
       "      <td>0</td>\n",
       "      <td>8.0</td>\n",
       "      <td>5880000</td>\n",
       "      <td>183750.00</td>\n",
       "      <td>183750.00</td>\n",
       "    </tr>\n",
       "    <tr>\n",
       "      <th>387</th>\n",
       "      <td>16</td>\n",
       "      <td>UD Almería</td>\n",
       "      <td>Fernando Martínez</td>\n",
       "      <td>PT</td>\n",
       "      <td>4</td>\n",
       "      <td>100</td>\n",
       "      <td>0</td>\n",
       "      <td>0</td>\n",
       "      <td>29</td>\n",
       "      <td>7.3</td>\n",
       "      <td>12</td>\n",
       "      <td>4</td>\n",
       "      <td>7</td>\n",
       "      <td>6</td>\n",
       "      <td>0</td>\n",
       "      <td>7.2</td>\n",
       "      <td>3310000</td>\n",
       "      <td>114137.93</td>\n",
       "      <td>114137.93</td>\n",
       "    </tr>\n",
       "    <tr>\n",
       "      <th>226</th>\n",
       "      <td>10</td>\n",
       "      <td>Real Betis Balompié</td>\n",
       "      <td>Rui Silva</td>\n",
       "      <td>PT</td>\n",
       "      <td>4</td>\n",
       "      <td>100</td>\n",
       "      <td>0</td>\n",
       "      <td>0</td>\n",
       "      <td>26</td>\n",
       "      <td>6.5</td>\n",
       "      <td>7</td>\n",
       "      <td>9</td>\n",
       "      <td>8</td>\n",
       "      <td>2</td>\n",
       "      <td>0</td>\n",
       "      <td>6.5</td>\n",
       "      <td>3280000</td>\n",
       "      <td>126153.85</td>\n",
       "      <td>126153.85</td>\n",
       "    </tr>\n",
       "    <tr>\n",
       "      <th>415</th>\n",
       "      <td>17</td>\n",
       "      <td>Elche CF</td>\n",
       "      <td>Édgar Badía</td>\n",
       "      <td>PT</td>\n",
       "      <td>4</td>\n",
       "      <td>100</td>\n",
       "      <td>0</td>\n",
       "      <td>0</td>\n",
       "      <td>23</td>\n",
       "      <td>5.8</td>\n",
       "      <td>2</td>\n",
       "      <td>7</td>\n",
       "      <td>10</td>\n",
       "      <td>4</td>\n",
       "      <td>0</td>\n",
       "      <td>5.8</td>\n",
       "      <td>2900000</td>\n",
       "      <td>126086.96</td>\n",
       "      <td>126086.96</td>\n",
       "    </tr>\n",
       "  </tbody>\n",
       "</table>\n",
       "</div>"
      ],
      "text/plain": [
       "     Team_id                 Team             Player Position  Matchs  \\\n",
       "281       12        Villarreal CF              Rulli       PT       4   \n",
       "101        5         FC Barcelona         Ter Stegen       PT       4   \n",
       "387       16           UD Almería  Fernando Martínez       PT       4   \n",
       "226       10  Real Betis Balompié          Rui Silva       PT       4   \n",
       "415       17             Elche CF        Édgar Badía       PT       4   \n",
       "\n",
       "     On_start_%  Goals  Assists  Total_Points  Points_Average  J_4  J_3  J_2  \\\n",
       "281         100      0        0            36             9.0   12   11    8   \n",
       "101         100      0        0            32             8.0    8    7    7   \n",
       "387         100      0        0            29             7.3   12    4    7   \n",
       "226         100      0        0            26             6.5    7    9    8   \n",
       "415         100      0        0            23             5.8    2    7   10   \n",
       "\n",
       "     J_1  J_0  Avg_last_5_games    Value Price_per_Total_Points  \\\n",
       "281    5    0               9.0  4990000              138611.11   \n",
       "101   10    0               8.0  5880000              183750.00   \n",
       "387    6    0               7.2  3310000              114137.93   \n",
       "226    2    0               6.5  3280000              126153.85   \n",
       "415    4    0               5.8  2900000              126086.96   \n",
       "\n",
       "    Price_per_Points_Last_4_J  \n",
       "281                 138611.11  \n",
       "101                 183750.00  \n",
       "387                 114137.93  \n",
       "226                 126153.85  \n",
       "415                 126086.96  "
      ]
     },
     "execution_count": 19,
     "metadata": {},
     "output_type": "execute_result"
    }
   ],
   "source": [
    "top_players.head()"
   ]
  },
  {
   "cell_type": "markdown",
   "id": "8971102e",
   "metadata": {},
   "source": [
    "### Una vez que tenemos la tabla con los datos la exportamos a excel para poder cargarla en Tableau "
   ]
  },
  {
   "cell_type": "code",
   "execution_count": 20,
   "id": "6d14616b",
   "metadata": {},
   "outputs": [],
   "source": [
    "with pd.ExcelWriter(PATH + 'comunio_tableau_J4.xlsx') as writer:  \n",
    "    top_players.to_excel(writer, sheet_name='top_players', index=False)\n",
    "    clas.to_excel(writer, sheet_name='classification', index=False)"
   ]
  },
  {
   "cell_type": "code",
   "execution_count": null,
   "id": "05ddf566",
   "metadata": {},
   "outputs": [],
   "source": []
  },
  {
   "cell_type": "code",
   "execution_count": null,
   "id": "81d6551a",
   "metadata": {},
   "outputs": [],
   "source": []
  },
  {
   "cell_type": "code",
   "execution_count": null,
   "id": "cdbe8044",
   "metadata": {},
   "outputs": [],
   "source": []
  },
  {
   "cell_type": "code",
   "execution_count": null,
   "id": "34c0f02a",
   "metadata": {},
   "outputs": [],
   "source": []
  },
  {
   "cell_type": "code",
   "execution_count": null,
   "id": "87468667",
   "metadata": {},
   "outputs": [],
   "source": []
  },
  {
   "cell_type": "code",
   "execution_count": null,
   "id": "22418304",
   "metadata": {},
   "outputs": [],
   "source": []
  }
 ],
 "metadata": {
  "kernelspec": {
   "display_name": "Python 3 (ipykernel)",
   "language": "python",
   "name": "python3"
  },
  "language_info": {
   "codemirror_mode": {
    "name": "ipython",
    "version": 3
   },
   "file_extension": ".py",
   "mimetype": "text/x-python",
   "name": "python",
   "nbconvert_exporter": "python",
   "pygments_lexer": "ipython3",
   "version": "3.9.12"
  }
 },
 "nbformat": 4,
 "nbformat_minor": 5
}
