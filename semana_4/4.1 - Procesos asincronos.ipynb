{
 "cells": [
  {
   "cell_type": "markdown",
   "metadata": {},
   "source": [
    "# 4.1 - Procesos asíncronos\n",
    "\n",
    "\n",
    "![async](images/async.png)\n",
    "\n",
    "\n",
    "\n",
    "\n",
    "**[Documentación](https://docs.python.org/3/library/asyncio.html)**\n",
    "\n",
    "\n",
    "**asyncio** es una biblioteca para escribir código [concurrente](https://es.wikipedia.org/wiki/Concurrencia_(inform%C3%A1tica)) utilizando la sintaxis async/await. Se utiliza como base en múltiples frameworks asíncronos de Python y provee un alto rendimiento en redes y servidores web, bibliotecas de conexión de base de datos, colas de tareas distribuidas, etc.\n",
    "\n",
    "Suele encajar perfectamente para operaciones con límite de E/S y código de red estructurado de alto nivel. Además provee un conjunto de APIs de alto nivel para:\n",
    "\n",
    "+ ejecutar corutinas de Python de manera concurrente y tener control total sobre su ejecución\n",
    "\n",
    "+ realizar redes E/S y comunicación entre procesos(IPC)\n",
    "\n",
    "+ controlar subprocesos\n",
    "\n",
    "+ distribuir tareas a través de colas\n",
    "\n",
    "+ sincronizar código concurrente\n",
    "\n",
    "Adicionalmente, existen APIs de bajo nivel para desarrolladores de bibliotecas y frameworks para:\n",
    "\n",
    "+ crear y administrar bucles de eventos, los cuales proveen APIs asíncronas para redes, ejecutando subprocesos, gestionando señales del sistema operativo, etc..\n",
    "\n",
    "+ implementar protocolos eficientes utilizando transportes\n",
    "\n",
    "+ bibliotecas puente basadas en retrollamadas y código con sintaxis async/wait\n",
    "\n",
    "$$$$\n",
    "\n",
    "Nosotros nos enfocaremos en el uso de bucles de eventos para la extracción de datos de la web.\n"
   ]
  },
  {
   "cell_type": "markdown",
   "metadata": {},
   "source": [
    "### Hola Mundo"
   ]
  },
  {
   "cell_type": "code",
   "execution_count": 1,
   "metadata": {},
   "outputs": [
    {
     "name": "stdout",
     "output_type": "stream",
     "text": [
      "Hola...\n",
      "Pero que pasa\n"
     ]
    }
   ],
   "source": [
    "import asyncio\n",
    "\n",
    "# funcion asincrona\n",
    "\n",
    "\n",
    "async def saludar():\n",
    "    \n",
    "    print('Hola...')\n",
    "    \n",
    "    await asyncio.sleep(3)\n",
    "    \n",
    "    print('Pero que pasa')\n",
    "    \n",
    "\n",
    "    \n",
    "await saludar()           # en jupyter\n",
    "#asyncio.run(saludar())   # en un .py"
   ]
  },
  {
   "cell_type": "markdown",
   "metadata": {},
   "source": [
    "### Ejemplo response\n",
    "\n",
    "Comprobando la respuesta de tres urls."
   ]
  },
  {
   "cell_type": "code",
   "execution_count": 2,
   "metadata": {},
   "outputs": [],
   "source": [
    "import requests as req"
   ]
  },
  {
   "cell_type": "code",
   "execution_count": 3,
   "metadata": {},
   "outputs": [
    {
     "data": {
      "text/plain": [
       "<Response [200]>"
      ]
     },
     "execution_count": 3,
     "metadata": {},
     "output_type": "execute_result"
    }
   ],
   "source": [
    "url='https://s3-eu-west-1.amazonaws.com/'\n",
    "\n",
    "req.get(url)"
   ]
  },
  {
   "cell_type": "code",
   "execution_count": 4,
   "metadata": {},
   "outputs": [],
   "source": [
    "urls=[\n",
    "    'https://s3-eu-west-1.amazonaws.com/ih-materials/uploads/data-static/documents/breakfast.jpg',\n",
    "    'https://s3-eu-west-1.amazonaws.com/ih-materials/uploads/data-static/documents/forbidden',\n",
    "    'https://s3-eu-west-1.amazonaws.com/ih-materials/uploads/data-static/documents/the-html5-breakfast-site.html'\n",
    "]"
   ]
  },
  {
   "cell_type": "code",
   "execution_count": 8,
   "metadata": {},
   "outputs": [
    {
     "name": "stdout",
     "output_type": "stream",
     "text": [
      "200\n",
      "403\n",
      "200\n"
     ]
    }
   ],
   "source": [
    "for url in urls:        # de una en una\n",
    "    print(req.get(url).status_code)"
   ]
  },
  {
   "cell_type": "code",
   "execution_count": 10,
   "metadata": {},
   "outputs": [
    {
     "name": "stdout",
     "output_type": "stream",
     "text": [
      "200\n",
      "403\n",
      "200\n"
     ]
    }
   ],
   "source": [
    "# asincrono\n",
    "\n",
    "async def comprobar():\n",
    "    \n",
    "    bucle=asyncio.get_event_loop()   # bucle asincrono\n",
    "    \n",
    "    #futuros=[bucle.run_in_executor(None, req.get, url) for url in urls]\n",
    "    futuros=[]\n",
    "    \n",
    "    for url in urls:\n",
    "        \n",
    "        promesa=bucle.run_in_executor(None, req.get, url)\n",
    "        \n",
    "        futuros.append(promesa)\n",
    "        \n",
    "    for res in await asyncio.gather(*futuros):  # aqui se los pido, los response\n",
    "        print(res.status_code)\n",
    "        \n",
    "        \n",
    "await comprobar()\n",
    "    "
   ]
  },
  {
   "cell_type": "markdown",
   "metadata": {},
   "source": [
    "### Ejemplo ESPN\n",
    "\n",
    "Volvamos al ejemplo de scrapeo de la págine de ESPN. Vamos a realizar múltiples requests para obtener los datos de todos los equipos.\n",
    "\n",
    "\n",
    "https://www.espn.com/soccer/competitions"
   ]
  },
  {
   "cell_type": "code",
   "execution_count": 11,
   "metadata": {},
   "outputs": [
    {
     "name": "stderr",
     "output_type": "stream",
     "text": [
      "\n",
      "\n",
      "====== WebDriver manager ======\n",
      "Current google-chrome version is 105.0.5195\n",
      "Get LATEST chromedriver version for 105.0.5195 google-chrome\n",
      "Trying to download new driver from https://chromedriver.storage.googleapis.com/105.0.5195.52/chromedriver_mac64_m1.zip\n",
      "Driver has been saved in cache [/Users/iudh/.wdm/drivers/chromedriver/mac64_m1/105.0.5195.52]\n"
     ]
    }
   ],
   "source": [
    "from selenium import webdriver\n",
    "\n",
    "import time\n",
    "\n",
    "import pandas as pd\n",
    "\n",
    "from webdriver_manager.chrome import ChromeDriverManager\n",
    "\n",
    "PATH=ChromeDriverManager().install()\n",
    "\n",
    "import warnings\n",
    "warnings.filterwarnings('ignore')"
   ]
  },
  {
   "cell_type": "code",
   "execution_count": 12,
   "metadata": {},
   "outputs": [],
   "source": [
    "url='https://www.espn.com/soccer/competitions'"
   ]
  },
  {
   "cell_type": "code",
   "execution_count": 19,
   "metadata": {},
   "outputs": [],
   "source": [
    "driver=webdriver.Chrome(PATH)\n",
    "\n",
    "driver.get(url)\n",
    "\n",
    "# cookies\n",
    "aceptar=driver.find_element_by_xpath('//*[@id=\"onetrust-accept-btn-handler\"]')\n",
    "aceptar.click()\n",
    "\n",
    "time.sleep(4)\n",
    "\n",
    "# selecciona equipos laliga\n",
    "equipos=driver.find_element_by_xpath('//*[@id=\"fittPageContainer\"]/div[3]/div/div[1]/div/div[2]/div[2]/div/div[4]/div/section/div/div/span[2]/a')\n",
    "equipos.click()\n",
    "\n",
    "time.sleep(2)"
   ]
  },
  {
   "cell_type": "code",
   "execution_count": 23,
   "metadata": {},
   "outputs": [
    {
     "data": {
      "text/plain": [
       "['https://www.espn.com/soccer/team/stats/_/id/6832/almeria',\n",
       " 'https://www.espn.com/soccer/team/stats/_/id/93/athletic-club',\n",
       " 'https://www.espn.com/soccer/team/stats/_/id/1068/atletico-madrid',\n",
       " 'https://www.espn.com/soccer/team/stats/_/id/83/barcelona',\n",
       " 'https://www.espn.com/soccer/team/stats/_/id/85/celta-vigo',\n",
       " 'https://www.espn.com/soccer/team/stats/_/id/3842/cadiz',\n",
       " 'https://www.espn.com/soccer/team/stats/_/id/3751/elche',\n",
       " 'https://www.espn.com/soccer/team/stats/_/id/88/espanyol',\n",
       " 'https://www.espn.com/soccer/team/stats/_/id/2922/getafe',\n",
       " 'https://www.espn.com/soccer/team/stats/_/id/9812/girona',\n",
       " 'https://www.espn.com/soccer/team/stats/_/id/84/mallorca',\n",
       " 'https://www.espn.com/soccer/team/stats/_/id/97/osasuna',\n",
       " 'https://www.espn.com/soccer/team/stats/_/id/101/rayo-vallecano',\n",
       " 'https://www.espn.com/soccer/team/stats/_/id/244/real-betis',\n",
       " 'https://www.espn.com/soccer/team/stats/_/id/86/real-madrid',\n",
       " 'https://www.espn.com/soccer/team/stats/_/id/89/real-sociedad',\n",
       " 'https://www.espn.com/soccer/team/stats/_/id/95/real-valladolid',\n",
       " 'https://www.espn.com/soccer/team/stats/_/id/243/sevilla',\n",
       " 'https://www.espn.com/soccer/team/stats/_/id/94/valencia',\n",
       " 'https://www.espn.com/soccer/team/stats/_/id/102/villarreal']"
      ]
     },
     "execution_count": 23,
     "metadata": {},
     "output_type": "execute_result"
    }
   ],
   "source": [
    "stats=driver.find_elements_by_css_selector('a.AnchorLink')\n",
    "\n",
    "teams_stats=[]\n",
    "\n",
    "for e in stats:\n",
    "    \n",
    "    link=e.get_attribute('href')\n",
    "    \n",
    "    if '/team/stats/' in link:\n",
    "        teams_stats.append(link)\n",
    "    else:\n",
    "        continue\n",
    "\n",
    "\n",
    "driver.quit()\n",
    "\n",
    "teams_stats"
   ]
  },
  {
   "cell_type": "markdown",
   "metadata": {},
   "source": [
    "**Extracción asincrónica**"
   ]
  },
  {
   "cell_type": "code",
   "execution_count": 24,
   "metadata": {},
   "outputs": [],
   "source": [
    "def asincrono(funcion):\n",
    "    \n",
    "    def eventos(*args, **kwargs):\n",
    "        return asyncio.get_event_loop().run_in_executor(None, funcion, *args, **kwargs)\n",
    "    \n",
    "    return eventos"
   ]
  },
  {
   "cell_type": "code",
   "execution_count": 53,
   "metadata": {},
   "outputs": [],
   "source": [
    "DATOS=[]\n",
    "\n",
    "CABECERAS=[]"
   ]
  },
  {
   "cell_type": "code",
   "execution_count": 54,
   "metadata": {},
   "outputs": [],
   "source": [
    "@asincrono\n",
    "def extraer(url):\n",
    "    \n",
    "    global DATOS, CABECERAS\n",
    "    \n",
    "    # inicia el driver\n",
    "    driver=webdriver.Chrome(PATH)\n",
    "    driver.get(url)\n",
    "\n",
    "    time.sleep(2)\n",
    "\n",
    "    # acepta cookies\n",
    "    aceptar=driver.find_element_by_xpath('//*[@id=\"onetrust-accept-btn-handler\"]')\n",
    "    aceptar.click()\n",
    "\n",
    "    time.sleep(2)\n",
    "    \n",
    "    # disciplina\n",
    "    dis=driver.find_element_by_xpath('//*[@id=\"fittPageContainer\"]/div[2]/div[5]/div/div[1]/section/div/div[2]/nav/ul/li[2]/a')\n",
    "    dis.click()\n",
    "\n",
    "    time.sleep(2)\n",
    "    \n",
    "    tabla=driver.find_element_by_tag_name('tbody')\n",
    "\n",
    "    filas=tabla.find_elements_by_tag_name('tr')\n",
    "\n",
    "\n",
    "    data=[]\n",
    "\n",
    "    for f in filas:\n",
    "\n",
    "        elementos=f.find_elements_by_tag_name('td') \n",
    "\n",
    "        tmp=[]\n",
    "\n",
    "        for e in elementos:\n",
    "\n",
    "            tmp.append(e.text)\n",
    "            \n",
    "        tmp.append(url.split('/')[-1])\n",
    "        data.append(tmp)\n",
    "        \n",
    "\n",
    "    cabeceras=driver.find_element_by_tag_name('thead')\n",
    "\n",
    "    cabeceras=[c.text for c in cabeceras.find_elements_by_tag_name('th')]+['TEAM']\n",
    "    \n",
    "    \n",
    "    DATOS+=data\n",
    "\n",
    "    CABECERAS=cabeceras"
   ]
  },
  {
   "cell_type": "code",
   "execution_count": 55,
   "metadata": {},
   "outputs": [
    {
     "data": {
      "text/plain": [
       "<Future pending cb=[_chain_future.<locals>._call_check_cancel() at /Users/iudh/miniforge3/envs/clase/lib/python3.9/asyncio/futures.py:384]>"
      ]
     },
     "metadata": {},
     "output_type": "display_data"
    },
    {
     "data": {
      "text/plain": [
       "<Future pending cb=[_chain_future.<locals>._call_check_cancel() at /Users/iudh/miniforge3/envs/clase/lib/python3.9/asyncio/futures.py:384]>"
      ]
     },
     "metadata": {},
     "output_type": "display_data"
    },
    {
     "data": {
      "text/plain": [
       "<Future pending cb=[_chain_future.<locals>._call_check_cancel() at /Users/iudh/miniforge3/envs/clase/lib/python3.9/asyncio/futures.py:384]>"
      ]
     },
     "metadata": {},
     "output_type": "display_data"
    },
    {
     "data": {
      "text/plain": [
       "<Future pending cb=[_chain_future.<locals>._call_check_cancel() at /Users/iudh/miniforge3/envs/clase/lib/python3.9/asyncio/futures.py:384]>"
      ]
     },
     "metadata": {},
     "output_type": "display_data"
    },
    {
     "data": {
      "text/plain": [
       "<Future pending cb=[_chain_future.<locals>._call_check_cancel() at /Users/iudh/miniforge3/envs/clase/lib/python3.9/asyncio/futures.py:384]>"
      ]
     },
     "metadata": {},
     "output_type": "display_data"
    },
    {
     "name": "stderr",
     "output_type": "stream",
     "text": [
      "2022-09-01 09:49:23,506 [5743] ERROR    asyncio:1738: [JupyterRequire] Future exception was never retrieved\n",
      "future: <Future finished exception=StaleElementReferenceException('stale element reference: element is not attached to the page document\\n  (Session info: chrome=105.0.5195.52)', None, ['0   chromedriver                        0x0000000100fc5a90 chromedriver + 3889808', '1   chromedriver                        0x0000000100f54b54 chromedriver + 3427156', '2   chromedriver                        0x0000000100c46238 chromedriver + 221752', '3   chromedriver                        0x0000000100c48df8 chromedriver + 232952', '4   chromedriver                        0x0000000100c48c60 chromedriver + 232544', '5   chromedriver                        0x0000000100c48e94 chromedriver + 233108', '6   chromedriver                        0x0000000100c726b4 chromedriver + 403124', '7   chromedriver                        0x0000000100c6da10 chromedriver + 383504', '8   chromedriver                        0x0000000100ca0944 chromedriver + 592196', '9   chromedriver                        0x0000000100c6c54c chromedriver + 378188', '10  chromedriver                        0x0000000100f992f8 chromedriver + 3707640', '11  chromedriver                        0x0000000100f9cea8 chromedriver + 3722920', '12  chromedriver                        0x0000000100fa33d8 chromedriver + 3748824', '13  chromedriver                        0x0000000100f9d9a8 chromedriver + 3725736', '14  chromedriver                        0x0000000100f78de8 chromedriver + 3575272', '15  chromedriver                        0x0000000100fb7d1c chromedriver + 3833116', '16  chromedriver                        0x0000000100fb7e84 chromedriver + 3833476', '17  chromedriver                        0x0000000100fcc210 chromedriver + 3916304', '18  libsystem_pthread.dylib             0x0000000196a1826c _pthread_start + 148', '19  libsystem_pthread.dylib             0x0000000196a1308c thread_start + 8', ''])>\n",
      "Traceback (most recent call last):\n",
      "  File \"/Users/iudh/miniforge3/envs/clase/lib/python3.9/concurrent/futures/thread.py\", line 52, in run\n",
      "    result = self.fn(*self.args, **self.kwargs)\n",
      "  File \"/var/folders/fv/zc4lh9sn7bnf55fy6jhl0k900000gn/T/ipykernel_5743/3480670080.py\", line 39, in extraer\n",
      "    tmp.append(e.text)\n",
      "  File \"/Users/iudh/miniforge3/envs/clase/lib/python3.9/site-packages/selenium/webdriver/remote/webelement.py\", line 85, in text\n",
      "    return self._execute(Command.GET_ELEMENT_TEXT)['value']\n",
      "  File \"/Users/iudh/miniforge3/envs/clase/lib/python3.9/site-packages/selenium/webdriver/remote/webelement.py\", line 773, in _execute\n",
      "    return self._parent.execute(command, params)\n",
      "  File \"/Users/iudh/miniforge3/envs/clase/lib/python3.9/site-packages/selenium/webdriver/remote/webdriver.py\", line 430, in execute\n",
      "    self.error_handler.check_response(response)\n",
      "  File \"/Users/iudh/miniforge3/envs/clase/lib/python3.9/site-packages/selenium/webdriver/remote/errorhandler.py\", line 247, in check_response\n",
      "    raise exception_class(message, screen, stacktrace)\n",
      "selenium.common.exceptions.StaleElementReferenceException: Message: stale element reference: element is not attached to the page document\n",
      "  (Session info: chrome=105.0.5195.52)\n",
      "Stacktrace:\n",
      "0   chromedriver                        0x0000000100fc5a90 chromedriver + 3889808\n",
      "1   chromedriver                        0x0000000100f54b54 chromedriver + 3427156\n",
      "2   chromedriver                        0x0000000100c46238 chromedriver + 221752\n",
      "3   chromedriver                        0x0000000100c48df8 chromedriver + 232952\n",
      "4   chromedriver                        0x0000000100c48c60 chromedriver + 232544\n",
      "5   chromedriver                        0x0000000100c48e94 chromedriver + 233108\n",
      "6   chromedriver                        0x0000000100c726b4 chromedriver + 403124\n",
      "7   chromedriver                        0x0000000100c6da10 chromedriver + 383504\n",
      "8   chromedriver                        0x0000000100ca0944 chromedriver + 592196\n",
      "9   chromedriver                        0x0000000100c6c54c chromedriver + 378188\n",
      "10  chromedriver                        0x0000000100f992f8 chromedriver + 3707640\n",
      "11  chromedriver                        0x0000000100f9cea8 chromedriver + 3722920\n",
      "12  chromedriver                        0x0000000100fa33d8 chromedriver + 3748824\n",
      "13  chromedriver                        0x0000000100f9d9a8 chromedriver + 3725736\n",
      "14  chromedriver                        0x0000000100f78de8 chromedriver + 3575272\n",
      "15  chromedriver                        0x0000000100fb7d1c chromedriver + 3833116\n",
      "16  chromedriver                        0x0000000100fb7e84 chromedriver + 3833476\n",
      "17  chromedriver                        0x0000000100fcc210 chromedriver + 3916304\n",
      "18  libsystem_pthread.dylib             0x0000000196a1826c _pthread_start + 148\n",
      "19  libsystem_pthread.dylib             0x0000000196a1308c thread_start + 8\n",
      "\n"
     ]
    }
   ],
   "source": [
    "for url in teams_stats[:5]:\n",
    "    \n",
    "    res=extraer(url)\n",
    "    display(res)"
   ]
  },
  {
   "cell_type": "code",
   "execution_count": 58,
   "metadata": {},
   "outputs": [
    {
     "data": {
      "text/html": [
       "<div>\n",
       "<style scoped>\n",
       "    .dataframe tbody tr th:only-of-type {\n",
       "        vertical-align: middle;\n",
       "    }\n",
       "\n",
       "    .dataframe tbody tr th {\n",
       "        vertical-align: top;\n",
       "    }\n",
       "\n",
       "    .dataframe thead th {\n",
       "        text-align: right;\n",
       "    }\n",
       "</style>\n",
       "<table border=\"1\" class=\"dataframe\">\n",
       "  <thead>\n",
       "    <tr style=\"text-align: right;\">\n",
       "      <th></th>\n",
       "      <th>RK</th>\n",
       "      <th>NAME</th>\n",
       "      <th>P</th>\n",
       "      <th>YC</th>\n",
       "      <th>RC</th>\n",
       "      <th>PTS</th>\n",
       "      <th>TEAM</th>\n",
       "    </tr>\n",
       "  </thead>\n",
       "  <tbody>\n",
       "    <tr>\n",
       "      <th>0</th>\n",
       "      <td>1</td>\n",
       "      <td>Iker Muniain</td>\n",
       "      <td>3</td>\n",
       "      <td>1</td>\n",
       "      <td>0</td>\n",
       "      <td>1</td>\n",
       "      <td>athletic-club</td>\n",
       "    </tr>\n",
       "    <tr>\n",
       "      <th>1</th>\n",
       "      <td></td>\n",
       "      <td>Dani Vivian</td>\n",
       "      <td>3</td>\n",
       "      <td>1</td>\n",
       "      <td>0</td>\n",
       "      <td>1</td>\n",
       "      <td>athletic-club</td>\n",
       "    </tr>\n",
       "    <tr>\n",
       "      <th>2</th>\n",
       "      <td></td>\n",
       "      <td>Iñigo Lekue</td>\n",
       "      <td>1</td>\n",
       "      <td>1</td>\n",
       "      <td>0</td>\n",
       "      <td>1</td>\n",
       "      <td>athletic-club</td>\n",
       "    </tr>\n",
       "    <tr>\n",
       "      <th>3</th>\n",
       "      <td></td>\n",
       "      <td>Yeray</td>\n",
       "      <td>3</td>\n",
       "      <td>1</td>\n",
       "      <td>0</td>\n",
       "      <td>1</td>\n",
       "      <td>athletic-club</td>\n",
       "    </tr>\n",
       "    <tr>\n",
       "      <th>4</th>\n",
       "      <td></td>\n",
       "      <td>Yuri Berchiche</td>\n",
       "      <td>2</td>\n",
       "      <td>1</td>\n",
       "      <td>0</td>\n",
       "      <td>1</td>\n",
       "      <td>athletic-club</td>\n",
       "    </tr>\n",
       "  </tbody>\n",
       "</table>\n",
       "</div>"
      ],
      "text/plain": [
       "  RK            NAME  P YC RC PTS           TEAM\n",
       "0  1    Iker Muniain  3  1  0   1  athletic-club\n",
       "1        Dani Vivian  3  1  0   1  athletic-club\n",
       "2        Iñigo Lekue  1  1  0   1  athletic-club\n",
       "3              Yeray  3  1  0   1  athletic-club\n",
       "4     Yuri Berchiche  2  1  0   1  athletic-club"
      ]
     },
     "execution_count": 58,
     "metadata": {},
     "output_type": "execute_result"
    }
   ],
   "source": [
    "df=pd.DataFrame(DATOS, columns=CABECERAS)\n",
    "\n",
    "df.head()"
   ]
  },
  {
   "cell_type": "code",
   "execution_count": 59,
   "metadata": {},
   "outputs": [
    {
     "data": {
      "text/plain": [
       "array(['athletic-club', 'almeria', 'celta-vigo', 'barcelona'],\n",
       "      dtype=object)"
      ]
     },
     "execution_count": 59,
     "metadata": {},
     "output_type": "execute_result"
    }
   ],
   "source": [
    "df.TEAM.unique()"
   ]
  },
  {
   "cell_type": "code",
   "execution_count": 61,
   "metadata": {},
   "outputs": [
    {
     "data": {
      "text/plain": [
       "(85, 7)"
      ]
     },
     "execution_count": 61,
     "metadata": {},
     "output_type": "execute_result"
    }
   ],
   "source": [
    "df.shape"
   ]
  },
  {
   "cell_type": "code",
   "execution_count": null,
   "metadata": {},
   "outputs": [],
   "source": []
  },
  {
   "cell_type": "code",
   "execution_count": null,
   "metadata": {},
   "outputs": [],
   "source": []
  },
  {
   "cell_type": "code",
   "execution_count": null,
   "metadata": {},
   "outputs": [],
   "source": []
  }
 ],
 "metadata": {
  "kernelspec": {
   "display_name": "clase",
   "language": "python",
   "name": "clase"
  },
  "language_info": {
   "codemirror_mode": {
    "name": "ipython",
    "version": 3
   },
   "file_extension": ".py",
   "mimetype": "text/x-python",
   "name": "python",
   "nbconvert_exporter": "python",
   "pygments_lexer": "ipython3",
   "version": "3.9.7"
  },
  "varInspector": {
   "cols": {
    "lenName": 16,
    "lenType": 16,
    "lenVar": 40
   },
   "kernels_config": {
    "python": {
     "delete_cmd_postfix": "",
     "delete_cmd_prefix": "del ",
     "library": "var_list.py",
     "varRefreshCmd": "print(var_dic_list())"
    },
    "r": {
     "delete_cmd_postfix": ") ",
     "delete_cmd_prefix": "rm(",
     "library": "var_list.r",
     "varRefreshCmd": "cat(var_dic_list()) "
    }
   },
   "types_to_exclude": [
    "module",
    "function",
    "builtin_function_or_method",
    "instance",
    "_Feature"
   ],
   "window_display": false
  }
 },
 "nbformat": 4,
 "nbformat_minor": 4
}
