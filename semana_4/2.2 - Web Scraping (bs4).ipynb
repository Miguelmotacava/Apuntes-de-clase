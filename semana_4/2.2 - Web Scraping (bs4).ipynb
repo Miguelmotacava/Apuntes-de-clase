{
 "cells": [
  {
   "cell_type": "markdown",
   "metadata": {},
   "source": [
    "# 2.2 - Web Scraping (bs4)\n",
    "\n",
    "$$$$\n",
    "\n",
    "![scraping](images/scraping.png)\n",
    "\n",
    "$$$$\n",
    "\n",
    "Web scraping o raspado web, es una técnica utilizada mediante programas de software para extraer información de sitios web. Usualmente, estos programas simulan la navegación de un humano en la web ya sea utilizando el protocolo HTTP manualmente, o incrustando un navegador en una aplicación.\n",
    "\n",
    "El web scraping está muy relacionado con la indexación de la web, la cual indexa la información de la web utilizando un robot y es una técnica universal adoptada por la mayoría de los motores de búsqueda. Sin embargo, el web scraping se enfoca más en la transformación de datos sin estructura en la web, como el formato HTML, en datos estructurados que pueden ser almacenados y analizados en una base de datos central, en una hoja de cálculo o en alguna otra fuente de almacenamiento. Alguno de los usos del web scraping son la comparación de precios en tiendas, la monitorización de datos relacionados con el clima de cierta región, la detección de cambios en sitios webs y la integración de datos en sitios webs. \n",
    "\n",
    "En los últimos años el web scraping se ha convertido en una técnica muy utilizada dentro del sector del posicionamiento web gracias a su capacidad de generar grandes cantidades de datos para crear contenidos de calidad.\n",
    "\n",
    "Podríamos pensar que el web scraping es nuestro último recurso a falta de una API o un feed RSS. A falta de una fuente de datos, siempre podemos extraer aquello que sale por pantalla."
   ]
  },
  {
   "cell_type": "markdown",
   "metadata": {},
   "source": [
    "### Extracción desde el HTML\n",
    "\n",
    "Para scrapear una página web, en primer lugar debemos conocer las estructura que tiene el HTML. Veamos la estructura básica.\n",
    "\n",
    "El HTML consiste en contenido `<etiquetado>`, es como si fueran cajas de contenido, organizado de manera jerárquica:\n",
    "\n",
    "```\n",
    "<html>\n",
    "    <head>\n",
    "        <title>Titulo de la pagina</title>\n",
    "    </head>\n",
    "    <body>\n",
    "        <h1>Cabecera</h1>\n",
    "        <p>Parrafo</p>\n",
    "    </body>\n",
    "</html>\n",
    "```\n",
    "\n",
    "$$$$\n",
    "\n",
    "Las etiquetas el HTML se pueden clasificar en varios grupos, dependiendo del tipo de contenido que posea. Estos son algunos ejemplos:\n",
    "\n",
    "+ cabecera: `<h1>`, `<h2>`, `<h3>`, `<hgroup>`...\n",
    "+ texto: `<b>`, `<p>`...\n",
    "+ embebido: `<audio>`, `<img>`, `<video>`...\n",
    "+ tabular: `<table>`, `<tr>`, `<td>`, `<tbody>`...\n",
    "+ secciones: `<header>`, `<section>`, `<article>`...\n",
    "+ metadata: `<meta>`, `<title>`, `<script>`...\n",
    "\n",
    "$$$$\n",
    "\n",
    "Las etiquetas pueden tener atributos. Por ejemplo:\n",
    " \n",
    "`<div class=\"text-monospace\" id=\"name_132\", href=\"www.example.com\"> Contenido de la pagina </div>` \n",
    "\n",
    "Esta etiqueta `div` tiene los siguientes atributos:\n",
    "\n",
    "+ class: atributo con valor \"text-monospace\". La clase no es única en la página.\n",
    "+ id: atributo con valor \"name_132\". El id de una etiqueta la identifica de manera unívoca.\n",
    "+ href: atributo con valor \"www.example.com\". El href suele contener el link a otra parte de la página.\n",
    "\n",
    "Siguiendo con la analogía de las cajas, si una etiqueta de HTML es una caja, los atributos serían las pegatinas pegadas en la tapa de la caja.\n",
    "\n",
    "Conociendo cual es el contenido que queremos extraer, debemos encontrar las etiquetas dentro del HTML de la página web."
   ]
  },
  {
   "cell_type": "markdown",
   "metadata": {},
   "source": [
    "Usaremos la herramienta **[BeautifulSoup](https://www.crummy.com/software/BeautifulSoup/bs4/doc/)**."
   ]
  },
  {
   "cell_type": "code",
   "execution_count": 1,
   "metadata": {},
   "outputs": [
    {
     "name": "stdout",
     "output_type": "stream",
     "text": [
      "Requirement already satisfied: beautifulsoup4 in /Users/iudh/miniforge3/envs/clase/lib/python3.9/site-packages (4.10.0)\n",
      "Requirement already satisfied: soupsieve>1.2 in /Users/iudh/miniforge3/envs/clase/lib/python3.9/site-packages (from beautifulsoup4) (2.3.1)\n",
      "Note: you may need to restart the kernel to use updated packages.\n"
     ]
    }
   ],
   "source": [
    "%pip install beautifulsoup4"
   ]
  },
  {
   "cell_type": "code",
   "execution_count": 2,
   "metadata": {},
   "outputs": [],
   "source": [
    "import requests as req\n",
    "\n",
    "from bs4 import BeautifulSoup as bs   # ambos alias son cosa mia"
   ]
  },
  {
   "cell_type": "markdown",
   "metadata": {},
   "source": [
    "### Ejemplos Wikipedia\n",
    "\n",
    "**[Países europeos según esperanza de vida](https://en.wikipedia.org/wiki/List_of_European_countries_by_life_expectancy)**"
   ]
  },
  {
   "cell_type": "code",
   "execution_count": 3,
   "metadata": {},
   "outputs": [],
   "source": [
    "url='https://en.wikipedia.org/wiki/List_of_European_countries_by_life_expectancy'"
   ]
  },
  {
   "cell_type": "code",
   "execution_count": 4,
   "metadata": {},
   "outputs": [
    {
     "data": {
      "text/plain": [
       "'<!DOCTYPE html>\\n<html class=\"client-nojs\" lang=\"en\" dir=\"ltr\">\\n<head>\\n<meta charset=\"UTF-8\"/>\\n<title>List of European countries by life expectancy - Wikipedia</title>\\n<script>document.documentElement.className=\"client-js\";RLCONF={\"wgBreakFrames\":false,\"wgSeparatorTransformTable\":[\"\",\"\"],\"wgDigitTransformTable\":[\"\",\"\"],\"wgDefaultDateFormat\":\"dmy\",\"wgMonthNames\":[\"\",\"January\",\"February\",\"March\",\"April\",\"May\",\"June\",\"July\",\"August\",\"September\",\"October\",\"November\",\"December\"],\"wgRequestId\":\"e4865047-ec8d-4c72-9f51-18cb4a73236e\",\"wgCSPNonce\":false,\"wgCanonicalNamespace\":\"\",\"wgCanonicalSpecialPageName\":false,\"wgNamespaceNumber\":0,\"wgPageName\":\"List_of_European_countries_by_life_expectancy\",\"wgTitle\":\"List of European countries by life expectancy\",\"wgCurRevisionId\":1104436050,\"wgRevisionId\":1104436050,\"wgArticleId\":22175559,\"wgIsArticle\":true,\"wgIsRedirect\":false,\"wgAction\":\"view\",\"wgUserName\":null,\"wgUserGroups\":[\"*\"],\"wgCategories\":[\"Use dmy dates from April 2022\",\"Articles with short desc'"
      ]
     },
     "execution_count": 4,
     "metadata": {},
     "output_type": "execute_result"
    }
   ],
   "source": [
    "# usamos requests para extraer el html en string\n",
    "\n",
    "html=req.get(url).text\n",
    "\n",
    "html[:1000]"
   ]
  },
  {
   "cell_type": "code",
   "execution_count": 6,
   "metadata": {
    "scrolled": false
   },
   "outputs": [
    {
     "data": {
      "text/plain": [
       "bs4.BeautifulSoup"
      ]
     },
     "execution_count": 6,
     "metadata": {},
     "output_type": "execute_result"
    }
   ],
   "source": [
    "soup=bs(html, 'html.parser')\n",
    "\n",
    "type(soup)"
   ]
  },
  {
   "cell_type": "code",
   "execution_count": 14,
   "metadata": {
    "scrolled": false
   },
   "outputs": [
    {
     "data": {
      "text/plain": [
       "bs4.element.Tag"
      ]
     },
     "execution_count": 14,
     "metadata": {},
     "output_type": "execute_result"
    }
   ],
   "source": [
    "tabla=soup.find_all('table')[3]\n",
    "\n",
    "type(tabla)"
   ]
  },
  {
   "cell_type": "code",
   "execution_count": 41,
   "metadata": {},
   "outputs": [
    {
     "data": {
      "text/plain": [
       "[['Rank',\n",
       "  '',\n",
       "  'Country',\n",
       "  'Life expectancy[6]',\n",
       "  '',\n",
       "  'Influenza vaccination rate, people aged 65 and over, 2016 (%)[7]'],\n",
       " ['1', '', '\\xa0Monaco[8]', '', '89.4'],\n",
       " ['2', '', '\\xa0San Marino[9]', '', '83.4'],\n",
       " ['3', '', '\\xa0\\xa0Switzerland', '83.0'],\n",
       " ['4', '', '\\xa0Spain', '82.8', '', '56%']]"
      ]
     },
     "execution_count": 41,
     "metadata": {},
     "output_type": "execute_result"
    }
   ],
   "source": [
    "filas=tabla.find_all('tr')\n",
    "\n",
    "filas=[f.text.strip().split('\\n') for f in filas]\n",
    "\n",
    "filas[:5]"
   ]
  },
  {
   "cell_type": "code",
   "execution_count": 42,
   "metadata": {},
   "outputs": [
    {
     "data": {
      "text/plain": [
       "[['Rank',\n",
       "  'Country',\n",
       "  'Life expectancy[6]',\n",
       "  'Influenza vaccination rate, people aged 65 and over, 2016 (%)[7]'],\n",
       " ['1', '\\xa0Monaco[8]', '89.4'],\n",
       " ['2', '\\xa0San Marino[9]', '83.4'],\n",
       " ['3', '\\xa0\\xa0Switzerland', '83.0'],\n",
       " ['4', '\\xa0Spain', '82.8', '56%']]"
      ]
     },
     "execution_count": 42,
     "metadata": {},
     "output_type": "execute_result"
    }
   ],
   "source": [
    "final=[]\n",
    "\n",
    "for f in filas:\n",
    "    \n",
    "    tmp=[]\n",
    "    \n",
    "    for palabra in f:\n",
    "        \n",
    "        if palabra!='':\n",
    "            \n",
    "            tmp.append(palabra)\n",
    "            \n",
    "    final.append(tmp)\n",
    "    \n",
    "final[:5]"
   ]
  },
  {
   "cell_type": "code",
   "execution_count": 44,
   "metadata": {},
   "outputs": [
    {
     "data": {
      "text/plain": [
       "[['Rank',\n",
       "  'Country',\n",
       "  'Life expectancy[6]',\n",
       "  'Influenza vaccination rate, people aged 65 and over, 2016 (%)[7]'],\n",
       " ['1', '\\xa0Monaco[8]', '89.4'],\n",
       " ['2', '\\xa0San Marino[9]', '83.4'],\n",
       " ['3', '\\xa0\\xa0Switzerland', '83.0'],\n",
       " ['4', '\\xa0Spain', '82.8', '56%']]"
      ]
     },
     "execution_count": 44,
     "metadata": {},
     "output_type": "execute_result"
    }
   ],
   "source": [
    "filas=[[palabra for palabra in f if palabra!=''] for f in filas]\n",
    "\n",
    "filas[:5]"
   ]
  },
  {
   "cell_type": "code",
   "execution_count": 52,
   "metadata": {},
   "outputs": [
    {
     "data": {
      "text/html": [
       "<div>\n",
       "<style scoped>\n",
       "    .dataframe tbody tr th:only-of-type {\n",
       "        vertical-align: middle;\n",
       "    }\n",
       "\n",
       "    .dataframe tbody tr th {\n",
       "        vertical-align: top;\n",
       "    }\n",
       "\n",
       "    .dataframe thead th {\n",
       "        text-align: right;\n",
       "    }\n",
       "</style>\n",
       "<table border=\"1\" class=\"dataframe\">\n",
       "  <thead>\n",
       "    <tr style=\"text-align: right;\">\n",
       "      <th></th>\n",
       "      <th>Rank</th>\n",
       "      <th>Country</th>\n",
       "      <th>Life expectancy[6]</th>\n",
       "      <th>Influenza vaccination rate, people aged 65 and over, 2016 (%)[7]</th>\n",
       "    </tr>\n",
       "  </thead>\n",
       "  <tbody>\n",
       "    <tr>\n",
       "      <th>0</th>\n",
       "      <td>1</td>\n",
       "      <td>Monaco[8]</td>\n",
       "      <td>89.4</td>\n",
       "      <td>None</td>\n",
       "    </tr>\n",
       "    <tr>\n",
       "      <th>1</th>\n",
       "      <td>2</td>\n",
       "      <td>San Marino[9]</td>\n",
       "      <td>83.4</td>\n",
       "      <td>None</td>\n",
       "    </tr>\n",
       "    <tr>\n",
       "      <th>2</th>\n",
       "      <td>3</td>\n",
       "      <td>Switzerland</td>\n",
       "      <td>83.0</td>\n",
       "      <td>None</td>\n",
       "    </tr>\n",
       "    <tr>\n",
       "      <th>3</th>\n",
       "      <td>4</td>\n",
       "      <td>Spain</td>\n",
       "      <td>82.8</td>\n",
       "      <td>56%</td>\n",
       "    </tr>\n",
       "    <tr>\n",
       "      <th>4</th>\n",
       "      <td>5</td>\n",
       "      <td>Liechtenstein</td>\n",
       "      <td>82.7</td>\n",
       "      <td>28%</td>\n",
       "    </tr>\n",
       "  </tbody>\n",
       "</table>\n",
       "</div>"
      ],
      "text/plain": [
       "  Rank         Country Life expectancy[6]  \\\n",
       "0    1       Monaco[8]               89.4   \n",
       "1    2   San Marino[9]               83.4   \n",
       "2    3     Switzerland               83.0   \n",
       "3    4           Spain               82.8   \n",
       "4    5   Liechtenstein               82.7   \n",
       "\n",
       "  Influenza vaccination rate, people aged 65 and over, 2016 (%)[7]  \n",
       "0                                               None                \n",
       "1                                               None                \n",
       "2                                               None                \n",
       "3                                                56%                \n",
       "4                                                28%                "
      ]
     },
     "execution_count": 52,
     "metadata": {},
     "output_type": "execute_result"
    }
   ],
   "source": [
    "import pandas as pd\n",
    "\n",
    "col_names=filas[0]\n",
    "\n",
    "data=final[1:]\n",
    "\n",
    "\n",
    "df=pd.DataFrame(data, columns=col_names)\n",
    "\n",
    "df.head()"
   ]
  },
  {
   "cell_type": "code",
   "execution_count": 50,
   "metadata": {},
   "outputs": [
    {
     "data": {
      "text/html": [
       "<div>\n",
       "<style scoped>\n",
       "    .dataframe tbody tr th:only-of-type {\n",
       "        vertical-align: middle;\n",
       "    }\n",
       "\n",
       "    .dataframe tbody tr th {\n",
       "        vertical-align: top;\n",
       "    }\n",
       "\n",
       "    .dataframe thead th {\n",
       "        text-align: right;\n",
       "    }\n",
       "</style>\n",
       "<table border=\"1\" class=\"dataframe\">\n",
       "  <thead>\n",
       "    <tr style=\"text-align: right;\">\n",
       "      <th></th>\n",
       "      <th>Rank</th>\n",
       "      <th>Country</th>\n",
       "      <th>Life</th>\n",
       "      <th>expectancy[6]</th>\n",
       "      <th>Influenza</th>\n",
       "      <th>vaccination</th>\n",
       "      <th>rate,</th>\n",
       "      <th>people</th>\n",
       "      <th>aged</th>\n",
       "      <th>65</th>\n",
       "      <th>and</th>\n",
       "      <th>over,</th>\n",
       "      <th>2016</th>\n",
       "      <th>(%)[7]</th>\n",
       "    </tr>\n",
       "  </thead>\n",
       "  <tbody>\n",
       "    <tr>\n",
       "      <th>0</th>\n",
       "      <td>1</td>\n",
       "      <td>Monaco[8]</td>\n",
       "      <td>89.4</td>\n",
       "      <td>None</td>\n",
       "      <td>None</td>\n",
       "      <td>NaN</td>\n",
       "      <td>NaN</td>\n",
       "      <td>NaN</td>\n",
       "      <td>NaN</td>\n",
       "      <td>NaN</td>\n",
       "      <td>NaN</td>\n",
       "      <td>NaN</td>\n",
       "      <td>NaN</td>\n",
       "      <td>NaN</td>\n",
       "    </tr>\n",
       "    <tr>\n",
       "      <th>1</th>\n",
       "      <td>2</td>\n",
       "      <td>San</td>\n",
       "      <td>Marino[9]</td>\n",
       "      <td>83.4</td>\n",
       "      <td>None</td>\n",
       "      <td>NaN</td>\n",
       "      <td>NaN</td>\n",
       "      <td>NaN</td>\n",
       "      <td>NaN</td>\n",
       "      <td>NaN</td>\n",
       "      <td>NaN</td>\n",
       "      <td>NaN</td>\n",
       "      <td>NaN</td>\n",
       "      <td>NaN</td>\n",
       "    </tr>\n",
       "    <tr>\n",
       "      <th>2</th>\n",
       "      <td>3</td>\n",
       "      <td>Switzerland</td>\n",
       "      <td>83.0</td>\n",
       "      <td>None</td>\n",
       "      <td>None</td>\n",
       "      <td>NaN</td>\n",
       "      <td>NaN</td>\n",
       "      <td>NaN</td>\n",
       "      <td>NaN</td>\n",
       "      <td>NaN</td>\n",
       "      <td>NaN</td>\n",
       "      <td>NaN</td>\n",
       "      <td>NaN</td>\n",
       "      <td>NaN</td>\n",
       "    </tr>\n",
       "    <tr>\n",
       "      <th>3</th>\n",
       "      <td>4</td>\n",
       "      <td>Spain</td>\n",
       "      <td>82.8</td>\n",
       "      <td>56%</td>\n",
       "      <td>None</td>\n",
       "      <td>NaN</td>\n",
       "      <td>NaN</td>\n",
       "      <td>NaN</td>\n",
       "      <td>NaN</td>\n",
       "      <td>NaN</td>\n",
       "      <td>NaN</td>\n",
       "      <td>NaN</td>\n",
       "      <td>NaN</td>\n",
       "      <td>NaN</td>\n",
       "    </tr>\n",
       "    <tr>\n",
       "      <th>4</th>\n",
       "      <td>5</td>\n",
       "      <td>Liechtenstein</td>\n",
       "      <td>82.7</td>\n",
       "      <td>28%</td>\n",
       "      <td>None</td>\n",
       "      <td>NaN</td>\n",
       "      <td>NaN</td>\n",
       "      <td>NaN</td>\n",
       "      <td>NaN</td>\n",
       "      <td>NaN</td>\n",
       "      <td>NaN</td>\n",
       "      <td>NaN</td>\n",
       "      <td>NaN</td>\n",
       "      <td>NaN</td>\n",
       "    </tr>\n",
       "  </tbody>\n",
       "</table>\n",
       "</div>"
      ],
      "text/plain": [
       "   Rank        Country       Life expectancy[6] Influenza  vaccination  rate,  \\\n",
       "0     1      Monaco[8]       89.4          None      None          NaN    NaN   \n",
       "1     2            San  Marino[9]          83.4      None          NaN    NaN   \n",
       "2     3    Switzerland       83.0          None      None          NaN    NaN   \n",
       "3     4          Spain       82.8           56%      None          NaN    NaN   \n",
       "4     5  Liechtenstein       82.7           28%      None          NaN    NaN   \n",
       "\n",
       "   people  aged  65  and  over,  2016  (%)[7]  \n",
       "0     NaN   NaN NaN  NaN    NaN   NaN     NaN  \n",
       "1     NaN   NaN NaN  NaN    NaN   NaN     NaN  \n",
       "2     NaN   NaN NaN  NaN    NaN   NaN     NaN  \n",
       "3     NaN   NaN NaN  NaN    NaN   NaN     NaN  \n",
       "4     NaN   NaN NaN  NaN    NaN   NaN     NaN  "
      ]
     },
     "execution_count": 50,
     "metadata": {},
     "output_type": "execute_result"
    }
   ],
   "source": [
    "# esto solo es de pandas\n",
    "\n",
    "df_c=pd.read_clipboard()  # read_clipboard es ctrl+V\n",
    "\n",
    "df_c.head()"
   ]
  },
  {
   "cell_type": "code",
   "execution_count": 51,
   "metadata": {},
   "outputs": [
    {
     "data": {
      "text/html": [
       "<div>\n",
       "<style scoped>\n",
       "    .dataframe tbody tr th:only-of-type {\n",
       "        vertical-align: middle;\n",
       "    }\n",
       "\n",
       "    .dataframe tbody tr th {\n",
       "        vertical-align: top;\n",
       "    }\n",
       "\n",
       "    .dataframe thead th {\n",
       "        text-align: right;\n",
       "    }\n",
       "</style>\n",
       "<table border=\"1\" class=\"dataframe\">\n",
       "  <thead>\n",
       "    <tr style=\"text-align: right;\">\n",
       "      <th></th>\n",
       "      <th>pd.read_clipboard()</th>\n",
       "    </tr>\n",
       "  </thead>\n",
       "  <tbody>\n",
       "  </tbody>\n",
       "</table>\n",
       "</div>"
      ],
      "text/plain": [
       "Empty DataFrame\n",
       "Columns: [pd.read_clipboard()]\n",
       "Index: []"
      ]
     },
     "execution_count": 51,
     "metadata": {},
     "output_type": "execute_result"
    }
   ],
   "source": [
    "pd.read_clipboard()"
   ]
  },
  {
   "cell_type": "markdown",
   "metadata": {},
   "source": [
    "### Ejemplo geolocalización por IP\n",
    "\n",
    "https://tools.keycdn.com/geo"
   ]
  },
  {
   "cell_type": "markdown",
   "metadata": {},
   "source": [
    "**¿Dónde estoy?**"
   ]
  },
  {
   "cell_type": "code",
   "execution_count": 53,
   "metadata": {},
   "outputs": [],
   "source": [
    "url='https://tools.keycdn.com/geo?host=2.136.116.82'"
   ]
  },
  {
   "cell_type": "code",
   "execution_count": 54,
   "metadata": {},
   "outputs": [],
   "source": [
    "# mismo proceso\n",
    "\n",
    "html=req.get(url).content   # contenido en string\n",
    "\n",
    "sopa=bs(html, 'html.parser') # contenido en objeto bs4"
   ]
  },
  {
   "cell_type": "code",
   "execution_count": 56,
   "metadata": {},
   "outputs": [
    {
     "data": {
      "text/plain": [
       "<div class=\"mt-4\" id=\"geoResult\">\n",
       "<div class=\"bg-light medium rounded p-3\">\n",
       "<p class=\"small text-uppercase text-muted font-weight-semi-bold line-height-headings mb-2\">Location</p> <dl class=\"row mb-0\">\n",
       "<dt class=\"col-4\">City</dt><dd class=\"col-8 text-monospace\">Sabadell</dd><dt class=\"col-4\">Region</dt><dd class=\"col-8 text-monospace\">Barcelona (B)</dd><dt class=\"col-4\">Postal code</dt><dd class=\"col-8 text-monospace\">08202</dd><dt class=\"col-4\">Country</dt><dd class=\"col-8 text-monospace\">Spain (ES)</dd><dt class=\"col-4\">Continent</dt><dd class=\"col-8 text-monospace\">Europe (EU)</dd><dt class=\"col-4\">Coordinates</dt><dd class=\"col-8 text-monospace\">41.5374 (lat) / 2.1022 (long)</dd><dt class=\"col-4\">Time</dt><dd class=\"col-8 text-monospace\">2022-08-30 11:59:29 (Europe/Madrid)</dd> </dl>\n",
       "<p class=\"small text-uppercase text-muted font-weight-semi-bold line-height-headings mt-4 mb-2\">Network</p>\n",
       "<dl class=\"row mb-0\">\n",
       "<dt class=\"col-4\">IP address</dt><dd class=\"col-8 text-monospace\">2.136.116.82</dd><dt class=\"col-4\">Hostname</dt><dd class=\"col-8 text-monospace\">82.red-2-136-116.staticip.rima-tde.net</dd><dt class=\"col-4\">Provider</dt><dd class=\"col-8 text-monospace\">Telefonica De Espana S.a.u.</dd><dt class=\"col-4\">ASN</dt><dd class=\"col-8 text-monospace\">3352</dd> </dl>\n",
       "</div>\n",
       "<div class=\"mapael mt-4\" id=\"geoMap\">\n",
       "<div class=\"map position-relative\"></div>\n",
       "</div>\n",
       "</div>"
      ]
     },
     "execution_count": 56,
     "metadata": {},
     "output_type": "execute_result"
    }
   ],
   "source": [
    "sopa.find('div', id='geoResult')"
   ]
  },
  {
   "cell_type": "code",
   "execution_count": 59,
   "metadata": {},
   "outputs": [
    {
     "data": {
      "text/plain": [
       "<div class=\"mt-4\" id=\"geoResult\">\n",
       "<div class=\"bg-light medium rounded p-3\">\n",
       "<p class=\"small text-uppercase text-muted font-weight-semi-bold line-height-headings mb-2\">Location</p> <dl class=\"row mb-0\">\n",
       "<dt class=\"col-4\">City</dt><dd class=\"col-8 text-monospace\">Sabadell</dd><dt class=\"col-4\">Region</dt><dd class=\"col-8 text-monospace\">Barcelona (B)</dd><dt class=\"col-4\">Postal code</dt><dd class=\"col-8 text-monospace\">08202</dd><dt class=\"col-4\">Country</dt><dd class=\"col-8 text-monospace\">Spain (ES)</dd><dt class=\"col-4\">Continent</dt><dd class=\"col-8 text-monospace\">Europe (EU)</dd><dt class=\"col-4\">Coordinates</dt><dd class=\"col-8 text-monospace\">41.5374 (lat) / 2.1022 (long)</dd><dt class=\"col-4\">Time</dt><dd class=\"col-8 text-monospace\">2022-08-30 11:59:29 (Europe/Madrid)</dd> </dl>\n",
       "<p class=\"small text-uppercase text-muted font-weight-semi-bold line-height-headings mt-4 mb-2\">Network</p>\n",
       "<dl class=\"row mb-0\">\n",
       "<dt class=\"col-4\">IP address</dt><dd class=\"col-8 text-monospace\">2.136.116.82</dd><dt class=\"col-4\">Hostname</dt><dd class=\"col-8 text-monospace\">82.red-2-136-116.staticip.rima-tde.net</dd><dt class=\"col-4\">Provider</dt><dd class=\"col-8 text-monospace\">Telefonica De Espana S.a.u.</dd><dt class=\"col-4\">ASN</dt><dd class=\"col-8 text-monospace\">3352</dd> </dl>\n",
       "</div>\n",
       "<div class=\"mapael mt-4\" id=\"geoMap\">\n",
       "<div class=\"map position-relative\"></div>\n",
       "</div>\n",
       "</div>"
      ]
     },
     "execution_count": 59,
     "metadata": {},
     "output_type": "execute_result"
    }
   ],
   "source": [
    "sopa.find('div', {'id': 'geoResult', 'class': 'mt-4'})"
   ]
  },
  {
   "cell_type": "code",
   "execution_count": 61,
   "metadata": {},
   "outputs": [
    {
     "data": {
      "text/plain": [
       "<div class=\"col-xl-2 col-md-3 d-flex align-items-end mt-md-0 mt-4\">\n",
       "<button class=\"btn btn-primary d-flex justify-content-center align-items-center w-md-100\" id=\"geoBtn\">Find</button>\n",
       "</div>"
      ]
     },
     "execution_count": 61,
     "metadata": {},
     "output_type": "execute_result"
    }
   ],
   "source": [
    "sopa.find('div', class_='mt-4')"
   ]
  },
  {
   "cell_type": "code",
   "execution_count": 64,
   "metadata": {},
   "outputs": [
    {
     "data": {
      "text/plain": [
       "[<dd class=\"col-8 text-monospace\">Sabadell</dd>,\n",
       " <dd class=\"col-8 text-monospace\">Barcelona (B)</dd>,\n",
       " <dd class=\"col-8 text-monospace\">08202</dd>,\n",
       " <dd class=\"col-8 text-monospace\">Spain (ES)</dd>,\n",
       " <dd class=\"col-8 text-monospace\">Europe (EU)</dd>,\n",
       " <dd class=\"col-8 text-monospace\">41.5374 (lat) / 2.1022 (long)</dd>,\n",
       " <dd class=\"col-8 text-monospace\">2022-08-30 11:59:29 (Europe/Madrid)</dd>,\n",
       " <dd class=\"col-8 text-monospace\">2.136.116.82</dd>,\n",
       " <dd class=\"col-8 text-monospace\">82.red-2-136-116.staticip.rima-tde.net</dd>,\n",
       " <dd class=\"col-8 text-monospace\">Telefonica De Espana S.a.u.</dd>,\n",
       " <dd class=\"col-8 text-monospace\">3352</dd>]"
      ]
     },
     "execution_count": 64,
     "metadata": {},
     "output_type": "execute_result"
    }
   ],
   "source": [
    "tabla=sopa.find('div', id='geoResult')\n",
    "\n",
    "tabla.find_all('dd', class_='col-8 text-monospace')"
   ]
  },
  {
   "cell_type": "code",
   "execution_count": 68,
   "metadata": {},
   "outputs": [
    {
     "data": {
      "text/plain": [
       "'Sabadell'"
      ]
     },
     "execution_count": 68,
     "metadata": {},
     "output_type": "execute_result"
    }
   ],
   "source": [
    "tabla.find_all('dd', class_='col-8 text-monospace')[0].text"
   ]
  },
  {
   "cell_type": "code",
   "execution_count": 69,
   "metadata": {},
   "outputs": [
    {
     "data": {
      "text/plain": [
       "bs4.element.Tag"
      ]
     },
     "execution_count": 69,
     "metadata": {},
     "output_type": "execute_result"
    }
   ],
   "source": [
    "type(tabla.find_all('dd', class_='col-8 text-monospace')[0])"
   ]
  },
  {
   "cell_type": "code",
   "execution_count": 71,
   "metadata": {},
   "outputs": [
    {
     "data": {
      "text/plain": [
       "['Sabadell',\n",
       " 'Barcelona (B)',\n",
       " '08202',\n",
       " 'Spain (ES)',\n",
       " 'Europe (EU)',\n",
       " '41.5374 (lat) / 2.1022 (long)',\n",
       " '2022-08-30 11:59:29 (Europe/Madrid)',\n",
       " '2.136.116.82',\n",
       " '82.red-2-136-116.staticip.rima-tde.net',\n",
       " 'Telefonica De Espana S.a.u.',\n",
       " '3352']"
      ]
     },
     "execution_count": 71,
     "metadata": {},
     "output_type": "execute_result"
    }
   ],
   "source": [
    "conexion=[]\n",
    "\n",
    "for e in tabla.find_all('dd', class_='col-8 text-monospace'):\n",
    "    conexion.append(e.text)\n",
    "    \n",
    "conexion"
   ]
  },
  {
   "cell_type": "code",
   "execution_count": 65,
   "metadata": {},
   "outputs": [
    {
     "data": {
      "text/plain": [
       "['Sabadell',\n",
       " 'Barcelona (B)',\n",
       " '08202',\n",
       " 'Spain (ES)',\n",
       " 'Europe (EU)',\n",
       " '41.5374 (lat) / 2.1022 (long)',\n",
       " '2022-08-30 11:59:29 (Europe/Madrid)',\n",
       " '2.136.116.82',\n",
       " '82.red-2-136-116.staticip.rima-tde.net',\n",
       " 'Telefonica De Espana S.a.u.',\n",
       " '3352']"
      ]
     },
     "execution_count": 65,
     "metadata": {},
     "output_type": "execute_result"
    }
   ],
   "source": [
    "conexion=[e.text for e in tabla.find_all('dd', class_='col-8 text-monospace')]\n",
    "\n",
    "conexion"
   ]
  },
  {
   "cell_type": "code",
   "execution_count": 72,
   "metadata": {},
   "outputs": [],
   "source": [
    "# creo una funcion para todo el proceso, segun ip\n",
    "\n",
    "def encontrar(ip):\n",
    "    \n",
    "    url=f'https://tools.keycdn.com/geo?host={ip}'\n",
    "    \n",
    "    html=req.get(url).content   # contenido en string\n",
    "\n",
    "    sopa=bs(html, 'html.parser') # contenido en objeto bs4\n",
    "    \n",
    "    tabla=sopa.find('div', id='geoResult')\n",
    "    \n",
    "    conexion=[e.text for e in tabla.find_all('dd', class_='col-8 text-monospace')]\n",
    "\n",
    "    return conexion"
   ]
  },
  {
   "cell_type": "code",
   "execution_count": 73,
   "metadata": {},
   "outputs": [
    {
     "data": {
      "text/plain": [
       "['Guam (GU)',\n",
       " 'Oceania (OC)',\n",
       " '13.4786 (lat) / 144.8183 (long)',\n",
       " '2022-08-30 20:07:18 (Pacific/Guam)',\n",
       " '168.123.4.5',\n",
       " '168.123.4.5',\n",
       " 'UNIVERSITY-GUAM',\n",
       " '395400']"
      ]
     },
     "execution_count": 73,
     "metadata": {},
     "output_type": "execute_result"
    }
   ],
   "source": [
    "encontrar('168.123.4.5')"
   ]
  },
  {
   "cell_type": "code",
   "execution_count": 77,
   "metadata": {},
   "outputs": [
    {
     "data": {
      "text/plain": [
       "['Spain (ES)',\n",
       " 'Europe (EU)',\n",
       " '40.4172 (lat) / -3.684 (long)',\n",
       " '2022-08-30 12:09:29 (Europe/Madrid)',\n",
       " '46.222.34.200',\n",
       " '46.222.34.200',\n",
       " 'Xtra Telecom S.A.',\n",
       " '15704']"
      ]
     },
     "execution_count": 77,
     "metadata": {},
     "output_type": "execute_result"
    }
   ],
   "source": [
    "encontrar('46.222.34.200')"
   ]
  },
  {
   "cell_type": "markdown",
   "metadata": {},
   "source": [
    "### Ejemplo LinkedIn"
   ]
  },
  {
   "cell_type": "code",
   "execution_count": 78,
   "metadata": {},
   "outputs": [],
   "source": [
    "url='https://www.linkedin.com/jobs/search/?currentJobId=3237846298&f_TPR=r604800&keywords=analista%20de%20datos&refresh=true'"
   ]
  },
  {
   "cell_type": "code",
   "execution_count": 80,
   "metadata": {},
   "outputs": [],
   "source": [
    "html=req.get(url).text\n",
    "\n",
    "sopa=bs(html, 'html.parser')\n"
   ]
  },
  {
   "cell_type": "code",
   "execution_count": 85,
   "metadata": {},
   "outputs": [
    {
     "data": {
      "text/plain": [
       "24"
      ]
     },
     "execution_count": 85,
     "metadata": {},
     "output_type": "execute_result"
    }
   ],
   "source": [
    "tarjetas=sopa.find('ul', class_='jobs-search__results-list')\n",
    "\n",
    "len(tarjetas.find_all('li'))"
   ]
  },
  {
   "cell_type": "code",
   "execution_count": 107,
   "metadata": {},
   "outputs": [],
   "source": [
    "curro=tarjetas.find_all('li')[0]\n",
    "\n",
    "titulo=curro.find('h3').text.strip()\n",
    "\n",
    "empresa=curro.find('h4').text.strip()\n",
    "\n",
    "pais=curro.find('span', class_=\"job-search-card__location\").text.strip()\n",
    "\n",
    "link_curro=curro.find('a').attrs['href']\n",
    "\n",
    "fecha_publi=curro.find('time').attrs['datetime']"
   ]
  },
  {
   "cell_type": "code",
   "execution_count": 108,
   "metadata": {},
   "outputs": [
    {
     "data": {
      "text/plain": [
       "{'titulo': 'Data Analyst - Entry Level',\n",
       " 'empresa': 'Lodging Analytics Research & Consulting | USA',\n",
       " 'pais': 'United States',\n",
       " 'link': 'https://www.linkedin.com/jobs/view/data-analyst-entry-level-at-lodging-analytics-research-consulting-usa-3238363576?refId=tExJc0Jxm78A9982z4aQxg%3D%3D&trackingId=YixaqcfTx63fe5TRWm4Z0Q%3D%3D&position=1&pageNum=0&trk=public_jobs_jserp-result_search-card',\n",
       " 'fecha': '2022-08-30'}"
      ]
     },
     "execution_count": 108,
     "metadata": {},
     "output_type": "execute_result"
    }
   ],
   "source": [
    "{'titulo': titulo,\n",
    " 'empresa': empresa,\n",
    " 'pais': pais,\n",
    " 'link': link_curro,\n",
    " 'fecha': fecha_publi}"
   ]
  },
  {
   "cell_type": "code",
   "execution_count": 121,
   "metadata": {},
   "outputs": [
    {
     "data": {
      "text/plain": [
       "'3238363576'"
      ]
     },
     "execution_count": 121,
     "metadata": {},
     "output_type": "execute_result"
    }
   ],
   "source": [
    "curro.find('a').attrs['data-entity-urn'].split(':')[-1]  # id"
   ]
  },
  {
   "cell_type": "code",
   "execution_count": 130,
   "metadata": {},
   "outputs": [],
   "source": [
    "def linkedin(keywords, loc, n_secs, num_pages):\n",
    "    \n",
    "    URL='https://www.linkedin.com/jobs/search/'\n",
    "    \n",
    "    data=[]\n",
    "    \n",
    "    for i in range(num_pages):\n",
    "        \n",
    "        scrape_url=''.join([URL, \n",
    "                            f'?keywords={keywords}',\n",
    "                            f'&location={loc}',\n",
    "                            f'&f_TPR={n_secs}',\n",
    "                            f'&start={i*25}'])\n",
    "        \n",
    "        print(scrape_url)\n",
    "        \n",
    "        html=req.get(scrape_url).text\n",
    "\n",
    "        sopa=bs(html, 'html.parser')\n",
    "        \n",
    "        tarjetas=sopa.find('ul', class_='jobs-search__results-list').find_all('li')\n",
    "        \n",
    "        for oferta in tarjetas:  # bucle sobre los li, las tarjetas de cada curro\n",
    "            \n",
    "            curro=oferta\n",
    "\n",
    "            titulo=curro.find('h3').text.strip()\n",
    "\n",
    "            empresa=curro.find('h4').text.strip()\n",
    "\n",
    "            pais=curro.find('span', class_=\"job-search-card__location\").text.strip()\n",
    "\n",
    "            link_curro=curro.find('a').attrs['href']\n",
    "\n",
    "            fecha_publi=curro.find('time').attrs['datetime']\n",
    "                        \n",
    "            data.append({'titulo': titulo,\n",
    "                         'empresa': empresa,\n",
    "                         'pais': pais,\n",
    "                         'link': link_curro,\n",
    "                         'fecha': fecha_publi})\n",
    "            \n",
    "            \n",
    "    return pd.DataFrame(data)"
   ]
  },
  {
   "cell_type": "code",
   "execution_count": 131,
   "metadata": {
    "scrolled": false
   },
   "outputs": [
    {
     "name": "stdout",
     "output_type": "stream",
     "text": [
      "https://www.linkedin.com/jobs/search/?keywords=ingeniero de datos&location=spain&f_TPR=600000&start=0\n",
      "https://www.linkedin.com/jobs/search/?keywords=ingeniero de datos&location=spain&f_TPR=600000&start=25\n",
      "https://www.linkedin.com/jobs/search/?keywords=ingeniero de datos&location=spain&f_TPR=600000&start=50\n"
     ]
    }
   ],
   "source": [
    "df_linkedin=linkedin('ingeniero de datos', 'spain', 600000, 3)"
   ]
  },
  {
   "cell_type": "code",
   "execution_count": 132,
   "metadata": {},
   "outputs": [
    {
     "data": {
      "text/html": [
       "<div>\n",
       "<style scoped>\n",
       "    .dataframe tbody tr th:only-of-type {\n",
       "        vertical-align: middle;\n",
       "    }\n",
       "\n",
       "    .dataframe tbody tr th {\n",
       "        vertical-align: top;\n",
       "    }\n",
       "\n",
       "    .dataframe thead th {\n",
       "        text-align: right;\n",
       "    }\n",
       "</style>\n",
       "<table border=\"1\" class=\"dataframe\">\n",
       "  <thead>\n",
       "    <tr style=\"text-align: right;\">\n",
       "      <th></th>\n",
       "      <th>titulo</th>\n",
       "      <th>empresa</th>\n",
       "      <th>pais</th>\n",
       "      <th>link</th>\n",
       "      <th>fecha</th>\n",
       "    </tr>\n",
       "  </thead>\n",
       "  <tbody>\n",
       "    <tr>\n",
       "      <th>0</th>\n",
       "      <td>Data Engineer</td>\n",
       "      <td>TSD Consulting</td>\n",
       "      <td>Spain</td>\n",
       "      <td>https://es.linkedin.com/jobs/view/data-enginee...</td>\n",
       "      <td>2022-08-12</td>\n",
       "    </tr>\n",
       "    <tr>\n",
       "      <th>1</th>\n",
       "      <td>Data Engineer (Pyspark)</td>\n",
       "      <td>Boycor</td>\n",
       "      <td>Madrid, Community of Madrid, Spain</td>\n",
       "      <td>https://es.linkedin.com/jobs/view/data-enginee...</td>\n",
       "      <td>2022-08-29</td>\n",
       "    </tr>\n",
       "    <tr>\n",
       "      <th>2</th>\n",
       "      <td>Data Engineers (Azure) - 100% Remote</td>\n",
       "      <td>Robert Walters</td>\n",
       "      <td>Canary Islands, Spain</td>\n",
       "      <td>https://es.linkedin.com/jobs/view/data-enginee...</td>\n",
       "      <td>2022-08-09</td>\n",
       "    </tr>\n",
       "    <tr>\n",
       "      <th>3</th>\n",
       "      <td>Ingeniero migración de datos. Remoto 100%</td>\n",
       "      <td>Plexus Tech</td>\n",
       "      <td>Spain</td>\n",
       "      <td>https://es.linkedin.com/jobs/view/ingeniero-mi...</td>\n",
       "      <td>2022-08-26</td>\n",
       "    </tr>\n",
       "    <tr>\n",
       "      <th>4</th>\n",
       "      <td>Data Engineer</td>\n",
       "      <td>The Cocktail</td>\n",
       "      <td>Spain</td>\n",
       "      <td>https://es.linkedin.com/jobs/view/data-enginee...</td>\n",
       "      <td>2022-08-18</td>\n",
       "    </tr>\n",
       "  </tbody>\n",
       "</table>\n",
       "</div>"
      ],
      "text/plain": [
       "                                      titulo         empresa  \\\n",
       "0                              Data Engineer  TSD Consulting   \n",
       "1                    Data Engineer (Pyspark)          Boycor   \n",
       "2       Data Engineers (Azure) - 100% Remote  Robert Walters   \n",
       "3  Ingeniero migración de datos. Remoto 100%     Plexus Tech   \n",
       "4                              Data Engineer    The Cocktail   \n",
       "\n",
       "                                 pais  \\\n",
       "0                               Spain   \n",
       "1  Madrid, Community of Madrid, Spain   \n",
       "2               Canary Islands, Spain   \n",
       "3                               Spain   \n",
       "4                               Spain   \n",
       "\n",
       "                                                link       fecha  \n",
       "0  https://es.linkedin.com/jobs/view/data-enginee...  2022-08-12  \n",
       "1  https://es.linkedin.com/jobs/view/data-enginee...  2022-08-29  \n",
       "2  https://es.linkedin.com/jobs/view/data-enginee...  2022-08-09  \n",
       "3  https://es.linkedin.com/jobs/view/ingeniero-mi...  2022-08-26  \n",
       "4  https://es.linkedin.com/jobs/view/data-enginee...  2022-08-18  "
      ]
     },
     "execution_count": 132,
     "metadata": {},
     "output_type": "execute_result"
    }
   ],
   "source": [
    "df_linkedin.head()"
   ]
  },
  {
   "cell_type": "code",
   "execution_count": 133,
   "metadata": {
    "scrolled": false
   },
   "outputs": [
    {
     "data": {
      "text/html": [
       "<table border=\"1\" class=\"dataframe\">\n",
       "  <thead>\n",
       "    <tr style=\"text-align: right;\">\n",
       "      <th></th>\n",
       "      <th>titulo</th>\n",
       "      <th>empresa</th>\n",
       "      <th>pais</th>\n",
       "      <th>link</th>\n",
       "      <th>fecha</th>\n",
       "    </tr>\n",
       "  </thead>\n",
       "  <tbody>\n",
       "    <tr>\n",
       "      <th>0</th>\n",
       "      <td>Data Engineer</td>\n",
       "      <td>TSD Consulting</td>\n",
       "      <td>Spain</td>\n",
       "      <td><a href=\"https://es.linkedin.com/jobs/view/data-engineer-at-tsd-consulting-3218812003?refId=HiFvoHf5MNwZj2W%2BbpF52Q%3D%3D&trackingId=ZwUQwfR0ytxC8sBYpdCbbg%3D%3D&position=1&pageNum=0&trk=public_jobs_jserp-result_search-card\" target=\"_blank\">https://es.linkedin.com/jobs/view/data-engineer-at-tsd-consulting-3218812003?refId=HiFvoHf5MNwZj2W%2BbpF52Q%3D%3D&amp;trackingId=ZwUQwfR0ytxC8sBYpdCbbg%3D%3D&amp;position=1&amp;pageNum=0&amp;trk=public_jobs_jserp-result_search-card</a></td>\n",
       "      <td>2022-08-12</td>\n",
       "    </tr>\n",
       "    <tr>\n",
       "      <th>1</th>\n",
       "      <td>Data Engineer (Pyspark)</td>\n",
       "      <td>Boycor</td>\n",
       "      <td>Madrid, Community of Madrid, Spain</td>\n",
       "      <td><a href=\"https://es.linkedin.com/jobs/view/data-engineer-pyspark-at-boycor-3241783584?refId=HiFvoHf5MNwZj2W%2BbpF52Q%3D%3D&trackingId=PALuG23oAK8uCpPrDGVYNA%3D%3D&position=2&pageNum=0&trk=public_jobs_jserp-result_search-card\" target=\"_blank\">https://es.linkedin.com/jobs/view/data-engineer-pyspark-at-boycor-3241783584?refId=HiFvoHf5MNwZj2W%2BbpF52Q%3D%3D&amp;trackingId=PALuG23oAK8uCpPrDGVYNA%3D%3D&amp;position=2&amp;pageNum=0&amp;trk=public_jobs_jserp-result_search-card</a></td>\n",
       "      <td>2022-08-29</td>\n",
       "    </tr>\n",
       "    <tr>\n",
       "      <th>2</th>\n",
       "      <td>Data Engineers (Azure) - 100% Remote</td>\n",
       "      <td>Robert Walters</td>\n",
       "      <td>Canary Islands, Spain</td>\n",
       "      <td><a href=\"https://es.linkedin.com/jobs/view/data-engineers-azure-100%25-remote-at-robert-walters-3211427684?refId=HiFvoHf5MNwZj2W%2BbpF52Q%3D%3D&trackingId=tJYCchFErJ61C%2BsTzH26YQ%3D%3D&position=3&pageNum=0&trk=public_jobs_jserp-result_search-card\" target=\"_blank\">https://es.linkedin.com/jobs/view/data-engineers-azure-100%25-remote-at-robert-walters-3211427684?refId=HiFvoHf5MNwZj2W%2BbpF52Q%3D%3D&amp;trackingId=tJYCchFErJ61C%2BsTzH26YQ%3D%3D&amp;position=3&amp;pageNum=0&amp;trk=public_jobs_jserp-result_search-card</a></td>\n",
       "      <td>2022-08-09</td>\n",
       "    </tr>\n",
       "    <tr>\n",
       "      <th>3</th>\n",
       "      <td>Ingeniero migración de datos. Remoto 100%</td>\n",
       "      <td>Plexus Tech</td>\n",
       "      <td>Spain</td>\n",
       "      <td><a href=\"https://es.linkedin.com/jobs/view/ingeniero-migraci%C3%B3n-de-datos-remoto-100%25-at-plexus-tech-3237813875?refId=HiFvoHf5MNwZj2W%2BbpF52Q%3D%3D&trackingId=4JzaJ3eF68SGz3KANwZoug%3D%3D&position=4&pageNum=0&trk=public_jobs_jserp-result_search-card\" target=\"_blank\">https://es.linkedin.com/jobs/view/ingeniero-migraci%C3%B3n-de-datos-remoto-100%25-at-plexus-tech-3237813875?refId=HiFvoHf5MNwZj2W%2BbpF52Q%3D%3D&amp;trackingId=4JzaJ3eF68SGz3KANwZoug%3D%3D&amp;position=4&amp;pageNum=0&amp;trk=public_jobs_jserp-result_search-card</a></td>\n",
       "      <td>2022-08-26</td>\n",
       "    </tr>\n",
       "    <tr>\n",
       "      <th>4</th>\n",
       "      <td>Data Engineer</td>\n",
       "      <td>The Cocktail</td>\n",
       "      <td>Spain</td>\n",
       "      <td><a href=\"https://es.linkedin.com/jobs/view/data-engineer-at-the-cocktail-3227876328?refId=HiFvoHf5MNwZj2W%2BbpF52Q%3D%3D&trackingId=aJnAALCQicPrxQkc%2B%2BfEsQ%3D%3D&position=5&pageNum=0&trk=public_jobs_jserp-result_search-card\" target=\"_blank\">https://es.linkedin.com/jobs/view/data-engineer-at-the-cocktail-3227876328?refId=HiFvoHf5MNwZj2W%2BbpF52Q%3D%3D&amp;trackingId=aJnAALCQicPrxQkc%2B%2BfEsQ%3D%3D&amp;position=5&amp;pageNum=0&amp;trk=public_jobs_jserp-result_search-card</a></td>\n",
       "      <td>2022-08-18</td>\n",
       "    </tr>\n",
       "    <tr>\n",
       "      <th>5</th>\n",
       "      <td>Data Engineer - Spark / Scala</td>\n",
       "      <td>NTT DATA Europe &amp; Latam</td>\n",
       "      <td>Madrid, Community of Madrid, Spain</td>\n",
       "      <td><a href=\"https://es.linkedin.com/jobs/view/data-engineer-spark-scala-at-ntt-data-europe-latam-3237601649?refId=HiFvoHf5MNwZj2W%2BbpF52Q%3D%3D&trackingId=bFq5ryduAkIo0uUqhvU2tQ%3D%3D&position=6&pageNum=0&trk=public_jobs_jserp-result_search-card\" target=\"_blank\">https://es.linkedin.com/jobs/view/data-engineer-spark-scala-at-ntt-data-europe-latam-3237601649?refId=HiFvoHf5MNwZj2W%2BbpF52Q%3D%3D&amp;trackingId=bFq5ryduAkIo0uUqhvU2tQ%3D%3D&amp;position=6&amp;pageNum=0&amp;trk=public_jobs_jserp-result_search-card</a></td>\n",
       "      <td>2022-08-29</td>\n",
       "    </tr>\n",
       "    <tr>\n",
       "      <th>6</th>\n",
       "      <td>Data Engineer (Remote)</td>\n",
       "      <td>Glofox</td>\n",
       "      <td>Madrid, Community of Madrid, Spain</td>\n",
       "      <td><a href=\"https://es.linkedin.com/jobs/view/data-engineer-remote-at-glofox-3231116623?refId=HiFvoHf5MNwZj2W%2BbpF52Q%3D%3D&trackingId=6YlzHR8YdxiJ%2F01TupjuiA%3D%3D&position=7&pageNum=0&trk=public_jobs_jserp-result_search-card\" target=\"_blank\">https://es.linkedin.com/jobs/view/data-engineer-remote-at-glofox-3231116623?refId=HiFvoHf5MNwZj2W%2BbpF52Q%3D%3D&amp;trackingId=6YlzHR8YdxiJ%2F01TupjuiA%3D%3D&amp;position=7&amp;pageNum=0&amp;trk=public_jobs_jserp-result_search-card</a></td>\n",
       "      <td>2022-07-27</td>\n",
       "    </tr>\n",
       "    <tr>\n",
       "      <th>7</th>\n",
       "      <td>Data Engineer para Analytics</td>\n",
       "      <td>Aegon Seguros</td>\n",
       "      <td>Madrid, Community of Madrid, Spain</td>\n",
       "      <td><a href=\"https://es.linkedin.com/jobs/view/data-engineer-para-analytics-at-aegon-seguros-3243674957?refId=HiFvoHf5MNwZj2W%2BbpF52Q%3D%3D&trackingId=VP9khq8zqLrwWinigEVCuw%3D%3D&position=8&pageNum=0&trk=public_jobs_jserp-result_search-card\" target=\"_blank\">https://es.linkedin.com/jobs/view/data-engineer-para-analytics-at-aegon-seguros-3243674957?refId=HiFvoHf5MNwZj2W%2BbpF52Q%3D%3D&amp;trackingId=VP9khq8zqLrwWinigEVCuw%3D%3D&amp;position=8&amp;pageNum=0&amp;trk=public_jobs_jserp-result_search-card</a></td>\n",
       "      <td>2022-08-29</td>\n",
       "    </tr>\n",
       "    <tr>\n",
       "      <th>8</th>\n",
       "      <td>Data Engineer</td>\n",
       "      <td>Palatin</td>\n",
       "      <td>Barcelona, Catalonia, Spain</td>\n",
       "      <td><a href=\"https://es.linkedin.com/jobs/view/data-engineer-at-palatin-3212165141?refId=HiFvoHf5MNwZj2W%2BbpF52Q%3D%3D&trackingId=fFl7rdd11MmG4wFQba6zdw%3D%3D&position=9&pageNum=0&trk=public_jobs_jserp-result_search-card\" target=\"_blank\">https://es.linkedin.com/jobs/view/data-engineer-at-palatin-3212165141?refId=HiFvoHf5MNwZj2W%2BbpF52Q%3D%3D&amp;trackingId=fFl7rdd11MmG4wFQba6zdw%3D%3D&amp;position=9&amp;pageNum=0&amp;trk=public_jobs_jserp-result_search-card</a></td>\n",
       "      <td>2022-08-24</td>\n",
       "    </tr>\n",
       "    <tr>\n",
       "      <th>9</th>\n",
       "      <td>Data Engineer</td>\n",
       "      <td>Rhams Talent</td>\n",
       "      <td>Community of Madrid, Spain</td>\n",
       "      <td><a href=\"https://es.linkedin.com/jobs/view/data-engineer-at-rhams-talent-3218857987?refId=HiFvoHf5MNwZj2W%2BbpF52Q%3D%3D&trackingId=K8rvE%2F6j5kc5Q70wK2ilCA%3D%3D&position=10&pageNum=0&trk=public_jobs_jserp-result_search-card\" target=\"_blank\">https://es.linkedin.com/jobs/view/data-engineer-at-rhams-talent-3218857987?refId=HiFvoHf5MNwZj2W%2BbpF52Q%3D%3D&amp;trackingId=K8rvE%2F6j5kc5Q70wK2ilCA%3D%3D&amp;position=10&amp;pageNum=0&amp;trk=public_jobs_jserp-result_search-card</a></td>\n",
       "      <td>2022-08-12</td>\n",
       "    </tr>\n",
       "    <tr>\n",
       "      <th>10</th>\n",
       "      <td>Data Engineer</td>\n",
       "      <td>NewPoint Information Technology and Consulting</td>\n",
       "      <td>Community of Madrid, Spain</td>\n",
       "      <td><a href=\"https://es.linkedin.com/jobs/view/data-engineer-at-newpoint-information-technology-consulting-3199566454?refId=HiFvoHf5MNwZj2W%2BbpF52Q%3D%3D&trackingId=N7iU3bG1lRp3IOVWBpG8aQ%3D%3D&position=11&pageNum=0&trk=public_jobs_jserp-result_search-card\" target=\"_blank\">https://es.linkedin.com/jobs/view/data-engineer-at-newpoint-information-technology-consulting-3199566454?refId=HiFvoHf5MNwZj2W%2BbpF52Q%3D%3D&amp;trackingId=N7iU3bG1lRp3IOVWBpG8aQ%3D%3D&amp;position=11&amp;pageNum=0&amp;trk=public_jobs_jserp-result_search-card</a></td>\n",
       "      <td>2022-08-01</td>\n",
       "    </tr>\n",
       "    <tr>\n",
       "      <th>11</th>\n",
       "      <td>Analista de datos con experiencia en SAS</td>\n",
       "      <td>Apiux Tecnología</td>\n",
       "      <td>Madrid, Community of Madrid, Spain</td>\n",
       "      <td><a href=\"https://es.linkedin.com/jobs/view/analista-de-datos-con-experiencia-en-sas-at-apiux-tecnolog%C3%ADa-3226074657?refId=HiFvoHf5MNwZj2W%2BbpF52Q%3D%3D&trackingId=27SP%2FBWwdL3ue2GR5f7hmQ%3D%3D&position=12&pageNum=0&trk=public_jobs_jserp-result_search-card\" target=\"_blank\">https://es.linkedin.com/jobs/view/analista-de-datos-con-experiencia-en-sas-at-apiux-tecnolog%C3%ADa-3226074657?refId=HiFvoHf5MNwZj2W%2BbpF52Q%3D%3D&amp;trackingId=27SP%2FBWwdL3ue2GR5f7hmQ%3D%3D&amp;position=12&amp;pageNum=0&amp;trk=public_jobs_jserp-result_search-card</a></td>\n",
       "      <td>2022-08-17</td>\n",
       "    </tr>\n",
       "    <tr>\n",
       "      <th>12</th>\n",
       "      <td>Ingeniera/o de Procesos</td>\n",
       "      <td>Frit Ravich</td>\n",
       "      <td>Maçanet de la Selva, Catalonia, Spain</td>\n",
       "      <td><a href=\"https://es.linkedin.com/jobs/view/ingeniera-o-de-procesos-at-frit-ravich-3232115197?refId=HiFvoHf5MNwZj2W%2BbpF52Q%3D%3D&trackingId=idWZ13QSPSVDjHB2N1T0vw%3D%3D&position=13&pageNum=0&trk=public_jobs_jserp-result_search-card\" target=\"_blank\">https://es.linkedin.com/jobs/view/ingeniera-o-de-procesos-at-frit-ravich-3232115197?refId=HiFvoHf5MNwZj2W%2BbpF52Q%3D%3D&amp;trackingId=idWZ13QSPSVDjHB2N1T0vw%3D%3D&amp;position=13&amp;pageNum=0&amp;trk=public_jobs_jserp-result_search-card</a></td>\n",
       "      <td>2022-08-23</td>\n",
       "    </tr>\n",
       "    <tr>\n",
       "      <th>13</th>\n",
       "      <td>Data Engineer</td>\n",
       "      <td>TEC Partners - Technical Recruitment Specialists</td>\n",
       "      <td>Greater Barcelona Metropolitan Area</td>\n",
       "      <td><a href=\"https://es.linkedin.com/jobs/view/data-engineer-at-tec-partners-technical-recruitment-specialists-3132918614?refId=HiFvoHf5MNwZj2W%2BbpF52Q%3D%3D&trackingId=4dvxoM1IGw3KfpOlLdHAcw%3D%3D&position=14&pageNum=0&trk=public_jobs_jserp-result_search-card\" target=\"_blank\">https://es.linkedin.com/jobs/view/data-engineer-at-tec-partners-technical-recruitment-specialists-3132918614?refId=HiFvoHf5MNwZj2W%2BbpF52Q%3D%3D&amp;trackingId=4dvxoM1IGw3KfpOlLdHAcw%3D%3D&amp;position=14&amp;pageNum=0&amp;trk=public_jobs_jserp-result_search-card</a></td>\n",
       "      <td>2022-07-11</td>\n",
       "    </tr>\n",
       "    <tr>\n",
       "      <th>14</th>\n",
       "      <td>Data Engineer</td>\n",
       "      <td>Damavis Studio</td>\n",
       "      <td>Spain</td>\n",
       "      <td><a href=\"https://es.linkedin.com/jobs/view/data-engineer-at-damavis-studio-3116607703?refId=HiFvoHf5MNwZj2W%2BbpF52Q%3D%3D&trackingId=9Lpn%2Fob91WwbsZiQIN%2BeHw%3D%3D&position=15&pageNum=0&trk=public_jobs_jserp-result_search-card\" target=\"_blank\">https://es.linkedin.com/jobs/view/data-engineer-at-damavis-studio-3116607703?refId=HiFvoHf5MNwZj2W%2BbpF52Q%3D%3D&amp;trackingId=9Lpn%2Fob91WwbsZiQIN%2BeHw%3D%3D&amp;position=15&amp;pageNum=0&amp;trk=public_jobs_jserp-result_search-card</a></td>\n",
       "      <td>2022-06-10</td>\n",
       "    </tr>\n",
       "    <tr>\n",
       "      <th>15</th>\n",
       "      <td>Beca - Ingeniero/a de Datos</td>\n",
       "      <td>Aegon</td>\n",
       "      <td>Madrid, Community of Madrid, Spain</td>\n",
       "      <td><a href=\"https://es.linkedin.com/jobs/view/beca-ingeniero-a-de-datos-at-aegon-3204943924?refId=HiFvoHf5MNwZj2W%2BbpF52Q%3D%3D&trackingId=T5OumV%2FPznWm8S1SgPVqVw%3D%3D&position=16&pageNum=0&trk=public_jobs_jserp-result_search-card\" target=\"_blank\">https://es.linkedin.com/jobs/view/beca-ingeniero-a-de-datos-at-aegon-3204943924?refId=HiFvoHf5MNwZj2W%2BbpF52Q%3D%3D&amp;trackingId=T5OumV%2FPznWm8S1SgPVqVw%3D%3D&amp;position=16&amp;pageNum=0&amp;trk=public_jobs_jserp-result_search-card</a></td>\n",
       "      <td>2022-08-12</td>\n",
       "    </tr>\n",
       "    <tr>\n",
       "      <th>16</th>\n",
       "      <td>Data Developer (Banca)</td>\n",
       "      <td>ServiguideBPO</td>\n",
       "      <td>Madrid, Community of Madrid, Spain</td>\n",
       "      <td><a href=\"https://es.linkedin.com/jobs/view/data-developer-banca-at-serviguidebpo-3231274499?refId=HiFvoHf5MNwZj2W%2BbpF52Q%3D%3D&trackingId=VKaGAYODPLibwZ8SJW9qoA%3D%3D&position=17&pageNum=0&trk=public_jobs_jserp-result_search-card\" target=\"_blank\">https://es.linkedin.com/jobs/view/data-developer-banca-at-serviguidebpo-3231274499?refId=HiFvoHf5MNwZj2W%2BbpF52Q%3D%3D&amp;trackingId=VKaGAYODPLibwZ8SJW9qoA%3D%3D&amp;position=17&amp;pageNum=0&amp;trk=public_jobs_jserp-result_search-card</a></td>\n",
       "      <td>2022-07-31</td>\n",
       "    </tr>\n",
       "    <tr>\n",
       "      <th>17</th>\n",
       "      <td>Data Engineer</td>\n",
       "      <td>BNZSA</td>\n",
       "      <td>Las Rozas de Madrid, Community of Madrid, Spain</td>\n",
       "      <td><a href=\"https://es.linkedin.com/jobs/view/data-engineer-at-bnzsa-3202128578?refId=HiFvoHf5MNwZj2W%2BbpF52Q%3D%3D&trackingId=Mu%2FvQGdkBxYGm9%2FTTjdptw%3D%3D&position=18&pageNum=0&trk=public_jobs_jserp-result_search-card\" target=\"_blank\">https://es.linkedin.com/jobs/view/data-engineer-at-bnzsa-3202128578?refId=HiFvoHf5MNwZj2W%2BbpF52Q%3D%3D&amp;trackingId=Mu%2FvQGdkBxYGm9%2FTTjdptw%3D%3D&amp;position=18&amp;pageNum=0&amp;trk=public_jobs_jserp-result_search-card</a></td>\n",
       "      <td>2022-08-25</td>\n",
       "    </tr>\n",
       "    <tr>\n",
       "      <th>18</th>\n",
       "      <td>Analytics Engineer</td>\n",
       "      <td>The Cocktail</td>\n",
       "      <td>Madrid, Community of Madrid, Spain</td>\n",
       "      <td><a href=\"https://es.linkedin.com/jobs/view/analytics-engineer-at-the-cocktail-2865452480?refId=HiFvoHf5MNwZj2W%2BbpF52Q%3D%3D&trackingId=fFYNnFYW5oS9d9aB1TvhvQ%3D%3D&position=19&pageNum=0&trk=public_jobs_jserp-result_search-card\" target=\"_blank\">https://es.linkedin.com/jobs/view/analytics-engineer-at-the-cocktail-2865452480?refId=HiFvoHf5MNwZj2W%2BbpF52Q%3D%3D&amp;trackingId=fFYNnFYW5oS9d9aB1TvhvQ%3D%3D&amp;position=19&amp;pageNum=0&amp;trk=public_jobs_jserp-result_search-card</a></td>\n",
       "      <td>2022-03-21</td>\n",
       "    </tr>\n",
       "    <tr>\n",
       "      <th>19</th>\n",
       "      <td>DATA ENGINEER</td>\n",
       "      <td>S2 Grupo</td>\n",
       "      <td>Valencia, Valencian Community, Spain</td>\n",
       "      <td><a href=\"https://es.linkedin.com/jobs/view/data-engineer-at-s2-grupo-3200869820?refId=HiFvoHf5MNwZj2W%2BbpF52Q%3D%3D&trackingId=E7WoEq%2F6Pp6nTKVR0%2BlR3g%3D%3D&position=20&pageNum=0&trk=public_jobs_jserp-result_search-card\" target=\"_blank\">https://es.linkedin.com/jobs/view/data-engineer-at-s2-grupo-3200869820?refId=HiFvoHf5MNwZj2W%2BbpF52Q%3D%3D&amp;trackingId=E7WoEq%2F6Pp6nTKVR0%2BlR3g%3D%3D&amp;position=20&amp;pageNum=0&amp;trk=public_jobs_jserp-result_search-card</a></td>\n",
       "      <td>2022-08-02</td>\n",
       "    </tr>\n",
       "    <tr>\n",
       "      <th>20</th>\n",
       "      <td>Ingeniero de Datos con Inglés</td>\n",
       "      <td>Rawson BPO</td>\n",
       "      <td>Madrid, Community of Madrid, Spain</td>\n",
       "      <td><a href=\"https://es.linkedin.com/jobs/view/ingeniero-de-datos-con-ingl%C3%A9s-at-rawson-bpo-3214913094?refId=HiFvoHf5MNwZj2W%2BbpF52Q%3D%3D&trackingId=fn2m3L3hK9RD3ID%2FaDuREw%3D%3D&position=21&pageNum=0&trk=public_jobs_jserp-result_search-card\" target=\"_blank\">https://es.linkedin.com/jobs/view/ingeniero-de-datos-con-ingl%C3%A9s-at-rawson-bpo-3214913094?refId=HiFvoHf5MNwZj2W%2BbpF52Q%3D%3D&amp;trackingId=fn2m3L3hK9RD3ID%2FaDuREw%3D%3D&amp;position=21&amp;pageNum=0&amp;trk=public_jobs_jserp-result_search-card</a></td>\n",
       "      <td>2022-08-11</td>\n",
       "    </tr>\n",
       "    <tr>\n",
       "      <th>21</th>\n",
       "      <td>Ingeniero Datos</td>\n",
       "      <td>Plexus Tech</td>\n",
       "      <td>Spain</td>\n",
       "      <td><a href=\"https://es.linkedin.com/jobs/view/ingeniero-datos-at-plexus-tech-3237794291?refId=HiFvoHf5MNwZj2W%2BbpF52Q%3D%3D&trackingId=xtUG6qzFFBGuQHhDH3xuoA%3D%3D&position=22&pageNum=0&trk=public_jobs_jserp-result_search-card\" target=\"_blank\">https://es.linkedin.com/jobs/view/ingeniero-datos-at-plexus-tech-3237794291?refId=HiFvoHf5MNwZj2W%2BbpF52Q%3D%3D&amp;trackingId=xtUG6qzFFBGuQHhDH3xuoA%3D%3D&amp;position=22&amp;pageNum=0&amp;trk=public_jobs_jserp-result_search-card</a></td>\n",
       "      <td>2022-08-26</td>\n",
       "    </tr>\n",
       "    <tr>\n",
       "      <th>22</th>\n",
       "      <td>Big Data Developer</td>\n",
       "      <td>Vermont Solutions</td>\n",
       "      <td>Madrid, Community of Madrid, Spain</td>\n",
       "      <td><a href=\"https://es.linkedin.com/jobs/view/big-data-developer-at-vermont-solutions-3243174882?refId=HiFvoHf5MNwZj2W%2BbpF52Q%3D%3D&trackingId=hZDLIRDcOgT4IyogpGuelg%3D%3D&position=23&pageNum=0&trk=public_jobs_jserp-result_search-card\" target=\"_blank\">https://es.linkedin.com/jobs/view/big-data-developer-at-vermont-solutions-3243174882?refId=HiFvoHf5MNwZj2W%2BbpF52Q%3D%3D&amp;trackingId=hZDLIRDcOgT4IyogpGuelg%3D%3D&amp;position=23&amp;pageNum=0&amp;trk=public_jobs_jserp-result_search-card</a></td>\n",
       "      <td>2022-08-03</td>\n",
       "    </tr>\n",
       "    <tr>\n",
       "      <th>23</th>\n",
       "      <td>Ingeniero de datos (Senior) - Madrid</td>\n",
       "      <td>Logitravel Group</td>\n",
       "      <td>Madrid, Community of Madrid, Spain</td>\n",
       "      <td><a href=\"https://es.linkedin.com/jobs/view/ingeniero-de-datos-senior-madrid-at-logitravel-group-3190803130?refId=HiFvoHf5MNwZj2W%2BbpF52Q%3D%3D&trackingId=qmxIffYioyysv3zH2ud5qA%3D%3D&position=24&pageNum=0&trk=public_jobs_jserp-result_search-card\" target=\"_blank\">https://es.linkedin.com/jobs/view/ingeniero-de-datos-senior-madrid-at-logitravel-group-3190803130?refId=HiFvoHf5MNwZj2W%2BbpF52Q%3D%3D&amp;trackingId=qmxIffYioyysv3zH2ud5qA%3D%3D&amp;position=24&amp;pageNum=0&amp;trk=public_jobs_jserp-result_search-card</a></td>\n",
       "      <td>2022-07-14</td>\n",
       "    </tr>\n",
       "    <tr>\n",
       "      <th>24</th>\n",
       "      <td>DATA ENGINEER JUNIOR</td>\n",
       "      <td>ISPROX</td>\n",
       "      <td>Spain</td>\n",
       "      <td><a href=\"https://es.linkedin.com/jobs/view/data-engineer-junior-at-isprox-3243094466?refId=b%2BEjrLVYRjTJCkcAMwS1Ig%3D%3D&trackingId=SifG95ECODIThF6UgE94lA%3D%3D&position=1&pageNum=0&trk=public_jobs_jserp-result_search-card\" target=\"_blank\">https://es.linkedin.com/jobs/view/data-engineer-junior-at-isprox-3243094466?refId=b%2BEjrLVYRjTJCkcAMwS1Ig%3D%3D&amp;trackingId=SifG95ECODIThF6UgE94lA%3D%3D&amp;position=1&amp;pageNum=0&amp;trk=public_jobs_jserp-result_search-card</a></td>\n",
       "      <td>2022-08-30</td>\n",
       "    </tr>\n",
       "    <tr>\n",
       "      <th>25</th>\n",
       "      <td>Data Analyst</td>\n",
       "      <td>Tokiota</td>\n",
       "      <td>Spain</td>\n",
       "      <td><a href=\"https://es.linkedin.com/jobs/view/data-analyst-at-tokiota-3243066628?refId=b%2BEjrLVYRjTJCkcAMwS1Ig%3D%3D&trackingId=yitIPuRmRFB44MJbCAgO4w%3D%3D&position=2&pageNum=0&trk=public_jobs_jserp-result_search-card\" target=\"_blank\">https://es.linkedin.com/jobs/view/data-analyst-at-tokiota-3243066628?refId=b%2BEjrLVYRjTJCkcAMwS1Ig%3D%3D&amp;trackingId=yitIPuRmRFB44MJbCAgO4w%3D%3D&amp;position=2&amp;pageNum=0&amp;trk=public_jobs_jserp-result_search-card</a></td>\n",
       "      <td>2022-08-30</td>\n",
       "    </tr>\n",
       "    <tr>\n",
       "      <th>26</th>\n",
       "      <td>Ingeniero/a de datos junior</td>\n",
       "      <td>Olocip</td>\n",
       "      <td>Madrid, Community of Madrid, Spain</td>\n",
       "      <td><a href=\"https://es.linkedin.com/jobs/view/ingeniero-a-de-datos-junior-at-olocip-3175144837?refId=b%2BEjrLVYRjTJCkcAMwS1Ig%3D%3D&trackingId=j5bNO3pvFr0cWlYKTB78aA%3D%3D&position=3&pageNum=0&trk=public_jobs_jserp-result_search-card\" target=\"_blank\">https://es.linkedin.com/jobs/view/ingeniero-a-de-datos-junior-at-olocip-3175144837?refId=b%2BEjrLVYRjTJCkcAMwS1Ig%3D%3D&amp;trackingId=j5bNO3pvFr0cWlYKTB78aA%3D%3D&amp;position=3&amp;pageNum=0&amp;trk=public_jobs_jserp-result_search-card</a></td>\n",
       "      <td>2022-07-18</td>\n",
       "    </tr>\n",
       "    <tr>\n",
       "      <th>27</th>\n",
       "      <td>Data Engineer</td>\n",
       "      <td>Aszendit Tech</td>\n",
       "      <td>Madrid, Community of Madrid, Spain</td>\n",
       "      <td><a href=\"https://es.linkedin.com/jobs/view/data-engineer-at-aszendit-tech-3237249879?refId=b%2BEjrLVYRjTJCkcAMwS1Ig%3D%3D&trackingId=VIisZzvlniXVTkmHrhO87A%3D%3D&position=4&pageNum=0&trk=public_jobs_jserp-result_search-card\" target=\"_blank\">https://es.linkedin.com/jobs/view/data-engineer-at-aszendit-tech-3237249879?refId=b%2BEjrLVYRjTJCkcAMwS1Ig%3D%3D&amp;trackingId=VIisZzvlniXVTkmHrhO87A%3D%3D&amp;position=4&amp;pageNum=0&amp;trk=public_jobs_jserp-result_search-card</a></td>\n",
       "      <td>2022-08-29</td>\n",
       "    </tr>\n",
       "    <tr>\n",
       "      <th>28</th>\n",
       "      <td>Ingeniero de Datos PowerCenter</td>\n",
       "      <td>Entelgy</td>\n",
       "      <td>Spain</td>\n",
       "      <td><a href=\"https://es.linkedin.com/jobs/view/ingeniero-de-datos-powercenter-at-entelgy-3233297881?refId=b%2BEjrLVYRjTJCkcAMwS1Ig%3D%3D&trackingId=gT%2BGKj1t1R3RQX7k4TkH7w%3D%3D&position=5&pageNum=0&trk=public_jobs_jserp-result_search-card\" target=\"_blank\">https://es.linkedin.com/jobs/view/ingeniero-de-datos-powercenter-at-entelgy-3233297881?refId=b%2BEjrLVYRjTJCkcAMwS1Ig%3D%3D&amp;trackingId=gT%2BGKj1t1R3RQX7k4TkH7w%3D%3D&amp;position=5&amp;pageNum=0&amp;trk=public_jobs_jserp-result_search-card</a></td>\n",
       "      <td>2022-08-26</td>\n",
       "    </tr>\n",
       "    <tr>\n",
       "      <th>29</th>\n",
       "      <td>Data Analyst (Remote)</td>\n",
       "      <td>BrandBastion</td>\n",
       "      <td>Barcelona, Catalonia, Spain</td>\n",
       "      <td><a href=\"https://es.linkedin.com/jobs/view/data-analyst-remote-at-brandbastion-3238305982?refId=b%2BEjrLVYRjTJCkcAMwS1Ig%3D%3D&trackingId=OwLJrQr6%2BNVNVaWjtgcFuA%3D%3D&position=6&pageNum=0&trk=public_jobs_jserp-result_search-card\" target=\"_blank\">https://es.linkedin.com/jobs/view/data-analyst-remote-at-brandbastion-3238305982?refId=b%2BEjrLVYRjTJCkcAMwS1Ig%3D%3D&amp;trackingId=OwLJrQr6%2BNVNVaWjtgcFuA%3D%3D&amp;position=6&amp;pageNum=0&amp;trk=public_jobs_jserp-result_search-card</a></td>\n",
       "      <td>2022-08-30</td>\n",
       "    </tr>\n",
       "    <tr>\n",
       "      <th>30</th>\n",
       "      <td>Data Engineer</td>\n",
       "      <td>atmira</td>\n",
       "      <td>Greater Madrid Metropolitan Area</td>\n",
       "      <td><a href=\"https://es.linkedin.com/jobs/view/data-engineer-at-atmira-3243303113?refId=b%2BEjrLVYRjTJCkcAMwS1Ig%3D%3D&trackingId=opfxppgkKTJjh6XXQOwC%2FA%3D%3D&position=7&pageNum=0&trk=public_jobs_jserp-result_search-card\" target=\"_blank\">https://es.linkedin.com/jobs/view/data-engineer-at-atmira-3243303113?refId=b%2BEjrLVYRjTJCkcAMwS1Ig%3D%3D&amp;trackingId=opfxppgkKTJjh6XXQOwC%2FA%3D%3D&amp;position=7&amp;pageNum=0&amp;trk=public_jobs_jserp-result_search-card</a></td>\n",
       "      <td>2022-08-30</td>\n",
       "    </tr>\n",
       "    <tr>\n",
       "      <th>31</th>\n",
       "      <td>Data Analyst (Remote)</td>\n",
       "      <td>BrandBastion</td>\n",
       "      <td>Madrid, Community of Madrid, Spain</td>\n",
       "      <td><a href=\"https://es.linkedin.com/jobs/view/data-analyst-remote-at-brandbastion-3238312048?refId=b%2BEjrLVYRjTJCkcAMwS1Ig%3D%3D&trackingId=Vva9weAjCPxhDXfhZ%2B1J6A%3D%3D&position=8&pageNum=0&trk=public_jobs_jserp-result_search-card\" target=\"_blank\">https://es.linkedin.com/jobs/view/data-analyst-remote-at-brandbastion-3238312048?refId=b%2BEjrLVYRjTJCkcAMwS1Ig%3D%3D&amp;trackingId=Vva9weAjCPxhDXfhZ%2B1J6A%3D%3D&amp;position=8&amp;pageNum=0&amp;trk=public_jobs_jserp-result_search-card</a></td>\n",
       "      <td>2022-08-30</td>\n",
       "    </tr>\n",
       "    <tr>\n",
       "      <th>32</th>\n",
       "      <td>Data Analyst</td>\n",
       "      <td>Rakuten TV</td>\n",
       "      <td>Spain</td>\n",
       "      <td><a href=\"https://es.linkedin.com/jobs/view/data-analyst-at-rakuten-tv-3226852701?refId=b%2BEjrLVYRjTJCkcAMwS1Ig%3D%3D&trackingId=Pye6Cc2SFJkYBx%2BtTzt6Yg%3D%3D&position=9&pageNum=0&trk=public_jobs_jserp-result_search-card\" target=\"_blank\">https://es.linkedin.com/jobs/view/data-analyst-at-rakuten-tv-3226852701?refId=b%2BEjrLVYRjTJCkcAMwS1Ig%3D%3D&amp;trackingId=Pye6Cc2SFJkYBx%2BtTzt6Yg%3D%3D&amp;position=9&amp;pageNum=0&amp;trk=public_jobs_jserp-result_search-card</a></td>\n",
       "      <td>2022-08-18</td>\n",
       "    </tr>\n",
       "    <tr>\n",
       "      <th>33</th>\n",
       "      <td>Data Analyst</td>\n",
       "      <td>Empresa de consultoría estratégica</td>\n",
       "      <td>Barcelona, Catalonia, Spain</td>\n",
       "      <td><a href=\"https://es.linkedin.com/jobs/view/data-analyst-at-empresa-de-consultor%C3%ADa-estrat%C3%A9gica-3243979410?refId=b%2BEjrLVYRjTJCkcAMwS1Ig%3D%3D&trackingId=GsZtbYZjEZfJXc8dXif%2FZQ%3D%3D&position=10&pageNum=0&trk=public_jobs_jserp-result_search-card\" target=\"_blank\">https://es.linkedin.com/jobs/view/data-analyst-at-empresa-de-consultor%C3%ADa-estrat%C3%A9gica-3243979410?refId=b%2BEjrLVYRjTJCkcAMwS1Ig%3D%3D&amp;trackingId=GsZtbYZjEZfJXc8dXif%2FZQ%3D%3D&amp;position=10&amp;pageNum=0&amp;trk=public_jobs_jserp-result_search-card</a></td>\n",
       "      <td>2022-08-29</td>\n",
       "    </tr>\n",
       "    <tr>\n",
       "      <th>34</th>\n",
       "      <td>Junior Data Engineer</td>\n",
       "      <td>Mars</td>\n",
       "      <td>Spain</td>\n",
       "      <td><a href=\"https://es.linkedin.com/jobs/view/junior-data-engineer-at-mars-3196784543?refId=b%2BEjrLVYRjTJCkcAMwS1Ig%3D%3D&trackingId=b7uUBZFp8vSvI0QBY%2Byr2A%3D%3D&position=11&pageNum=0&trk=public_jobs_jserp-result_search-card\" target=\"_blank\">https://es.linkedin.com/jobs/view/junior-data-engineer-at-mars-3196784543?refId=b%2BEjrLVYRjTJCkcAMwS1Ig%3D%3D&amp;trackingId=b7uUBZFp8vSvI0QBY%2Byr2A%3D%3D&amp;position=11&amp;pageNum=0&amp;trk=public_jobs_jserp-result_search-card</a></td>\n",
       "      <td>2022-08-01</td>\n",
       "    </tr>\n",
       "    <tr>\n",
       "      <th>35</th>\n",
       "      <td>Data Analyst - Renewables</td>\n",
       "      <td>The Green Recruitment Company</td>\n",
       "      <td>Madrid, Community of Madrid, Spain</td>\n",
       "      <td><a href=\"https://es.linkedin.com/jobs/view/data-analyst-renewables-at-the-green-recruitment-company-3233818235?refId=b%2BEjrLVYRjTJCkcAMwS1Ig%3D%3D&trackingId=GYHpfut8hjZRUQ9ijhv0Qg%3D%3D&position=12&pageNum=0&trk=public_jobs_jserp-result_search-card\" target=\"_blank\">https://es.linkedin.com/jobs/view/data-analyst-renewables-at-the-green-recruitment-company-3233818235?refId=b%2BEjrLVYRjTJCkcAMwS1Ig%3D%3D&amp;trackingId=GYHpfut8hjZRUQ9ijhv0Qg%3D%3D&amp;position=12&amp;pageNum=0&amp;trk=public_jobs_jserp-result_search-card</a></td>\n",
       "      <td>2022-08-26</td>\n",
       "    </tr>\n",
       "    <tr>\n",
       "      <th>36</th>\n",
       "      <td>Data Engineer</td>\n",
       "      <td>BNZSA</td>\n",
       "      <td>Las Rozas de Madrid, Community of Madrid, Spain</td>\n",
       "      <td><a href=\"https://es.linkedin.com/jobs/view/data-engineer-at-bnzsa-3202128578?refId=b%2BEjrLVYRjTJCkcAMwS1Ig%3D%3D&trackingId=2EwEDjkQR%2FtKEFky9%2B6F%2Fg%3D%3D&position=13&pageNum=0&trk=public_jobs_jserp-result_search-card\" target=\"_blank\">https://es.linkedin.com/jobs/view/data-engineer-at-bnzsa-3202128578?refId=b%2BEjrLVYRjTJCkcAMwS1Ig%3D%3D&amp;trackingId=2EwEDjkQR%2FtKEFky9%2B6F%2Fg%3D%3D&amp;position=13&amp;pageNum=0&amp;trk=public_jobs_jserp-result_search-card</a></td>\n",
       "      <td>2022-08-25</td>\n",
       "    </tr>\n",
       "    <tr>\n",
       "      <th>37</th>\n",
       "      <td>Ingenierio de datos</td>\n",
       "      <td>Zemsania Global Group</td>\n",
       "      <td>Spain</td>\n",
       "      <td><a href=\"https://es.linkedin.com/jobs/view/ingenierio-de-datos-at-zemsania-global-group-3243056320?refId=b%2BEjrLVYRjTJCkcAMwS1Ig%3D%3D&trackingId=AwYE%2FF84v6NUta8FXQ43qg%3D%3D&position=14&pageNum=0&trk=public_jobs_jserp-result_search-card\" target=\"_blank\">https://es.linkedin.com/jobs/view/ingenierio-de-datos-at-zemsania-global-group-3243056320?refId=b%2BEjrLVYRjTJCkcAMwS1Ig%3D%3D&amp;trackingId=AwYE%2FF84v6NUta8FXQ43qg%3D%3D&amp;position=14&amp;pageNum=0&amp;trk=public_jobs_jserp-result_search-card</a></td>\n",
       "      <td>2022-08-30</td>\n",
       "    </tr>\n",
       "    <tr>\n",
       "      <th>38</th>\n",
       "      <td>Ingeniero Datos</td>\n",
       "      <td>Plexus Tech</td>\n",
       "      <td>Spain</td>\n",
       "      <td><a href=\"https://es.linkedin.com/jobs/view/ingeniero-datos-at-plexus-tech-3237794291?refId=b%2BEjrLVYRjTJCkcAMwS1Ig%3D%3D&trackingId=hlY5Q556r415mr5HkeaQiw%3D%3D&position=15&pageNum=0&trk=public_jobs_jserp-result_search-card\" target=\"_blank\">https://es.linkedin.com/jobs/view/ingeniero-datos-at-plexus-tech-3237794291?refId=b%2BEjrLVYRjTJCkcAMwS1Ig%3D%3D&amp;trackingId=hlY5Q556r415mr5HkeaQiw%3D%3D&amp;position=15&amp;pageNum=0&amp;trk=public_jobs_jserp-result_search-card</a></td>\n",
       "      <td>2022-08-26</td>\n",
       "    </tr>\n",
       "    <tr>\n",
       "      <th>39</th>\n",
       "      <td>JUNIOR DATA ANALYST</td>\n",
       "      <td>MANGO</td>\n",
       "      <td>Barcelona, Catalonia, Spain</td>\n",
       "      <td><a href=\"https://es.linkedin.com/jobs/view/junior-data-analyst-at-mango-3223201743?refId=b%2BEjrLVYRjTJCkcAMwS1Ig%3D%3D&trackingId=pJGEt9nU%2BHhauak9FFWI6Q%3D%3D&position=16&pageNum=0&trk=public_jobs_jserp-result_search-card\" target=\"_blank\">https://es.linkedin.com/jobs/view/junior-data-analyst-at-mango-3223201743?refId=b%2BEjrLVYRjTJCkcAMwS1Ig%3D%3D&amp;trackingId=pJGEt9nU%2BHhauak9FFWI6Q%3D%3D&amp;position=16&amp;pageNum=0&amp;trk=public_jobs_jserp-result_search-card</a></td>\n",
       "      <td>2022-08-01</td>\n",
       "    </tr>\n",
       "    <tr>\n",
       "      <th>40</th>\n",
       "      <td>Data Analyst</td>\n",
       "      <td>Revolut</td>\n",
       "      <td>Spain</td>\n",
       "      <td><a href=\"https://es.linkedin.com/jobs/view/data-analyst-at-revolut-3078419797?refId=b%2BEjrLVYRjTJCkcAMwS1Ig%3D%3D&trackingId=Bj5UztEtWlawHmNkwymZ7w%3D%3D&position=17&pageNum=0&trk=public_jobs_jserp-result_search-card\" target=\"_blank\">https://es.linkedin.com/jobs/view/data-analyst-at-revolut-3078419797?refId=b%2BEjrLVYRjTJCkcAMwS1Ig%3D%3D&amp;trackingId=Bj5UztEtWlawHmNkwymZ7w%3D%3D&amp;position=17&amp;pageNum=0&amp;trk=public_jobs_jserp-result_search-card</a></td>\n",
       "      <td>2022-08-15</td>\n",
       "    </tr>\n",
       "    <tr>\n",
       "      <th>41</th>\n",
       "      <td>Data Analyst con Python</td>\n",
       "      <td>Adecco</td>\n",
       "      <td>Madrid, Community of Madrid, Spain</td>\n",
       "      <td><a href=\"https://es.linkedin.com/jobs/view/data-analyst-con-python-at-adecco-3219111478?refId=b%2BEjrLVYRjTJCkcAMwS1Ig%3D%3D&trackingId=DZ7rpsvFqd5c6L8Wj9gRsQ%3D%3D&position=18&pageNum=0&trk=public_jobs_jserp-result_search-card\" target=\"_blank\">https://es.linkedin.com/jobs/view/data-analyst-con-python-at-adecco-3219111478?refId=b%2BEjrLVYRjTJCkcAMwS1Ig%3D%3D&amp;trackingId=DZ7rpsvFqd5c6L8Wj9gRsQ%3D%3D&amp;position=18&amp;pageNum=0&amp;trk=public_jobs_jserp-result_search-card</a></td>\n",
       "      <td>2022-08-16</td>\n",
       "    </tr>\n",
       "    <tr>\n",
       "      <th>42</th>\n",
       "      <td>Ingeniero de datos</td>\n",
       "      <td>SETESCA</td>\n",
       "      <td>Greater Barcelona Metropolitan Area</td>\n",
       "      <td><a href=\"https://es.linkedin.com/jobs/view/ingeniero-de-datos-at-setesca-3231961359?refId=b%2BEjrLVYRjTJCkcAMwS1Ig%3D%3D&trackingId=2xHThY1FeZf0U0ALd4idFA%3D%3D&position=19&pageNum=0&trk=public_jobs_jserp-result_search-card\" target=\"_blank\">https://es.linkedin.com/jobs/view/ingeniero-de-datos-at-setesca-3231961359?refId=b%2BEjrLVYRjTJCkcAMwS1Ig%3D%3D&amp;trackingId=2xHThY1FeZf0U0ALd4idFA%3D%3D&amp;position=19&amp;pageNum=0&amp;trk=public_jobs_jserp-result_search-card</a></td>\n",
       "      <td>2022-08-23</td>\n",
       "    </tr>\n",
       "    <tr>\n",
       "      <th>43</th>\n",
       "      <td>Data Engineer</td>\n",
       "      <td>Ironhack</td>\n",
       "      <td>Spain</td>\n",
       "      <td><a href=\"https://es.linkedin.com/jobs/view/data-engineer-at-ironhack-3238369952?refId=b%2BEjrLVYRjTJCkcAMwS1Ig%3D%3D&trackingId=fYB6TZpqXXiPnRt0Z%2FwwfQ%3D%3D&position=20&pageNum=0&trk=public_jobs_jserp-result_search-card\" target=\"_blank\">https://es.linkedin.com/jobs/view/data-engineer-at-ironhack-3238369952?refId=b%2BEjrLVYRjTJCkcAMwS1Ig%3D%3D&amp;trackingId=fYB6TZpqXXiPnRt0Z%2FwwfQ%3D%3D&amp;position=20&amp;pageNum=0&amp;trk=public_jobs_jserp-result_search-card</a></td>\n",
       "      <td>2022-08-30</td>\n",
       "    </tr>\n",
       "    <tr>\n",
       "      <th>44</th>\n",
       "      <td>Data Analyst</td>\n",
       "      <td>AHEAD TECHNOLOGY</td>\n",
       "      <td>Barcelona, Catalonia, Spain</td>\n",
       "      <td><a href=\"https://es.linkedin.com/jobs/view/data-analyst-at-ahead-technology-3196998430?refId=b%2BEjrLVYRjTJCkcAMwS1Ig%3D%3D&trackingId=lQp4P%2FtU6JcvdoaEXnZSPw%3D%3D&position=21&pageNum=0&trk=public_jobs_jserp-result_search-card\" target=\"_blank\">https://es.linkedin.com/jobs/view/data-analyst-at-ahead-technology-3196998430?refId=b%2BEjrLVYRjTJCkcAMwS1Ig%3D%3D&amp;trackingId=lQp4P%2FtU6JcvdoaEXnZSPw%3D%3D&amp;position=21&amp;pageNum=0&amp;trk=public_jobs_jserp-result_search-card</a></td>\n",
       "      <td>2022-08-30</td>\n",
       "    </tr>\n",
       "    <tr>\n",
       "      <th>45</th>\n",
       "      <td>Ingeniero migración de datos. Remoto 100%</td>\n",
       "      <td>Plexus Tech</td>\n",
       "      <td>Spain</td>\n",
       "      <td><a href=\"https://es.linkedin.com/jobs/view/ingeniero-migraci%C3%B3n-de-datos-remoto-100%25-at-plexus-tech-3237813875?refId=b%2BEjrLVYRjTJCkcAMwS1Ig%3D%3D&trackingId=l%2FevjlTsfS63OyE%2BC9fuoA%3D%3D&position=22&pageNum=0&trk=public_jobs_jserp-result_search-card\" target=\"_blank\">https://es.linkedin.com/jobs/view/ingeniero-migraci%C3%B3n-de-datos-remoto-100%25-at-plexus-tech-3237813875?refId=b%2BEjrLVYRjTJCkcAMwS1Ig%3D%3D&amp;trackingId=l%2FevjlTsfS63OyE%2BC9fuoA%3D%3D&amp;position=22&amp;pageNum=0&amp;trk=public_jobs_jserp-result_search-card</a></td>\n",
       "      <td>2022-08-26</td>\n",
       "    </tr>\n",
       "    <tr>\n",
       "      <th>46</th>\n",
       "      <td>Data Engineer</td>\n",
       "      <td>Cititec</td>\n",
       "      <td>Community of Madrid, Spain</td>\n",
       "      <td><a href=\"https://es.linkedin.com/jobs/view/data-engineer-at-cititec-3234374109?refId=b%2BEjrLVYRjTJCkcAMwS1Ig%3D%3D&trackingId=J40M%2ByzBmVZnYIwmzfr%2FMQ%3D%3D&position=23&pageNum=0&trk=public_jobs_jserp-result_search-card\" target=\"_blank\">https://es.linkedin.com/jobs/view/data-engineer-at-cititec-3234374109?refId=b%2BEjrLVYRjTJCkcAMwS1Ig%3D%3D&amp;trackingId=J40M%2ByzBmVZnYIwmzfr%2FMQ%3D%3D&amp;position=23&amp;pageNum=0&amp;trk=public_jobs_jserp-result_search-card</a></td>\n",
       "      <td>2022-08-22</td>\n",
       "    </tr>\n",
       "    <tr>\n",
       "      <th>47</th>\n",
       "      <td>Analista de datos</td>\n",
       "      <td>Carrefour España</td>\n",
       "      <td>Alcobendas, Community of Madrid, Spain</td>\n",
       "      <td><a href=\"https://es.linkedin.com/jobs/view/analista-de-datos-at-carrefour-espa%C3%B1a-3235553778?refId=b%2BEjrLVYRjTJCkcAMwS1Ig%3D%3D&trackingId=pnzK7V4r6iptzsFsiPMiWA%3D%3D&position=24&pageNum=0&trk=public_jobs_jserp-result_search-card\" target=\"_blank\">https://es.linkedin.com/jobs/view/analista-de-datos-at-carrefour-espa%C3%B1a-3235553778?refId=b%2BEjrLVYRjTJCkcAMwS1Ig%3D%3D&amp;trackingId=pnzK7V4r6iptzsFsiPMiWA%3D%3D&amp;position=24&amp;pageNum=0&amp;trk=public_jobs_jserp-result_search-card</a></td>\n",
       "      <td>2022-08-24</td>\n",
       "    </tr>\n",
       "    <tr>\n",
       "      <th>48</th>\n",
       "      <td>Data Engineer</td>\n",
       "      <td>EY</td>\n",
       "      <td>Málaga, Andalusia, Spain</td>\n",
       "      <td><a href=\"https://es.linkedin.com/jobs/view/data-engineer-at-ey-3171230093?refId=b%2BEjrLVYRjTJCkcAMwS1Ig%3D%3D&trackingId=eNEBp987t1fKJIgC9BXlWQ%3D%3D&position=25&pageNum=0&trk=public_jobs_jserp-result_search-card\" target=\"_blank\">https://es.linkedin.com/jobs/view/data-engineer-at-ey-3171230093?refId=b%2BEjrLVYRjTJCkcAMwS1Ig%3D%3D&amp;trackingId=eNEBp987t1fKJIgC9BXlWQ%3D%3D&amp;position=25&amp;pageNum=0&amp;trk=public_jobs_jserp-result_search-card</a></td>\n",
       "      <td>2022-08-10</td>\n",
       "    </tr>\n",
       "    <tr>\n",
       "      <th>49</th>\n",
       "      <td>Data Engineer</td>\n",
       "      <td>atmira</td>\n",
       "      <td>Greater Madrid Metropolitan Area</td>\n",
       "      <td><a href=\"https://es.linkedin.com/jobs/view/data-engineer-at-atmira-3243303113?refId=Sew%2FEArtBidxZofokISRDQ%3D%3D&trackingId=dLDuViI0HQcQEsR6okjAwQ%3D%3D&position=1&pageNum=0&trk=public_jobs_jserp-result_search-card\" target=\"_blank\">https://es.linkedin.com/jobs/view/data-engineer-at-atmira-3243303113?refId=Sew%2FEArtBidxZofokISRDQ%3D%3D&amp;trackingId=dLDuViI0HQcQEsR6okjAwQ%3D%3D&amp;position=1&amp;pageNum=0&amp;trk=public_jobs_jserp-result_search-card</a></td>\n",
       "      <td>2022-08-30</td>\n",
       "    </tr>\n",
       "    <tr>\n",
       "      <th>50</th>\n",
       "      <td>Data Analyst</td>\n",
       "      <td>Tokiota</td>\n",
       "      <td>Spain</td>\n",
       "      <td><a href=\"https://es.linkedin.com/jobs/view/data-analyst-at-tokiota-3243066628?refId=Sew%2FEArtBidxZofokISRDQ%3D%3D&trackingId=dKynfxKWrA%2BSbHU6OJkkoA%3D%3D&position=2&pageNum=0&trk=public_jobs_jserp-result_search-card\" target=\"_blank\">https://es.linkedin.com/jobs/view/data-analyst-at-tokiota-3243066628?refId=Sew%2FEArtBidxZofokISRDQ%3D%3D&amp;trackingId=dKynfxKWrA%2BSbHU6OJkkoA%3D%3D&amp;position=2&amp;pageNum=0&amp;trk=public_jobs_jserp-result_search-card</a></td>\n",
       "      <td>2022-08-30</td>\n",
       "    </tr>\n",
       "    <tr>\n",
       "      <th>51</th>\n",
       "      <td>Ingeniero/a de datos junior</td>\n",
       "      <td>Olocip</td>\n",
       "      <td>Madrid, Community of Madrid, Spain</td>\n",
       "      <td><a href=\"https://es.linkedin.com/jobs/view/ingeniero-a-de-datos-junior-at-olocip-3175144837?refId=Sew%2FEArtBidxZofokISRDQ%3D%3D&trackingId=LwQxKT4%2BS6ZIWvkN8p3uNw%3D%3D&position=3&pageNum=0&trk=public_jobs_jserp-result_search-card\" target=\"_blank\">https://es.linkedin.com/jobs/view/ingeniero-a-de-datos-junior-at-olocip-3175144837?refId=Sew%2FEArtBidxZofokISRDQ%3D%3D&amp;trackingId=LwQxKT4%2BS6ZIWvkN8p3uNw%3D%3D&amp;position=3&amp;pageNum=0&amp;trk=public_jobs_jserp-result_search-card</a></td>\n",
       "      <td>2022-07-18</td>\n",
       "    </tr>\n",
       "    <tr>\n",
       "      <th>52</th>\n",
       "      <td>Data Engineer</td>\n",
       "      <td>Aszendit Tech</td>\n",
       "      <td>Madrid, Community of Madrid, Spain</td>\n",
       "      <td><a href=\"https://es.linkedin.com/jobs/view/data-engineer-at-aszendit-tech-3237249879?refId=Sew%2FEArtBidxZofokISRDQ%3D%3D&trackingId=pGEFxW825xxgOhEGL9W7Jg%3D%3D&position=4&pageNum=0&trk=public_jobs_jserp-result_search-card\" target=\"_blank\">https://es.linkedin.com/jobs/view/data-engineer-at-aszendit-tech-3237249879?refId=Sew%2FEArtBidxZofokISRDQ%3D%3D&amp;trackingId=pGEFxW825xxgOhEGL9W7Jg%3D%3D&amp;position=4&amp;pageNum=0&amp;trk=public_jobs_jserp-result_search-card</a></td>\n",
       "      <td>2022-08-29</td>\n",
       "    </tr>\n",
       "    <tr>\n",
       "      <th>53</th>\n",
       "      <td>Ingeniero de Datos PowerCenter</td>\n",
       "      <td>Entelgy</td>\n",
       "      <td>Spain</td>\n",
       "      <td><a href=\"https://es.linkedin.com/jobs/view/ingeniero-de-datos-powercenter-at-entelgy-3233297881?refId=Sew%2FEArtBidxZofokISRDQ%3D%3D&trackingId=ZuKYUAbLJImOAFHTKgmWoA%3D%3D&position=5&pageNum=0&trk=public_jobs_jserp-result_search-card\" target=\"_blank\">https://es.linkedin.com/jobs/view/ingeniero-de-datos-powercenter-at-entelgy-3233297881?refId=Sew%2FEArtBidxZofokISRDQ%3D%3D&amp;trackingId=ZuKYUAbLJImOAFHTKgmWoA%3D%3D&amp;position=5&amp;pageNum=0&amp;trk=public_jobs_jserp-result_search-card</a></td>\n",
       "      <td>2022-08-26</td>\n",
       "    </tr>\n",
       "    <tr>\n",
       "      <th>54</th>\n",
       "      <td>Data Analyst (Remote)</td>\n",
       "      <td>BrandBastion</td>\n",
       "      <td>Barcelona, Catalonia, Spain</td>\n",
       "      <td><a href=\"https://es.linkedin.com/jobs/view/data-analyst-remote-at-brandbastion-3238305982?refId=Sew%2FEArtBidxZofokISRDQ%3D%3D&trackingId=wW9xBSjCy2KXsunYqn4pQg%3D%3D&position=6&pageNum=0&trk=public_jobs_jserp-result_search-card\" target=\"_blank\">https://es.linkedin.com/jobs/view/data-analyst-remote-at-brandbastion-3238305982?refId=Sew%2FEArtBidxZofokISRDQ%3D%3D&amp;trackingId=wW9xBSjCy2KXsunYqn4pQg%3D%3D&amp;position=6&amp;pageNum=0&amp;trk=public_jobs_jserp-result_search-card</a></td>\n",
       "      <td>2022-08-30</td>\n",
       "    </tr>\n",
       "    <tr>\n",
       "      <th>55</th>\n",
       "      <td>Data Analyst (Remote)</td>\n",
       "      <td>BrandBastion</td>\n",
       "      <td>Madrid, Community of Madrid, Spain</td>\n",
       "      <td><a href=\"https://es.linkedin.com/jobs/view/data-analyst-remote-at-brandbastion-3238312048?refId=Sew%2FEArtBidxZofokISRDQ%3D%3D&trackingId=WCO8cEadbS8uqVb%2FRYAdYw%3D%3D&position=7&pageNum=0&trk=public_jobs_jserp-result_search-card\" target=\"_blank\">https://es.linkedin.com/jobs/view/data-analyst-remote-at-brandbastion-3238312048?refId=Sew%2FEArtBidxZofokISRDQ%3D%3D&amp;trackingId=WCO8cEadbS8uqVb%2FRYAdYw%3D%3D&amp;position=7&amp;pageNum=0&amp;trk=public_jobs_jserp-result_search-card</a></td>\n",
       "      <td>2022-08-30</td>\n",
       "    </tr>\n",
       "    <tr>\n",
       "      <th>56</th>\n",
       "      <td>Data Analyst</td>\n",
       "      <td>Rakuten TV</td>\n",
       "      <td>Spain</td>\n",
       "      <td><a href=\"https://es.linkedin.com/jobs/view/data-analyst-at-rakuten-tv-3226852701?refId=Sew%2FEArtBidxZofokISRDQ%3D%3D&trackingId=OdxgM1BQ8XrrQ8FyK0htzQ%3D%3D&position=8&pageNum=0&trk=public_jobs_jserp-result_search-card\" target=\"_blank\">https://es.linkedin.com/jobs/view/data-analyst-at-rakuten-tv-3226852701?refId=Sew%2FEArtBidxZofokISRDQ%3D%3D&amp;trackingId=OdxgM1BQ8XrrQ8FyK0htzQ%3D%3D&amp;position=8&amp;pageNum=0&amp;trk=public_jobs_jserp-result_search-card</a></td>\n",
       "      <td>2022-08-18</td>\n",
       "    </tr>\n",
       "    <tr>\n",
       "      <th>57</th>\n",
       "      <td>Junior Data Engineer</td>\n",
       "      <td>Mars</td>\n",
       "      <td>Spain</td>\n",
       "      <td><a href=\"https://es.linkedin.com/jobs/view/junior-data-engineer-at-mars-3196784543?refId=Sew%2FEArtBidxZofokISRDQ%3D%3D&trackingId=nS4OMTwOknj1VXreEDC6pg%3D%3D&position=9&pageNum=0&trk=public_jobs_jserp-result_search-card\" target=\"_blank\">https://es.linkedin.com/jobs/view/junior-data-engineer-at-mars-3196784543?refId=Sew%2FEArtBidxZofokISRDQ%3D%3D&amp;trackingId=nS4OMTwOknj1VXreEDC6pg%3D%3D&amp;position=9&amp;pageNum=0&amp;trk=public_jobs_jserp-result_search-card</a></td>\n",
       "      <td>2022-08-01</td>\n",
       "    </tr>\n",
       "    <tr>\n",
       "      <th>58</th>\n",
       "      <td>DATA ENGINEER JUNIOR</td>\n",
       "      <td>ISPROX</td>\n",
       "      <td>Spain</td>\n",
       "      <td><a href=\"https://es.linkedin.com/jobs/view/data-engineer-junior-at-isprox-3243094466?refId=Sew%2FEArtBidxZofokISRDQ%3D%3D&trackingId=%2F2yZ75BukVOmmmnafmX1%2Bg%3D%3D&position=10&pageNum=0&trk=public_jobs_jserp-result_search-card\" target=\"_blank\">https://es.linkedin.com/jobs/view/data-engineer-junior-at-isprox-3243094466?refId=Sew%2FEArtBidxZofokISRDQ%3D%3D&amp;trackingId=%2F2yZ75BukVOmmmnafmX1%2Bg%3D%3D&amp;position=10&amp;pageNum=0&amp;trk=public_jobs_jserp-result_search-card</a></td>\n",
       "      <td>2022-08-30</td>\n",
       "    </tr>\n",
       "    <tr>\n",
       "      <th>59</th>\n",
       "      <td>Data Analyst - Renewables</td>\n",
       "      <td>The Green Recruitment Company</td>\n",
       "      <td>Madrid, Community of Madrid, Spain</td>\n",
       "      <td><a href=\"https://es.linkedin.com/jobs/view/data-analyst-renewables-at-the-green-recruitment-company-3233818235?refId=Sew%2FEArtBidxZofokISRDQ%3D%3D&trackingId=OHNkP0y6xzk2uI3VBuyMow%3D%3D&position=11&pageNum=0&trk=public_jobs_jserp-result_search-card\" target=\"_blank\">https://es.linkedin.com/jobs/view/data-analyst-renewables-at-the-green-recruitment-company-3233818235?refId=Sew%2FEArtBidxZofokISRDQ%3D%3D&amp;trackingId=OHNkP0y6xzk2uI3VBuyMow%3D%3D&amp;position=11&amp;pageNum=0&amp;trk=public_jobs_jserp-result_search-card</a></td>\n",
       "      <td>2022-08-26</td>\n",
       "    </tr>\n",
       "    <tr>\n",
       "      <th>60</th>\n",
       "      <td>Ingeniero Datos</td>\n",
       "      <td>Plexus Tech</td>\n",
       "      <td>Spain</td>\n",
       "      <td><a href=\"https://es.linkedin.com/jobs/view/ingeniero-datos-at-plexus-tech-3237794291?refId=Sew%2FEArtBidxZofokISRDQ%3D%3D&trackingId=Id%2FCIzrcfhjgJXFDiLJBPg%3D%3D&position=12&pageNum=0&trk=public_jobs_jserp-result_search-card\" target=\"_blank\">https://es.linkedin.com/jobs/view/ingeniero-datos-at-plexus-tech-3237794291?refId=Sew%2FEArtBidxZofokISRDQ%3D%3D&amp;trackingId=Id%2FCIzrcfhjgJXFDiLJBPg%3D%3D&amp;position=12&amp;pageNum=0&amp;trk=public_jobs_jserp-result_search-card</a></td>\n",
       "      <td>2022-08-26</td>\n",
       "    </tr>\n",
       "    <tr>\n",
       "      <th>61</th>\n",
       "      <td>JUNIOR DATA ANALYST</td>\n",
       "      <td>MANGO</td>\n",
       "      <td>Barcelona, Catalonia, Spain</td>\n",
       "      <td><a href=\"https://es.linkedin.com/jobs/view/junior-data-analyst-at-mango-3223201743?refId=Sew%2FEArtBidxZofokISRDQ%3D%3D&trackingId=FKgXeK7rnVq62MJkVLgcCQ%3D%3D&position=13&pageNum=0&trk=public_jobs_jserp-result_search-card\" target=\"_blank\">https://es.linkedin.com/jobs/view/junior-data-analyst-at-mango-3223201743?refId=Sew%2FEArtBidxZofokISRDQ%3D%3D&amp;trackingId=FKgXeK7rnVq62MJkVLgcCQ%3D%3D&amp;position=13&amp;pageNum=0&amp;trk=public_jobs_jserp-result_search-card</a></td>\n",
       "      <td>2022-08-01</td>\n",
       "    </tr>\n",
       "    <tr>\n",
       "      <th>62</th>\n",
       "      <td>Data Analyst con Python</td>\n",
       "      <td>Adecco</td>\n",
       "      <td>Madrid, Community of Madrid, Spain</td>\n",
       "      <td><a href=\"https://es.linkedin.com/jobs/view/data-analyst-con-python-at-adecco-3219111478?refId=Sew%2FEArtBidxZofokISRDQ%3D%3D&trackingId=w2zMSQn2ERy%2BsoJHnB44hQ%3D%3D&position=14&pageNum=0&trk=public_jobs_jserp-result_search-card\" target=\"_blank\">https://es.linkedin.com/jobs/view/data-analyst-con-python-at-adecco-3219111478?refId=Sew%2FEArtBidxZofokISRDQ%3D%3D&amp;trackingId=w2zMSQn2ERy%2BsoJHnB44hQ%3D%3D&amp;position=14&amp;pageNum=0&amp;trk=public_jobs_jserp-result_search-card</a></td>\n",
       "      <td>2022-08-16</td>\n",
       "    </tr>\n",
       "    <tr>\n",
       "      <th>63</th>\n",
       "      <td>Data Engineer para Analytics</td>\n",
       "      <td>Aegon Seguros</td>\n",
       "      <td>Madrid, Community of Madrid, Spain</td>\n",
       "      <td><a href=\"https://es.linkedin.com/jobs/view/data-engineer-para-analytics-at-aegon-seguros-3243674957?refId=Sew%2FEArtBidxZofokISRDQ%3D%3D&trackingId=XaqSTfk8gn63Obj8DxZh8Q%3D%3D&position=15&pageNum=0&trk=public_jobs_jserp-result_search-card\" target=\"_blank\">https://es.linkedin.com/jobs/view/data-engineer-para-analytics-at-aegon-seguros-3243674957?refId=Sew%2FEArtBidxZofokISRDQ%3D%3D&amp;trackingId=XaqSTfk8gn63Obj8DxZh8Q%3D%3D&amp;position=15&amp;pageNum=0&amp;trk=public_jobs_jserp-result_search-card</a></td>\n",
       "      <td>2022-08-29</td>\n",
       "    </tr>\n",
       "    <tr>\n",
       "      <th>64</th>\n",
       "      <td>Data Engineer</td>\n",
       "      <td>Ironhack</td>\n",
       "      <td>Spain</td>\n",
       "      <td><a href=\"https://es.linkedin.com/jobs/view/data-engineer-at-ironhack-3238369952?refId=Sew%2FEArtBidxZofokISRDQ%3D%3D&trackingId=jQFLRYYDgNt73RRjcfKTpw%3D%3D&position=16&pageNum=0&trk=public_jobs_jserp-result_search-card\" target=\"_blank\">https://es.linkedin.com/jobs/view/data-engineer-at-ironhack-3238369952?refId=Sew%2FEArtBidxZofokISRDQ%3D%3D&amp;trackingId=jQFLRYYDgNt73RRjcfKTpw%3D%3D&amp;position=16&amp;pageNum=0&amp;trk=public_jobs_jserp-result_search-card</a></td>\n",
       "      <td>2022-08-30</td>\n",
       "    </tr>\n",
       "    <tr>\n",
       "      <th>65</th>\n",
       "      <td>Ingeniero de datos</td>\n",
       "      <td>SETESCA</td>\n",
       "      <td>Greater Barcelona Metropolitan Area</td>\n",
       "      <td><a href=\"https://es.linkedin.com/jobs/view/ingeniero-de-datos-at-setesca-3231961359?refId=Sew%2FEArtBidxZofokISRDQ%3D%3D&trackingId=y14SlDXHscMmvX7%2BI9WM4Q%3D%3D&position=17&pageNum=0&trk=public_jobs_jserp-result_search-card\" target=\"_blank\">https://es.linkedin.com/jobs/view/ingeniero-de-datos-at-setesca-3231961359?refId=Sew%2FEArtBidxZofokISRDQ%3D%3D&amp;trackingId=y14SlDXHscMmvX7%2BI9WM4Q%3D%3D&amp;position=17&amp;pageNum=0&amp;trk=public_jobs_jserp-result_search-card</a></td>\n",
       "      <td>2022-08-23</td>\n",
       "    </tr>\n",
       "    <tr>\n",
       "      <th>66</th>\n",
       "      <td>Data Analyst</td>\n",
       "      <td>AHEAD TECHNOLOGY</td>\n",
       "      <td>Barcelona, Catalonia, Spain</td>\n",
       "      <td><a href=\"https://es.linkedin.com/jobs/view/data-analyst-at-ahead-technology-3196998430?refId=Sew%2FEArtBidxZofokISRDQ%3D%3D&trackingId=aW9JdVGM9Cd4i9oWemi7fg%3D%3D&position=18&pageNum=0&trk=public_jobs_jserp-result_search-card\" target=\"_blank\">https://es.linkedin.com/jobs/view/data-analyst-at-ahead-technology-3196998430?refId=Sew%2FEArtBidxZofokISRDQ%3D%3D&amp;trackingId=aW9JdVGM9Cd4i9oWemi7fg%3D%3D&amp;position=18&amp;pageNum=0&amp;trk=public_jobs_jserp-result_search-card</a></td>\n",
       "      <td>2022-08-30</td>\n",
       "    </tr>\n",
       "    <tr>\n",
       "      <th>67</th>\n",
       "      <td>Ingeniero migración de datos. Remoto 100%</td>\n",
       "      <td>Plexus Tech</td>\n",
       "      <td>Spain</td>\n",
       "      <td><a href=\"https://es.linkedin.com/jobs/view/ingeniero-migraci%C3%B3n-de-datos-remoto-100%25-at-plexus-tech-3237813875?refId=Sew%2FEArtBidxZofokISRDQ%3D%3D&trackingId=2vsPuTZYMNe5a55a8cCkjQ%3D%3D&position=19&pageNum=0&trk=public_jobs_jserp-result_search-card\" target=\"_blank\">https://es.linkedin.com/jobs/view/ingeniero-migraci%C3%B3n-de-datos-remoto-100%25-at-plexus-tech-3237813875?refId=Sew%2FEArtBidxZofokISRDQ%3D%3D&amp;trackingId=2vsPuTZYMNe5a55a8cCkjQ%3D%3D&amp;position=19&amp;pageNum=0&amp;trk=public_jobs_jserp-result_search-card</a></td>\n",
       "      <td>2022-08-26</td>\n",
       "    </tr>\n",
       "    <tr>\n",
       "      <th>68</th>\n",
       "      <td>Analista de datos</td>\n",
       "      <td>Carrefour España</td>\n",
       "      <td>Alcobendas, Community of Madrid, Spain</td>\n",
       "      <td><a href=\"https://es.linkedin.com/jobs/view/analista-de-datos-at-carrefour-espa%C3%B1a-3235553778?refId=Sew%2FEArtBidxZofokISRDQ%3D%3D&trackingId=ak1rtxcqB%2F3SJN%2FPhJXlFQ%3D%3D&position=20&pageNum=0&trk=public_jobs_jserp-result_search-card\" target=\"_blank\">https://es.linkedin.com/jobs/view/analista-de-datos-at-carrefour-espa%C3%B1a-3235553778?refId=Sew%2FEArtBidxZofokISRDQ%3D%3D&amp;trackingId=ak1rtxcqB%2F3SJN%2FPhJXlFQ%3D%3D&amp;position=20&amp;pageNum=0&amp;trk=public_jobs_jserp-result_search-card</a></td>\n",
       "      <td>2022-08-24</td>\n",
       "    </tr>\n",
       "    <tr>\n",
       "      <th>69</th>\n",
       "      <td>Data Engineer</td>\n",
       "      <td>Cititec</td>\n",
       "      <td>Community of Madrid, Spain</td>\n",
       "      <td><a href=\"https://es.linkedin.com/jobs/view/data-engineer-at-cititec-3234374109?refId=Sew%2FEArtBidxZofokISRDQ%3D%3D&trackingId=frtoVavFNcxeKtk1YvEjHw%3D%3D&position=21&pageNum=0&trk=public_jobs_jserp-result_search-card\" target=\"_blank\">https://es.linkedin.com/jobs/view/data-engineer-at-cititec-3234374109?refId=Sew%2FEArtBidxZofokISRDQ%3D%3D&amp;trackingId=frtoVavFNcxeKtk1YvEjHw%3D%3D&amp;position=21&amp;pageNum=0&amp;trk=public_jobs_jserp-result_search-card</a></td>\n",
       "      <td>2022-08-22</td>\n",
       "    </tr>\n",
       "    <tr>\n",
       "      <th>70</th>\n",
       "      <td>Data Analyst</td>\n",
       "      <td>Revolut</td>\n",
       "      <td>Spain</td>\n",
       "      <td><a href=\"https://es.linkedin.com/jobs/view/data-analyst-at-revolut-3078419797?refId=Sew%2FEArtBidxZofokISRDQ%3D%3D&trackingId=E1SyRcvb1Mq%2Fd%2BCyOR7HAA%3D%3D&position=22&pageNum=0&trk=public_jobs_jserp-result_search-card\" target=\"_blank\">https://es.linkedin.com/jobs/view/data-analyst-at-revolut-3078419797?refId=Sew%2FEArtBidxZofokISRDQ%3D%3D&amp;trackingId=E1SyRcvb1Mq%2Fd%2BCyOR7HAA%3D%3D&amp;position=22&amp;pageNum=0&amp;trk=public_jobs_jserp-result_search-card</a></td>\n",
       "      <td>2022-08-15</td>\n",
       "    </tr>\n",
       "    <tr>\n",
       "      <th>71</th>\n",
       "      <td>Data Engineer</td>\n",
       "      <td>EY</td>\n",
       "      <td>Málaga, Andalusia, Spain</td>\n",
       "      <td><a href=\"https://es.linkedin.com/jobs/view/data-engineer-at-ey-3171230093?refId=Sew%2FEArtBidxZofokISRDQ%3D%3D&trackingId=cNhwE70VogupD5dor5XIxw%3D%3D&position=23&pageNum=0&trk=public_jobs_jserp-result_search-card\" target=\"_blank\">https://es.linkedin.com/jobs/view/data-engineer-at-ey-3171230093?refId=Sew%2FEArtBidxZofokISRDQ%3D%3D&amp;trackingId=cNhwE70VogupD5dor5XIxw%3D%3D&amp;position=23&amp;pageNum=0&amp;trk=public_jobs_jserp-result_search-card</a></td>\n",
       "      <td>2022-08-10</td>\n",
       "    </tr>\n",
       "    <tr>\n",
       "      <th>72</th>\n",
       "      <td>Data Analyst (m/f/d)</td>\n",
       "      <td>heycar</td>\n",
       "      <td>Barcelona, Catalonia, Spain</td>\n",
       "      <td><a href=\"https://es.linkedin.com/jobs/view/data-analyst-m-f-d-at-heycar-3232175600?refId=Sew%2FEArtBidxZofokISRDQ%3D%3D&trackingId=q1Ha9z4iLSOPDTOeSI1AmA%3D%3D&position=24&pageNum=0&trk=public_jobs_jserp-result_search-card\" target=\"_blank\">https://es.linkedin.com/jobs/view/data-analyst-m-f-d-at-heycar-3232175600?refId=Sew%2FEArtBidxZofokISRDQ%3D%3D&amp;trackingId=q1Ha9z4iLSOPDTOeSI1AmA%3D%3D&amp;position=24&amp;pageNum=0&amp;trk=public_jobs_jserp-result_search-card</a></td>\n",
       "      <td>2022-07-29</td>\n",
       "    </tr>\n",
       "    <tr>\n",
       "      <th>73</th>\n",
       "      <td>Junior Data Analyst</td>\n",
       "      <td>METIORA</td>\n",
       "      <td>Madrid, Community of Madrid, Spain</td>\n",
       "      <td><a href=\"https://es.linkedin.com/jobs/view/junior-data-analyst-at-metiora-3238079101?refId=Sew%2FEArtBidxZofokISRDQ%3D%3D&trackingId=yjENeQCVPhzSjq5DInZhgw%3D%3D&position=25&pageNum=0&trk=public_jobs_jserp-result_search-card\" target=\"_blank\">https://es.linkedin.com/jobs/view/junior-data-analyst-at-metiora-3238079101?refId=Sew%2FEArtBidxZofokISRDQ%3D%3D&amp;trackingId=yjENeQCVPhzSjq5DInZhgw%3D%3D&amp;position=25&amp;pageNum=0&amp;trk=public_jobs_jserp-result_search-card</a></td>\n",
       "      <td>2022-08-26</td>\n",
       "    </tr>\n",
       "  </tbody>\n",
       "</table>"
      ],
      "text/plain": [
       "<IPython.core.display.HTML object>"
      ]
     },
     "execution_count": 133,
     "metadata": {},
     "output_type": "execute_result"
    }
   ],
   "source": [
    "from IPython.display import HTML\n",
    "\n",
    "HTML(df_linkedin.to_html(render_links=True))"
   ]
  },
  {
   "cell_type": "code",
   "execution_count": null,
   "metadata": {
    "scrolled": false
   },
   "outputs": [],
   "source": []
  }
 ],
 "metadata": {
  "kernelspec": {
   "display_name": "clase",
   "language": "python",
   "name": "clase"
  },
  "language_info": {
   "codemirror_mode": {
    "name": "ipython",
    "version": 3
   },
   "file_extension": ".py",
   "mimetype": "text/x-python",
   "name": "python",
   "nbconvert_exporter": "python",
   "pygments_lexer": "ipython3",
   "version": "3.9.7"
  },
  "varInspector": {
   "cols": {
    "lenName": 16,
    "lenType": 16,
    "lenVar": 40
   },
   "kernels_config": {
    "python": {
     "delete_cmd_postfix": "",
     "delete_cmd_prefix": "del ",
     "library": "var_list.py",
     "varRefreshCmd": "print(var_dic_list())"
    },
    "r": {
     "delete_cmd_postfix": ") ",
     "delete_cmd_prefix": "rm(",
     "library": "var_list.r",
     "varRefreshCmd": "cat(var_dic_list()) "
    }
   },
   "types_to_exclude": [
    "module",
    "function",
    "builtin_function_or_method",
    "instance",
    "_Feature"
   ],
   "window_display": false
  }
 },
 "nbformat": 4,
 "nbformat_minor": 4
}
