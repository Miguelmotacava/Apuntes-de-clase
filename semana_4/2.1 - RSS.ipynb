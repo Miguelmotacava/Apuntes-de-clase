{
 "cells": [
  {
   "cell_type": "markdown",
   "metadata": {},
   "source": [
    "# 2.1 - RSS\n",
    "\n",
    "$$$$\n",
    "\n",
    "![rss](images/rss.png)\n",
    "\n"
   ]
  },
  {
   "cell_type": "markdown",
   "metadata": {},
   "source": [
    "RSS son las siglas de **Really Simple Syndication**, un formato XML para distribuir contenido en la web. Se utiliza para difundir información actualizada frecuentemente a usuarios que se han suscrito a la fuente de contenidos. El formato permite distribuir contenidos sin necesidad de un navegador, utilizando programas llamados agregadores de noticias, diseñados para leer contenidos RSS. A pesar de eso, es posible utilizar el mismo navegador para ver los contenidos RSS. Las últimas versiones de los principales navegadores permiten leer los RSS sin necesidad de programas adicionales. RSS es parte de la familia de los formatos XML, desarrollado específicamente para todo tipo de sitios que se actualicen con frecuencia y por medio del cual se puede compartir la información y usarla en otros sitios web o programas. A esto se le conoce como redifusión web o sindicación web .\n",
    "\n",
    "\n",
    "En el archivo RSS simplemente están los datos de las novedades del sitio, como el título, fecha de publicación o la descripción. El programa que lea el RSS será encargado de darle estilo o apariencia a los datos que se incluyan en el archivo y presentarlos de una manera atractiva al usuario y de fácil lectura.\n",
    "\n",
    "Que RSS sea un formato basado en XML significa que el archivo RSS se compone por una serie de etiquetas definidas que tendrán un formato dado, y que respetará las reglas generales de XML. Este archivo normalmente es nombrado index.xml y se encuentra ubicado en la página principal.\n",
    "\n",
    "Vale aclarar que RSS no es un protocolo, dado que no contempla parámetros de ningún tipo. No es posible definir mediante una consulta un criterio de búsqueda. \n"
   ]
  },
  {
   "cell_type": "markdown",
   "metadata": {},
   "source": [
    "## Trabajando con RSS\n",
    "\n",
    "Normalmente, el feed del RSS corresponde a un archivo con la extensión .rss. Tenemos una herramienta perfecta para manejar ese tipo de feed."
   ]
  },
  {
   "cell_type": "code",
   "execution_count": 1,
   "metadata": {},
   "outputs": [
    {
     "name": "stdout",
     "output_type": "stream",
     "text": [
      "Requirement already satisfied: feedparser in /Users/iudh/miniforge3/envs/clase/lib/python3.9/site-packages (6.0.8)\n",
      "Requirement already satisfied: sgmllib3k in /Users/iudh/miniforge3/envs/clase/lib/python3.9/site-packages (from feedparser) (1.0.0)\n",
      "Note: you may need to restart the kernel to use updated packages.\n"
     ]
    }
   ],
   "source": [
    "%pip install feedparser"
   ]
  },
  {
   "cell_type": "code",
   "execution_count": 2,
   "metadata": {},
   "outputs": [],
   "source": [
    "import feedparser"
   ]
  },
  {
   "cell_type": "markdown",
   "metadata": {},
   "source": [
    "### Reddit RSS\n",
    "\n",
    "Para extraer el contenido, tan solo pasamos la url del RSS al feedparser."
   ]
  },
  {
   "cell_type": "code",
   "execution_count": 3,
   "metadata": {},
   "outputs": [],
   "source": [
    "reddit=feedparser.parse('https://www.reddit.com/r/news/.rss')"
   ]
  },
  {
   "cell_type": "code",
   "execution_count": 4,
   "metadata": {},
   "outputs": [
    {
     "data": {
      "text/plain": [
       "feedparser.util.FeedParserDict"
      ]
     },
     "execution_count": 4,
     "metadata": {},
     "output_type": "execute_result"
    }
   ],
   "source": [
    "type(reddit)"
   ]
  },
  {
   "cell_type": "code",
   "execution_count": 5,
   "metadata": {},
   "outputs": [
    {
     "data": {
      "text/plain": [
       "dict_keys(['bozo', 'entries', 'feed', 'headers', 'href', 'status', 'encoding', 'version', 'namespaces'])"
      ]
     },
     "execution_count": 5,
     "metadata": {},
     "output_type": "execute_result"
    }
   ],
   "source": [
    "reddit.keys()"
   ]
  },
  {
   "cell_type": "code",
   "execution_count": 8,
   "metadata": {},
   "outputs": [
    {
     "data": {
      "text/plain": [
       "dict_keys(['tags', 'updated', 'updated_parsed', 'icon', 'id', 'guidislink', 'link', 'links', 'logo', 'subtitle', 'subtitle_detail', 'title', 'title_detail'])"
      ]
     },
     "execution_count": 8,
     "metadata": {},
     "output_type": "execute_result"
    }
   ],
   "source": [
    "reddit['feed'].keys()"
   ]
  },
  {
   "cell_type": "code",
   "execution_count": 11,
   "metadata": {},
   "outputs": [
    {
     "data": {
      "text/plain": [
       "dict_keys(['authors', 'author_detail', 'href', 'author', 'tags', 'content', 'summary', 'id', 'guidislink', 'link', 'links', 'updated', 'updated_parsed', 'published', 'published_parsed', 'title', 'title_detail'])"
      ]
     },
     "execution_count": 11,
     "metadata": {},
     "output_type": "execute_result"
    }
   ],
   "source": [
    "reddit['entries'][0].keys()"
   ]
  },
  {
   "cell_type": "code",
   "execution_count": 12,
   "metadata": {},
   "outputs": [
    {
     "data": {
      "text/plain": [
       "[{'type': 'text/html',\n",
       "  'language': None,\n",
       "  'base': 'https://www.reddit.com/r/news/.rss',\n",
       "  'value': '&#32; submitted by &#32; <a href=\"https://www.reddit.com/user/CreamOnMushroom\"> /u/CreamOnMushroom </a> <br /> <span><a href=\"https://abcnews.go.com/US/alex-jones-2nd-defamation-trial-sandy-hook-massacre/story?id=89015914\">[link]</a></span> &#32; <span><a href=\"https://www.reddit.com/r/news/comments/x13xrk/alex_jones_2nd_defamation_trial_over_sandy_hook/\">[comments]</a></span>'}]"
      ]
     },
     "execution_count": 12,
     "metadata": {},
     "output_type": "execute_result"
    }
   ],
   "source": [
    "reddit['entries'][0]['content']"
   ]
  },
  {
   "cell_type": "markdown",
   "metadata": {},
   "source": [
    "### [Nasa](https://www.nasa.gov/content/nasa-rss-feeds) RSS"
   ]
  },
  {
   "cell_type": "code",
   "execution_count": 14,
   "metadata": {},
   "outputs": [],
   "source": [
    "nasa=feedparser.parse('https://www.nasa.gov/rss/dyn/mission_pages/kepler/news/kepler-newsandfeatures-RSS.rss')"
   ]
  },
  {
   "cell_type": "code",
   "execution_count": 15,
   "metadata": {},
   "outputs": [
    {
     "data": {
      "text/plain": [
       "dict_keys(['bozo', 'entries', 'feed', 'headers', 'href', 'status', 'encoding', 'version', 'namespaces'])"
      ]
     },
     "execution_count": 15,
     "metadata": {},
     "output_type": "execute_result"
    }
   ],
   "source": [
    "nasa.keys()"
   ]
  },
  {
   "cell_type": "code",
   "execution_count": 17,
   "metadata": {},
   "outputs": [
    {
     "data": {
      "text/plain": [
       "'http://www.nasa.gov/sites/default/files/styles/1x1_cardfeed/public/thumbnails/image/exoplanet_banner_1.gif?itok=L3rCP01p'"
      ]
     },
     "execution_count": 17,
     "metadata": {},
     "output_type": "execute_result"
    }
   ],
   "source": [
    "nasa['entries'][0]['links'][-1]['href']"
   ]
  },
  {
   "cell_type": "code",
   "execution_count": 18,
   "metadata": {},
   "outputs": [
    {
     "data": {
      "text/html": [
       "<img src=\"http://www.nasa.gov/sites/default/files/styles/1x1_cardfeed/public/thumbnails/image/exoplanet_banner_1.gif?itok=L3rCP01p\"/>"
      ],
      "text/plain": [
       "<IPython.core.display.Image object>"
      ]
     },
     "metadata": {},
     "output_type": "display_data"
    }
   ],
   "source": [
    "from IPython.display import Image\n",
    "\n",
    "display(Image(url=nasa['entries'][0]['links'][-1]['href']))"
   ]
  },
  {
   "cell_type": "markdown",
   "metadata": {},
   "source": [
    "### [ForexLive](https://www.forexlive.com/rss) RSS"
   ]
  },
  {
   "cell_type": "code",
   "execution_count": 19,
   "metadata": {},
   "outputs": [],
   "source": [
    "crypto=feedparser.parse('https://www.forexlive.com/feed/cryptocurrency')"
   ]
  },
  {
   "cell_type": "code",
   "execution_count": 20,
   "metadata": {},
   "outputs": [
    {
     "data": {
      "text/plain": [
       "dict_keys(['bozo', 'entries', 'feed', 'headers', 'etag', 'href', 'status', 'encoding', 'version', 'namespaces'])"
      ]
     },
     "execution_count": 20,
     "metadata": {},
     "output_type": "execute_result"
    }
   ],
   "source": [
    "crypto.keys()"
   ]
  },
  {
   "cell_type": "code",
   "execution_count": 22,
   "metadata": {
    "scrolled": false
   },
   "outputs": [
    {
     "data": {
      "text/plain": [
       "dict_keys(['title', 'title_detail', 'comments', 'published', 'published_parsed', 'authors', 'author', 'author_detail', 'tags', 'id', 'guidislink', 'link', 'links', 'summary', 'summary_detail'])"
      ]
     },
     "execution_count": 22,
     "metadata": {},
     "output_type": "execute_result"
    }
   ],
   "source": [
    "crypto['entries'][0].keys()"
   ]
  },
  {
   "cell_type": "markdown",
   "metadata": {},
   "source": [
    "### [Unam](http://www.ssn.unam.mx) RSS\n",
    "\n",
    "A veces el RSS viene directamente en formato .xml\n",
    "\n",
    "Veremos como tratarlo."
   ]
  },
  {
   "cell_type": "code",
   "execution_count": 23,
   "metadata": {},
   "outputs": [
    {
     "name": "stdout",
     "output_type": "stream",
     "text": [
      "Requirement already satisfied: xmltodict in /Users/iudh/miniforge3/envs/clase/lib/python3.9/site-packages (0.12.0)\n",
      "Note: you may need to restart the kernel to use updated packages.\n"
     ]
    }
   ],
   "source": [
    "%pip install xmltodict"
   ]
  },
  {
   "cell_type": "code",
   "execution_count": 24,
   "metadata": {},
   "outputs": [],
   "source": [
    "import requests as req\n",
    "import xmltodict"
   ]
  },
  {
   "cell_type": "code",
   "execution_count": 26,
   "metadata": {},
   "outputs": [],
   "source": [
    "url='http://www.ssn.unam.mx/rss/ultimos-sismos.xml'\n",
    "\n",
    "data=req.get(url).text\n",
    "\n",
    "unam=xmltodict.parse(data)"
   ]
  },
  {
   "cell_type": "code",
   "execution_count": 28,
   "metadata": {},
   "outputs": [
    {
     "data": {
      "text/plain": [
       "odict_keys(['rss'])"
      ]
     },
     "execution_count": 28,
     "metadata": {},
     "output_type": "execute_result"
    }
   ],
   "source": [
    "unam.keys()"
   ]
  },
  {
   "cell_type": "code",
   "execution_count": 34,
   "metadata": {},
   "outputs": [
    {
     "data": {
      "text/plain": [
       "15"
      ]
     },
     "execution_count": 34,
     "metadata": {},
     "output_type": "execute_result"
    }
   ],
   "source": [
    "len(unam['rss']['channel']['item'])"
   ]
  },
  {
   "cell_type": "code",
   "execution_count": 35,
   "metadata": {},
   "outputs": [
    {
     "data": {
      "text/plain": [
       "OrderedDict([('title', '4.0, 30 km al SUROESTE de  SALINA CRUZ, OAX'),\n",
       "             ('description',\n",
       "              '<p>Fecha:2022-08-30 00:55:10 (Hora de M&eacute;xico)<br/>Lat/Lon: 16.09/-95.46<br/>Profundidad: 44.0 km </p>'),\n",
       "             ('link',\n",
       "              'http://www2.ssn.unam.mx:8080/jsp/localizacion-de-sismo.jsp?latitud=16.09&longitud=-95.46&prf=44.0 km&ma=4.0&fecha=2022-08-30&hora=00:55:10&loc=30 km al SUROESTE de  SALINA CRUZ, OAX &evento=1'),\n",
       "             ('geo:lat', '16.09'),\n",
       "             ('geo:long', '-95.46')])"
      ]
     },
     "execution_count": 35,
     "metadata": {},
     "output_type": "execute_result"
    }
   ],
   "source": [
    "unam['rss']['channel']['item'][0]"
   ]
  },
  {
   "cell_type": "markdown",
   "metadata": {},
   "source": [
    "También podemos pasar los datos a un dataframe:"
   ]
  },
  {
   "cell_type": "code",
   "execution_count": 36,
   "metadata": {},
   "outputs": [],
   "source": [
    "import pandas as pd"
   ]
  },
  {
   "cell_type": "code",
   "execution_count": 37,
   "metadata": {},
   "outputs": [
    {
     "data": {
      "text/html": [
       "<div>\n",
       "<style scoped>\n",
       "    .dataframe tbody tr th:only-of-type {\n",
       "        vertical-align: middle;\n",
       "    }\n",
       "\n",
       "    .dataframe tbody tr th {\n",
       "        vertical-align: top;\n",
       "    }\n",
       "\n",
       "    .dataframe thead th {\n",
       "        text-align: right;\n",
       "    }\n",
       "</style>\n",
       "<table border=\"1\" class=\"dataframe\">\n",
       "  <thead>\n",
       "    <tr style=\"text-align: right;\">\n",
       "      <th></th>\n",
       "      <th>title</th>\n",
       "      <th>description</th>\n",
       "      <th>link</th>\n",
       "      <th>geo:lat</th>\n",
       "      <th>geo:long</th>\n",
       "    </tr>\n",
       "  </thead>\n",
       "  <tbody>\n",
       "    <tr>\n",
       "      <th>0</th>\n",
       "      <td>4.0, 30 km al SUROESTE de  SALINA CRUZ, OAX</td>\n",
       "      <td>&lt;p&gt;Fecha:2022-08-30 00:55:10 (Hora de M&amp;eacute...</td>\n",
       "      <td>http://www2.ssn.unam.mx:8080/jsp/localizacion-...</td>\n",
       "      <td>16.09</td>\n",
       "      <td>-95.46</td>\n",
       "    </tr>\n",
       "    <tr>\n",
       "      <th>1</th>\n",
       "      <td>4.3, 147 km al SUROESTE de  CD HIDALGO, CHIS</td>\n",
       "      <td>&lt;p&gt;Fecha:2022-08-29 22:41:49 (Hora de M&amp;eacute...</td>\n",
       "      <td>http://www2.ssn.unam.mx:8080/jsp/localizacion-...</td>\n",
       "      <td>14.14</td>\n",
       "      <td>-93.4</td>\n",
       "    </tr>\n",
       "    <tr>\n",
       "      <th>2</th>\n",
       "      <td>3.4, 29 km al SURESTE de  EL GRULLO, JAL</td>\n",
       "      <td>&lt;p&gt;Fecha:2022-08-29 16:54:40 (Hora de M&amp;eacute...</td>\n",
       "      <td>http://www2.ssn.unam.mx:8080/jsp/localizacion-...</td>\n",
       "      <td>19.66</td>\n",
       "      <td>-103.99</td>\n",
       "    </tr>\n",
       "    <tr>\n",
       "      <th>3</th>\n",
       "      <td>3.7, 86 km al SURESTE de  SALINA CRUZ, OAX</td>\n",
       "      <td>&lt;p&gt;Fecha:2022-08-29 16:27:20 (Hora de M&amp;eacute...</td>\n",
       "      <td>http://www2.ssn.unam.mx:8080/jsp/localizacion-...</td>\n",
       "      <td>15.44</td>\n",
       "      <td>-94.96</td>\n",
       "    </tr>\n",
       "    <tr>\n",
       "      <th>4</th>\n",
       "      <td>3.8, 32 km al OESTE de  CINTALAPA, CHIS</td>\n",
       "      <td>&lt;p&gt;Fecha:2022-08-29 16:13:18 (Hora de M&amp;eacute...</td>\n",
       "      <td>http://www2.ssn.unam.mx:8080/jsp/localizacion-...</td>\n",
       "      <td>16.68</td>\n",
       "      <td>-94.03</td>\n",
       "    </tr>\n",
       "    <tr>\n",
       "      <th>5</th>\n",
       "      <td>3.9, 78 km al SURESTE de  SALINA CRUZ, OAX</td>\n",
       "      <td>&lt;p&gt;Fecha:2022-08-29 15:56:02 (Hora de M&amp;eacute...</td>\n",
       "      <td>http://www2.ssn.unam.mx:8080/jsp/localizacion-...</td>\n",
       "      <td>15.51</td>\n",
       "      <td>-94.99</td>\n",
       "    </tr>\n",
       "    <tr>\n",
       "      <th>6</th>\n",
       "      <td>3.8, 66 km al SUR de  JALTIPAN DEMORELOS, VER</td>\n",
       "      <td>&lt;p&gt;Fecha:2022-08-29 15:14:25 (Hora de M&amp;eacute...</td>\n",
       "      <td>http://www2.ssn.unam.mx:8080/jsp/localizacion-...</td>\n",
       "      <td>17.38</td>\n",
       "      <td>-94.59</td>\n",
       "    </tr>\n",
       "    <tr>\n",
       "      <th>7</th>\n",
       "      <td>3.0, 28 km al NOROESTE de  COALCOMAN, MICH</td>\n",
       "      <td>&lt;p&gt;Fecha:2022-08-29 14:39:17 (Hora de M&amp;eacute...</td>\n",
       "      <td>http://www2.ssn.unam.mx:8080/jsp/localizacion-...</td>\n",
       "      <td>18.94</td>\n",
       "      <td>-103.37</td>\n",
       "    </tr>\n",
       "    <tr>\n",
       "      <th>8</th>\n",
       "      <td>3.4, 8 km al OESTE de  PUERTO ESCONDIDO, OAX</td>\n",
       "      <td>&lt;p&gt;Fecha:2022-08-29 13:40:44 (Hora de M&amp;eacute...</td>\n",
       "      <td>http://www2.ssn.unam.mx:8080/jsp/localizacion-...</td>\n",
       "      <td>15.85</td>\n",
       "      <td>-97.14</td>\n",
       "    </tr>\n",
       "    <tr>\n",
       "      <th>9</th>\n",
       "      <td>3.8, 23 km al SUR de  ZIHUATANEJO, GRO</td>\n",
       "      <td>&lt;p&gt;Fecha:2022-08-29 13:34:06 (Hora de M&amp;eacute...</td>\n",
       "      <td>http://www2.ssn.unam.mx:8080/jsp/localizacion-...</td>\n",
       "      <td>17.44</td>\n",
       "      <td>-101.53</td>\n",
       "    </tr>\n",
       "    <tr>\n",
       "      <th>10</th>\n",
       "      <td>3.8, 34 km al NORTE de  PINOTEPA NACIONAL, OAX</td>\n",
       "      <td>&lt;p&gt;Fecha:2022-08-29 13:09:57 (Hora de M&amp;eacute...</td>\n",
       "      <td>http://www2.ssn.unam.mx:8080/jsp/localizacion-...</td>\n",
       "      <td>16.65</td>\n",
       "      <td>-98.08</td>\n",
       "    </tr>\n",
       "    <tr>\n",
       "      <th>11</th>\n",
       "      <td>3.4, 18 km al NORTE de  PUERTO ESCONDIDO, OAX</td>\n",
       "      <td>&lt;p&gt;Fecha:2022-08-29 12:58:17 (Hora de M&amp;eacute...</td>\n",
       "      <td>http://www2.ssn.unam.mx:8080/jsp/localizacion-...</td>\n",
       "      <td>16.03</td>\n",
       "      <td>-97.09</td>\n",
       "    </tr>\n",
       "    <tr>\n",
       "      <th>12</th>\n",
       "      <td>1.2, 4 km al NORTE de  ZACATECAS, ZAC</td>\n",
       "      <td>&lt;p&gt;Fecha:2022-08-29 12:09:11 (Hora de M&amp;eacute...</td>\n",
       "      <td>http://www2.ssn.unam.mx:8080/jsp/localizacion-...</td>\n",
       "      <td>22.81</td>\n",
       "      <td>-102.58</td>\n",
       "    </tr>\n",
       "    <tr>\n",
       "      <th>13</th>\n",
       "      <td>3.5, 46 km al NORESTE de  PETATLAN, GRO</td>\n",
       "      <td>&lt;p&gt;Fecha:2022-08-29 11:09:41 (Hora de M&amp;eacute...</td>\n",
       "      <td>http://www2.ssn.unam.mx:8080/jsp/localizacion-...</td>\n",
       "      <td>17.78</td>\n",
       "      <td>-100.92</td>\n",
       "    </tr>\n",
       "    <tr>\n",
       "      <th>14</th>\n",
       "      <td>3.8, 34 km al NOROESTE de  CINTALAPA, CHIS</td>\n",
       "      <td>&lt;p&gt;Fecha:2022-08-29 10:40:11 (Hora de M&amp;eacute...</td>\n",
       "      <td>http://www2.ssn.unam.mx:8080/jsp/localizacion-...</td>\n",
       "      <td>16.92</td>\n",
       "      <td>-93.94</td>\n",
       "    </tr>\n",
       "  </tbody>\n",
       "</table>\n",
       "</div>"
      ],
      "text/plain": [
       "                                             title  \\\n",
       "0      4.0, 30 km al SUROESTE de  SALINA CRUZ, OAX   \n",
       "1     4.3, 147 km al SUROESTE de  CD HIDALGO, CHIS   \n",
       "2         3.4, 29 km al SURESTE de  EL GRULLO, JAL   \n",
       "3       3.7, 86 km al SURESTE de  SALINA CRUZ, OAX   \n",
       "4          3.8, 32 km al OESTE de  CINTALAPA, CHIS   \n",
       "5       3.9, 78 km al SURESTE de  SALINA CRUZ, OAX   \n",
       "6    3.8, 66 km al SUR de  JALTIPAN DEMORELOS, VER   \n",
       "7       3.0, 28 km al NOROESTE de  COALCOMAN, MICH   \n",
       "8     3.4, 8 km al OESTE de  PUERTO ESCONDIDO, OAX   \n",
       "9           3.8, 23 km al SUR de  ZIHUATANEJO, GRO   \n",
       "10  3.8, 34 km al NORTE de  PINOTEPA NACIONAL, OAX   \n",
       "11   3.4, 18 km al NORTE de  PUERTO ESCONDIDO, OAX   \n",
       "12           1.2, 4 km al NORTE de  ZACATECAS, ZAC   \n",
       "13         3.5, 46 km al NORESTE de  PETATLAN, GRO   \n",
       "14      3.8, 34 km al NOROESTE de  CINTALAPA, CHIS   \n",
       "\n",
       "                                          description  \\\n",
       "0   <p>Fecha:2022-08-30 00:55:10 (Hora de M&eacute...   \n",
       "1   <p>Fecha:2022-08-29 22:41:49 (Hora de M&eacute...   \n",
       "2   <p>Fecha:2022-08-29 16:54:40 (Hora de M&eacute...   \n",
       "3   <p>Fecha:2022-08-29 16:27:20 (Hora de M&eacute...   \n",
       "4   <p>Fecha:2022-08-29 16:13:18 (Hora de M&eacute...   \n",
       "5   <p>Fecha:2022-08-29 15:56:02 (Hora de M&eacute...   \n",
       "6   <p>Fecha:2022-08-29 15:14:25 (Hora de M&eacute...   \n",
       "7   <p>Fecha:2022-08-29 14:39:17 (Hora de M&eacute...   \n",
       "8   <p>Fecha:2022-08-29 13:40:44 (Hora de M&eacute...   \n",
       "9   <p>Fecha:2022-08-29 13:34:06 (Hora de M&eacute...   \n",
       "10  <p>Fecha:2022-08-29 13:09:57 (Hora de M&eacute...   \n",
       "11  <p>Fecha:2022-08-29 12:58:17 (Hora de M&eacute...   \n",
       "12  <p>Fecha:2022-08-29 12:09:11 (Hora de M&eacute...   \n",
       "13  <p>Fecha:2022-08-29 11:09:41 (Hora de M&eacute...   \n",
       "14  <p>Fecha:2022-08-29 10:40:11 (Hora de M&eacute...   \n",
       "\n",
       "                                                 link geo:lat geo:long  \n",
       "0   http://www2.ssn.unam.mx:8080/jsp/localizacion-...   16.09   -95.46  \n",
       "1   http://www2.ssn.unam.mx:8080/jsp/localizacion-...   14.14    -93.4  \n",
       "2   http://www2.ssn.unam.mx:8080/jsp/localizacion-...   19.66  -103.99  \n",
       "3   http://www2.ssn.unam.mx:8080/jsp/localizacion-...   15.44   -94.96  \n",
       "4   http://www2.ssn.unam.mx:8080/jsp/localizacion-...   16.68   -94.03  \n",
       "5   http://www2.ssn.unam.mx:8080/jsp/localizacion-...   15.51   -94.99  \n",
       "6   http://www2.ssn.unam.mx:8080/jsp/localizacion-...   17.38   -94.59  \n",
       "7   http://www2.ssn.unam.mx:8080/jsp/localizacion-...   18.94  -103.37  \n",
       "8   http://www2.ssn.unam.mx:8080/jsp/localizacion-...   15.85   -97.14  \n",
       "9   http://www2.ssn.unam.mx:8080/jsp/localizacion-...   17.44  -101.53  \n",
       "10  http://www2.ssn.unam.mx:8080/jsp/localizacion-...   16.65   -98.08  \n",
       "11  http://www2.ssn.unam.mx:8080/jsp/localizacion-...   16.03   -97.09  \n",
       "12  http://www2.ssn.unam.mx:8080/jsp/localizacion-...   22.81  -102.58  \n",
       "13  http://www2.ssn.unam.mx:8080/jsp/localizacion-...   17.78  -100.92  \n",
       "14  http://www2.ssn.unam.mx:8080/jsp/localizacion-...   16.92   -93.94  "
      ]
     },
     "execution_count": 37,
     "metadata": {},
     "output_type": "execute_result"
    }
   ],
   "source": [
    "pd.DataFrame(unam['rss']['channel']['item'])"
   ]
  },
  {
   "cell_type": "markdown",
   "metadata": {},
   "source": [
    "Como vemos, los datos no están organizados como nos gustaría. Procedemos a un ejemplo de transformación de los datos.\n",
    "\n"
   ]
  },
  {
   "cell_type": "markdown",
   "metadata": {},
   "source": [
    "**Ejemplo Extraer-Transformar de manera funcional:**"
   ]
  },
  {
   "cell_type": "code",
   "execution_count": 38,
   "metadata": {},
   "outputs": [],
   "source": [
    "# funcion para extraer el dict del xml\n",
    "\n",
    "def get_xml():\n",
    "    \n",
    "    url='http://www.ssn.unam.mx/rss/ultimos-sismos.xml'\n",
    "\n",
    "    data=req.get(url).text\n",
    "\n",
    "    unam=xmltodict.parse(data)\n",
    "    \n",
    "    return unam"
   ]
  },
  {
   "cell_type": "code",
   "execution_count": 46,
   "metadata": {},
   "outputs": [],
   "source": [
    "\n",
    "def get_clean_data():\n",
    "    dictio=get_xml()\n",
    "\n",
    "    res=[]\n",
    "\n",
    "\n",
    "    for item in dictio['rss']['channel']['item']:\n",
    "\n",
    "        link=item['link']\n",
    "\n",
    "        raw_data=link.split('?')[1].split('&')[:-1]\n",
    "\n",
    "        data=[d.split('=') for d in raw_data]\n",
    "\n",
    "        data={k:v for k,v in data}\n",
    "\n",
    "        res.append(data)\n",
    "        \n",
    "    return res"
   ]
  },
  {
   "cell_type": "code",
   "execution_count": 47,
   "metadata": {},
   "outputs": [],
   "source": [
    "sismo=pd.DataFrame(get_clean_data())"
   ]
  },
  {
   "cell_type": "code",
   "execution_count": 48,
   "metadata": {},
   "outputs": [
    {
     "data": {
      "text/html": [
       "<div>\n",
       "<style scoped>\n",
       "    .dataframe tbody tr th:only-of-type {\n",
       "        vertical-align: middle;\n",
       "    }\n",
       "\n",
       "    .dataframe tbody tr th {\n",
       "        vertical-align: top;\n",
       "    }\n",
       "\n",
       "    .dataframe thead th {\n",
       "        text-align: right;\n",
       "    }\n",
       "</style>\n",
       "<table border=\"1\" class=\"dataframe\">\n",
       "  <thead>\n",
       "    <tr style=\"text-align: right;\">\n",
       "      <th></th>\n",
       "      <th>latitud</th>\n",
       "      <th>longitud</th>\n",
       "      <th>prf</th>\n",
       "      <th>ma</th>\n",
       "      <th>fecha</th>\n",
       "      <th>hora</th>\n",
       "      <th>loc</th>\n",
       "    </tr>\n",
       "  </thead>\n",
       "  <tbody>\n",
       "    <tr>\n",
       "      <th>0</th>\n",
       "      <td>16.09</td>\n",
       "      <td>-95.46</td>\n",
       "      <td>44.0 km</td>\n",
       "      <td>4.0</td>\n",
       "      <td>2022-08-30</td>\n",
       "      <td>00:55:10</td>\n",
       "      <td>30 km al SUROESTE de  SALINA CRUZ, OAX</td>\n",
       "    </tr>\n",
       "    <tr>\n",
       "      <th>1</th>\n",
       "      <td>14.14</td>\n",
       "      <td>-93.4</td>\n",
       "      <td>24.0 km</td>\n",
       "      <td>4.3</td>\n",
       "      <td>2022-08-29</td>\n",
       "      <td>22:41:49</td>\n",
       "      <td>147 km al SUROESTE de  CD HIDALGO, CHIS</td>\n",
       "    </tr>\n",
       "    <tr>\n",
       "      <th>2</th>\n",
       "      <td>19.66</td>\n",
       "      <td>-103.99</td>\n",
       "      <td>13.0 km</td>\n",
       "      <td>3.4</td>\n",
       "      <td>2022-08-29</td>\n",
       "      <td>16:54:40</td>\n",
       "      <td>29 km al SURESTE de  EL GRULLO, JAL</td>\n",
       "    </tr>\n",
       "    <tr>\n",
       "      <th>3</th>\n",
       "      <td>15.44</td>\n",
       "      <td>-94.96</td>\n",
       "      <td>16.0 km</td>\n",
       "      <td>3.7</td>\n",
       "      <td>2022-08-29</td>\n",
       "      <td>16:27:20</td>\n",
       "      <td>86 km al SURESTE de  SALINA CRUZ, OAX</td>\n",
       "    </tr>\n",
       "    <tr>\n",
       "      <th>4</th>\n",
       "      <td>16.68</td>\n",
       "      <td>-94.03</td>\n",
       "      <td>141.0 km</td>\n",
       "      <td>3.8</td>\n",
       "      <td>2022-08-29</td>\n",
       "      <td>16:13:18</td>\n",
       "      <td>32 km al OESTE de  CINTALAPA, CHIS</td>\n",
       "    </tr>\n",
       "    <tr>\n",
       "      <th>5</th>\n",
       "      <td>15.51</td>\n",
       "      <td>-94.99</td>\n",
       "      <td>17.0 km</td>\n",
       "      <td>3.9</td>\n",
       "      <td>2022-08-29</td>\n",
       "      <td>15:56:02</td>\n",
       "      <td>78 km al SURESTE de  SALINA CRUZ, OAX</td>\n",
       "    </tr>\n",
       "    <tr>\n",
       "      <th>6</th>\n",
       "      <td>17.38</td>\n",
       "      <td>-94.59</td>\n",
       "      <td>151.0 km</td>\n",
       "      <td>3.8</td>\n",
       "      <td>2022-08-29</td>\n",
       "      <td>15:14:25</td>\n",
       "      <td>66 km al SUR de  JALTIPAN DEMORELOS, VER</td>\n",
       "    </tr>\n",
       "    <tr>\n",
       "      <th>7</th>\n",
       "      <td>18.94</td>\n",
       "      <td>-103.37</td>\n",
       "      <td>11.0 km</td>\n",
       "      <td>3.0</td>\n",
       "      <td>2022-08-29</td>\n",
       "      <td>14:39:17</td>\n",
       "      <td>28 km al NOROESTE de  COALCOMAN, MICH</td>\n",
       "    </tr>\n",
       "    <tr>\n",
       "      <th>8</th>\n",
       "      <td>15.85</td>\n",
       "      <td>-97.14</td>\n",
       "      <td>14.0 km</td>\n",
       "      <td>3.4</td>\n",
       "      <td>2022-08-29</td>\n",
       "      <td>13:40:44</td>\n",
       "      <td>8 km al OESTE de  PUERTO ESCONDIDO, OAX</td>\n",
       "    </tr>\n",
       "    <tr>\n",
       "      <th>9</th>\n",
       "      <td>17.44</td>\n",
       "      <td>-101.53</td>\n",
       "      <td>33.0 km</td>\n",
       "      <td>3.8</td>\n",
       "      <td>2022-08-29</td>\n",
       "      <td>13:34:06</td>\n",
       "      <td>23 km al SUR de  ZIHUATANEJO, GRO</td>\n",
       "    </tr>\n",
       "    <tr>\n",
       "      <th>10</th>\n",
       "      <td>16.65</td>\n",
       "      <td>-98.08</td>\n",
       "      <td>9.0 km</td>\n",
       "      <td>3.8</td>\n",
       "      <td>2022-08-29</td>\n",
       "      <td>13:09:57</td>\n",
       "      <td>34 km al NORTE de  PINOTEPA NACIONAL, OAX</td>\n",
       "    </tr>\n",
       "    <tr>\n",
       "      <th>11</th>\n",
       "      <td>16.03</td>\n",
       "      <td>-97.09</td>\n",
       "      <td>19.0 km</td>\n",
       "      <td>3.4</td>\n",
       "      <td>2022-08-29</td>\n",
       "      <td>12:58:17</td>\n",
       "      <td>18 km al NORTE de  PUERTO ESCONDIDO, OAX</td>\n",
       "    </tr>\n",
       "    <tr>\n",
       "      <th>12</th>\n",
       "      <td>22.81</td>\n",
       "      <td>-102.58</td>\n",
       "      <td>2.0 km</td>\n",
       "      <td>1.2</td>\n",
       "      <td>2022-08-29</td>\n",
       "      <td>12:09:11</td>\n",
       "      <td>4 km al NORTE de  ZACATECAS, ZAC</td>\n",
       "    </tr>\n",
       "    <tr>\n",
       "      <th>13</th>\n",
       "      <td>17.78</td>\n",
       "      <td>-100.92</td>\n",
       "      <td>48.0 km</td>\n",
       "      <td>3.5</td>\n",
       "      <td>2022-08-29</td>\n",
       "      <td>11:09:41</td>\n",
       "      <td>46 km al NORESTE de  PETATLAN, GRO</td>\n",
       "    </tr>\n",
       "    <tr>\n",
       "      <th>14</th>\n",
       "      <td>16.92</td>\n",
       "      <td>-93.94</td>\n",
       "      <td>151.0 km</td>\n",
       "      <td>3.8</td>\n",
       "      <td>2022-08-29</td>\n",
       "      <td>10:40:11</td>\n",
       "      <td>34 km al NOROESTE de  CINTALAPA, CHIS</td>\n",
       "    </tr>\n",
       "  </tbody>\n",
       "</table>\n",
       "</div>"
      ],
      "text/plain": [
       "   latitud longitud       prf   ma       fecha      hora  \\\n",
       "0    16.09   -95.46   44.0 km  4.0  2022-08-30  00:55:10   \n",
       "1    14.14    -93.4   24.0 km  4.3  2022-08-29  22:41:49   \n",
       "2    19.66  -103.99   13.0 km  3.4  2022-08-29  16:54:40   \n",
       "3    15.44   -94.96   16.0 km  3.7  2022-08-29  16:27:20   \n",
       "4    16.68   -94.03  141.0 km  3.8  2022-08-29  16:13:18   \n",
       "5    15.51   -94.99   17.0 km  3.9  2022-08-29  15:56:02   \n",
       "6    17.38   -94.59  151.0 km  3.8  2022-08-29  15:14:25   \n",
       "7    18.94  -103.37   11.0 km  3.0  2022-08-29  14:39:17   \n",
       "8    15.85   -97.14   14.0 km  3.4  2022-08-29  13:40:44   \n",
       "9    17.44  -101.53   33.0 km  3.8  2022-08-29  13:34:06   \n",
       "10   16.65   -98.08    9.0 km  3.8  2022-08-29  13:09:57   \n",
       "11   16.03   -97.09   19.0 km  3.4  2022-08-29  12:58:17   \n",
       "12   22.81  -102.58    2.0 km  1.2  2022-08-29  12:09:11   \n",
       "13   17.78  -100.92   48.0 km  3.5  2022-08-29  11:09:41   \n",
       "14   16.92   -93.94  151.0 km  3.8  2022-08-29  10:40:11   \n",
       "\n",
       "                                           loc  \n",
       "0      30 km al SUROESTE de  SALINA CRUZ, OAX   \n",
       "1     147 km al SUROESTE de  CD HIDALGO, CHIS   \n",
       "2         29 km al SURESTE de  EL GRULLO, JAL   \n",
       "3       86 km al SURESTE de  SALINA CRUZ, OAX   \n",
       "4          32 km al OESTE de  CINTALAPA, CHIS   \n",
       "5       78 km al SURESTE de  SALINA CRUZ, OAX   \n",
       "6    66 km al SUR de  JALTIPAN DEMORELOS, VER   \n",
       "7       28 km al NOROESTE de  COALCOMAN, MICH   \n",
       "8     8 km al OESTE de  PUERTO ESCONDIDO, OAX   \n",
       "9           23 km al SUR de  ZIHUATANEJO, GRO   \n",
       "10  34 km al NORTE de  PINOTEPA NACIONAL, OAX   \n",
       "11   18 km al NORTE de  PUERTO ESCONDIDO, OAX   \n",
       "12           4 km al NORTE de  ZACATECAS, ZAC   \n",
       "13         46 km al NORESTE de  PETATLAN, GRO   \n",
       "14      34 km al NOROESTE de  CINTALAPA, CHIS   "
      ]
     },
     "execution_count": 48,
     "metadata": {},
     "output_type": "execute_result"
    }
   ],
   "source": [
    "sismo"
   ]
  },
  {
   "cell_type": "code",
   "execution_count": 49,
   "metadata": {},
   "outputs": [
    {
     "name": "stdout",
     "output_type": "stream",
     "text": [
      "<class 'pandas.core.frame.DataFrame'>\n",
      "RangeIndex: 15 entries, 0 to 14\n",
      "Data columns (total 7 columns):\n",
      " #   Column    Non-Null Count  Dtype \n",
      "---  ------    --------------  ----- \n",
      " 0   latitud   15 non-null     object\n",
      " 1   longitud  15 non-null     object\n",
      " 2   prf       15 non-null     object\n",
      " 3   ma        15 non-null     object\n",
      " 4   fecha     15 non-null     object\n",
      " 5   hora      15 non-null     object\n",
      " 6   loc       15 non-null     object\n",
      "dtypes: object(7)\n",
      "memory usage: 968.0+ bytes\n"
     ]
    }
   ],
   "source": [
    "sismo.info()"
   ]
  },
  {
   "cell_type": "code",
   "execution_count": null,
   "metadata": {},
   "outputs": [],
   "source": []
  },
  {
   "cell_type": "code",
   "execution_count": null,
   "metadata": {},
   "outputs": [],
   "source": []
  },
  {
   "cell_type": "code",
   "execution_count": null,
   "metadata": {},
   "outputs": [],
   "source": []
  }
 ],
 "metadata": {
  "kernelspec": {
   "display_name": "clase",
   "language": "python",
   "name": "clase"
  },
  "language_info": {
   "codemirror_mode": {
    "name": "ipython",
    "version": 3
   },
   "file_extension": ".py",
   "mimetype": "text/x-python",
   "name": "python",
   "nbconvert_exporter": "python",
   "pygments_lexer": "ipython3",
   "version": "3.9.7"
  }
 },
 "nbformat": 4,
 "nbformat_minor": 4
}
