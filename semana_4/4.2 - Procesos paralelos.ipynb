{
 "cells": [
  {
   "cell_type": "markdown",
   "metadata": {},
   "source": [
    "# 4.2 - Procesos paralelos\n",
    "\n",
    "\n",
    "![parallel](images/parallel.png)\n",
    "\n",
    "$$$$\n",
    "\n",
    "### Multiprocessing\n",
    "\n",
    "Veamos en primer lugar [multiprocessing](https://docs.python.org/es/3.9/library/multiprocessing.html). Es una librería de Python que nos permite manejar hilos y procesos. La diferencia entre hilo y proceso es que un hilo ocurre dentro del espacio de memoria de un programa y un proceso es una copia completa del programa, por esta razón, los hilos son rápidos de crear y destruir además de que consumen poca memoria y los procesos son lentos de crear y destruir además de que requieren clonar el espacio de memoria del programa en otro lugar de la RAM, y esto es lento. Ejemplos de esto serían, subrutinas que recogen mensajes de un puerto de comunicaciones y los usan para actuar sobre emails almacenados en un servidor, desde el punto de vista del servidor, el cliente de correo sólo necesita usar el servidor durante un corto plazo de tiempo, porque envía un mensaje al servidor donde le indica lo que el usuario desea hacer, saber si hay mensajes nuevos, borrar un correo, moverlo... El servidor abre un hilo para atender a ese usuario y el hilo sólo vive mientras dure la conexión del usuario, una vez el usuario ha terminado el cliente de correo desconecta hasta nueva acción. Este proceso que he descrito es rápido, ocurre en milisegundos y generalmente se resuelve con hilos porque es más ligero para el sistema operativo y su vida media es especialmente corta, además de que el sistema podrá aceptar ciento o miles de conexiones por segundo y será ligero, rápido y eficiente en esta tarea.\n",
    "\n",
    "La tendencia actual entre los desarrolladores es hacer una aplicaciones que sean rápidas en un sólo hilo y luego escalar a tantas instancias como sea necesario para cubrir nuestros objetivos de aprovechamiento, estos servidores pueden atender en un sólo proceso a miles o decena de miles de conexiones.\n",
    "\n",
    "Si queremos realizar un programa que aproveche las diferentes CPUs y pueda realizar múltiples tareas a la vez tenemos muchos mecanismos para llevar esta tarea a cabo. Dependiendo del uso que se quiera dar probablemente queramos usar hilos o procesos, es aquí donde querremos escribir nuestro código con hilos o procesos."
   ]
  },
  {
   "cell_type": "markdown",
   "metadata": {},
   "source": [
    "**Hola Mundo**"
   ]
  },
  {
   "cell_type": "code",
   "execution_count": 1,
   "metadata": {},
   "outputs": [],
   "source": [
    "import warnings\n",
    "warnings.filterwarnings('ignore')"
   ]
  },
  {
   "cell_type": "code",
   "execution_count": 2,
   "metadata": {},
   "outputs": [],
   "source": [
    "def cuadrado(x):\n",
    "    return x**2"
   ]
  },
  {
   "cell_type": "code",
   "execution_count": 3,
   "metadata": {},
   "outputs": [],
   "source": [
    "datos=[i for i in range(10000000)]"
   ]
  },
  {
   "cell_type": "code",
   "execution_count": 4,
   "metadata": {},
   "outputs": [
    {
     "name": "stdout",
     "output_type": "stream",
     "text": [
      "CPU times: user 2.37 s, sys: 57.5 ms, total: 2.43 s\n",
      "Wall time: 2.43 s\n"
     ]
    },
    {
     "data": {
      "text/plain": [
       "[0, 1, 4, 9, 16, 25, 36, 49, 64, 81]"
      ]
     },
     "execution_count": 4,
     "metadata": {},
     "output_type": "execute_result"
    }
   ],
   "source": [
    "%%time\n",
    "\n",
    "seq=[cuadrado(x) for x in datos]\n",
    "\n",
    "seq[:10]"
   ]
  },
  {
   "cell_type": "code",
   "execution_count": 5,
   "metadata": {
    "scrolled": false
   },
   "outputs": [
    {
     "name": "stdout",
     "output_type": "stream",
     "text": [
      "CPU times: user 4 µs, sys: 1e+03 ns, total: 5 µs\n",
      "Wall time: 7.87 µs\n"
     ]
    },
    {
     "data": {
      "text/plain": [
       "<map at 0x16926e280>"
      ]
     },
     "execution_count": 5,
     "metadata": {},
     "output_type": "execute_result"
    }
   ],
   "source": [
    "%%time\n",
    "\n",
    "map(cuadrado, datos)"
   ]
  },
  {
   "cell_type": "code",
   "execution_count": 6,
   "metadata": {},
   "outputs": [
    {
     "name": "stdout",
     "output_type": "stream",
     "text": [
      "CPU times: user 2.13 s, sys: 42.4 ms, total: 2.17 s\n",
      "Wall time: 2.17 s\n"
     ]
    }
   ],
   "source": [
    "%%time\n",
    "\n",
    "a=list(map(cuadrado, datos))"
   ]
  },
  {
   "cell_type": "code",
   "execution_count": 7,
   "metadata": {},
   "outputs": [],
   "source": [
    "import multiprocessing as mp"
   ]
  },
  {
   "cell_type": "code",
   "execution_count": 8,
   "metadata": {},
   "outputs": [
    {
     "data": {
      "text/plain": [
       "'spawn'"
      ]
     },
     "execution_count": 8,
     "metadata": {},
     "output_type": "execute_result"
    }
   ],
   "source": [
    "mp.get_start_method()   # movida del Mac M1, para otros no hace falta"
   ]
  },
  {
   "cell_type": "code",
   "execution_count": 9,
   "metadata": {},
   "outputs": [],
   "source": [
    "# movida del mac M1, para otros no hace falta\n",
    "\n",
    "from multiprocessing import get_context"
   ]
  },
  {
   "cell_type": "code",
   "execution_count": 10,
   "metadata": {},
   "outputs": [
    {
     "data": {
      "text/plain": [
       "8"
      ]
     },
     "execution_count": 10,
     "metadata": {},
     "output_type": "execute_result"
    }
   ],
   "source": [
    "mp.cpu_count()"
   ]
  },
  {
   "cell_type": "code",
   "execution_count": 14,
   "metadata": {},
   "outputs": [
    {
     "name": "stdout",
     "output_type": "stream",
     "text": [
      "CPU times: user 605 ms, sys: 332 ms, total: 937 ms\n",
      "Wall time: 969 ms\n"
     ]
    },
    {
     "data": {
      "text/plain": [
       "[0, 1, 4, 9, 16, 25, 36, 49, 64, 81]"
      ]
     },
     "execution_count": 14,
     "metadata": {},
     "output_type": "execute_result"
    }
   ],
   "source": [
    "%%time\n",
    "\n",
    "#pool=mp.Pool(mp.cpu_count())   # grupo con todos los cores\n",
    "pool=get_context('fork').Pool(mp.cpu_count())  # esto para el Mac M1\n",
    "\n",
    "\n",
    "res=pool.map(cuadrado, datos)\n",
    "pool.close()\n",
    "\n",
    "res[:10]"
   ]
  },
  {
   "cell_type": "code",
   "execution_count": 15,
   "metadata": {},
   "outputs": [
    {
     "data": {
      "text/plain": [
       "<multiprocessing.pool.Pool state=CLOSE pool_size=8>"
      ]
     },
     "execution_count": 15,
     "metadata": {},
     "output_type": "execute_result"
    }
   ],
   "source": [
    "pool"
   ]
  },
  {
   "cell_type": "markdown",
   "metadata": {},
   "source": [
    "**multiprocessing asíncrono**\n",
    "\n",
    "`map` consume su iterable convirtiendo el iterable en una lista, dividiéndolo en fragmentos y enviando esos fragmentos a los procesos de trabajo en el Pool. Dividir el iterable en fragmentos funciona mejor que pasar cada elemento en el iterable entre procesos un elemento a la vez, especialmente si el iterable es grande. Sin embargo, convertir el iterable en una lista para dividirlo puede tener un costo de memoria muy alto, ya que la lista completa deberá mantenerse en la memoria.\n",
    "\n",
    "`imap`/`map_async` no convierte el iterable que le da en una lista, ni lo divide en trozos. Itera sobre el elemento de uno en uno y los envia a un proceso de trabajo distinto. Esto significa que no se toma el golpe de memoria de convertir todo el iterable en una lista, pero también que el rendimiento es más lento para los iterables grandes, debido a la falta de fragmentación. Esto se puede mitigar aumentando el valor predeterminado de 1 en el `chunksize`. Otra gran diferencia de `imap` es que puede comenzar a recibir resultados de los trabajadores tan pronto como estén listos, en lugar de tener que esperar a que todos terminen. \n",
    "\n",
    "\n"
   ]
  },
  {
   "cell_type": "code",
   "execution_count": 16,
   "metadata": {},
   "outputs": [
    {
     "name": "stdout",
     "output_type": "stream",
     "text": [
      "CPU times: user 554 ms, sys: 380 ms, total: 934 ms\n",
      "Wall time: 1 s\n"
     ]
    },
    {
     "data": {
      "text/plain": [
       "[0, 1, 4, 9, 16, 25, 36, 49, 64, 81]"
      ]
     },
     "execution_count": 16,
     "metadata": {},
     "output_type": "execute_result"
    }
   ],
   "source": [
    "%%time\n",
    "\n",
    "#pool=mp.Pool(mp.cpu_count())\n",
    "pool=get_context('fork').Pool(6)  # grupo con 6 cores\n",
    "\n",
    "res=pool.map_async(cuadrado, datos).get()\n",
    "pool.close()\n",
    "\n",
    "res[:10]"
   ]
  },
  {
   "cell_type": "markdown",
   "metadata": {},
   "source": [
    "```python\n",
    "%%time\n",
    "pool=mp.Pool(mp.cpu_count())   \n",
    "\n",
    "for x in pool.imap(cuadrado, datos):\n",
    "    print(x)\n",
    "    \n",
    "pool.close()\n",
    "```"
   ]
  },
  {
   "cell_type": "markdown",
   "metadata": {},
   "source": [
    "$$$$\n",
    "\n",
    "$$$$\n",
    "\n",
    "## Joblib\n",
    "\n",
    "![joblib](images/joblib.svg)\n",
    "\n",
    "$$$$\n",
    "\n",
    "$$$$\n",
    "\n",
    "\n",
    "[Joblib](https://joblib.readthedocs.io/en/latest/) es una librería de Python que también nos permite paralelizar un programa. En este caso a través de procesos, lo cuál implica, como vimos antes, cierto tiempo para construir el Pool. Lo usaremos principalmente para realizar un bucle sobre una función.\n",
    "\n",
    "Veamos el Hola Mundo."
   ]
  },
  {
   "cell_type": "markdown",
   "metadata": {},
   "source": [
    "**Hola Mundo**"
   ]
  },
  {
   "cell_type": "code",
   "execution_count": 17,
   "metadata": {},
   "outputs": [
    {
     "name": "stdout",
     "output_type": "stream",
     "text": [
      "Requirement already satisfied: joblib in /Users/iudh/miniforge3/envs/clase/lib/python3.9/site-packages (1.0.1)\n",
      "Note: you may need to restart the kernel to use updated packages.\n"
     ]
    }
   ],
   "source": [
    "%pip install joblib"
   ]
  },
  {
   "cell_type": "code",
   "execution_count": 18,
   "metadata": {},
   "outputs": [],
   "source": [
    "from joblib import Parallel, delayed"
   ]
  },
  {
   "cell_type": "code",
   "execution_count": 19,
   "metadata": {},
   "outputs": [
    {
     "name": "stderr",
     "output_type": "stream",
     "text": [
      "[Parallel(n_jobs=6)]: Using backend LokyBackend with 6 concurrent workers.\n",
      "[Parallel(n_jobs=6)]: Done  46 tasks      | elapsed:    0.5s\n",
      "[Parallel(n_jobs=6)]: Done 229382 tasks      | elapsed:    2.2s\n",
      "[Parallel(n_jobs=6)]: Done 4325382 tasks      | elapsed:   12.8s\n"
     ]
    },
    {
     "name": "stdout",
     "output_type": "stream",
     "text": [
      "CPU times: user 26.5 s, sys: 933 ms, total: 27.4 s\n",
      "Wall time: 27.7 s\n"
     ]
    },
    {
     "name": "stderr",
     "output_type": "stream",
     "text": [
      "[Parallel(n_jobs=6)]: Done 9907822 tasks      | elapsed:   27.7s\n",
      "[Parallel(n_jobs=6)]: Done 10000000 out of 10000000 | elapsed:   27.7s finished\n"
     ]
    },
    {
     "data": {
      "text/plain": [
       "[0, 1, 4, 9, 16]"
      ]
     },
     "execution_count": 19,
     "metadata": {},
     "output_type": "execute_result"
    }
   ],
   "source": [
    "%%time\n",
    "\n",
    "lst=Parallel(n_jobs=6, verbose=True)(delayed(cuadrado)(e) for e in datos)\n",
    "\n",
    "lst[:5]  # tarda más por el reordenado los datos, coloca en orden de la que calcula"
   ]
  },
  {
   "cell_type": "markdown",
   "metadata": {},
   "source": [
    "### Ejemplo ESPN\n",
    "\n",
    "Volvamos de nuevo al ejemplo de scrapeo de la págine de ESPN. Usaremos joblib para realizar una extracción en paralelo de la información."
   ]
  },
  {
   "cell_type": "code",
   "execution_count": 20,
   "metadata": {},
   "outputs": [
    {
     "name": "stderr",
     "output_type": "stream",
     "text": [
      "\n",
      "\n",
      "====== WebDriver manager ======\n",
      "Current google-chrome version is 105.0.5195\n",
      "Get LATEST chromedriver version for 105.0.5195 google-chrome\n",
      "Driver [/Users/iudh/.wdm/drivers/chromedriver/mac64_m1/105.0.5195.52/chromedriver] found in cache\n"
     ]
    }
   ],
   "source": [
    "from selenium import webdriver\n",
    "\n",
    "import time\n",
    "\n",
    "import pandas as pd\n",
    "\n",
    "from webdriver_manager.chrome import ChromeDriverManager\n",
    "\n",
    "PATH=ChromeDriverManager().install()"
   ]
  },
  {
   "cell_type": "code",
   "execution_count": 21,
   "metadata": {},
   "outputs": [
    {
     "data": {
      "text/plain": [
       "['https://www.espn.com/soccer/team/stats/_/id/598/1-fc-union-berlin',\n",
       " 'https://www.espn.com/soccer/team/stats/_/id/131/bayer-leverkusen',\n",
       " 'https://www.espn.com/soccer/team/stats/_/id/132/bayern-munich',\n",
       " 'https://www.espn.com/soccer/team/stats/_/id/124/borussia-dortmund',\n",
       " 'https://www.espn.com/soccer/team/stats/_/id/268/borussia-monchengladbach',\n",
       " 'https://www.espn.com/soccer/team/stats/_/id/125/eintracht-frankfurt',\n",
       " 'https://www.espn.com/soccer/team/stats/_/id/3841/fc-augsburg',\n",
       " 'https://www.espn.com/soccer/team/stats/_/id/122/fc-cologne',\n",
       " 'https://www.espn.com/soccer/team/stats/_/id/129/hertha-berlin',\n",
       " 'https://www.espn.com/soccer/team/stats/_/id/2950/mainz',\n",
       " 'https://www.espn.com/soccer/team/stats/_/id/11420/rb-leipzig',\n",
       " 'https://www.espn.com/soccer/team/stats/_/id/126/sc-freiburg',\n",
       " 'https://www.espn.com/soccer/team/stats/_/id/133/schalke-04',\n",
       " 'https://www.espn.com/soccer/team/stats/_/id/7911/tsg-hoffenheim',\n",
       " 'https://www.espn.com/soccer/team/stats/_/id/134/vfb-stuttgart',\n",
       " 'https://www.espn.com/soccer/team/stats/_/id/121/vfl-bochum',\n",
       " 'https://www.espn.com/soccer/team/stats/_/id/138/vfl-wolfsburg',\n",
       " 'https://www.espn.com/soccer/team/stats/_/id/137/werder-bremen']"
      ]
     },
     "execution_count": 21,
     "metadata": {},
     "output_type": "execute_result"
    }
   ],
   "source": [
    "url='https://www.espn.com/soccer/competitions'\n",
    "\n",
    "\n",
    "driver=webdriver.Chrome(PATH)\n",
    "driver.get(url)\n",
    "    \n",
    "time.sleep(2)\n",
    "\n",
    "aceptar=driver.find_element_by_xpath('//*[@id=\"onetrust-accept-btn-handler\"]')\n",
    "aceptar.click()\n",
    "\n",
    "time.sleep(4)\n",
    "\n",
    "equipos=driver.find_element_by_css_selector('#fittPageContainer > div.page-container.cf > div > div.layout__column.layout__column--1 > div > div:nth-child(3) > div:nth-child(1) > div > div:nth-child(5) > div > section > div > div > span:nth-child(2) > a')\n",
    "equipos.click()\n",
    "\n",
    "\n",
    "time.sleep(2)\n",
    "\n",
    "equipos_stats_urls=driver.find_elements_by_css_selector('a.AnchorLink')\n",
    "\n",
    "equipos_stats_urls=[e.get_attribute('href') for e in equipos_stats_urls \n",
    "                    if 'team/stats' in e.get_attribute('href')]\n",
    "\n",
    "\n",
    "equipos_stats_urls\n"
   ]
  },
  {
   "cell_type": "code",
   "execution_count": 22,
   "metadata": {},
   "outputs": [],
   "source": [
    "driver.quit()"
   ]
  },
  {
   "cell_type": "code",
   "execution_count": 23,
   "metadata": {},
   "outputs": [],
   "source": [
    "def extraer(url):\n",
    "\n",
    "    \n",
    "    # inicia el driver\n",
    "    driver=webdriver.Chrome(PATH)\n",
    "    driver.get(url)\n",
    "\n",
    "    time.sleep(2)\n",
    "\n",
    "    # acepta cookies\n",
    "    aceptar=driver.find_element_by_xpath('//*[@id=\"onetrust-accept-btn-handler\"]')\n",
    "    aceptar.click()\n",
    "\n",
    "    time.sleep(2)\n",
    "    \n",
    "    # disciplina\n",
    "    dis=driver.find_element_by_xpath('//*[@id=\"fittPageContainer\"]/div[2]/div[5]/div/div[1]/section/div/div[2]/nav/ul/li[2]/a')\n",
    "    dis.click()\n",
    "\n",
    "    time.sleep(2)\n",
    "    \n",
    "    tabla=driver.find_element_by_tag_name('tbody')\n",
    "\n",
    "    filas=tabla.find_elements_by_tag_name('tr')\n",
    "\n",
    "\n",
    "    data=[]\n",
    "\n",
    "    for f in filas:\n",
    "\n",
    "        elementos=f.find_elements_by_tag_name('td') \n",
    "\n",
    "        tmp=[]\n",
    "\n",
    "        for e in elementos:\n",
    "\n",
    "            tmp.append(e.text)\n",
    "            \n",
    "        tmp.append(url.split('/')[-1])\n",
    "        data.append(tmp)\n",
    "        \n",
    "\n",
    "    cabeceras=driver.find_element_by_tag_name('thead')\n",
    "\n",
    "    cabeceras=[c.text for c in cabeceras.find_elements_by_tag_name('th')]+['TEAM']\n",
    "    \n",
    "    \n",
    "    driver.quit()\n",
    "    \n",
    "    return pd.DataFrame(data, columns=cabeceras)"
   ]
  },
  {
   "cell_type": "code",
   "execution_count": 24,
   "metadata": {},
   "outputs": [
    {
     "name": "stderr",
     "output_type": "stream",
     "text": [
      "[Parallel(n_jobs=6)]: Using backend LokyBackend with 6 concurrent workers.\n",
      "/var/folders/fv/zc4lh9sn7bnf55fy6jhl0k900000gn/T/ipykernel_5769/344926950.py:5: DeprecationWarning: executable_path has been deprecated, please pass in a Service object\n",
      "/var/folders/fv/zc4lh9sn7bnf55fy6jhl0k900000gn/T/ipykernel_5769/344926950.py:5: DeprecationWarning: executable_path has been deprecated, please pass in a Service object\n",
      "/var/folders/fv/zc4lh9sn7bnf55fy6jhl0k900000gn/T/ipykernel_5769/344926950.py:5: DeprecationWarning: executable_path has been deprecated, please pass in a Service object\n",
      "/var/folders/fv/zc4lh9sn7bnf55fy6jhl0k900000gn/T/ipykernel_5769/344926950.py:5: DeprecationWarning: executable_path has been deprecated, please pass in a Service object\n",
      "/var/folders/fv/zc4lh9sn7bnf55fy6jhl0k900000gn/T/ipykernel_5769/344926950.py:5: DeprecationWarning: executable_path has been deprecated, please pass in a Service object\n",
      "/var/folders/fv/zc4lh9sn7bnf55fy6jhl0k900000gn/T/ipykernel_5769/344926950.py:5: DeprecationWarning: executable_path has been deprecated, please pass in a Service object\n",
      "/var/folders/fv/zc4lh9sn7bnf55fy6jhl0k900000gn/T/ipykernel_5769/344926950.py:11: DeprecationWarning: find_element_by_xpath is deprecated. Please use find_element(by=By.XPATH, value=xpath) instead\n",
      "/var/folders/fv/zc4lh9sn7bnf55fy6jhl0k900000gn/T/ipykernel_5769/344926950.py:11: DeprecationWarning: find_element_by_xpath is deprecated. Please use find_element(by=By.XPATH, value=xpath) instead\n",
      "/var/folders/fv/zc4lh9sn7bnf55fy6jhl0k900000gn/T/ipykernel_5769/344926950.py:11: DeprecationWarning: find_element_by_xpath is deprecated. Please use find_element(by=By.XPATH, value=xpath) instead\n",
      "/var/folders/fv/zc4lh9sn7bnf55fy6jhl0k900000gn/T/ipykernel_5769/344926950.py:11: DeprecationWarning: find_element_by_xpath is deprecated. Please use find_element(by=By.XPATH, value=xpath) instead\n",
      "/var/folders/fv/zc4lh9sn7bnf55fy6jhl0k900000gn/T/ipykernel_5769/344926950.py:11: DeprecationWarning: find_element_by_xpath is deprecated. Please use find_element(by=By.XPATH, value=xpath) instead\n",
      "/var/folders/fv/zc4lh9sn7bnf55fy6jhl0k900000gn/T/ipykernel_5769/344926950.py:11: DeprecationWarning: find_element_by_xpath is deprecated. Please use find_element(by=By.XPATH, value=xpath) instead\n",
      "/var/folders/fv/zc4lh9sn7bnf55fy6jhl0k900000gn/T/ipykernel_5769/344926950.py:17: DeprecationWarning: find_element_by_xpath is deprecated. Please use find_element(by=By.XPATH, value=xpath) instead\n",
      "/var/folders/fv/zc4lh9sn7bnf55fy6jhl0k900000gn/T/ipykernel_5769/344926950.py:17: DeprecationWarning: find_element_by_xpath is deprecated. Please use find_element(by=By.XPATH, value=xpath) instead\n",
      "/var/folders/fv/zc4lh9sn7bnf55fy6jhl0k900000gn/T/ipykernel_5769/344926950.py:17: DeprecationWarning: find_element_by_xpath is deprecated. Please use find_element(by=By.XPATH, value=xpath) instead\n",
      "/var/folders/fv/zc4lh9sn7bnf55fy6jhl0k900000gn/T/ipykernel_5769/344926950.py:17: DeprecationWarning: find_element_by_xpath is deprecated. Please use find_element(by=By.XPATH, value=xpath) instead\n",
      "/var/folders/fv/zc4lh9sn7bnf55fy6jhl0k900000gn/T/ipykernel_5769/344926950.py:17: DeprecationWarning: find_element_by_xpath is deprecated. Please use find_element(by=By.XPATH, value=xpath) instead\n",
      "/var/folders/fv/zc4lh9sn7bnf55fy6jhl0k900000gn/T/ipykernel_5769/344926950.py:17: DeprecationWarning: find_element_by_xpath is deprecated. Please use find_element(by=By.XPATH, value=xpath) instead\n",
      "/var/folders/fv/zc4lh9sn7bnf55fy6jhl0k900000gn/T/ipykernel_5769/344926950.py:22: DeprecationWarning: find_element_by_tag_name is deprecated. Please use find_element(by=By.TAG_NAME, value=name) instead\n",
      "/var/folders/fv/zc4lh9sn7bnf55fy6jhl0k900000gn/T/ipykernel_5769/344926950.py:24: DeprecationWarning: find_elements_by_tag_name is deprecated. Please use find_elements(by=By.TAG_NAME, value=name) instead\n",
      "/var/folders/fv/zc4lh9sn7bnf55fy6jhl0k900000gn/T/ipykernel_5769/344926950.py:31: DeprecationWarning: find_elements_by_tag_name is deprecated. Please use find_elements(by=By.TAG_NAME, value=name) instead\n",
      "/var/folders/fv/zc4lh9sn7bnf55fy6jhl0k900000gn/T/ipykernel_5769/344926950.py:22: DeprecationWarning: find_element_by_tag_name is deprecated. Please use find_element(by=By.TAG_NAME, value=name) instead\n",
      "/var/folders/fv/zc4lh9sn7bnf55fy6jhl0k900000gn/T/ipykernel_5769/344926950.py:24: DeprecationWarning: find_elements_by_tag_name is deprecated. Please use find_elements(by=By.TAG_NAME, value=name) instead\n",
      "/var/folders/fv/zc4lh9sn7bnf55fy6jhl0k900000gn/T/ipykernel_5769/344926950.py:31: DeprecationWarning: find_elements_by_tag_name is deprecated. Please use find_elements(by=By.TAG_NAME, value=name) instead\n",
      "/var/folders/fv/zc4lh9sn7bnf55fy6jhl0k900000gn/T/ipykernel_5769/344926950.py:22: DeprecationWarning: find_element_by_tag_name is deprecated. Please use find_element(by=By.TAG_NAME, value=name) instead\n",
      "/var/folders/fv/zc4lh9sn7bnf55fy6jhl0k900000gn/T/ipykernel_5769/344926950.py:24: DeprecationWarning: find_elements_by_tag_name is deprecated. Please use find_elements(by=By.TAG_NAME, value=name) instead\n",
      "/var/folders/fv/zc4lh9sn7bnf55fy6jhl0k900000gn/T/ipykernel_5769/344926950.py:31: DeprecationWarning: find_elements_by_tag_name is deprecated. Please use find_elements(by=By.TAG_NAME, value=name) instead\n",
      "/var/folders/fv/zc4lh9sn7bnf55fy6jhl0k900000gn/T/ipykernel_5769/344926950.py:22: DeprecationWarning: find_element_by_tag_name is deprecated. Please use find_element(by=By.TAG_NAME, value=name) instead\n",
      "/var/folders/fv/zc4lh9sn7bnf55fy6jhl0k900000gn/T/ipykernel_5769/344926950.py:22: DeprecationWarning: find_element_by_tag_name is deprecated. Please use find_element(by=By.TAG_NAME, value=name) instead\n",
      "/var/folders/fv/zc4lh9sn7bnf55fy6jhl0k900000gn/T/ipykernel_5769/344926950.py:24: DeprecationWarning: find_elements_by_tag_name is deprecated. Please use find_elements(by=By.TAG_NAME, value=name) instead\n",
      "/var/folders/fv/zc4lh9sn7bnf55fy6jhl0k900000gn/T/ipykernel_5769/344926950.py:31: DeprecationWarning: find_elements_by_tag_name is deprecated. Please use find_elements(by=By.TAG_NAME, value=name) instead\n",
      "/var/folders/fv/zc4lh9sn7bnf55fy6jhl0k900000gn/T/ipykernel_5769/344926950.py:24: DeprecationWarning: find_elements_by_tag_name is deprecated. Please use find_elements(by=By.TAG_NAME, value=name) instead\n",
      "/var/folders/fv/zc4lh9sn7bnf55fy6jhl0k900000gn/T/ipykernel_5769/344926950.py:31: DeprecationWarning: find_elements_by_tag_name is deprecated. Please use find_elements(by=By.TAG_NAME, value=name) instead\n",
      "/var/folders/fv/zc4lh9sn7bnf55fy6jhl0k900000gn/T/ipykernel_5769/344926950.py:22: DeprecationWarning: find_element_by_tag_name is deprecated. Please use find_element(by=By.TAG_NAME, value=name) instead\n",
      "/var/folders/fv/zc4lh9sn7bnf55fy6jhl0k900000gn/T/ipykernel_5769/344926950.py:24: DeprecationWarning: find_elements_by_tag_name is deprecated. Please use find_elements(by=By.TAG_NAME, value=name) instead\n",
      "/var/folders/fv/zc4lh9sn7bnf55fy6jhl0k900000gn/T/ipykernel_5769/344926950.py:31: DeprecationWarning: find_elements_by_tag_name is deprecated. Please use find_elements(by=By.TAG_NAME, value=name) instead\n",
      "/var/folders/fv/zc4lh9sn7bnf55fy6jhl0k900000gn/T/ipykernel_5769/344926950.py:43: DeprecationWarning: find_element_by_tag_name is deprecated. Please use find_element(by=By.TAG_NAME, value=name) instead\n",
      "/var/folders/fv/zc4lh9sn7bnf55fy6jhl0k900000gn/T/ipykernel_5769/344926950.py:45: DeprecationWarning: find_elements_by_tag_name is deprecated. Please use find_elements(by=By.TAG_NAME, value=name) instead\n",
      "/var/folders/fv/zc4lh9sn7bnf55fy6jhl0k900000gn/T/ipykernel_5769/344926950.py:5: DeprecationWarning: executable_path has been deprecated, please pass in a Service object\n",
      "/var/folders/fv/zc4lh9sn7bnf55fy6jhl0k900000gn/T/ipykernel_5769/344926950.py:43: DeprecationWarning: find_element_by_tag_name is deprecated. Please use find_element(by=By.TAG_NAME, value=name) instead\n",
      "/var/folders/fv/zc4lh9sn7bnf55fy6jhl0k900000gn/T/ipykernel_5769/344926950.py:45: DeprecationWarning: find_elements_by_tag_name is deprecated. Please use find_elements(by=By.TAG_NAME, value=name) instead\n",
      "/var/folders/fv/zc4lh9sn7bnf55fy6jhl0k900000gn/T/ipykernel_5769/344926950.py:5: DeprecationWarning: executable_path has been deprecated, please pass in a Service object\n",
      "/var/folders/fv/zc4lh9sn7bnf55fy6jhl0k900000gn/T/ipykernel_5769/344926950.py:43: DeprecationWarning: find_element_by_tag_name is deprecated. Please use find_element(by=By.TAG_NAME, value=name) instead\n",
      "/var/folders/fv/zc4lh9sn7bnf55fy6jhl0k900000gn/T/ipykernel_5769/344926950.py:45: DeprecationWarning: find_elements_by_tag_name is deprecated. Please use find_elements(by=By.TAG_NAME, value=name) instead\n"
     ]
    },
    {
     "name": "stderr",
     "output_type": "stream",
     "text": [
      "/var/folders/fv/zc4lh9sn7bnf55fy6jhl0k900000gn/T/ipykernel_5769/344926950.py:43: DeprecationWarning: find_element_by_tag_name is deprecated. Please use find_element(by=By.TAG_NAME, value=name) instead\n",
      "/var/folders/fv/zc4lh9sn7bnf55fy6jhl0k900000gn/T/ipykernel_5769/344926950.py:45: DeprecationWarning: find_elements_by_tag_name is deprecated. Please use find_elements(by=By.TAG_NAME, value=name) instead\n",
      "/var/folders/fv/zc4lh9sn7bnf55fy6jhl0k900000gn/T/ipykernel_5769/344926950.py:5: DeprecationWarning: executable_path has been deprecated, please pass in a Service object\n",
      "/var/folders/fv/zc4lh9sn7bnf55fy6jhl0k900000gn/T/ipykernel_5769/344926950.py:43: DeprecationWarning: find_element_by_tag_name is deprecated. Please use find_element(by=By.TAG_NAME, value=name) instead\n",
      "/var/folders/fv/zc4lh9sn7bnf55fy6jhl0k900000gn/T/ipykernel_5769/344926950.py:45: DeprecationWarning: find_elements_by_tag_name is deprecated. Please use find_elements(by=By.TAG_NAME, value=name) instead\n",
      "/var/folders/fv/zc4lh9sn7bnf55fy6jhl0k900000gn/T/ipykernel_5769/344926950.py:5: DeprecationWarning: executable_path has been deprecated, please pass in a Service object\n",
      "/var/folders/fv/zc4lh9sn7bnf55fy6jhl0k900000gn/T/ipykernel_5769/344926950.py:5: DeprecationWarning: executable_path has been deprecated, please pass in a Service object\n",
      "/var/folders/fv/zc4lh9sn7bnf55fy6jhl0k900000gn/T/ipykernel_5769/344926950.py:43: DeprecationWarning: find_element_by_tag_name is deprecated. Please use find_element(by=By.TAG_NAME, value=name) instead\n",
      "/var/folders/fv/zc4lh9sn7bnf55fy6jhl0k900000gn/T/ipykernel_5769/344926950.py:45: DeprecationWarning: find_elements_by_tag_name is deprecated. Please use find_elements(by=By.TAG_NAME, value=name) instead\n",
      "/var/folders/fv/zc4lh9sn7bnf55fy6jhl0k900000gn/T/ipykernel_5769/344926950.py:5: DeprecationWarning: executable_path has been deprecated, please pass in a Service object\n",
      "/var/folders/fv/zc4lh9sn7bnf55fy6jhl0k900000gn/T/ipykernel_5769/344926950.py:11: DeprecationWarning: find_element_by_xpath is deprecated. Please use find_element(by=By.XPATH, value=xpath) instead\n",
      "/var/folders/fv/zc4lh9sn7bnf55fy6jhl0k900000gn/T/ipykernel_5769/344926950.py:11: DeprecationWarning: find_element_by_xpath is deprecated. Please use find_element(by=By.XPATH, value=xpath) instead\n",
      "/var/folders/fv/zc4lh9sn7bnf55fy6jhl0k900000gn/T/ipykernel_5769/344926950.py:17: DeprecationWarning: find_element_by_xpath is deprecated. Please use find_element(by=By.XPATH, value=xpath) instead\n",
      "/var/folders/fv/zc4lh9sn7bnf55fy6jhl0k900000gn/T/ipykernel_5769/344926950.py:11: DeprecationWarning: find_element_by_xpath is deprecated. Please use find_element(by=By.XPATH, value=xpath) instead\n",
      "/var/folders/fv/zc4lh9sn7bnf55fy6jhl0k900000gn/T/ipykernel_5769/344926950.py:11: DeprecationWarning: find_element_by_xpath is deprecated. Please use find_element(by=By.XPATH, value=xpath) instead\n",
      "/var/folders/fv/zc4lh9sn7bnf55fy6jhl0k900000gn/T/ipykernel_5769/344926950.py:11: DeprecationWarning: find_element_by_xpath is deprecated. Please use find_element(by=By.XPATH, value=xpath) instead\n",
      "/var/folders/fv/zc4lh9sn7bnf55fy6jhl0k900000gn/T/ipykernel_5769/344926950.py:17: DeprecationWarning: find_element_by_xpath is deprecated. Please use find_element(by=By.XPATH, value=xpath) instead\n",
      "/var/folders/fv/zc4lh9sn7bnf55fy6jhl0k900000gn/T/ipykernel_5769/344926950.py:11: DeprecationWarning: find_element_by_xpath is deprecated. Please use find_element(by=By.XPATH, value=xpath) instead\n",
      "/var/folders/fv/zc4lh9sn7bnf55fy6jhl0k900000gn/T/ipykernel_5769/344926950.py:22: DeprecationWarning: find_element_by_tag_name is deprecated. Please use find_element(by=By.TAG_NAME, value=name) instead\n",
      "/var/folders/fv/zc4lh9sn7bnf55fy6jhl0k900000gn/T/ipykernel_5769/344926950.py:17: DeprecationWarning: find_element_by_xpath is deprecated. Please use find_element(by=By.XPATH, value=xpath) instead\n",
      "/var/folders/fv/zc4lh9sn7bnf55fy6jhl0k900000gn/T/ipykernel_5769/344926950.py:24: DeprecationWarning: find_elements_by_tag_name is deprecated. Please use find_elements(by=By.TAG_NAME, value=name) instead\n",
      "/var/folders/fv/zc4lh9sn7bnf55fy6jhl0k900000gn/T/ipykernel_5769/344926950.py:31: DeprecationWarning: find_elements_by_tag_name is deprecated. Please use find_elements(by=By.TAG_NAME, value=name) instead\n",
      "/var/folders/fv/zc4lh9sn7bnf55fy6jhl0k900000gn/T/ipykernel_5769/344926950.py:17: DeprecationWarning: find_element_by_xpath is deprecated. Please use find_element(by=By.XPATH, value=xpath) instead\n",
      "/var/folders/fv/zc4lh9sn7bnf55fy6jhl0k900000gn/T/ipykernel_5769/344926950.py:17: DeprecationWarning: find_element_by_xpath is deprecated. Please use find_element(by=By.XPATH, value=xpath) instead\n",
      "/var/folders/fv/zc4lh9sn7bnf55fy6jhl0k900000gn/T/ipykernel_5769/344926950.py:17: DeprecationWarning: find_element_by_xpath is deprecated. Please use find_element(by=By.XPATH, value=xpath) instead\n",
      "/var/folders/fv/zc4lh9sn7bnf55fy6jhl0k900000gn/T/ipykernel_5769/344926950.py:22: DeprecationWarning: find_element_by_tag_name is deprecated. Please use find_element(by=By.TAG_NAME, value=name) instead\n",
      "/var/folders/fv/zc4lh9sn7bnf55fy6jhl0k900000gn/T/ipykernel_5769/344926950.py:24: DeprecationWarning: find_elements_by_tag_name is deprecated. Please use find_elements(by=By.TAG_NAME, value=name) instead\n",
      "/var/folders/fv/zc4lh9sn7bnf55fy6jhl0k900000gn/T/ipykernel_5769/344926950.py:31: DeprecationWarning: find_elements_by_tag_name is deprecated. Please use find_elements(by=By.TAG_NAME, value=name) instead\n",
      "/var/folders/fv/zc4lh9sn7bnf55fy6jhl0k900000gn/T/ipykernel_5769/344926950.py:22: DeprecationWarning: find_element_by_tag_name is deprecated. Please use find_element(by=By.TAG_NAME, value=name) instead\n",
      "/var/folders/fv/zc4lh9sn7bnf55fy6jhl0k900000gn/T/ipykernel_5769/344926950.py:43: DeprecationWarning: find_element_by_tag_name is deprecated. Please use find_element(by=By.TAG_NAME, value=name) instead\n",
      "/var/folders/fv/zc4lh9sn7bnf55fy6jhl0k900000gn/T/ipykernel_5769/344926950.py:45: DeprecationWarning: find_elements_by_tag_name is deprecated. Please use find_elements(by=By.TAG_NAME, value=name) instead\n",
      "/var/folders/fv/zc4lh9sn7bnf55fy6jhl0k900000gn/T/ipykernel_5769/344926950.py:24: DeprecationWarning: find_elements_by_tag_name is deprecated. Please use find_elements(by=By.TAG_NAME, value=name) instead\n",
      "/var/folders/fv/zc4lh9sn7bnf55fy6jhl0k900000gn/T/ipykernel_5769/344926950.py:31: DeprecationWarning: find_elements_by_tag_name is deprecated. Please use find_elements(by=By.TAG_NAME, value=name) instead\n",
      "/var/folders/fv/zc4lh9sn7bnf55fy6jhl0k900000gn/T/ipykernel_5769/344926950.py:5: DeprecationWarning: executable_path has been deprecated, please pass in a Service object\n",
      "/var/folders/fv/zc4lh9sn7bnf55fy6jhl0k900000gn/T/ipykernel_5769/344926950.py:22: DeprecationWarning: find_element_by_tag_name is deprecated. Please use find_element(by=By.TAG_NAME, value=name) instead\n",
      "/var/folders/fv/zc4lh9sn7bnf55fy6jhl0k900000gn/T/ipykernel_5769/344926950.py:22: DeprecationWarning: find_element_by_tag_name is deprecated. Please use find_element(by=By.TAG_NAME, value=name) instead\n",
      "/var/folders/fv/zc4lh9sn7bnf55fy6jhl0k900000gn/T/ipykernel_5769/344926950.py:24: DeprecationWarning: find_elements_by_tag_name is deprecated. Please use find_elements(by=By.TAG_NAME, value=name) instead\n",
      "/var/folders/fv/zc4lh9sn7bnf55fy6jhl0k900000gn/T/ipykernel_5769/344926950.py:31: DeprecationWarning: find_elements_by_tag_name is deprecated. Please use find_elements(by=By.TAG_NAME, value=name) instead\n",
      "/var/folders/fv/zc4lh9sn7bnf55fy6jhl0k900000gn/T/ipykernel_5769/344926950.py:24: DeprecationWarning: find_elements_by_tag_name is deprecated. Please use find_elements(by=By.TAG_NAME, value=name) instead\n",
      "/var/folders/fv/zc4lh9sn7bnf55fy6jhl0k900000gn/T/ipykernel_5769/344926950.py:31: DeprecationWarning: find_elements_by_tag_name is deprecated. Please use find_elements(by=By.TAG_NAME, value=name) instead\n",
      "/var/folders/fv/zc4lh9sn7bnf55fy6jhl0k900000gn/T/ipykernel_5769/344926950.py:43: DeprecationWarning: find_element_by_tag_name is deprecated. Please use find_element(by=By.TAG_NAME, value=name) instead\n",
      "/var/folders/fv/zc4lh9sn7bnf55fy6jhl0k900000gn/T/ipykernel_5769/344926950.py:45: DeprecationWarning: find_elements_by_tag_name is deprecated. Please use find_elements(by=By.TAG_NAME, value=name) instead\n"
     ]
    },
    {
     "name": "stderr",
     "output_type": "stream",
     "text": [
      "/var/folders/fv/zc4lh9sn7bnf55fy6jhl0k900000gn/T/ipykernel_5769/344926950.py:5: DeprecationWarning: executable_path has been deprecated, please pass in a Service object\n",
      "/var/folders/fv/zc4lh9sn7bnf55fy6jhl0k900000gn/T/ipykernel_5769/344926950.py:22: DeprecationWarning: find_element_by_tag_name is deprecated. Please use find_element(by=By.TAG_NAME, value=name) instead\n",
      "/var/folders/fv/zc4lh9sn7bnf55fy6jhl0k900000gn/T/ipykernel_5769/344926950.py:24: DeprecationWarning: find_elements_by_tag_name is deprecated. Please use find_elements(by=By.TAG_NAME, value=name) instead\n",
      "/var/folders/fv/zc4lh9sn7bnf55fy6jhl0k900000gn/T/ipykernel_5769/344926950.py:31: DeprecationWarning: find_elements_by_tag_name is deprecated. Please use find_elements(by=By.TAG_NAME, value=name) instead\n",
      "/var/folders/fv/zc4lh9sn7bnf55fy6jhl0k900000gn/T/ipykernel_5769/344926950.py:43: DeprecationWarning: find_element_by_tag_name is deprecated. Please use find_element(by=By.TAG_NAME, value=name) instead\n",
      "/var/folders/fv/zc4lh9sn7bnf55fy6jhl0k900000gn/T/ipykernel_5769/344926950.py:45: DeprecationWarning: find_elements_by_tag_name is deprecated. Please use find_elements(by=By.TAG_NAME, value=name) instead\n",
      "/var/folders/fv/zc4lh9sn7bnf55fy6jhl0k900000gn/T/ipykernel_5769/344926950.py:5: DeprecationWarning: executable_path has been deprecated, please pass in a Service object\n",
      "/var/folders/fv/zc4lh9sn7bnf55fy6jhl0k900000gn/T/ipykernel_5769/344926950.py:43: DeprecationWarning: find_element_by_tag_name is deprecated. Please use find_element(by=By.TAG_NAME, value=name) instead\n",
      "/var/folders/fv/zc4lh9sn7bnf55fy6jhl0k900000gn/T/ipykernel_5769/344926950.py:45: DeprecationWarning: find_elements_by_tag_name is deprecated. Please use find_elements(by=By.TAG_NAME, value=name) instead\n",
      "/var/folders/fv/zc4lh9sn7bnf55fy6jhl0k900000gn/T/ipykernel_5769/344926950.py:5: DeprecationWarning: executable_path has been deprecated, please pass in a Service object\n",
      "/var/folders/fv/zc4lh9sn7bnf55fy6jhl0k900000gn/T/ipykernel_5769/344926950.py:43: DeprecationWarning: find_element_by_tag_name is deprecated. Please use find_element(by=By.TAG_NAME, value=name) instead\n",
      "/var/folders/fv/zc4lh9sn7bnf55fy6jhl0k900000gn/T/ipykernel_5769/344926950.py:45: DeprecationWarning: find_elements_by_tag_name is deprecated. Please use find_elements(by=By.TAG_NAME, value=name) instead\n",
      "/var/folders/fv/zc4lh9sn7bnf55fy6jhl0k900000gn/T/ipykernel_5769/344926950.py:5: DeprecationWarning: executable_path has been deprecated, please pass in a Service object\n",
      "/var/folders/fv/zc4lh9sn7bnf55fy6jhl0k900000gn/T/ipykernel_5769/344926950.py:43: DeprecationWarning: find_element_by_tag_name is deprecated. Please use find_element(by=By.TAG_NAME, value=name) instead\n",
      "/var/folders/fv/zc4lh9sn7bnf55fy6jhl0k900000gn/T/ipykernel_5769/344926950.py:45: DeprecationWarning: find_elements_by_tag_name is deprecated. Please use find_elements(by=By.TAG_NAME, value=name) instead\n",
      "/var/folders/fv/zc4lh9sn7bnf55fy6jhl0k900000gn/T/ipykernel_5769/344926950.py:5: DeprecationWarning: executable_path has been deprecated, please pass in a Service object\n",
      "/var/folders/fv/zc4lh9sn7bnf55fy6jhl0k900000gn/T/ipykernel_5769/344926950.py:11: DeprecationWarning: find_element_by_xpath is deprecated. Please use find_element(by=By.XPATH, value=xpath) instead\n",
      "/var/folders/fv/zc4lh9sn7bnf55fy6jhl0k900000gn/T/ipykernel_5769/344926950.py:11: DeprecationWarning: find_element_by_xpath is deprecated. Please use find_element(by=By.XPATH, value=xpath) instead\n",
      "/var/folders/fv/zc4lh9sn7bnf55fy6jhl0k900000gn/T/ipykernel_5769/344926950.py:17: DeprecationWarning: find_element_by_xpath is deprecated. Please use find_element(by=By.XPATH, value=xpath) instead\n",
      "/var/folders/fv/zc4lh9sn7bnf55fy6jhl0k900000gn/T/ipykernel_5769/344926950.py:11: DeprecationWarning: find_element_by_xpath is deprecated. Please use find_element(by=By.XPATH, value=xpath) instead\n",
      "/var/folders/fv/zc4lh9sn7bnf55fy6jhl0k900000gn/T/ipykernel_5769/344926950.py:11: DeprecationWarning: find_element_by_xpath is deprecated. Please use find_element(by=By.XPATH, value=xpath) instead\n",
      "/var/folders/fv/zc4lh9sn7bnf55fy6jhl0k900000gn/T/ipykernel_5769/344926950.py:11: DeprecationWarning: find_element_by_xpath is deprecated. Please use find_element(by=By.XPATH, value=xpath) instead\n",
      "/var/folders/fv/zc4lh9sn7bnf55fy6jhl0k900000gn/T/ipykernel_5769/344926950.py:17: DeprecationWarning: find_element_by_xpath is deprecated. Please use find_element(by=By.XPATH, value=xpath) instead\n",
      "/var/folders/fv/zc4lh9sn7bnf55fy6jhl0k900000gn/T/ipykernel_5769/344926950.py:22: DeprecationWarning: find_element_by_tag_name is deprecated. Please use find_element(by=By.TAG_NAME, value=name) instead\n",
      "/var/folders/fv/zc4lh9sn7bnf55fy6jhl0k900000gn/T/ipykernel_5769/344926950.py:24: DeprecationWarning: find_elements_by_tag_name is deprecated. Please use find_elements(by=By.TAG_NAME, value=name) instead\n",
      "/var/folders/fv/zc4lh9sn7bnf55fy6jhl0k900000gn/T/ipykernel_5769/344926950.py:31: DeprecationWarning: find_elements_by_tag_name is deprecated. Please use find_elements(by=By.TAG_NAME, value=name) instead\n",
      "/var/folders/fv/zc4lh9sn7bnf55fy6jhl0k900000gn/T/ipykernel_5769/344926950.py:17: DeprecationWarning: find_element_by_xpath is deprecated. Please use find_element(by=By.XPATH, value=xpath) instead\n",
      "/var/folders/fv/zc4lh9sn7bnf55fy6jhl0k900000gn/T/ipykernel_5769/344926950.py:11: DeprecationWarning: find_element_by_xpath is deprecated. Please use find_element(by=By.XPATH, value=xpath) instead\n",
      "/var/folders/fv/zc4lh9sn7bnf55fy6jhl0k900000gn/T/ipykernel_5769/344926950.py:17: DeprecationWarning: find_element_by_xpath is deprecated. Please use find_element(by=By.XPATH, value=xpath) instead\n",
      "/var/folders/fv/zc4lh9sn7bnf55fy6jhl0k900000gn/T/ipykernel_5769/344926950.py:17: DeprecationWarning: find_element_by_xpath is deprecated. Please use find_element(by=By.XPATH, value=xpath) instead\n",
      "/var/folders/fv/zc4lh9sn7bnf55fy6jhl0k900000gn/T/ipykernel_5769/344926950.py:22: DeprecationWarning: find_element_by_tag_name is deprecated. Please use find_element(by=By.TAG_NAME, value=name) instead\n",
      "/var/folders/fv/zc4lh9sn7bnf55fy6jhl0k900000gn/T/ipykernel_5769/344926950.py:24: DeprecationWarning: find_elements_by_tag_name is deprecated. Please use find_elements(by=By.TAG_NAME, value=name) instead\n",
      "/var/folders/fv/zc4lh9sn7bnf55fy6jhl0k900000gn/T/ipykernel_5769/344926950.py:43: DeprecationWarning: find_element_by_tag_name is deprecated. Please use find_element(by=By.TAG_NAME, value=name) instead\n",
      "/var/folders/fv/zc4lh9sn7bnf55fy6jhl0k900000gn/T/ipykernel_5769/344926950.py:31: DeprecationWarning: find_elements_by_tag_name is deprecated. Please use find_elements(by=By.TAG_NAME, value=name) instead\n",
      "/var/folders/fv/zc4lh9sn7bnf55fy6jhl0k900000gn/T/ipykernel_5769/344926950.py:45: DeprecationWarning: find_elements_by_tag_name is deprecated. Please use find_elements(by=By.TAG_NAME, value=name) instead\n",
      "/var/folders/fv/zc4lh9sn7bnf55fy6jhl0k900000gn/T/ipykernel_5769/344926950.py:22: DeprecationWarning: find_element_by_tag_name is deprecated. Please use find_element(by=By.TAG_NAME, value=name) instead\n",
      "/var/folders/fv/zc4lh9sn7bnf55fy6jhl0k900000gn/T/ipykernel_5769/344926950.py:24: DeprecationWarning: find_elements_by_tag_name is deprecated. Please use find_elements(by=By.TAG_NAME, value=name) instead\n",
      "/var/folders/fv/zc4lh9sn7bnf55fy6jhl0k900000gn/T/ipykernel_5769/344926950.py:31: DeprecationWarning: find_elements_by_tag_name is deprecated. Please use find_elements(by=By.TAG_NAME, value=name) instead\n",
      "/var/folders/fv/zc4lh9sn7bnf55fy6jhl0k900000gn/T/ipykernel_5769/344926950.py:17: DeprecationWarning: find_element_by_xpath is deprecated. Please use find_element(by=By.XPATH, value=xpath) instead\n",
      "/var/folders/fv/zc4lh9sn7bnf55fy6jhl0k900000gn/T/ipykernel_5769/344926950.py:22: DeprecationWarning: find_element_by_tag_name is deprecated. Please use find_element(by=By.TAG_NAME, value=name) instead\n",
      "/var/folders/fv/zc4lh9sn7bnf55fy6jhl0k900000gn/T/ipykernel_5769/344926950.py:24: DeprecationWarning: find_elements_by_tag_name is deprecated. Please use find_elements(by=By.TAG_NAME, value=name) instead\n",
      "/var/folders/fv/zc4lh9sn7bnf55fy6jhl0k900000gn/T/ipykernel_5769/344926950.py:31: DeprecationWarning: find_elements_by_tag_name is deprecated. Please use find_elements(by=By.TAG_NAME, value=name) instead\n",
      "/var/folders/fv/zc4lh9sn7bnf55fy6jhl0k900000gn/T/ipykernel_5769/344926950.py:43: DeprecationWarning: find_element_by_tag_name is deprecated. Please use find_element(by=By.TAG_NAME, value=name) instead\n",
      "/var/folders/fv/zc4lh9sn7bnf55fy6jhl0k900000gn/T/ipykernel_5769/344926950.py:45: DeprecationWarning: find_elements_by_tag_name is deprecated. Please use find_elements(by=By.TAG_NAME, value=name) instead\n",
      "/var/folders/fv/zc4lh9sn7bnf55fy6jhl0k900000gn/T/ipykernel_5769/344926950.py:22: DeprecationWarning: find_element_by_tag_name is deprecated. Please use find_element(by=By.TAG_NAME, value=name) instead\n"
     ]
    },
    {
     "name": "stderr",
     "output_type": "stream",
     "text": [
      "/var/folders/fv/zc4lh9sn7bnf55fy6jhl0k900000gn/T/ipykernel_5769/344926950.py:24: DeprecationWarning: find_elements_by_tag_name is deprecated. Please use find_elements(by=By.TAG_NAME, value=name) instead\n",
      "/var/folders/fv/zc4lh9sn7bnf55fy6jhl0k900000gn/T/ipykernel_5769/344926950.py:31: DeprecationWarning: find_elements_by_tag_name is deprecated. Please use find_elements(by=By.TAG_NAME, value=name) instead\n",
      "/var/folders/fv/zc4lh9sn7bnf55fy6jhl0k900000gn/T/ipykernel_5769/344926950.py:43: DeprecationWarning: find_element_by_tag_name is deprecated. Please use find_element(by=By.TAG_NAME, value=name) instead\n",
      "/var/folders/fv/zc4lh9sn7bnf55fy6jhl0k900000gn/T/ipykernel_5769/344926950.py:45: DeprecationWarning: find_elements_by_tag_name is deprecated. Please use find_elements(by=By.TAG_NAME, value=name) instead\n",
      "/var/folders/fv/zc4lh9sn7bnf55fy6jhl0k900000gn/T/ipykernel_5769/344926950.py:43: DeprecationWarning: find_element_by_tag_name is deprecated. Please use find_element(by=By.TAG_NAME, value=name) instead\n",
      "/var/folders/fv/zc4lh9sn7bnf55fy6jhl0k900000gn/T/ipykernel_5769/344926950.py:45: DeprecationWarning: find_elements_by_tag_name is deprecated. Please use find_elements(by=By.TAG_NAME, value=name) instead\n",
      "/var/folders/fv/zc4lh9sn7bnf55fy6jhl0k900000gn/T/ipykernel_5769/344926950.py:43: DeprecationWarning: find_element_by_tag_name is deprecated. Please use find_element(by=By.TAG_NAME, value=name) instead\n",
      "/var/folders/fv/zc4lh9sn7bnf55fy6jhl0k900000gn/T/ipykernel_5769/344926950.py:45: DeprecationWarning: find_elements_by_tag_name is deprecated. Please use find_elements(by=By.TAG_NAME, value=name) instead\n",
      "/var/folders/fv/zc4lh9sn7bnf55fy6jhl0k900000gn/T/ipykernel_5769/344926950.py:22: DeprecationWarning: find_element_by_tag_name is deprecated. Please use find_element(by=By.TAG_NAME, value=name) instead\n",
      "/var/folders/fv/zc4lh9sn7bnf55fy6jhl0k900000gn/T/ipykernel_5769/344926950.py:24: DeprecationWarning: find_elements_by_tag_name is deprecated. Please use find_elements(by=By.TAG_NAME, value=name) instead\n",
      "/var/folders/fv/zc4lh9sn7bnf55fy6jhl0k900000gn/T/ipykernel_5769/344926950.py:31: DeprecationWarning: find_elements_by_tag_name is deprecated. Please use find_elements(by=By.TAG_NAME, value=name) instead\n"
     ]
    },
    {
     "name": "stdout",
     "output_type": "stream",
     "text": [
      "CPU times: user 98.1 ms, sys: 38.2 ms, total: 136 ms\n",
      "Wall time: 48.9 s\n"
     ]
    },
    {
     "name": "stderr",
     "output_type": "stream",
     "text": [
      "/var/folders/fv/zc4lh9sn7bnf55fy6jhl0k900000gn/T/ipykernel_5769/344926950.py:43: DeprecationWarning: find_element_by_tag_name is deprecated. Please use find_element(by=By.TAG_NAME, value=name) instead\n",
      "/var/folders/fv/zc4lh9sn7bnf55fy6jhl0k900000gn/T/ipykernel_5769/344926950.py:45: DeprecationWarning: find_elements_by_tag_name is deprecated. Please use find_elements(by=By.TAG_NAME, value=name) instead\n",
      "[Parallel(n_jobs=6)]: Done  18 out of  18 | elapsed:   48.9s finished\n"
     ]
    }
   ],
   "source": [
    "%%time\n",
    "\n",
    "lst_df=Parallel(n_jobs=6, verbose=True)(delayed(extraer)(url) for url in equipos_stats_urls)"
   ]
  },
  {
   "cell_type": "code",
   "execution_count": 25,
   "metadata": {},
   "outputs": [
    {
     "data": {
      "text/plain": [
       "18"
      ]
     },
     "execution_count": 25,
     "metadata": {},
     "output_type": "execute_result"
    }
   ],
   "source": [
    "len(lst_df)"
   ]
  },
  {
   "cell_type": "code",
   "execution_count": 26,
   "metadata": {},
   "outputs": [
    {
     "data": {
      "text/plain": [
       "18"
      ]
     },
     "execution_count": 26,
     "metadata": {},
     "output_type": "execute_result"
    }
   ],
   "source": [
    "len(equipos_stats_urls)"
   ]
  },
  {
   "cell_type": "code",
   "execution_count": 27,
   "metadata": {},
   "outputs": [
    {
     "data": {
      "text/html": [
       "<div>\n",
       "<style scoped>\n",
       "    .dataframe tbody tr th:only-of-type {\n",
       "        vertical-align: middle;\n",
       "    }\n",
       "\n",
       "    .dataframe tbody tr th {\n",
       "        vertical-align: top;\n",
       "    }\n",
       "\n",
       "    .dataframe thead th {\n",
       "        text-align: right;\n",
       "    }\n",
       "</style>\n",
       "<table border=\"1\" class=\"dataframe\">\n",
       "  <thead>\n",
       "    <tr style=\"text-align: right;\">\n",
       "      <th></th>\n",
       "      <th>RK</th>\n",
       "      <th>NAME</th>\n",
       "      <th>P</th>\n",
       "      <th>YC</th>\n",
       "      <th>RC</th>\n",
       "      <th>PTS</th>\n",
       "      <th>TEAM</th>\n",
       "    </tr>\n",
       "  </thead>\n",
       "  <tbody>\n",
       "    <tr>\n",
       "      <th>0</th>\n",
       "      <td>1</td>\n",
       "      <td>Robin Knoche</td>\n",
       "      <td>4</td>\n",
       "      <td>1</td>\n",
       "      <td>0</td>\n",
       "      <td>1</td>\n",
       "      <td>1-fc-union-berlin</td>\n",
       "    </tr>\n",
       "    <tr>\n",
       "      <th>1</th>\n",
       "      <td></td>\n",
       "      <td>Frederik Ronnow</td>\n",
       "      <td>4</td>\n",
       "      <td>1</td>\n",
       "      <td>0</td>\n",
       "      <td>1</td>\n",
       "      <td>1-fc-union-berlin</td>\n",
       "    </tr>\n",
       "    <tr>\n",
       "      <th>2</th>\n",
       "      <td>3</td>\n",
       "      <td>Sheraldo Becker</td>\n",
       "      <td>4</td>\n",
       "      <td>0</td>\n",
       "      <td>0</td>\n",
       "      <td>0</td>\n",
       "      <td>1-fc-union-berlin</td>\n",
       "    </tr>\n",
       "    <tr>\n",
       "      <th>3</th>\n",
       "      <td></td>\n",
       "      <td>András Schäfer</td>\n",
       "      <td>3</td>\n",
       "      <td>0</td>\n",
       "      <td>0</td>\n",
       "      <td>0</td>\n",
       "      <td>1-fc-union-berlin</td>\n",
       "    </tr>\n",
       "    <tr>\n",
       "      <th>4</th>\n",
       "      <td></td>\n",
       "      <td>Milos Pantovic</td>\n",
       "      <td>2</td>\n",
       "      <td>0</td>\n",
       "      <td>0</td>\n",
       "      <td>0</td>\n",
       "      <td>1-fc-union-berlin</td>\n",
       "    </tr>\n",
       "  </tbody>\n",
       "</table>\n",
       "</div>"
      ],
      "text/plain": [
       "  RK             NAME  P YC RC PTS               TEAM\n",
       "0  1     Robin Knoche  4  1  0   1  1-fc-union-berlin\n",
       "1     Frederik Ronnow  4  1  0   1  1-fc-union-berlin\n",
       "2  3  Sheraldo Becker  4  0  0   0  1-fc-union-berlin\n",
       "3      András Schäfer  3  0  0   0  1-fc-union-berlin\n",
       "4      Milos Pantovic  2  0  0   0  1-fc-union-berlin"
      ]
     },
     "execution_count": 27,
     "metadata": {},
     "output_type": "execute_result"
    }
   ],
   "source": [
    "lst_df[0].head()"
   ]
  },
  {
   "cell_type": "markdown",
   "metadata": {},
   "source": [
    "**Tip:** https://pypi.org/project/tqdm/"
   ]
  },
  {
   "cell_type": "code",
   "execution_count": 28,
   "metadata": {},
   "outputs": [
    {
     "name": "stdout",
     "output_type": "stream",
     "text": [
      "Requirement already satisfied: tqdm in /Users/iudh/miniforge3/envs/clase/lib/python3.9/site-packages (4.63.1)\n",
      "Note: you may need to restart the kernel to use updated packages.\n"
     ]
    }
   ],
   "source": [
    "%pip install tqdm"
   ]
  },
  {
   "cell_type": "code",
   "execution_count": 29,
   "metadata": {},
   "outputs": [],
   "source": [
    "from tqdm.notebook import tqdm    # from tqdm import tqdm   # para .py"
   ]
  },
  {
   "cell_type": "code",
   "execution_count": 31,
   "metadata": {},
   "outputs": [
    {
     "name": "stdout",
     "output_type": "stream",
     "text": [
      "1\n",
      "529\n",
      "2025\n",
      "4225\n",
      "45941284\n",
      "76667536\n",
      "1024\n",
      "2025\n",
      "4489\n",
      "7921\n",
      "9801\n",
      "99800100\n"
     ]
    }
   ],
   "source": [
    "lst=[1, 23, 45, 65, 6778, 8756, 32, 45, 67, 89, 99, 9990]\n",
    "\n",
    "for e in lst:\n",
    "    print(e**2)"
   ]
  },
  {
   "cell_type": "code",
   "execution_count": 32,
   "metadata": {
    "scrolled": false
   },
   "outputs": [
    {
     "data": {
      "application/vnd.jupyter.widget-view+json": {
       "model_id": "b2630834be9044e8b1c0b5bc02a91e7c",
       "version_major": 2,
       "version_minor": 0
      },
      "text/plain": [
       "  0%|          | 0/12 [00:00<?, ?it/s]"
      ]
     },
     "metadata": {},
     "output_type": "display_data"
    },
    {
     "name": "stdout",
     "output_type": "stream",
     "text": [
      "1\n",
      "529\n",
      "2025\n",
      "4225\n",
      "45941284\n",
      "76667536\n",
      "1024\n",
      "2025\n",
      "4489\n",
      "7921\n",
      "9801\n",
      "99800100\n"
     ]
    }
   ],
   "source": [
    "for e in tqdm(lst):\n",
    "    print(e**2)"
   ]
  },
  {
   "cell_type": "code",
   "execution_count": 33,
   "metadata": {},
   "outputs": [
    {
     "data": {
      "application/vnd.jupyter.widget-view+json": {
       "model_id": "347c542c4c6041a1ab4b706b70019bba",
       "version_major": 2,
       "version_minor": 0
      },
      "text/plain": [
       "  0%|          | 0/1000000 [00:00<?, ?it/s]"
      ]
     },
     "metadata": {},
     "output_type": "display_data"
    },
    {
     "name": "stderr",
     "output_type": "stream",
     "text": [
      "[Parallel(n_jobs=6)]: Using backend LokyBackend with 6 concurrent workers.\n",
      "[Parallel(n_jobs=6)]: Done 100 tasks      | elapsed:    0.0s\n",
      "[Parallel(n_jobs=6)]: Done 524276 tasks      | elapsed:    2.7s\n"
     ]
    },
    {
     "name": "stdout",
     "output_type": "stream",
     "text": [
      "CPU times: user 3.24 s, sys: 309 ms, total: 3.54 s\n",
      "Wall time: 3.53 s\n"
     ]
    },
    {
     "name": "stderr",
     "output_type": "stream",
     "text": [
      "[Parallel(n_jobs=6)]: Done 1000000 out of 1000000 | elapsed:    3.5s finished\n"
     ]
    },
    {
     "data": {
      "text/plain": [
       "[0.0, 1.0, 2.0, 3.0, 4.0, 5.0, 6.0, 7.0, 8.0, 9.0]"
      ]
     },
     "execution_count": 33,
     "metadata": {},
     "output_type": "execute_result"
    }
   ],
   "source": [
    "%%time\n",
    "\n",
    "funcion=lambda x: x**0.5   # raiz cuadrada\n",
    "\n",
    "lst=Parallel(n_jobs=6, verbose=True)(delayed(funcion)(i**2) for i in tqdm(range(1000000)))\n",
    "\n",
    "lst[:10]"
   ]
  },
  {
   "cell_type": "code",
   "execution_count": null,
   "metadata": {},
   "outputs": [],
   "source": []
  }
 ],
 "metadata": {
  "kernelspec": {
   "display_name": "clase",
   "language": "python",
   "name": "clase"
  },
  "language_info": {
   "codemirror_mode": {
    "name": "ipython",
    "version": 3
   },
   "file_extension": ".py",
   "mimetype": "text/x-python",
   "name": "python",
   "nbconvert_exporter": "python",
   "pygments_lexer": "ipython3",
   "version": "3.9.7"
  },
  "varInspector": {
   "cols": {
    "lenName": 16,
    "lenType": 16,
    "lenVar": 40
   },
   "kernels_config": {
    "python": {
     "delete_cmd_postfix": "",
     "delete_cmd_prefix": "del ",
     "library": "var_list.py",
     "varRefreshCmd": "print(var_dic_list())"
    },
    "r": {
     "delete_cmd_postfix": ") ",
     "delete_cmd_prefix": "rm(",
     "library": "var_list.r",
     "varRefreshCmd": "cat(var_dic_list()) "
    }
   },
   "types_to_exclude": [
    "module",
    "function",
    "builtin_function_or_method",
    "instance",
    "_Feature"
   ],
   "window_display": false
  }
 },
 "nbformat": 4,
 "nbformat_minor": 4
}
