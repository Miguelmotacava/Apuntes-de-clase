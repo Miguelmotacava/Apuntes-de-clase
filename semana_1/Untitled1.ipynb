{
 "cells": [
  {
   "cell_type": "code",
   "execution_count": 3,
   "id": "4af9db03",
   "metadata": {},
   "outputs": [],
   "source": [
    "def c(n):\n",
    "    lst=[]\n",
    "    for i in range(0,2*n,2):\n",
    "        lst.append(i)\n",
    "    return lst[n-1]\n"
   ]
  },
  {
   "cell_type": "code",
   "execution_count": 4,
   "id": "4be866b5",
   "metadata": {},
   "outputs": [
    {
     "data": {
      "text/plain": [
       "1082206442"
      ]
     },
     "execution_count": 4,
     "metadata": {},
     "output_type": "execute_result"
    }
   ],
   "source": [
    "c(541103222)"
   ]
  },
  {
   "cell_type": "code",
   "execution_count": 5,
   "id": "0fc21e29",
   "metadata": {},
   "outputs": [],
   "source": [
    "def d(n):\n",
    "    return 2*(n-1)"
   ]
  },
  {
   "cell_type": "code",
   "execution_count": 6,
   "id": "d6cfd3eb",
   "metadata": {},
   "outputs": [
    {
     "data": {
      "text/plain": [
       "0"
      ]
     },
     "execution_count": 6,
     "metadata": {},
     "output_type": "execute_result"
    }
   ],
   "source": [
    "d(1)"
   ]
  },
  {
   "cell_type": "code",
   "execution_count": 7,
   "id": "3574697a",
   "metadata": {},
   "outputs": [
    {
     "data": {
      "text/plain": [
       "2"
      ]
     },
     "execution_count": 7,
     "metadata": {},
     "output_type": "execute_result"
    }
   ],
   "source": [
    "d(2)"
   ]
  },
  {
   "cell_type": "code",
   "execution_count": 8,
   "id": "d648fa74",
   "metadata": {},
   "outputs": [
    {
     "data": {
      "text/plain": [
       "4"
      ]
     },
     "execution_count": 8,
     "metadata": {},
     "output_type": "execute_result"
    }
   ],
   "source": [
    "d(3)"
   ]
  },
  {
   "cell_type": "code",
   "execution_count": 9,
   "id": "5cba2520",
   "metadata": {},
   "outputs": [
    {
     "data": {
      "text/plain": [
       "6"
      ]
     },
     "execution_count": 9,
     "metadata": {},
     "output_type": "execute_result"
    }
   ],
   "source": []
  },
  {
   "cell_type": "code",
   "execution_count": 10,
   "id": "a1d3f886",
   "metadata": {},
   "outputs": [],
   "source": [
    "x=\"12344\"\n"
   ]
  },
  {
   "cell_type": "code",
   "execution_count": 14,
   "id": "2c810d38",
   "metadata": {},
   "outputs": [],
   "source": [
    "a=str(x.find(\"1\"))"
   ]
  },
  {
   "cell_type": "code",
   "execution_count": 15,
   "id": "18eaea9f",
   "metadata": {},
   "outputs": [
    {
     "data": {
      "text/plain": [
       "'12344'"
      ]
     },
     "execution_count": 15,
     "metadata": {},
     "output_type": "execute_result"
    }
   ],
   "source": [
    "x.replace(a,\"X\")"
   ]
  },
  {
   "cell_type": "code",
   "execution_count": 37,
   "id": "5a3eab87",
   "metadata": {},
   "outputs": [
    {
     "name": "stdout",
     "output_type": "stream",
     "text": [
      "['1', '2', '3', '4', '5', '6', '7', '8', '9']\n"
     ]
    }
   ],
   "source": [
    "x=\"123456789\"\n",
    "x=list(x)\n",
    "print(x)"
   ]
  },
  {
   "cell_type": "code",
   "execution_count": null,
   "id": "dc8fa8ac",
   "metadata": {},
   "outputs": [],
   "source": []
  },
  {
   "cell_type": "code",
   "execution_count": null,
   "id": "4c647a4f",
   "metadata": {},
   "outputs": [],
   "source": []
  },
  {
   "cell_type": "code",
   "execution_count": 46,
   "id": "c8457cca",
   "metadata": {},
   "outputs": [
    {
     "data": {
      "text/plain": [
       "9"
      ]
     },
     "execution_count": 46,
     "metadata": {},
     "output_type": "execute_result"
    }
   ],
   "source": [
    "\n",
    "lst=[]\n",
    "w=\"\"\n",
    "for i in x:\n",
    "    if int(i)<5:\n",
    "        i=\"0\"\n",
    "        lst.append(i)\n",
    "    else:\n",
    "        i=\"1\"\n",
    "        lst.append(i)\n",
    "for i in lst:\n",
    "    w= w+ str(i)\n",
    "len(w)    \n"
   ]
  },
  {
   "cell_type": "code",
   "execution_count": 1,
   "id": "dd03de70",
   "metadata": {},
   "outputs": [
    {
     "data": {
      "text/plain": [
       "101000111101101"
      ]
     },
     "execution_count": 1,
     "metadata": {},
     "output_type": "execute_result"
    }
   ],
   "source": [
    "10100011101101\n",
    "101000111101101"
   ]
  },
  {
   "cell_type": "code",
   "execution_count": null,
   "id": "a49d6973",
   "metadata": {},
   "outputs": [],
   "source": []
  },
  {
   "cell_type": "code",
   "execution_count": null,
   "id": "11679ba7",
   "metadata": {},
   "outputs": [],
   "source": []
  },
  {
   "cell_type": "code",
   "execution_count": 2,
   "id": "1014b084",
   "metadata": {},
   "outputs": [],
   "source": [
    "def factorial(n):\n",
    "    fct = 1\n",
    "    for i in range(1,n):\n",
    "        fct = fct*i \n",
    "    return fct\n"
   ]
  },
  {
   "cell_type": "code",
   "execution_count": 3,
   "id": "8bb2ceb3",
   "metadata": {},
   "outputs": [
    {
     "data": {
      "text/plain": [
       "1"
      ]
     },
     "execution_count": 3,
     "metadata": {},
     "output_type": "execute_result"
    }
   ],
   "source": [
    "factorial(2)"
   ]
  },
  {
   "cell_type": "code",
   "execution_count": 32,
   "id": "6defe09d",
   "metadata": {},
   "outputs": [],
   "source": [
    "def u(arr):\n",
    "    uni = []\n",
    "    for i in arr:\n",
    "        if i not in arr:\n",
    "            uni.append(i)\n",
    "    return uni"
   ]
  },
  {
   "cell_type": "code",
   "execution_count": 165,
   "id": "c94941ff",
   "metadata": {},
   "outputs": [],
   "source": [
    "a=[1, 2, 3, 1, 9, 9, 4, 4, 4, 7, 7, 7, 8, 8, 8]"
   ]
  },
  {
   "cell_type": "code",
   "execution_count": 166,
   "id": "39f09ffa",
   "metadata": {},
   "outputs": [],
   "source": [
    "def m(arr):\n",
    "    d = {}\n",
    "    fm = 0\n",
    "    nmr = a[0]\n",
    "    for i in arr:\n",
    "        if i not in d:\n",
    "            d[i]=1\n",
    "        else:\n",
    "            d[i] += 1\n",
    "    for i in d:\n",
    "        if d[i] > fm:\n",
    "            nmr = i\n",
    "            fm = d[i]\n",
    "        \n",
    "    return nmr"
   ]
  },
  {
   "cell_type": "code",
   "execution_count": null,
   "id": "9cfe1ff5",
   "metadata": {},
   "outputs": [],
   "source": []
  },
  {
   "cell_type": "code",
   "execution_count": 167,
   "id": "bcb3025a",
   "metadata": {},
   "outputs": [
    {
     "name": "stdout",
     "output_type": "stream",
     "text": [
      "1\n",
      "2\n",
      "3\n",
      "9\n",
      "4\n",
      "7\n",
      "8\n"
     ]
    },
    {
     "data": {
      "text/plain": [
       "4"
      ]
     },
     "execution_count": 167,
     "metadata": {},
     "output_type": "execute_result"
    }
   ],
   "source": [
    "m(a)"
   ]
  },
  {
   "cell_type": "code",
   "execution_count": 173,
   "id": "cd4542af",
   "metadata": {},
   "outputs": [],
   "source": [
    "def st(arr):\n",
    "    N = 0\n",
    "    #N total\n",
    "    for i in arr:\n",
    "        N = N + 1\n",
    "    #media\n",
    "    s = 0\n",
    "    for j in arr:\n",
    "        s = s + j\n",
    "    med = s/N\n",
    "    print(med)\n",
    "    \n",
    "    #varianza\n",
    "    numerador = 0\n",
    "    denominador = 0\n",
    "    for i in range(N):\n",
    "        numerador = (arr[i]-med)*(arr[i]-med)\n",
    "    denominador = N\n",
    "    \n",
    "    #desviacion\n",
    "    \n",
    "    des=(numerador/denominador)**0.5\n",
    "    return des\n",
    "    \n",
    "    "
   ]
  },
  {
   "cell_type": "code",
   "execution_count": 174,
   "id": "c5647d3a",
   "metadata": {},
   "outputs": [],
   "source": [
    "b=[5, 5, 5, 5, 5, 5, 5, 5, 5, 5, 5, 5, 5, 5, 5, 5, 5, 5, 5]"
   ]
  },
  {
   "cell_type": "code",
   "execution_count": 175,
   "id": "afdccaec",
   "metadata": {},
   "outputs": [
    {
     "name": "stdout",
     "output_type": "stream",
     "text": [
      "5.0\n"
     ]
    },
    {
     "data": {
      "text/plain": [
       "0.0"
      ]
     },
     "execution_count": 175,
     "metadata": {},
     "output_type": "execute_result"
    }
   ],
   "source": [
    "st(b)"
   ]
  },
  {
   "cell_type": "code",
   "execution_count": null,
   "id": "d716b867",
   "metadata": {},
   "outputs": [],
   "source": []
  }
 ],
 "metadata": {
  "kernelspec": {
   "display_name": "Python 3 (ipykernel)",
   "language": "python",
   "name": "python3"
  },
  "language_info": {
   "codemirror_mode": {
    "name": "ipython",
    "version": 3
   },
   "file_extension": ".py",
   "mimetype": "text/x-python",
   "name": "python",
   "nbconvert_exporter": "python",
   "pygments_lexer": "ipython3",
   "version": "3.9.12"
  }
 },
 "nbformat": 4,
 "nbformat_minor": 5
}
