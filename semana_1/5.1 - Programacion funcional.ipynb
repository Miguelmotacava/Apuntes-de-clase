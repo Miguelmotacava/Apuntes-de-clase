{
 "cells": [
  {
   "cell_type": "markdown",
   "metadata": {},
   "source": [
    "# 5.1 - Programación funcional"
   ]
  },
  {
   "cell_type": "markdown",
   "metadata": {},
   "source": [
    "### Filosofía de la programación funcional\n",
    "\n",
    "- Abstracción: una función podría funcionar como una caja negra, donde nosotros no comprendemos su funcionamiento interno, pero somos capaces de usarla y trabajar con su resultado.\n",
    "\n",
    "- Modularización: las funciones tienen un objetivo específico, realizan una acción, para luego poder construir un proceso completo con varias funciones, varios pasos dentro del mismo. \n",
    "\n",
    "- Reusabilidad: las funciones pueden ser utilizadas cuantas veces sea necesario, son módulos independientes.\n",
    "\n",
    "\n",
    "En la programación funcional se hace la distinción entre datos y comportamiento, esto quiere decir que los programas tienen dos partes separadas, las acciones y los datos, funciones que se ejecutan con o sobre los datos. Esto hace que los datos sean inmutables en la programación funcional, a no ser que sean sobreescrito a propósito."
   ]
  },
  {
   "cell_type": "code",
   "execution_count": 1,
   "metadata": {},
   "outputs": [],
   "source": [
    "data = [60, 55, 45.5, 25.3]"
   ]
  },
  {
   "cell_type": "code",
   "execution_count": 2,
   "metadata": {},
   "outputs": [],
   "source": [
    "def sumar(a,b):\n",
    "    return a+b"
   ]
  },
  {
   "cell_type": "code",
   "execution_count": 3,
   "metadata": {},
   "outputs": [],
   "source": [
    "def multiplicar(a,b):\n",
    "    return a*b"
   ]
  },
  {
   "cell_type": "code",
   "execution_count": 4,
   "metadata": {},
   "outputs": [],
   "source": [
    "def restar (a,b):\n",
    "    return a-b"
   ]
  },
  {
   "cell_type": "code",
   "execution_count": 5,
   "metadata": {},
   "outputs": [],
   "source": [
    "def dividir (a,b):\n",
    "    return a/b"
   ]
  },
  {
   "cell_type": "code",
   "execution_count": 6,
   "metadata": {},
   "outputs": [],
   "source": [
    "def comprar_entradas(precio):\n",
    "    \n",
    "    precio_gastos = sumar(precio, 5.5) # gastos de gestion\n",
    "    \n",
    "    desc = dividir(precio,10)\n",
    "    \n",
    "    precio_descuento = restar(precio, desc)\n",
    "    \n",
    "    tax = multiplicar(precio_descuento, 0.21)\n",
    "    \n",
    "    ret = multiplicar(precio_descuento, 0.15)\n",
    "    \n",
    "    precio_total = precio_descuento + tax + ret\n",
    "    \n",
    "    return precio_total"
   ]
  },
  {
   "cell_type": "code",
   "execution_count": 7,
   "metadata": {},
   "outputs": [
    {
     "data": {
      "text/plain": [
       "73.44"
      ]
     },
     "execution_count": 7,
     "metadata": {},
     "output_type": "execute_result"
    }
   ],
   "source": [
    "comprar_entradas(data[0])"
   ]
  },
  {
   "cell_type": "code",
   "execution_count": 8,
   "metadata": {},
   "outputs": [
    {
     "name": "stdout",
     "output_type": "stream",
     "text": [
      "73.44\n",
      "67.32\n",
      "55.692\n",
      "30.9672\n"
     ]
    },
    {
     "data": {
      "text/plain": [
       "227.4192"
      ]
     },
     "execution_count": 8,
     "metadata": {},
     "output_type": "execute_result"
    }
   ],
   "source": [
    "ruina_total = 0\n",
    "for e in data:\n",
    "    print(comprar_entradas(e))\n",
    "    ruina_total += comprar_entradas(e)\n",
    "\n",
    "ruina_total"
   ]
  },
  {
   "cell_type": "code",
   "execution_count": 9,
   "metadata": {},
   "outputs": [],
   "source": [
    "data_2 = [(60, 10), (55, 10), (45.5, 3), (25.3, 15)]"
   ]
  },
  {
   "cell_type": "code",
   "execution_count": 10,
   "metadata": {},
   "outputs": [],
   "source": [
    "def comprar_entradas_con_descuento(datos: tuple) -> float:\n",
    "    \n",
    "    precio = datos[0]\n",
    "    \n",
    "    precio_gastos = sumar(precio, 5.5) # gastos de gestion\n",
    "    \n",
    "    desc = dividir(datos[1],100)\n",
    "    \n",
    "    descuento = multiplicar(precio, desc)\n",
    "    \n",
    "    precio_descuento = restar(precio, descuento)\n",
    "    \n",
    "    tax = multiplicar(precio_descuento, 0.21)\n",
    "    \n",
    "    ret = multiplicar(precio_descuento, 0.15)\n",
    "    \n",
    "    precio_total = precio_descuento + tax + ret\n",
    "    \n",
    "    return precio_total"
   ]
  },
  {
   "cell_type": "code",
   "execution_count": 11,
   "metadata": {},
   "outputs": [
    {
     "data": {
      "text/plain": [
       "73.44"
      ]
     },
     "execution_count": 11,
     "metadata": {},
     "output_type": "execute_result"
    }
   ],
   "source": [
    "comprar_entradas_con_descuento(data_2[0])"
   ]
  },
  {
   "cell_type": "code",
   "execution_count": 12,
   "metadata": {},
   "outputs": [
    {
     "name": "stdout",
     "output_type": "stream",
     "text": [
      "73.44\n",
      "67.32\n",
      "60.023599999999995\n",
      "29.246800000000004\n"
     ]
    },
    {
     "data": {
      "text/plain": [
       "230.0304"
      ]
     },
     "execution_count": 12,
     "metadata": {},
     "output_type": "execute_result"
    }
   ],
   "source": [
    "ruina_total = 0\n",
    "for e in data_2:\n",
    "    print(comprar_entradas_con_descuento(e))\n",
    "    ruina_total += comprar_entradas_con_descuento(e)\n",
    "\n",
    "ruina_total"
   ]
  },
  {
   "cell_type": "markdown",
   "metadata": {},
   "source": [
    "### Recursión \n",
    "- Cuando una función se llama a si misma\n",
    "- Permite continuar un bucle hasta que complete cierto proceso\n",
    "- **Cuidado** con la recursión infinita"
   ]
  },
  {
   "cell_type": "markdown",
   "metadata": {},
   "source": [
    "##### Función de Ackermann\n",
    "\n",
    "Debido a su definición, profundamente recursiva, la función de Ackermann se utiliza con frecuencia para comparar compiladores en cuanto a su habilidad para optimizar la recursión. [ver wikipedia](https://es.wikipedia.org/wiki/Funci%C3%B3n_de_Ackermann)\n",
    "\n",
    "\n",
    "$$\n",
    "   \\begin{equation}\n",
    "     \\label{eq:ackermann}\n",
    "     A(m,n) = \\left\\{\n",
    "\t       \\begin{array}{}\n",
    "\t\t n + 1   & \\mathrm{si\\ } m = 0 \\\\\n",
    "\t\t A(m-1,1)  & \\mathrm{si\\ } m \\gt 0 ; n = 0 \\\\\n",
    "\t\t A(m-1,A(m,n-1))  & \\mathrm{si\\ }  m \\gt 0 ; n \\gt 0\n",
    "\t       \\end{array}\n",
    "\t     \\right.\n",
    "   \\end{equation}$$\n",
    "   \n",
    "   \n",
    "[otro ejemplo](https://www.ugr.es/~eaznar/funcion_ackermann.htm)"
   ]
  },
  {
   "cell_type": "code",
   "execution_count": 13,
   "metadata": {},
   "outputs": [],
   "source": [
    "def ackermann(m, n):\n",
    "    \n",
    "    if m == 0:  return n + 1\n",
    "    \n",
    "    elif m > 0 and n == 0 : return ackermann(m-1, 1)\n",
    "    \n",
    "    elif m > 0 and n > 0 : return ackermann(m-1, ackermann(m, n-1)) "
   ]
  },
  {
   "cell_type": "code",
   "execution_count": 14,
   "metadata": {},
   "outputs": [
    {
     "data": {
      "text/plain": [
       "6"
      ]
     },
     "execution_count": 14,
     "metadata": {},
     "output_type": "execute_result"
    }
   ],
   "source": [
    "ackermann(0 , 5)"
   ]
  },
  {
   "cell_type": "code",
   "execution_count": 15,
   "metadata": {},
   "outputs": [
    {
     "data": {
      "text/plain": [
       "2"
      ]
     },
     "execution_count": 15,
     "metadata": {},
     "output_type": "execute_result"
    }
   ],
   "source": [
    "ackermann(1, 0)"
   ]
  },
  {
   "cell_type": "code",
   "execution_count": 16,
   "metadata": {},
   "outputs": [],
   "source": [
    "#ackermann(4,2)"
   ]
  },
  {
   "cell_type": "code",
   "execution_count": 17,
   "metadata": {},
   "outputs": [],
   "source": [
    "#ejemplo\n",
    "def factorial(n):\n",
    "    \n",
    "    num = 1\n",
    "    \n",
    "    if n < 0 or n >= 2147483647:\n",
    "        return 0\n",
    "    if n == 0 or n == 1:\n",
    "        return 1\n",
    "    for i in range(1, n+1):\n",
    "        num = num * i\n",
    "    \n",
    "    return num"
   ]
  },
  {
   "cell_type": "code",
   "execution_count": 18,
   "metadata": {},
   "outputs": [
    {
     "data": {
      "text/plain": [
       "120"
      ]
     },
     "execution_count": 18,
     "metadata": {},
     "output_type": "execute_result"
    }
   ],
   "source": [
    "factorial(5)"
   ]
  },
  {
   "cell_type": "code",
   "execution_count": 19,
   "metadata": {},
   "outputs": [],
   "source": [
    "# de forma recursiva\n",
    "\n",
    "def factorial_recursiva(n):\n",
    "    \n",
    "    if n < 0 or n > 2147483647:\n",
    "        return 0\n",
    "    else:\n",
    "        if n== 0 or n == 1:\n",
    "            return 1\n",
    "        else:\n",
    "            return factorial_recursiva(n-1) * n"
   ]
  },
  {
   "cell_type": "code",
   "execution_count": 20,
   "metadata": {},
   "outputs": [
    {
     "data": {
      "text/plain": [
       "120"
      ]
     },
     "execution_count": 20,
     "metadata": {},
     "output_type": "execute_result"
    }
   ],
   "source": [
    "factorial_recursiva(5)"
   ]
  },
  {
   "cell_type": "markdown",
   "metadata": {},
   "source": [
    "### Decoradores\n",
    "\n",
    "Los decoradores pueden definirse como patrones de diseño funcional. Permiten a una función tomar otra función como argumento para devolver una tercera función. De esta manera se obtienen funciones dinámicas sin tener que cambiar constantemente su código.\n",
    "\n",
    "Un decorador es como un envoltorio con el cual envolvemos una función.\n"
   ]
  },
  {
   "cell_type": "code",
   "execution_count": 21,
   "metadata": {},
   "outputs": [],
   "source": [
    "def debug (fn):\n",
    "    \n",
    "    def warp(*args, **kwargs):\n",
    "        print('Args: -----', args)\n",
    "        print('Kwargs: ----', kwargs)\n",
    "        print('Return: ----', fn(*args,**kwargs))\n",
    "        \n",
    "        return fn(*args, **kwargs)\n",
    "    \n",
    "    return warp"
   ]
  },
  {
   "cell_type": "code",
   "execution_count": 22,
   "metadata": {},
   "outputs": [
    {
     "name": "stdout",
     "output_type": "stream",
     "text": [
      "Args: ----- (4, 2)\n",
      "Kwargs: ---- {}\n",
      "Return: ---- 6\n"
     ]
    },
    {
     "data": {
      "text/plain": [
       "6"
      ]
     },
     "execution_count": 22,
     "metadata": {},
     "output_type": "execute_result"
    }
   ],
   "source": [
    "@debug #decorador\n",
    "def sumar(a,b):\n",
    "    return a+ b\n",
    "\n",
    "sumar(4,2)"
   ]
  },
  {
   "cell_type": "code",
   "execution_count": 23,
   "metadata": {},
   "outputs": [
    {
     "name": "stdout",
     "output_type": "stream",
     "text": [
      "Args: ----- (4, 2)\n",
      "Kwargs: ---- {}\n",
      "Return: ---- 6\n"
     ]
    },
    {
     "data": {
      "text/plain": [
       "<function __main__.debug.<locals>.warp(*args, **kwargs)>"
      ]
     },
     "execution_count": 23,
     "metadata": {},
     "output_type": "execute_result"
    }
   ],
   "source": [
    "debug(sumar(4,2))"
   ]
  },
  {
   "cell_type": "code",
   "execution_count": 24,
   "metadata": {},
   "outputs": [
    {
     "name": "stdout",
     "output_type": "stream",
     "text": [
      "Args: ----- (5, 1)\n",
      "Kwargs: ---- {}\n",
      "Return: ---- 4\n"
     ]
    },
    {
     "data": {
      "text/plain": [
       "4"
      ]
     },
     "execution_count": 24,
     "metadata": {},
     "output_type": "execute_result"
    }
   ],
   "source": [
    "@debug\n",
    "def restar(a,b):\n",
    "    return a-b\n",
    "\n",
    "restar(5,1)"
   ]
  },
  {
   "cell_type": "code",
   "execution_count": 25,
   "metadata": {},
   "outputs": [
    {
     "name": "stdout",
     "output_type": "stream",
     "text": [
      "Args: ----- (3, 4)\n",
      "Kwargs: ---- {'c': 90, 'd': False}\n",
      "90 False\n",
      "Return: ---- 12\n",
      "90 False\n"
     ]
    },
    {
     "data": {
      "text/plain": [
       "12"
      ]
     },
     "execution_count": 25,
     "metadata": {},
     "output_type": "execute_result"
    }
   ],
   "source": [
    "@debug\n",
    "def multi(a, b, c=0 , d=True):\n",
    "    print(c, d)\n",
    "    return a * b\n",
    "\n",
    "multi(3, 4, **{'c': 90, 'd': False})"
   ]
  },
  {
   "cell_type": "code",
   "execution_count": null,
   "metadata": {},
   "outputs": [],
   "source": []
  },
  {
   "cell_type": "markdown",
   "metadata": {},
   "source": [
    "**Compilador con [numba](https://numba.pydata.org/)**"
   ]
  },
  {
   "cell_type": "code",
   "execution_count": 26,
   "metadata": {},
   "outputs": [
    {
     "name": "stdout",
     "output_type": "stream",
     "text": [
      "Requirement already satisfied: numba in c:\\users\\botic\\anaconda3\\envs\\ironhack\\lib\\site-packages (0.55.2)\n",
      "Requirement already satisfied: setuptools in c:\\users\\botic\\anaconda3\\envs\\ironhack\\lib\\site-packages (from numba) (61.2.0)\n",
      "Requirement already satisfied: llvmlite<0.39,>=0.38.0rc1 in c:\\users\\botic\\anaconda3\\envs\\ironhack\\lib\\site-packages (from numba) (0.38.1)\n",
      "Requirement already satisfied: numpy<1.23,>=1.18 in c:\\users\\botic\\anaconda3\\envs\\ironhack\\lib\\site-packages (from numba) (1.21.6)\n",
      "Note: you may need to restart the kernel to use updated packages.\n"
     ]
    }
   ],
   "source": [
    "%pip install numba"
   ]
  },
  {
   "cell_type": "code",
   "execution_count": 27,
   "metadata": {},
   "outputs": [],
   "source": [
    "from numba import jit"
   ]
  },
  {
   "cell_type": "code",
   "execution_count": 28,
   "metadata": {},
   "outputs": [],
   "source": [
    "def fn (a, b, c, d):\n",
    "    \n",
    "    return a*b/c+d"
   ]
  },
  {
   "cell_type": "code",
   "execution_count": 29,
   "metadata": {},
   "outputs": [
    {
     "name": "stdout",
     "output_type": "stream",
     "text": [
      "CPU times: total: 0 ns\n",
      "Wall time: 0 ns\n"
     ]
    },
    {
     "data": {
      "text/plain": [
       "12.0"
      ]
     },
     "execution_count": 29,
     "metadata": {},
     "output_type": "execute_result"
    }
   ],
   "source": [
    "%%time\n",
    "\n",
    "fn(2, 3, 1, 6)"
   ]
  },
  {
   "cell_type": "code",
   "execution_count": 30,
   "metadata": {},
   "outputs": [],
   "source": [
    "@jit\n",
    "def fn2(a,b,c,d):\n",
    "    \n",
    "    return a*b/c+d"
   ]
  },
  {
   "cell_type": "code",
   "execution_count": 31,
   "metadata": {},
   "outputs": [
    {
     "name": "stdout",
     "output_type": "stream",
     "text": [
      "CPU times: total: 234 ms\n",
      "Wall time: 234 ms\n"
     ]
    },
    {
     "data": {
      "text/plain": [
       "12.0"
      ]
     },
     "execution_count": 31,
     "metadata": {},
     "output_type": "execute_result"
    }
   ],
   "source": [
    "%%time\n",
    "\n",
    "fn2(2,3,1,6)"
   ]
  },
  {
   "cell_type": "markdown",
   "metadata": {},
   "source": [
    "### Scripting (code pipeline)\n",
    "\n",
    "Se trabaja con archivos externos al actual, realizando importanciones sobre nuestro código."
   ]
  },
  {
   "cell_type": "code",
   "execution_count": 32,
   "metadata": {},
   "outputs": [],
   "source": [
    "import src.funciones as func"
   ]
  },
  {
   "cell_type": "code",
   "execution_count": 33,
   "metadata": {},
   "outputs": [
    {
     "name": "stdout",
     "output_type": "stream",
     "text": [
      "Help on module src.funciones in src:\n",
      "\n",
      "NAME\n",
      "    src.funciones\n",
      "\n",
      "FUNCTIONS\n",
      "    dividir(a, b)\n",
      "    \n",
      "    multiplicar(a, b)\n",
      "    \n",
      "    restar(a, b)\n",
      "    \n",
      "    sumar(a, b)\n",
      "\n",
      "FILE\n",
      "    c:\\users\\botic\\proyectos\\bt-ih-data-ago-22\\apuntes-de-clase\\semana_1\\src\\funciones.py\n",
      "\n",
      "\n"
     ]
    }
   ],
   "source": [
    "help(func)"
   ]
  },
  {
   "cell_type": "code",
   "execution_count": 34,
   "metadata": {},
   "outputs": [
    {
     "data": {
      "text/plain": [
       "6"
      ]
     },
     "execution_count": 34,
     "metadata": {},
     "output_type": "execute_result"
    }
   ],
   "source": [
    "func.sumar(4,2)"
   ]
  },
  {
   "cell_type": "code",
   "execution_count": 35,
   "metadata": {},
   "outputs": [
    {
     "data": {
      "text/plain": [
       "7"
      ]
     },
     "execution_count": 35,
     "metadata": {},
     "output_type": "execute_result"
    }
   ],
   "source": [
    "func.restar(9,2)"
   ]
  },
  {
   "cell_type": "code",
   "execution_count": 36,
   "metadata": {},
   "outputs": [],
   "source": [
    "from src.funciones import multiplicar as mul"
   ]
  },
  {
   "cell_type": "code",
   "execution_count": 37,
   "metadata": {},
   "outputs": [
    {
     "data": {
      "text/plain": [
       "45"
      ]
     },
     "execution_count": 37,
     "metadata": {},
     "output_type": "execute_result"
    }
   ],
   "source": [
    "mul(9,5)"
   ]
  },
  {
   "cell_type": "code",
   "execution_count": 38,
   "metadata": {},
   "outputs": [
    {
     "ename": "NameError",
     "evalue": "name 'div' is not defined",
     "output_type": "error",
     "traceback": [
      "\u001b[1;31m---------------------------------------------------------------------------\u001b[0m",
      "\u001b[1;31mNameError\u001b[0m                                 Traceback (most recent call last)",
      "Input \u001b[1;32mIn [38]\u001b[0m, in \u001b[0;36m<cell line: 1>\u001b[1;34m()\u001b[0m\n\u001b[1;32m----> 1\u001b[0m \u001b[43mdiv\u001b[49m(\u001b[38;5;241m9\u001b[39m,\u001b[38;5;241m3\u001b[39m)\n",
      "\u001b[1;31mNameError\u001b[0m: name 'div' is not defined"
     ]
    }
   ],
   "source": [
    "div(9,3)"
   ]
  },
  {
   "cell_type": "code",
   "execution_count": null,
   "metadata": {},
   "outputs": [],
   "source": [
    "from src.funciones import dividir as div"
   ]
  },
  {
   "cell_type": "code",
   "execution_count": null,
   "metadata": {},
   "outputs": [],
   "source": [
    "div(9,3)"
   ]
  },
  {
   "cell_type": "code",
   "execution_count": null,
   "metadata": {},
   "outputs": [],
   "source": [
    "#%pip install import_ipynb"
   ]
  },
  {
   "cell_type": "code",
   "execution_count": null,
   "metadata": {},
   "outputs": [],
   "source": [
    "import import_ipynb"
   ]
  },
  {
   "cell_type": "code",
   "execution_count": null,
   "metadata": {},
   "outputs": [],
   "source": [
    "from src.funciones_jup import sumar_jup as sum_j"
   ]
  },
  {
   "cell_type": "code",
   "execution_count": null,
   "metadata": {},
   "outputs": [],
   "source": [
    "sum_j(5, 6)"
   ]
  },
  {
   "cell_type": "code",
   "execution_count": null,
   "metadata": {},
   "outputs": [],
   "source": [
    "from src.funciones_jup import *"
   ]
  },
  {
   "cell_type": "code",
   "execution_count": null,
   "metadata": {},
   "outputs": [],
   "source": [
    "restar_jup(6,3)"
   ]
  },
  {
   "cell_type": "code",
   "execution_count": null,
   "metadata": {},
   "outputs": [],
   "source": [
    "import pandas as pd\n",
    "import numpy as np"
   ]
  }
 ],
 "metadata": {
  "kernelspec": {
   "display_name": "IronHack",
   "language": "python",
   "name": "ironhack"
  },
  "language_info": {
   "codemirror_mode": {
    "name": "ipython",
    "version": 3
   },
   "file_extension": ".py",
   "mimetype": "text/x-python",
   "name": "python",
   "nbconvert_exporter": "python",
   "pygments_lexer": "ipython3",
   "version": "3.9.12"
  }
 },
 "nbformat": 4,
 "nbformat_minor": 4
}
