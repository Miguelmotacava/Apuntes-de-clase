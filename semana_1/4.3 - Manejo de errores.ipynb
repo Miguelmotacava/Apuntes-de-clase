{
 "cells": [
  {
   "cell_type": "markdown",
   "metadata": {},
   "source": [
    "# 4.3 - Manejo de errores\n",
    "\n",
    "\n",
    "![errores](images/errors.jpg)\n",
    "\n",
    "\n",
    "\n",
    "### ¿Qué es un error?\n",
    "\n",
    "Los errores (errors/exceptions) son fallos en el código que interrumpirán su ejecución."
   ]
  },
  {
   "cell_type": "code",
   "execution_count": 1,
   "metadata": {},
   "outputs": [
    {
     "name": "stdout",
     "output_type": "stream",
     "text": [
      "-0.5\n",
      "-1.0\n"
     ]
    },
    {
     "ename": "ZeroDivisionError",
     "evalue": "division by zero",
     "output_type": "error",
     "traceback": [
      "\u001b[1;31m---------------------------------------------------------------------------\u001b[0m",
      "\u001b[1;31mZeroDivisionError\u001b[0m                         Traceback (most recent call last)",
      "Input \u001b[1;32mIn [1]\u001b[0m, in \u001b[0;36m<cell line: 1>\u001b[1;34m()\u001b[0m\n\u001b[0;32m      1\u001b[0m \u001b[38;5;28;01mfor\u001b[39;00m i \u001b[38;5;129;01min\u001b[39;00m \u001b[38;5;28mrange\u001b[39m(\u001b[38;5;241m-\u001b[39m\u001b[38;5;241m2\u001b[39m, \u001b[38;5;241m10\u001b[39m):\n\u001b[1;32m----> 3\u001b[0m     \u001b[38;5;28mprint\u001b[39m(\u001b[38;5;241;43m1\u001b[39;49m\u001b[38;5;241;43m/\u001b[39;49m\u001b[43mi\u001b[49m)\n\u001b[0;32m      5\u001b[0m \u001b[38;5;28mprint\u001b[39m(\u001b[38;5;124m'\u001b[39m\u001b[38;5;124mfin del bucle\u001b[39m\u001b[38;5;124m'\u001b[39m)\n",
      "\u001b[1;31mZeroDivisionError\u001b[0m: division by zero"
     ]
    }
   ],
   "source": [
    "for i in range(-2, 10):\n",
    "    \n",
    "    print(1/i)\n",
    "\n",
    "print('fin del bucle')"
   ]
  },
  {
   "cell_type": "markdown",
   "metadata": {},
   "source": [
    "- Los errores son un tipo específico de objetos en python.\n",
    "- Los errores se pueden lanzar a propósito con la palabra reservada `raise`.\n",
    "\n",
    "```  \n",
    "Levantar un error (con raise) implica parar completamente el programa.\n",
    "```\n",
    "\n",
    "Los errores usualmente contienen un mensaje en ellos.\n",
    "> Este mensaje sirve para ayudar al usuario a identificar el problema para encontrar un solución. Siempre es necesario la cuidadosa lectura de los errores para alcanzar una solución rápidamente."
   ]
  },
  {
   "cell_type": "code",
   "execution_count": 2,
   "metadata": {},
   "outputs": [
    {
     "ename": "TypeError",
     "evalue": "Compi la has liado parda ....",
     "output_type": "error",
     "traceback": [
      "\u001b[1;31m---------------------------------------------------------------------------\u001b[0m",
      "\u001b[1;31mTypeError\u001b[0m                                 Traceback (most recent call last)",
      "Input \u001b[1;32mIn [2]\u001b[0m, in \u001b[0;36m<cell line: 1>\u001b[1;34m()\u001b[0m\n\u001b[1;32m----> 1\u001b[0m \u001b[38;5;28;01mraise\u001b[39;00m \u001b[38;5;167;01mTypeError\u001b[39;00m(\u001b[38;5;124m'\u001b[39m\u001b[38;5;124mCompi la has liado parda ....\u001b[39m\u001b[38;5;124m'\u001b[39m)\n",
      "\u001b[1;31mTypeError\u001b[0m: Compi la has liado parda ...."
     ]
    }
   ],
   "source": [
    "raise TypeError('Compi la has liado parda ....')"
   ]
  },
  {
   "cell_type": "markdown",
   "metadata": {},
   "source": [
    "### Diferentes tipos de errores en python\n",
    "\n",
    "Existen muchos tipos diferentes de errores en python:\n",
    "```python\n",
    "AttributeError\n",
    "ImportError\n",
    "ModuleNotFoundError\n",
    "IndexError\n",
    "KeyError\n",
    "KeyboardInterrupt\n",
    "NameError\n",
    "SyntaxError\n",
    "TypeError\n",
    "ValueError\n",
    "ZeroDivisionError\n",
    "```\n",
    "Estos son solamente unos pocos, puedes ver en la documentación\n",
    "- [Built-in Exceptions](https://docs.python.org/3/library/exceptions.html)"
   ]
  },
  {
   "cell_type": "markdown",
   "metadata": {},
   "source": [
    "## `try...except`\n",
    "\n",
    "Ahora, ¿cómo controlamos los errores?\n",
    "\n",
    "Pues con la sintaxis `try...except`.\n",
    "\n",
    "El concepto es muy sencillo:\n",
    "\n",
    "> - `try` bloque de código que se ejecuta primero.\n",
    "> > - Si NO existen errores en el bloque `try`, se completará ese código sin ejecutar el bloque `except`\n",
    "> > - Si existen errores en el bloque `try`, salta al código del bloque `except`\n",
    "\n",
    "- Un bloque `try` siempre va acompañado de un bloque `except`\n",
    "\n",
    "\n",
    "- `NOTA:` Un error puede ocurrir en el bloque `except`. En ese caso, el mensaje contendrá la siguiente advertencia:\n",
    "````\n",
    "During handling of the above exception, another exception occurred:\n",
    "````\n"
   ]
  },
  {
   "cell_type": "code",
   "execution_count": 3,
   "metadata": {},
   "outputs": [
    {
     "name": "stdout",
     "output_type": "stream",
     "text": [
      "La variable z no existe\n",
      "90\n"
     ]
    }
   ],
   "source": [
    "try:\n",
    "    print(z)\n",
    "\n",
    "except:\n",
    "    print('La variable z no existe')\n",
    "\n",
    "print(90)"
   ]
  },
  {
   "cell_type": "code",
   "execution_count": 5,
   "metadata": {},
   "outputs": [
    {
     "ename": "NameError",
     "evalue": "name 'z' is not defined",
     "output_type": "error",
     "traceback": [
      "\u001b[1;31m---------------------------------------------------------------------------\u001b[0m",
      "\u001b[1;31mNameError\u001b[0m                                 Traceback (most recent call last)",
      "Input \u001b[1;32mIn [5]\u001b[0m, in \u001b[0;36m<cell line: 1>\u001b[1;34m()\u001b[0m\n\u001b[1;32m----> 1\u001b[0m \u001b[38;5;28mprint\u001b[39m(\u001b[43mz\u001b[49m)\n\u001b[0;32m      2\u001b[0m \u001b[38;5;28mprint\u001b[39m(\u001b[38;5;241m90\u001b[39m)\n",
      "\u001b[1;31mNameError\u001b[0m: name 'z' is not defined"
     ]
    }
   ],
   "source": [
    "print(z)\n",
    "print(90)"
   ]
  },
  {
   "cell_type": "code",
   "execution_count": 6,
   "metadata": {},
   "outputs": [
    {
     "name": "stdout",
     "output_type": "stream",
     "text": [
      "La variable z no exite\n"
     ]
    },
    {
     "ename": "ValueError",
     "evalue": "Compi o me declaras z o me piro",
     "output_type": "error",
     "traceback": [
      "\u001b[1;31m---------------------------------------------------------------------------\u001b[0m",
      "\u001b[1;31mNameError\u001b[0m                                 Traceback (most recent call last)",
      "Input \u001b[1;32mIn [6]\u001b[0m, in \u001b[0;36m<cell line: 1>\u001b[1;34m()\u001b[0m\n\u001b[0;32m      1\u001b[0m \u001b[38;5;28;01mtry\u001b[39;00m:\n\u001b[1;32m----> 2\u001b[0m     \u001b[38;5;28mprint\u001b[39m(\u001b[43mz\u001b[49m)\n\u001b[0;32m      4\u001b[0m \u001b[38;5;28;01mexcept\u001b[39;00m:\n",
      "\u001b[1;31mNameError\u001b[0m: name 'z' is not defined",
      "\nDuring handling of the above exception, another exception occurred:\n",
      "\u001b[1;31mValueError\u001b[0m                                Traceback (most recent call last)",
      "Input \u001b[1;32mIn [6]\u001b[0m, in \u001b[0;36m<cell line: 1>\u001b[1;34m()\u001b[0m\n\u001b[0;32m      4\u001b[0m \u001b[38;5;28;01mexcept\u001b[39;00m:\n\u001b[0;32m      5\u001b[0m     \u001b[38;5;28mprint\u001b[39m(\u001b[38;5;124m'\u001b[39m\u001b[38;5;124mLa variable z no exite\u001b[39m\u001b[38;5;124m'\u001b[39m)\n\u001b[1;32m----> 6\u001b[0m     \u001b[38;5;28;01mraise\u001b[39;00m \u001b[38;5;167;01mValueError\u001b[39;00m(\u001b[38;5;124m'\u001b[39m\u001b[38;5;124mCompi o me declaras z o me piro\u001b[39m\u001b[38;5;124m'\u001b[39m)\n\u001b[0;32m      8\u001b[0m \u001b[38;5;28mprint\u001b[39m(\u001b[38;5;241m90\u001b[39m)\n",
      "\u001b[1;31mValueError\u001b[0m: Compi o me declaras z o me piro"
     ]
    }
   ],
   "source": [
    "try:\n",
    "    print(z)\n",
    "\n",
    "except:\n",
    "    print('La variable z no exite')\n",
    "    raise ValueError('Compi o me declaras z o me piro')\n",
    "\n",
    "print(90)"
   ]
  },
  {
   "cell_type": "code",
   "execution_count": null,
   "metadata": {},
   "outputs": [],
   "source": []
  },
  {
   "cell_type": "markdown",
   "metadata": {},
   "source": [
    "**Truco:** Como puede verse en el mensaje anterior, la línea de código que contiene el error tiene una flecha al lado. Si el error no está en esa línea, estará en la inmediatamente anterior. También puede verse el número de línea."
   ]
  },
  {
   "cell_type": "code",
   "execution_count": 7,
   "metadata": {},
   "outputs": [],
   "source": [
    "import sys"
   ]
  },
  {
   "cell_type": "code",
   "execution_count": 8,
   "metadata": {},
   "outputs": [],
   "source": [
    "lst = ['a', 0, 2, 'oe', 3,4,5,6]"
   ]
  },
  {
   "cell_type": "code",
   "execution_count": 9,
   "metadata": {},
   "outputs": [
    {
     "name": "stdout",
     "output_type": "stream",
     "text": [
      "El elemento es a\n",
      "Vaya la has liado (<class 'ValueError'>, ValueError(\"invalid literal for int() with base 10: 'a'\"), <traceback object at 0x000001C1AA4C74C0>)\n",
      "siguiente\n",
      "El elemento es 0\n",
      "Vaya la has liado (<class 'ZeroDivisionError'>, ZeroDivisionError('division by zero'), <traceback object at 0x000001C1AA4C74C0>)\n",
      "siguiente\n",
      "El elemento es 2\n",
      "0.5\n",
      "El elemento es oe\n",
      "Vaya la has liado (<class 'ValueError'>, ValueError(\"invalid literal for int() with base 10: 'oe'\"), <traceback object at 0x000001C1AA4C74C0>)\n",
      "siguiente\n",
      "El elemento es 3\n",
      "0.3333333333333333\n",
      "El elemento es 4\n",
      "0.25\n",
      "El elemento es 5\n",
      "0.2\n",
      "El elemento es 6\n",
      "0.16666666666666666\n",
      "Nos hemos pasao el juego\n"
     ]
    }
   ],
   "source": [
    "for e in lst:\n",
    "    try:\n",
    "        print(F'El elemento es {e}')\n",
    "        d = 1/int(e)\n",
    "        \n",
    "        print(d)\n",
    "        \n",
    "    except:\n",
    "        print('Vaya la has liado', sys.exc_info())\n",
    "        \n",
    "        print('siguiente')\n",
    "        \n",
    "print('Nos hemos pasao el juego')"
   ]
  },
  {
   "cell_type": "code",
   "execution_count": null,
   "metadata": {},
   "outputs": [],
   "source": []
  },
  {
   "cell_type": "code",
   "execution_count": null,
   "metadata": {},
   "outputs": [],
   "source": []
  },
  {
   "cell_type": "markdown",
   "metadata": {},
   "source": [
    "### Multiples `except`\n",
    "\n",
    "Si queremos, podemos tener multiples bloques `except` para manejar diferentes tipos de error por separado. Es algo muy útil para manejar como nosotros queramos el flujo de errores, teniendo en cuenta **que solo se ejecutará uno de los bloques `except` en caso de surgir un error**."
   ]
  },
  {
   "cell_type": "code",
   "execution_count": 15,
   "metadata": {},
   "outputs": [
    {
     "name": "stdout",
     "output_type": "stream",
     "text": [
      "Como pretendes que divida por 0 alegre\n"
     ]
    }
   ],
   "source": [
    "try:\n",
    "    a = 8\n",
    "    b= 0\n",
    "    \n",
    "    print(a/b)\n",
    "    \n",
    "except TypeError as e:\n",
    "    print('estoy en este error')\n",
    "    print(e)\n",
    "\n",
    "except ZeroDivisionError:\n",
    "    print('Como pretendes que divida por 0 alegre')\n",
    "    \n",
    "except:\n",
    "    \n",
    "    print('deja de liarla tronco')\n",
    "\n",
    "\n",
    "    "
   ]
  },
  {
   "cell_type": "markdown",
   "metadata": {},
   "source": [
    "## Programación defensiva\n",
    "\n",
    "Todos estos conceptos de manejo de errores nos lleva a la programación defensiva. El objetivo consiste en tener en cuenta errores sistemáticos que se pudieran estar cometiendo en nuestro código."
   ]
  },
  {
   "cell_type": "code",
   "execution_count": 16,
   "metadata": {},
   "outputs": [],
   "source": [
    "clientes = {'a_123': 35.45, 'b_123': 76.45, 'a_asd': 'asda'}"
   ]
  },
  {
   "cell_type": "code",
   "execution_count": 23,
   "metadata": {},
   "outputs": [],
   "source": [
    "pasan = []\n",
    "\n",
    "no_pasan = []"
   ]
  },
  {
   "cell_type": "code",
   "execution_count": 24,
   "metadata": {},
   "outputs": [],
   "source": [
    "for k,v in clientes.items():\n",
    "    \n",
    "    try:\n",
    "        total = int(v)*4/3\n",
    "        pasan.append({k:total})\n",
    "    except:\n",
    "        no_pasan.append(k)"
   ]
  },
  {
   "cell_type": "code",
   "execution_count": 25,
   "metadata": {},
   "outputs": [
    {
     "data": {
      "text/plain": [
       "[{'a_123': 46.666666666666664}, {'b_123': 101.33333333333333}]"
      ]
     },
     "execution_count": 25,
     "metadata": {},
     "output_type": "execute_result"
    }
   ],
   "source": [
    "pasan"
   ]
  },
  {
   "cell_type": "code",
   "execution_count": 26,
   "metadata": {},
   "outputs": [
    {
     "data": {
      "text/plain": [
       "['a_asd']"
      ]
     },
     "execution_count": 26,
     "metadata": {},
     "output_type": "execute_result"
    }
   ],
   "source": [
    "no_pasan"
   ]
  },
  {
   "cell_type": "markdown",
   "metadata": {},
   "source": [
    "### `finally`\n",
    "\n",
    "> Los bloques `try` y `except` son los dos bloques comunes en el manejo de errores, pero toda la sintaxis la constituyen cuatro bloques.\n",
    "El bloque `finally` se ejecutará siempre después del `try` o el `except`. Se ejecutará incluso si existe un `return` en otro bloque."
   ]
  },
  {
   "cell_type": "code",
   "execution_count": 29,
   "metadata": {},
   "outputs": [
    {
     "name": "stdout",
     "output_type": "stream",
     "text": [
      "forzamos el error\n",
      "Siempre me ejecuto 😊\n"
     ]
    }
   ],
   "source": [
    "try:\n",
    "    raise ValueError\n",
    "    print('todo va bien')\n",
    "except:\n",
    "    print('forzamos el error')\n",
    "finally:\n",
    "    print('Siempre me ejecuto 😊')"
   ]
  },
  {
   "cell_type": "code",
   "execution_count": 30,
   "metadata": {},
   "outputs": [],
   "source": [
    "def probar_error():\n",
    "    try:\n",
    "        #raise ValueError\n",
    "        print('todo va bien')\n",
    "        return 'Todo ok'\n",
    "    except:\n",
    "        print('forzamos el error')\n",
    "        return 'error encontrado'\n",
    "    finally:\n",
    "        print('Siempre me ejecuto 😊')\n",
    "    "
   ]
  },
  {
   "cell_type": "code",
   "execution_count": 31,
   "metadata": {},
   "outputs": [
    {
     "name": "stdout",
     "output_type": "stream",
     "text": [
      "todo va bien\n",
      "Siempre me ejecuto 😊\n"
     ]
    },
    {
     "data": {
      "text/plain": [
       "'Todo ok'"
      ]
     },
     "execution_count": 31,
     "metadata": {},
     "output_type": "execute_result"
    }
   ],
   "source": [
    "probar_error()"
   ]
  },
  {
   "cell_type": "markdown",
   "metadata": {},
   "source": [
    "### `else`\n",
    "\n",
    "> El bloque `else` puede ser usado como una alternativa al bloque `except`. En ese caso se ejecutará antes del bloque `finally`."
   ]
  },
  {
   "cell_type": "code",
   "execution_count": 32,
   "metadata": {},
   "outputs": [
    {
     "name": "stdout",
     "output_type": "stream",
     "text": [
      "fuerzo el error\n",
      "Yo siempre aparezco 😊\n"
     ]
    }
   ],
   "source": [
    "try:\n",
    "    raise ValueError\n",
    "    print('Todo ok')\n",
    "\n",
    "except:\n",
    "    print('fuerzo el error')\n",
    "\n",
    "else:\n",
    "    print('Antes del finally voy yo alegre')\n",
    "\n",
    "finally:\n",
    "    print('Yo siempre aparezco 😊')"
   ]
  },
  {
   "cell_type": "code",
   "execution_count": 33,
   "metadata": {},
   "outputs": [
    {
     "name": "stdout",
     "output_type": "stream",
     "text": [
      "Todo ok\n",
      "Antes del finally voy yo alegre\n",
      "Yo siempre aparezco 😊\n"
     ]
    }
   ],
   "source": [
    "try:\n",
    "    #raise ValueError\n",
    "    print('Todo ok')\n",
    "\n",
    "except:\n",
    "    print('fuerzo el error')\n",
    "\n",
    "else:\n",
    "    print('Antes del finally voy yo alegre')\n",
    "\n",
    "finally:\n",
    "    print('Yo siempre aparezco 😊')"
   ]
  },
  {
   "cell_type": "code",
   "execution_count": 48,
   "metadata": {},
   "outputs": [
    {
     "name": "stdout",
     "output_type": "stream",
     "text": [
      "segunda palanca en un try\n",
      "segundo except activamos tercera palanca\n",
      "Cuarta palanca y a correr\n",
      "pero voy a inscribir a Bernando Silva\n",
      "Me ejecutaré???\n"
     ]
    }
   ],
   "source": [
    "try:\n",
    "    raise #print('Hola no tienes pasta')\n",
    "    print('Todo ok Jose Luis')\n",
    "\n",
    "except:\n",
    "    try:\n",
    "        print('segunda palanca en un try')\n",
    "        raise ValueError\n",
    "    except:\n",
    "        try:\n",
    "            print('segundo except activamos tercera palanca')\n",
    "            raise SyntaxError\n",
    "        except:\n",
    "            print('Cuarta palanca y a correr')\n",
    "\n",
    "finally:\n",
    "    print('pero voy a inscribir a Bernando Silva')\n",
    "\n",
    "print('Me ejecutaré???')"
   ]
  },
  {
   "cell_type": "code",
   "execution_count": null,
   "metadata": {},
   "outputs": [],
   "source": []
  }
 ],
 "metadata": {
  "kernelspec": {
   "display_name": "Python 3 (ipykernel)",
   "language": "python",
   "name": "python3"
  },
  "language_info": {
   "codemirror_mode": {
    "name": "ipython",
    "version": 3
   },
   "file_extension": ".py",
   "mimetype": "text/x-python",
   "name": "python",
   "nbconvert_exporter": "python",
   "pygments_lexer": "ipython3",
   "version": "3.9.12"
  }
 },
 "nbformat": 4,
 "nbformat_minor": 4
}
